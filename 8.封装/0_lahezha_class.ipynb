{
 "cells": [
  {
   "cell_type": "code",
   "execution_count": 1,
   "metadata": {},
   "outputs": [],
   "source": [
    "import lahezha as lhz \n",
    "import pandas as pd"
   ]
  },
  {
   "cell_type": "code",
   "execution_count": 2,
   "metadata": {},
   "outputs": [],
   "source": [
    "class try_lahezha():\n",
    "    def __init__(self, inputfile):\n",
    "      self.inputfile = inputfile\n",
    "           \n",
    "    def data_chuli(self):\n",
    "        # 1、读数据\n",
    "        data_YuanLai = pd.read_csv(self.inputfile, encoding='utf-8')\n",
    "        # 2、开始处理数据\n",
    "        self.data_fina=lhz.data_chuli_lahezha(data_YuanLai)\n",
    "    \n",
    "    def show_yuanshitu(self):    \n",
    "        # 3、画出原始图\n",
    "        self.data_chuli()\n",
    "        lhz.draw_lahezha(self.data_fina)\n",
    "        \n",
    "    def my_lof(self):\n",
    "        self.data_chuli()   \n",
    "        # 4、算法LOF引进\n",
    "        self.after_lof_data=lhz.suanfa_Lof(self.data_fina)\n",
    "        \n",
    "    def show_lof_image(self):\n",
    "        self.my_lof()\n",
    "        # 5、画出lof图像\n",
    "        lhz.draw_lof_lahezha(self.after_lof_data)\n",
    "        # lhz.show_yichang(after_lof_data)\n",
    "        \n",
    "    def class_show_yichang(self):\n",
    "        self.my_lof()\n",
    "        df=lhz.show_yichang(self.after_lof_data)\n",
    "        print(df)\n",
    "        return df"
   ]
  },
  {
   "cell_type": "code",
   "execution_count": 3,
   "metadata": {},
   "outputs": [],
   "source": [
    "inputfile = \"D:\\\\1_kaoyan\\college_ending\\\\400仪表数据--全\\middata - 副本\\拉合闸最终.csv\"\n",
    "demo=try_lahezha(inputfile=inputfile)"
   ]
  },
  {
   "cell_type": "code",
   "execution_count": 4,
   "metadata": {},
   "outputs": [
    {
     "data": {
      "image/png": "[encoded data removed]",
      "text/plain": [
       "<Figure size 432x288 with 1 Axes>"
      ]
     },
     "metadata": {
      "needs_background": "light"
     },
     "output_type": "display_data"
    }
   ],
   "source": [
    "demo.show_lof_image()"
   ]
  },
  {
   "cell_type": "code",
   "execution_count": 5,
   "metadata": {},
   "outputs": [
    {
     "name": "stdout",
     "output_type": "stream",
     "text": [
      "            meterNo     times       all_s      aver     aver_shiji  \\\n",
      "316  10023160000201  0.006221  12233820.0  0.260751   40779.400000   \n",
      "350  10023160000264  0.237947   4430100.0  0.002984     479.448052   \n",
      "385  10023160000333  0.242613   3566760.0  0.002339     378.636943   \n",
      "312  10023160000192  0.253499   4142100.0  0.002609     420.945122   \n",
      "272  10023160000132  0.020218  54878100.0  0.417790   65331.071429   \n",
      "288  10023160000150  0.303266   2935800.0  0.001514     249.642857   \n",
      "384  10023160000332  0.307932  10580160.0  0.005585     886.110553   \n",
      "241  10023160000079  0.312597  41907300.0  0.022033    3457.698020   \n",
      "329  10023160000232  0.318818  16687560.0  0.008553    1350.126214   \n",
      "331  10023160000234  0.015552  46908000.0  0.454515   71072.727273   \n",
      "179  10021160001063  0.007776  26722920.0  0.474711   74230.333333   \n",
      "290  10023160000152  0.337481   7797720.0  0.003730     596.155963   \n",
      "246  10023160000097  0.009331  35441640.0  0.539662   84384.857143   \n",
      "363  10023160000285  0.385692   4109940.0  0.001676     275.096386   \n",
      "359  10023160000281  0.399689  10278660.0  0.004164     663.996124   \n",
      "362  10023160000284  0.015552  65861640.0  0.638199   99790.363636   \n",
      "212  10023160000029  0.010886  49484820.0  0.659326  103093.375000   \n",
      "307  10023160000177  0.009331  47463060.0  0.722738  113007.285714   \n",
      "232  10023160000067  0.006221  46906500.0  1.000000  156355.000000   \n",
      "391  10023160000341  1.000000   2733600.0  0.000369      70.745342   \n",
      "\n",
      "     times_shiji      score    z_score  \n",
      "316          5.0  -5.201677   5.201677  \n",
      "350        154.0  -5.539933   5.539933  \n",
      "385        157.0  -5.669503   5.669503  \n",
      "312        164.0  -5.975583   5.975583  \n",
      "272         14.0  -7.295101   7.295101  \n",
      "288        196.0  -7.387515   7.387515  \n",
      "384        199.0  -7.517694   7.517694  \n",
      "241        202.0  -7.521754   7.521754  \n",
      "329        206.0  -7.830229   7.830229  \n",
      "331         11.0  -7.969065   7.969065  \n",
      "179          6.0  -8.355141   8.355141  \n",
      "290        218.0  -8.372583   8.372583  \n",
      "246          7.0  -9.469954   9.469954  \n",
      "363        249.0  -9.767050   9.767050  \n",
      "359        258.0 -10.007642  10.007642  \n",
      "362         11.0 -11.278603  11.278603  \n",
      "212          8.0 -11.676495  11.676495  \n",
      "307          7.0 -12.862133  12.862133  \n",
      "232          5.0 -17.867541  17.867541  \n",
      "391        644.0 -27.462102  27.462102  \n"
     ]
    }
   ],
   "source": [
    "df=demo.class_show_yichang()"
   ]
  },
  {
   "cell_type": "code",
   "execution_count": 6,
   "metadata": {},
   "outputs": [
    {
     "data": {
      "text/html": [
       "<div>\n",
       "<style scoped>\n",
       "    .dataframe tbody tr th:only-of-type {\n",
       "        vertical-align: middle;\n",
       "    }\n",
       "\n",
       "    .dataframe tbody tr th {\n",
       "        vertical-align: top;\n",
       "    }\n",
       "\n",
       "    .dataframe thead th {\n",
       "        text-align: right;\n",
       "    }\n",
       "</style>\n",
       "<table border=\"1\" class=\"dataframe\">\n",
       "  <thead>\n",
       "    <tr style=\"text-align: right;\">\n",
       "      <th></th>\n",
       "      <th>meterNo</th>\n",
       "      <th>times</th>\n",
       "      <th>all_s</th>\n",
       "      <th>aver</th>\n",
       "      <th>aver_shiji</th>\n",
       "      <th>times_shiji</th>\n",
       "      <th>score</th>\n",
       "      <th>z_score</th>\n",
       "    </tr>\n",
       "  </thead>\n",
       "  <tbody>\n",
       "    <tr>\n",
       "      <th>316</th>\n",
       "      <td>10023160000201</td>\n",
       "      <td>0.006221</td>\n",
       "      <td>12233820.0</td>\n",
       "      <td>0.260751</td>\n",
       "      <td>40779.400000</td>\n",
       "      <td>5.0</td>\n",
       "      <td>-5.201677</td>\n",
       "      <td>5.201677</td>\n",
       "    </tr>\n",
       "    <tr>\n",
       "      <th>350</th>\n",
       "      <td>10023160000264</td>\n",
       "      <td>0.237947</td>\n",
       "      <td>4430100.0</td>\n",
       "      <td>0.002984</td>\n",
       "      <td>479.448052</td>\n",
       "      <td>154.0</td>\n",
       "      <td>-5.539933</td>\n",
       "      <td>5.539933</td>\n",
       "    </tr>\n",
       "    <tr>\n",
       "      <th>385</th>\n",
       "      <td>10023160000333</td>\n",
       "      <td>0.242613</td>\n",
       "      <td>3566760.0</td>\n",
       "      <td>0.002339</td>\n",
       "      <td>378.636943</td>\n",
       "      <td>157.0</td>\n",
       "      <td>-5.669503</td>\n",
       "      <td>5.669503</td>\n",
       "    </tr>\n",
       "    <tr>\n",
       "      <th>312</th>\n",
       "      <td>10023160000192</td>\n",
       "      <td>0.253499</td>\n",
       "      <td>4142100.0</td>\n",
       "      <td>0.002609</td>\n",
       "      <td>420.945122</td>\n",
       "      <td>164.0</td>\n",
       "      <td>-5.975583</td>\n",
       "      <td>5.975583</td>\n",
       "    </tr>\n",
       "    <tr>\n",
       "      <th>272</th>\n",
       "      <td>10023160000132</td>\n",
       "      <td>0.020218</td>\n",
       "      <td>54878100.0</td>\n",
       "      <td>0.417790</td>\n",
       "      <td>65331.071429</td>\n",
       "      <td>14.0</td>\n",
       "      <td>-7.295101</td>\n",
       "      <td>7.295101</td>\n",
       "    </tr>\n",
       "  </tbody>\n",
       "</table>\n",
       "</div>"
      ],
      "text/plain": [
       "            meterNo     times       all_s      aver    aver_shiji  \\\n",
       "316  10023160000201  0.006221  12233820.0  0.260751  40779.400000   \n",
       "350  10023160000264  0.237947   4430100.0  0.002984    479.448052   \n",
       "385  10023160000333  0.242613   3566760.0  0.002339    378.636943   \n",
       "312  10023160000192  0.253499   4142100.0  0.002609    420.945122   \n",
       "272  10023160000132  0.020218  54878100.0  0.417790  65331.071429   \n",
       "\n",
       "     times_shiji     score   z_score  \n",
       "316          5.0 -5.201677  5.201677  \n",
       "350        154.0 -5.539933  5.539933  \n",
       "385        157.0 -5.669503  5.669503  \n",
       "312        164.0 -5.975583  5.975583  \n",
       "272         14.0 -7.295101  7.295101  "
      ]
     },
     "execution_count": 6,
     "metadata": {},
     "output_type": "execute_result"
    }
   ],
   "source": [
    "df.head(5)"
   ]
  },
  {
   "cell_type": "code",
   "execution_count": 9,
   "metadata": {},
   "outputs": [
    {
     "data": {
      "text/plain": [
       "316    10023160000201\n",
       "350    10023160000264\n",
       "385    10023160000333\n",
       "312    10023160000192\n",
       "272    10023160000132\n",
       "288    10023160000150\n",
       "384    10023160000332\n",
       "241    10023160000079\n",
       "329    10023160000232\n",
       "331    10023160000234\n",
       "179    10021160001063\n",
       "290    10023160000152\n",
       "246    10023160000097\n",
       "363    10023160000285\n",
       "359    10023160000281\n",
       "362    10023160000284\n",
       "212    10023160000029\n",
       "307    10023160000177\n",
       "232    10023160000067\n",
       "391    10023160000341\n",
       "Name: meterNo, dtype: object"
      ]
     },
     "execution_count": 9,
     "metadata": {},
     "output_type": "execute_result"
    }
   ],
   "source": [
    "df.meterNo"
   ]
  }
 ],
 "metadata": {
  "interpreter": {
   "hash": "7b4b4feff2f24a0f0a34464dbe537a36fda679851528fb8735cb41fa49dffb2d"
  },
  "kernelspec": {
   "display_name": "Python 3.8.8 ('base')",
   "language": "python",
   "name": "python3"
  },
  "language_info": {
   "codemirror_mode": {
    "name": "ipython",
    "version": 3
   },
   "file_extension": ".py",
   "mimetype": "text/x-python",
   "name": "python",
   "nbconvert_exporter": "python",
   "pygments_lexer": "ipython3",
   "version": "3.8.8"
  },
  "orig_nbformat": 4
 },
 "nbformat": 4,
 "nbformat_minor": 2
}
