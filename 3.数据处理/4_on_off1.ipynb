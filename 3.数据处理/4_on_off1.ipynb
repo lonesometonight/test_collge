{
 "cells": [
  {
   "cell_type": "markdown",
   "metadata": {},
   "source": [
    "第一步：读取原始数据"
   ]
  },
  {
   "cell_type": "code",
   "execution_count": 51,
   "metadata": {},
   "outputs": [],
   "source": [
    "import pandas as pd\n",
    "import numpy as np"
   ]
  },
  {
   "cell_type": "code",
   "execution_count": 52,
   "metadata": {},
   "outputs": [],
   "source": [
    "inputfile=\"D:\\\\1_kaoyan\\college_ending\\\\400仪表数据--全\\middata - 副本\\拉合闸最终.csv\""
   ]
  },
  {
   "cell_type": "code",
   "execution_count": 53,
   "metadata": {},
   "outputs": [
    {
     "data": {
      "text/html": [
       "<div>\n",
       "<style scoped>\n",
       "    .dataframe tbody tr th:only-of-type {\n",
       "        vertical-align: middle;\n",
       "    }\n",
       "\n",
       "    .dataframe tbody tr th {\n",
       "        vertical-align: top;\n",
       "    }\n",
       "\n",
       "    .dataframe thead th {\n",
       "        text-align: right;\n",
       "    }\n",
       "</style>\n",
       "<table border=\"1\" class=\"dataframe\">\n",
       "  <thead>\n",
       "    <tr style=\"text-align: right;\">\n",
       "      <th></th>\n",
       "      <th>meterNo</th>\n",
       "      <th>relayStatus_0c1o</th>\n",
       "      <th>relayUpdateTime</th>\n",
       "    </tr>\n",
       "  </thead>\n",
       "  <tbody>\n",
       "    <tr>\n",
       "      <th>0</th>\n",
       "      <td>10014164400011</td>\n",
       "      <td>0</td>\n",
       "      <td>2017/4/11 20:56</td>\n",
       "    </tr>\n",
       "    <tr>\n",
       "      <th>1</th>\n",
       "      <td>10014164400011</td>\n",
       "      <td>1</td>\n",
       "      <td>2017/6/19 11:32</td>\n",
       "    </tr>\n",
       "    <tr>\n",
       "      <th>2</th>\n",
       "      <td>10014164400011</td>\n",
       "      <td>0</td>\n",
       "      <td>2017/6/19 11:45</td>\n",
       "    </tr>\n",
       "    <tr>\n",
       "      <th>3</th>\n",
       "      <td>10021160000828</td>\n",
       "      <td>0</td>\n",
       "      <td>2017/4/11 06:00</td>\n",
       "    </tr>\n",
       "    <tr>\n",
       "      <th>4</th>\n",
       "      <td>10021160000828</td>\n",
       "      <td>1</td>\n",
       "      <td>2017/5/1 17:00</td>\n",
       "    </tr>\n",
       "  </tbody>\n",
       "</table>\n",
       "</div>"
      ],
      "text/plain": [
       "          meterNo  relayStatus_0c1o  relayUpdateTime\n",
       "0  10014164400011                 0  2017/4/11 20:56\n",
       "1  10014164400011                 1  2017/6/19 11:32\n",
       "2  10014164400011                 0  2017/6/19 11:45\n",
       "3  10021160000828                 0  2017/4/11 06:00\n",
       "4  10021160000828                 1   2017/5/1 17:00"
      ]
     },
     "execution_count": 53,
     "metadata": {},
     "output_type": "execute_result"
    }
   ],
   "source": [
    "data_YuanLai=pd.read_csv(inputfile,encoding='utf-8')\n",
    "data_YuanLai.head(5)"
   ]
  },
  {
   "cell_type": "code",
   "execution_count": 54,
   "metadata": {},
   "outputs": [
    {
     "data": {
      "text/html": [
       "<div>\n",
       "<style scoped>\n",
       "    .dataframe tbody tr th:only-of-type {\n",
       "        vertical-align: middle;\n",
       "    }\n",
       "\n",
       "    .dataframe tbody tr th {\n",
       "        vertical-align: top;\n",
       "    }\n",
       "\n",
       "    .dataframe thead th {\n",
       "        text-align: right;\n",
       "    }\n",
       "</style>\n",
       "<table border=\"1\" class=\"dataframe\">\n",
       "  <thead>\n",
       "    <tr style=\"text-align: right;\">\n",
       "      <th></th>\n",
       "      <th>meterNo</th>\n",
       "      <th>relayStatus_0c1o</th>\n",
       "      <th>relayUpdateTime</th>\n",
       "    </tr>\n",
       "  </thead>\n",
       "  <tbody>\n",
       "    <tr>\n",
       "      <th>24636</th>\n",
       "      <td>10023160000352</td>\n",
       "      <td>1</td>\n",
       "      <td>2020/4/8 22:38</td>\n",
       "    </tr>\n",
       "    <tr>\n",
       "      <th>24637</th>\n",
       "      <td>10023160000352</td>\n",
       "      <td>0</td>\n",
       "      <td>2020/4/8 23:30</td>\n",
       "    </tr>\n",
       "    <tr>\n",
       "      <th>24638</th>\n",
       "      <td>10023160000352</td>\n",
       "      <td>1</td>\n",
       "      <td>2020/7/4 13:29</td>\n",
       "    </tr>\n",
       "    <tr>\n",
       "      <th>24639</th>\n",
       "      <td>10023160000352</td>\n",
       "      <td>0</td>\n",
       "      <td>2020/7/4 18:30</td>\n",
       "    </tr>\n",
       "    <tr>\n",
       "      <th>24640</th>\n",
       "      <td>10023160000352</td>\n",
       "      <td>1</td>\n",
       "      <td>2020/10/16 09:36</td>\n",
       "    </tr>\n",
       "  </tbody>\n",
       "</table>\n",
       "</div>"
      ],
      "text/plain": [
       "              meterNo  relayStatus_0c1o   relayUpdateTime\n",
       "24636  10023160000352                 1    2020/4/8 22:38\n",
       "24637  10023160000352                 0    2020/4/8 23:30\n",
       "24638  10023160000352                 1    2020/7/4 13:29\n",
       "24639  10023160000352                 0    2020/7/4 18:30\n",
       "24640  10023160000352                 1  2020/10/16 09:36"
      ]
     },
     "execution_count": 54,
     "metadata": {},
     "output_type": "execute_result"
    }
   ],
   "source": [
    "data_YuanLai.tail(5)"
   ]
  },
  {
   "cell_type": "markdown",
   "metadata": {},
   "source": [
    "第二步：增加新的序列"
   ]
  },
  {
   "cell_type": "code",
   "execution_count": 55,
   "metadata": {},
   "outputs": [],
   "source": [
    "data_time=data_YuanLai.copy(deep=1)"
   ]
  },
  {
   "cell_type": "code",
   "execution_count": 56,
   "metadata": {},
   "outputs": [],
   "source": [
    "data_time['new_relayUpdateTime']=data_time['relayUpdateTime'].apply(pd.to_datetime)"
   ]
  },
  {
   "cell_type": "code",
   "execution_count": 57,
   "metadata": {},
   "outputs": [
    {
     "data": {
      "text/html": [
       "<div>\n",
       "<style scoped>\n",
       "    .dataframe tbody tr th:only-of-type {\n",
       "        vertical-align: middle;\n",
       "    }\n",
       "\n",
       "    .dataframe tbody tr th {\n",
       "        vertical-align: top;\n",
       "    }\n",
       "\n",
       "    .dataframe thead th {\n",
       "        text-align: right;\n",
       "    }\n",
       "</style>\n",
       "<table border=\"1\" class=\"dataframe\">\n",
       "  <thead>\n",
       "    <tr style=\"text-align: right;\">\n",
       "      <th></th>\n",
       "      <th>meterNo</th>\n",
       "      <th>relayStatus_0c1o</th>\n",
       "      <th>relayUpdateTime</th>\n",
       "      <th>new_relayUpdateTime</th>\n",
       "    </tr>\n",
       "  </thead>\n",
       "  <tbody>\n",
       "    <tr>\n",
       "      <th>0</th>\n",
       "      <td>10014164400011</td>\n",
       "      <td>0</td>\n",
       "      <td>2017/4/11 20:56</td>\n",
       "      <td>2017-04-11 20:56:00</td>\n",
       "    </tr>\n",
       "    <tr>\n",
       "      <th>1</th>\n",
       "      <td>10014164400011</td>\n",
       "      <td>1</td>\n",
       "      <td>2017/6/19 11:32</td>\n",
       "      <td>2017-06-19 11:32:00</td>\n",
       "    </tr>\n",
       "    <tr>\n",
       "      <th>2</th>\n",
       "      <td>10014164400011</td>\n",
       "      <td>0</td>\n",
       "      <td>2017/6/19 11:45</td>\n",
       "      <td>2017-06-19 11:45:00</td>\n",
       "    </tr>\n",
       "    <tr>\n",
       "      <th>3</th>\n",
       "      <td>10021160000828</td>\n",
       "      <td>0</td>\n",
       "      <td>2017/4/11 06:00</td>\n",
       "      <td>2017-04-11 06:00:00</td>\n",
       "    </tr>\n",
       "    <tr>\n",
       "      <th>4</th>\n",
       "      <td>10021160000828</td>\n",
       "      <td>1</td>\n",
       "      <td>2017/5/1 17:00</td>\n",
       "      <td>2017-05-01 17:00:00</td>\n",
       "    </tr>\n",
       "  </tbody>\n",
       "</table>\n",
       "</div>"
      ],
      "text/plain": [
       "          meterNo  relayStatus_0c1o  relayUpdateTime new_relayUpdateTime\n",
       "0  10014164400011                 0  2017/4/11 20:56 2017-04-11 20:56:00\n",
       "1  10014164400011                 1  2017/6/19 11:32 2017-06-19 11:32:00\n",
       "2  10014164400011                 0  2017/6/19 11:45 2017-06-19 11:45:00\n",
       "3  10021160000828                 0  2017/4/11 06:00 2017-04-11 06:00:00\n",
       "4  10021160000828                 1   2017/5/1 17:00 2017-05-01 17:00:00"
      ]
     },
     "execution_count": 57,
     "metadata": {},
     "output_type": "execute_result"
    }
   ],
   "source": [
    "data_time.head(5)"
   ]
  },
  {
   "cell_type": "code",
   "execution_count": 58,
   "metadata": {},
   "outputs": [
    {
     "data": {
      "text/html": [
       "<div>\n",
       "<style scoped>\n",
       "    .dataframe tbody tr th:only-of-type {\n",
       "        vertical-align: middle;\n",
       "    }\n",
       "\n",
       "    .dataframe tbody tr th {\n",
       "        vertical-align: top;\n",
       "    }\n",
       "\n",
       "    .dataframe thead th {\n",
       "        text-align: right;\n",
       "    }\n",
       "</style>\n",
       "<table border=\"1\" class=\"dataframe\">\n",
       "  <thead>\n",
       "    <tr style=\"text-align: right;\">\n",
       "      <th></th>\n",
       "      <th>meterNo</th>\n",
       "      <th>relayStatus_0c1o</th>\n",
       "      <th>relayUpdateTime</th>\n",
       "      <th>new_relayUpdateTime</th>\n",
       "    </tr>\n",
       "  </thead>\n",
       "  <tbody>\n",
       "    <tr>\n",
       "      <th>24636</th>\n",
       "      <td>10023160000352</td>\n",
       "      <td>1</td>\n",
       "      <td>2020/4/8 22:38</td>\n",
       "      <td>2020-04-08 22:38:00</td>\n",
       "    </tr>\n",
       "    <tr>\n",
       "      <th>24637</th>\n",
       "      <td>10023160000352</td>\n",
       "      <td>0</td>\n",
       "      <td>2020/4/8 23:30</td>\n",
       "      <td>2020-04-08 23:30:00</td>\n",
       "    </tr>\n",
       "    <tr>\n",
       "      <th>24638</th>\n",
       "      <td>10023160000352</td>\n",
       "      <td>1</td>\n",
       "      <td>2020/7/4 13:29</td>\n",
       "      <td>2020-07-04 13:29:00</td>\n",
       "    </tr>\n",
       "    <tr>\n",
       "      <th>24639</th>\n",
       "      <td>10023160000352</td>\n",
       "      <td>0</td>\n",
       "      <td>2020/7/4 18:30</td>\n",
       "      <td>2020-07-04 18:30:00</td>\n",
       "    </tr>\n",
       "    <tr>\n",
       "      <th>24640</th>\n",
       "      <td>10023160000352</td>\n",
       "      <td>1</td>\n",
       "      <td>2020/10/16 09:36</td>\n",
       "      <td>2020-10-16 09:36:00</td>\n",
       "    </tr>\n",
       "  </tbody>\n",
       "</table>\n",
       "</div>"
      ],
      "text/plain": [
       "              meterNo  relayStatus_0c1o   relayUpdateTime new_relayUpdateTime\n",
       "24636  10023160000352                 1    2020/4/8 22:38 2020-04-08 22:38:00\n",
       "24637  10023160000352                 0    2020/4/8 23:30 2020-04-08 23:30:00\n",
       "24638  10023160000352                 1    2020/7/4 13:29 2020-07-04 13:29:00\n",
       "24639  10023160000352                 0    2020/7/4 18:30 2020-07-04 18:30:00\n",
       "24640  10023160000352                 1  2020/10/16 09:36 2020-10-16 09:36:00"
      ]
     },
     "execution_count": 58,
     "metadata": {},
     "output_type": "execute_result"
    }
   ],
   "source": [
    "data_time.tail(5)"
   ]
  },
  {
   "cell_type": "code",
   "execution_count": 59,
   "metadata": {},
   "outputs": [],
   "source": [
    "data_time['relayStatus_0c1o']=data_time['relayStatus_0c1o'].fillna(1).astype('int64')"
   ]
  },
  {
   "cell_type": "code",
   "execution_count": 60,
   "metadata": {},
   "outputs": [
    {
     "data": {
      "text/html": [
       "<div>\n",
       "<style scoped>\n",
       "    .dataframe tbody tr th:only-of-type {\n",
       "        vertical-align: middle;\n",
       "    }\n",
       "\n",
       "    .dataframe tbody tr th {\n",
       "        vertical-align: top;\n",
       "    }\n",
       "\n",
       "    .dataframe thead th {\n",
       "        text-align: right;\n",
       "    }\n",
       "</style>\n",
       "<table border=\"1\" class=\"dataframe\">\n",
       "  <thead>\n",
       "    <tr style=\"text-align: right;\">\n",
       "      <th></th>\n",
       "      <th>meterNo</th>\n",
       "      <th>relayStatus_0c1o</th>\n",
       "      <th>relayUpdateTime</th>\n",
       "      <th>new_relayUpdateTime</th>\n",
       "    </tr>\n",
       "  </thead>\n",
       "  <tbody>\n",
       "    <tr>\n",
       "      <th>24636</th>\n",
       "      <td>10023160000352</td>\n",
       "      <td>1</td>\n",
       "      <td>2020/4/8 22:38</td>\n",
       "      <td>2020-04-08 22:38:00</td>\n",
       "    </tr>\n",
       "    <tr>\n",
       "      <th>24637</th>\n",
       "      <td>10023160000352</td>\n",
       "      <td>0</td>\n",
       "      <td>2020/4/8 23:30</td>\n",
       "      <td>2020-04-08 23:30:00</td>\n",
       "    </tr>\n",
       "    <tr>\n",
       "      <th>24638</th>\n",
       "      <td>10023160000352</td>\n",
       "      <td>1</td>\n",
       "      <td>2020/7/4 13:29</td>\n",
       "      <td>2020-07-04 13:29:00</td>\n",
       "    </tr>\n",
       "    <tr>\n",
       "      <th>24639</th>\n",
       "      <td>10023160000352</td>\n",
       "      <td>0</td>\n",
       "      <td>2020/7/4 18:30</td>\n",
       "      <td>2020-07-04 18:30:00</td>\n",
       "    </tr>\n",
       "    <tr>\n",
       "      <th>24640</th>\n",
       "      <td>10023160000352</td>\n",
       "      <td>1</td>\n",
       "      <td>2020/10/16 09:36</td>\n",
       "      <td>2020-10-16 09:36:00</td>\n",
       "    </tr>\n",
       "  </tbody>\n",
       "</table>\n",
       "</div>"
      ],
      "text/plain": [
       "              meterNo  relayStatus_0c1o   relayUpdateTime new_relayUpdateTime\n",
       "24636  10023160000352                 1    2020/4/8 22:38 2020-04-08 22:38:00\n",
       "24637  10023160000352                 0    2020/4/8 23:30 2020-04-08 23:30:00\n",
       "24638  10023160000352                 1    2020/7/4 13:29 2020-07-04 13:29:00\n",
       "24639  10023160000352                 0    2020/7/4 18:30 2020-07-04 18:30:00\n",
       "24640  10023160000352                 1  2020/10/16 09:36 2020-10-16 09:36:00"
      ]
     },
     "execution_count": 60,
     "metadata": {},
     "output_type": "execute_result"
    }
   ],
   "source": [
    "data_time.tail(5)"
   ]
  },
  {
   "cell_type": "code",
   "execution_count": 61,
   "metadata": {},
   "outputs": [
    {
     "name": "stdout",
     "output_type": "stream",
     "text": [
      "<class 'pandas.core.frame.DataFrame'>\n",
      "RangeIndex: 24641 entries, 0 to 24640\n",
      "Data columns (total 4 columns):\n",
      " #   Column               Non-Null Count  Dtype         \n",
      "---  ------               --------------  -----         \n",
      " 0   meterNo              24641 non-null  int64         \n",
      " 1   relayStatus_0c1o     24641 non-null  int64         \n",
      " 2   relayUpdateTime      24641 non-null  object        \n",
      " 3   new_relayUpdateTime  24641 non-null  datetime64[ns]\n",
      "dtypes: datetime64[ns](1), int64(2), object(1)\n",
      "memory usage: 770.2+ KB\n"
     ]
    }
   ],
   "source": [
    "data_time.info()"
   ]
  },
  {
   "cell_type": "code",
   "execution_count": 62,
   "metadata": {},
   "outputs": [],
   "source": [
    "data_time['new_meterNo']=data_time['meterNo'].shift(-1).fillna('10023160000352').astype('int64')"
   ]
  },
  {
   "cell_type": "code",
   "execution_count": 63,
   "metadata": {},
   "outputs": [],
   "source": [
    "data_time['new_0c1o']=data_time['relayStatus_0c1o'].shift(-1).fillna(1).astype('int64')"
   ]
  },
  {
   "cell_type": "code",
   "execution_count": 64,
   "metadata": {},
   "outputs": [],
   "source": [
    "data_time['next_relayUpdateTime']=data_time['new_relayUpdateTime'].shift(-1).fillna('2017-05-01 17:00:00').apply(pd.to_datetime)"
   ]
  },
  {
   "cell_type": "code",
   "execution_count": 65,
   "metadata": {},
   "outputs": [
    {
     "data": {
      "text/html": [
       "<div>\n",
       "<style scoped>\n",
       "    .dataframe tbody tr th:only-of-type {\n",
       "        vertical-align: middle;\n",
       "    }\n",
       "\n",
       "    .dataframe tbody tr th {\n",
       "        vertical-align: top;\n",
       "    }\n",
       "\n",
       "    .dataframe thead th {\n",
       "        text-align: right;\n",
       "    }\n",
       "</style>\n",
       "<table border=\"1\" class=\"dataframe\">\n",
       "  <thead>\n",
       "    <tr style=\"text-align: right;\">\n",
       "      <th></th>\n",
       "      <th>meterNo</th>\n",
       "      <th>relayStatus_0c1o</th>\n",
       "      <th>relayUpdateTime</th>\n",
       "      <th>new_relayUpdateTime</th>\n",
       "      <th>new_meterNo</th>\n",
       "      <th>new_0c1o</th>\n",
       "      <th>next_relayUpdateTime</th>\n",
       "    </tr>\n",
       "  </thead>\n",
       "  <tbody>\n",
       "    <tr>\n",
       "      <th>0</th>\n",
       "      <td>10014164400011</td>\n",
       "      <td>0</td>\n",
       "      <td>2017/4/11 20:56</td>\n",
       "      <td>2017-04-11 20:56:00</td>\n",
       "      <td>10014164400011</td>\n",
       "      <td>1</td>\n",
       "      <td>2017-06-19 11:32:00</td>\n",
       "    </tr>\n",
       "    <tr>\n",
       "      <th>1</th>\n",
       "      <td>10014164400011</td>\n",
       "      <td>1</td>\n",
       "      <td>2017/6/19 11:32</td>\n",
       "      <td>2017-06-19 11:32:00</td>\n",
       "      <td>10014164400011</td>\n",
       "      <td>0</td>\n",
       "      <td>2017-06-19 11:45:00</td>\n",
       "    </tr>\n",
       "    <tr>\n",
       "      <th>2</th>\n",
       "      <td>10014164400011</td>\n",
       "      <td>0</td>\n",
       "      <td>2017/6/19 11:45</td>\n",
       "      <td>2017-06-19 11:45:00</td>\n",
       "      <td>10021160000828</td>\n",
       "      <td>0</td>\n",
       "      <td>2017-04-11 06:00:00</td>\n",
       "    </tr>\n",
       "    <tr>\n",
       "      <th>3</th>\n",
       "      <td>10021160000828</td>\n",
       "      <td>0</td>\n",
       "      <td>2017/4/11 06:00</td>\n",
       "      <td>2017-04-11 06:00:00</td>\n",
       "      <td>10021160000828</td>\n",
       "      <td>1</td>\n",
       "      <td>2017-05-01 17:00:00</td>\n",
       "    </tr>\n",
       "    <tr>\n",
       "      <th>4</th>\n",
       "      <td>10021160000828</td>\n",
       "      <td>1</td>\n",
       "      <td>2017/5/1 17:00</td>\n",
       "      <td>2017-05-01 17:00:00</td>\n",
       "      <td>10021160000828</td>\n",
       "      <td>0</td>\n",
       "      <td>2017-05-01 17:30:00</td>\n",
       "    </tr>\n",
       "  </tbody>\n",
       "</table>\n",
       "</div>"
      ],
      "text/plain": [
       "          meterNo  relayStatus_0c1o  relayUpdateTime new_relayUpdateTime  \\\n",
       "0  10014164400011                 0  2017/4/11 20:56 2017-04-11 20:56:00   \n",
       "1  10014164400011                 1  2017/6/19 11:32 2017-06-19 11:32:00   \n",
       "2  10014164400011                 0  2017/6/19 11:45 2017-06-19 11:45:00   \n",
       "3  10021160000828                 0  2017/4/11 06:00 2017-04-11 06:00:00   \n",
       "4  10021160000828                 1   2017/5/1 17:00 2017-05-01 17:00:00   \n",
       "\n",
       "      new_meterNo  new_0c1o next_relayUpdateTime  \n",
       "0  10014164400011         1  2017-06-19 11:32:00  \n",
       "1  10014164400011         0  2017-06-19 11:45:00  \n",
       "2  10021160000828         0  2017-04-11 06:00:00  \n",
       "3  10021160000828         1  2017-05-01 17:00:00  \n",
       "4  10021160000828         0  2017-05-01 17:30:00  "
      ]
     },
     "execution_count": 65,
     "metadata": {},
     "output_type": "execute_result"
    }
   ],
   "source": [
    "data_time.head(5)"
   ]
  },
  {
   "cell_type": "code",
   "execution_count": 66,
   "metadata": {},
   "outputs": [
    {
     "data": {
      "text/html": [
       "<div>\n",
       "<style scoped>\n",
       "    .dataframe tbody tr th:only-of-type {\n",
       "        vertical-align: middle;\n",
       "    }\n",
       "\n",
       "    .dataframe tbody tr th {\n",
       "        vertical-align: top;\n",
       "    }\n",
       "\n",
       "    .dataframe thead th {\n",
       "        text-align: right;\n",
       "    }\n",
       "</style>\n",
       "<table border=\"1\" class=\"dataframe\">\n",
       "  <thead>\n",
       "    <tr style=\"text-align: right;\">\n",
       "      <th></th>\n",
       "      <th>meterNo</th>\n",
       "      <th>relayStatus_0c1o</th>\n",
       "      <th>relayUpdateTime</th>\n",
       "      <th>new_relayUpdateTime</th>\n",
       "      <th>new_meterNo</th>\n",
       "      <th>new_0c1o</th>\n",
       "      <th>next_relayUpdateTime</th>\n",
       "    </tr>\n",
       "  </thead>\n",
       "  <tbody>\n",
       "    <tr>\n",
       "      <th>24636</th>\n",
       "      <td>10023160000352</td>\n",
       "      <td>1</td>\n",
       "      <td>2020/4/8 22:38</td>\n",
       "      <td>2020-04-08 22:38:00</td>\n",
       "      <td>10023160000352</td>\n",
       "      <td>0</td>\n",
       "      <td>2020-04-08 23:30:00</td>\n",
       "    </tr>\n",
       "    <tr>\n",
       "      <th>24637</th>\n",
       "      <td>10023160000352</td>\n",
       "      <td>0</td>\n",
       "      <td>2020/4/8 23:30</td>\n",
       "      <td>2020-04-08 23:30:00</td>\n",
       "      <td>10023160000352</td>\n",
       "      <td>1</td>\n",
       "      <td>2020-07-04 13:29:00</td>\n",
       "    </tr>\n",
       "    <tr>\n",
       "      <th>24638</th>\n",
       "      <td>10023160000352</td>\n",
       "      <td>1</td>\n",
       "      <td>2020/7/4 13:29</td>\n",
       "      <td>2020-07-04 13:29:00</td>\n",
       "      <td>10023160000352</td>\n",
       "      <td>0</td>\n",
       "      <td>2020-07-04 18:30:00</td>\n",
       "    </tr>\n",
       "    <tr>\n",
       "      <th>24639</th>\n",
       "      <td>10023160000352</td>\n",
       "      <td>0</td>\n",
       "      <td>2020/7/4 18:30</td>\n",
       "      <td>2020-07-04 18:30:00</td>\n",
       "      <td>10023160000352</td>\n",
       "      <td>1</td>\n",
       "      <td>2020-10-16 09:36:00</td>\n",
       "    </tr>\n",
       "    <tr>\n",
       "      <th>24640</th>\n",
       "      <td>10023160000352</td>\n",
       "      <td>1</td>\n",
       "      <td>2020/10/16 09:36</td>\n",
       "      <td>2020-10-16 09:36:00</td>\n",
       "      <td>10023160000352</td>\n",
       "      <td>1</td>\n",
       "      <td>2017-05-01 17:00:00</td>\n",
       "    </tr>\n",
       "  </tbody>\n",
       "</table>\n",
       "</div>"
      ],
      "text/plain": [
       "              meterNo  relayStatus_0c1o   relayUpdateTime new_relayUpdateTime  \\\n",
       "24636  10023160000352                 1    2020/4/8 22:38 2020-04-08 22:38:00   \n",
       "24637  10023160000352                 0    2020/4/8 23:30 2020-04-08 23:30:00   \n",
       "24638  10023160000352                 1    2020/7/4 13:29 2020-07-04 13:29:00   \n",
       "24639  10023160000352                 0    2020/7/4 18:30 2020-07-04 18:30:00   \n",
       "24640  10023160000352                 1  2020/10/16 09:36 2020-10-16 09:36:00   \n",
       "\n",
       "          new_meterNo  new_0c1o next_relayUpdateTime  \n",
       "24636  10023160000352         0  2020-04-08 23:30:00  \n",
       "24637  10023160000352         1  2020-07-04 13:29:00  \n",
       "24638  10023160000352         0  2020-07-04 18:30:00  \n",
       "24639  10023160000352         1  2020-10-16 09:36:00  \n",
       "24640  10023160000352         1  2017-05-01 17:00:00  "
      ]
     },
     "execution_count": 66,
     "metadata": {},
     "output_type": "execute_result"
    }
   ],
   "source": [
    "data_time.tail(5)"
   ]
  },
  {
   "cell_type": "markdown",
   "metadata": {},
   "source": [
    "第三步：开始计算时间戳"
   ]
  },
  {
   "cell_type": "code",
   "execution_count": 67,
   "metadata": {},
   "outputs": [],
   "source": [
    "data_time_JiSuan=data_time.copy(deep=1)"
   ]
  },
  {
   "cell_type": "code",
   "execution_count": 68,
   "metadata": {},
   "outputs": [
    {
     "data": {
      "text/html": [
       "<div>\n",
       "<style scoped>\n",
       "    .dataframe tbody tr th:only-of-type {\n",
       "        vertical-align: middle;\n",
       "    }\n",
       "\n",
       "    .dataframe tbody tr th {\n",
       "        vertical-align: top;\n",
       "    }\n",
       "\n",
       "    .dataframe thead th {\n",
       "        text-align: right;\n",
       "    }\n",
       "</style>\n",
       "<table border=\"1\" class=\"dataframe\">\n",
       "  <thead>\n",
       "    <tr style=\"text-align: right;\">\n",
       "      <th></th>\n",
       "      <th>meterNo</th>\n",
       "      <th>relayStatus_0c1o</th>\n",
       "      <th>relayUpdateTime</th>\n",
       "      <th>new_relayUpdateTime</th>\n",
       "      <th>new_meterNo</th>\n",
       "      <th>new_0c1o</th>\n",
       "      <th>next_relayUpdateTime</th>\n",
       "    </tr>\n",
       "  </thead>\n",
       "  <tbody>\n",
       "    <tr>\n",
       "      <th>0</th>\n",
       "      <td>10014164400011</td>\n",
       "      <td>0</td>\n",
       "      <td>2017/4/11 20:56</td>\n",
       "      <td>2017-04-11 20:56:00</td>\n",
       "      <td>10014164400011</td>\n",
       "      <td>1</td>\n",
       "      <td>2017-06-19 11:32:00</td>\n",
       "    </tr>\n",
       "    <tr>\n",
       "      <th>1</th>\n",
       "      <td>10014164400011</td>\n",
       "      <td>1</td>\n",
       "      <td>2017/6/19 11:32</td>\n",
       "      <td>2017-06-19 11:32:00</td>\n",
       "      <td>10014164400011</td>\n",
       "      <td>0</td>\n",
       "      <td>2017-06-19 11:45:00</td>\n",
       "    </tr>\n",
       "    <tr>\n",
       "      <th>2</th>\n",
       "      <td>10014164400011</td>\n",
       "      <td>0</td>\n",
       "      <td>2017/6/19 11:45</td>\n",
       "      <td>2017-06-19 11:45:00</td>\n",
       "      <td>10021160000828</td>\n",
       "      <td>0</td>\n",
       "      <td>2017-04-11 06:00:00</td>\n",
       "    </tr>\n",
       "    <tr>\n",
       "      <th>3</th>\n",
       "      <td>10021160000828</td>\n",
       "      <td>0</td>\n",
       "      <td>2017/4/11 06:00</td>\n",
       "      <td>2017-04-11 06:00:00</td>\n",
       "      <td>10021160000828</td>\n",
       "      <td>1</td>\n",
       "      <td>2017-05-01 17:00:00</td>\n",
       "    </tr>\n",
       "    <tr>\n",
       "      <th>4</th>\n",
       "      <td>10021160000828</td>\n",
       "      <td>1</td>\n",
       "      <td>2017/5/1 17:00</td>\n",
       "      <td>2017-05-01 17:00:00</td>\n",
       "      <td>10021160000828</td>\n",
       "      <td>0</td>\n",
       "      <td>2017-05-01 17:30:00</td>\n",
       "    </tr>\n",
       "  </tbody>\n",
       "</table>\n",
       "</div>"
      ],
      "text/plain": [
       "          meterNo  relayStatus_0c1o  relayUpdateTime new_relayUpdateTime  \\\n",
       "0  10014164400011                 0  2017/4/11 20:56 2017-04-11 20:56:00   \n",
       "1  10014164400011                 1  2017/6/19 11:32 2017-06-19 11:32:00   \n",
       "2  10014164400011                 0  2017/6/19 11:45 2017-06-19 11:45:00   \n",
       "3  10021160000828                 0  2017/4/11 06:00 2017-04-11 06:00:00   \n",
       "4  10021160000828                 1   2017/5/1 17:00 2017-05-01 17:00:00   \n",
       "\n",
       "      new_meterNo  new_0c1o next_relayUpdateTime  \n",
       "0  10014164400011         1  2017-06-19 11:32:00  \n",
       "1  10014164400011         0  2017-06-19 11:45:00  \n",
       "2  10021160000828         0  2017-04-11 06:00:00  \n",
       "3  10021160000828         1  2017-05-01 17:00:00  \n",
       "4  10021160000828         0  2017-05-01 17:30:00  "
      ]
     },
     "execution_count": 68,
     "metadata": {},
     "output_type": "execute_result"
    }
   ],
   "source": [
    "data_time_JiSuan.head(5)"
   ]
  },
  {
   "cell_type": "code",
   "execution_count": 69,
   "metadata": {},
   "outputs": [
    {
     "data": {
      "text/html": [
       "<div>\n",
       "<style scoped>\n",
       "    .dataframe tbody tr th:only-of-type {\n",
       "        vertical-align: middle;\n",
       "    }\n",
       "\n",
       "    .dataframe tbody tr th {\n",
       "        vertical-align: top;\n",
       "    }\n",
       "\n",
       "    .dataframe thead th {\n",
       "        text-align: right;\n",
       "    }\n",
       "</style>\n",
       "<table border=\"1\" class=\"dataframe\">\n",
       "  <thead>\n",
       "    <tr style=\"text-align: right;\">\n",
       "      <th></th>\n",
       "      <th>meterNo</th>\n",
       "      <th>relayStatus_0c1o</th>\n",
       "      <th>relayUpdateTime</th>\n",
       "      <th>new_relayUpdateTime</th>\n",
       "      <th>new_meterNo</th>\n",
       "      <th>new_0c1o</th>\n",
       "      <th>next_relayUpdateTime</th>\n",
       "    </tr>\n",
       "  </thead>\n",
       "  <tbody>\n",
       "    <tr>\n",
       "      <th>24636</th>\n",
       "      <td>10023160000352</td>\n",
       "      <td>1</td>\n",
       "      <td>2020/4/8 22:38</td>\n",
       "      <td>2020-04-08 22:38:00</td>\n",
       "      <td>10023160000352</td>\n",
       "      <td>0</td>\n",
       "      <td>2020-04-08 23:30:00</td>\n",
       "    </tr>\n",
       "    <tr>\n",
       "      <th>24637</th>\n",
       "      <td>10023160000352</td>\n",
       "      <td>0</td>\n",
       "      <td>2020/4/8 23:30</td>\n",
       "      <td>2020-04-08 23:30:00</td>\n",
       "      <td>10023160000352</td>\n",
       "      <td>1</td>\n",
       "      <td>2020-07-04 13:29:00</td>\n",
       "    </tr>\n",
       "    <tr>\n",
       "      <th>24638</th>\n",
       "      <td>10023160000352</td>\n",
       "      <td>1</td>\n",
       "      <td>2020/7/4 13:29</td>\n",
       "      <td>2020-07-04 13:29:00</td>\n",
       "      <td>10023160000352</td>\n",
       "      <td>0</td>\n",
       "      <td>2020-07-04 18:30:00</td>\n",
       "    </tr>\n",
       "    <tr>\n",
       "      <th>24639</th>\n",
       "      <td>10023160000352</td>\n",
       "      <td>0</td>\n",
       "      <td>2020/7/4 18:30</td>\n",
       "      <td>2020-07-04 18:30:00</td>\n",
       "      <td>10023160000352</td>\n",
       "      <td>1</td>\n",
       "      <td>2020-10-16 09:36:00</td>\n",
       "    </tr>\n",
       "    <tr>\n",
       "      <th>24640</th>\n",
       "      <td>10023160000352</td>\n",
       "      <td>1</td>\n",
       "      <td>2020/10/16 09:36</td>\n",
       "      <td>2020-10-16 09:36:00</td>\n",
       "      <td>10023160000352</td>\n",
       "      <td>1</td>\n",
       "      <td>2017-05-01 17:00:00</td>\n",
       "    </tr>\n",
       "  </tbody>\n",
       "</table>\n",
       "</div>"
      ],
      "text/plain": [
       "              meterNo  relayStatus_0c1o   relayUpdateTime new_relayUpdateTime  \\\n",
       "24636  10023160000352                 1    2020/4/8 22:38 2020-04-08 22:38:00   \n",
       "24637  10023160000352                 0    2020/4/8 23:30 2020-04-08 23:30:00   \n",
       "24638  10023160000352                 1    2020/7/4 13:29 2020-07-04 13:29:00   \n",
       "24639  10023160000352                 0    2020/7/4 18:30 2020-07-04 18:30:00   \n",
       "24640  10023160000352                 1  2020/10/16 09:36 2020-10-16 09:36:00   \n",
       "\n",
       "          new_meterNo  new_0c1o next_relayUpdateTime  \n",
       "24636  10023160000352         0  2020-04-08 23:30:00  \n",
       "24637  10023160000352         1  2020-07-04 13:29:00  \n",
       "24638  10023160000352         0  2020-07-04 18:30:00  \n",
       "24639  10023160000352         1  2020-10-16 09:36:00  \n",
       "24640  10023160000352         1  2017-05-01 17:00:00  "
      ]
     },
     "execution_count": 69,
     "metadata": {},
     "output_type": "execute_result"
    }
   ],
   "source": [
    "data_time_JiSuan.tail(5)"
   ]
  },
  {
   "cell_type": "code",
   "execution_count": 70,
   "metadata": {},
   "outputs": [
    {
     "data": {
      "text/html": [
       "<div>\n",
       "<style scoped>\n",
       "    .dataframe tbody tr th:only-of-type {\n",
       "        vertical-align: middle;\n",
       "    }\n",
       "\n",
       "    .dataframe tbody tr th {\n",
       "        vertical-align: top;\n",
       "    }\n",
       "\n",
       "    .dataframe thead th {\n",
       "        text-align: right;\n",
       "    }\n",
       "</style>\n",
       "<table border=\"1\" class=\"dataframe\">\n",
       "  <thead>\n",
       "    <tr style=\"text-align: right;\">\n",
       "      <th></th>\n",
       "      <th>meterNo</th>\n",
       "      <th>relayStatus_0c1o</th>\n",
       "      <th>relayUpdateTime</th>\n",
       "      <th>new_relayUpdateTime</th>\n",
       "      <th>new_meterNo</th>\n",
       "      <th>new_0c1o</th>\n",
       "      <th>next_relayUpdateTime</th>\n",
       "    </tr>\n",
       "  </thead>\n",
       "  <tbody>\n",
       "    <tr>\n",
       "      <th>0</th>\n",
       "      <td>10014164400011</td>\n",
       "      <td>0</td>\n",
       "      <td>2017/4/11 20:56</td>\n",
       "      <td>2017-04-11 20:56:00</td>\n",
       "      <td>10014164400011</td>\n",
       "      <td>1</td>\n",
       "      <td>2017-06-19 11:32:00</td>\n",
       "    </tr>\n",
       "    <tr>\n",
       "      <th>1</th>\n",
       "      <td>10014164400011</td>\n",
       "      <td>1</td>\n",
       "      <td>2017/6/19 11:32</td>\n",
       "      <td>2017-06-19 11:32:00</td>\n",
       "      <td>10014164400011</td>\n",
       "      <td>0</td>\n",
       "      <td>2017-06-19 11:45:00</td>\n",
       "    </tr>\n",
       "    <tr>\n",
       "      <th>2</th>\n",
       "      <td>10014164400011</td>\n",
       "      <td>0</td>\n",
       "      <td>2017/6/19 11:45</td>\n",
       "      <td>2017-06-19 11:45:00</td>\n",
       "      <td>10021160000828</td>\n",
       "      <td>0</td>\n",
       "      <td>2017-04-11 06:00:00</td>\n",
       "    </tr>\n",
       "    <tr>\n",
       "      <th>3</th>\n",
       "      <td>10021160000828</td>\n",
       "      <td>0</td>\n",
       "      <td>2017/4/11 06:00</td>\n",
       "      <td>2017-04-11 06:00:00</td>\n",
       "      <td>10021160000828</td>\n",
       "      <td>1</td>\n",
       "      <td>2017-05-01 17:00:00</td>\n",
       "    </tr>\n",
       "    <tr>\n",
       "      <th>4</th>\n",
       "      <td>10021160000828</td>\n",
       "      <td>1</td>\n",
       "      <td>2017/5/1 17:00</td>\n",
       "      <td>2017-05-01 17:00:00</td>\n",
       "      <td>10021160000828</td>\n",
       "      <td>0</td>\n",
       "      <td>2017-05-01 17:30:00</td>\n",
       "    </tr>\n",
       "    <tr>\n",
       "      <th>...</th>\n",
       "      <td>...</td>\n",
       "      <td>...</td>\n",
       "      <td>...</td>\n",
       "      <td>...</td>\n",
       "      <td>...</td>\n",
       "      <td>...</td>\n",
       "      <td>...</td>\n",
       "    </tr>\n",
       "    <tr>\n",
       "      <th>24636</th>\n",
       "      <td>10023160000352</td>\n",
       "      <td>1</td>\n",
       "      <td>2020/4/8 22:38</td>\n",
       "      <td>2020-04-08 22:38:00</td>\n",
       "      <td>10023160000352</td>\n",
       "      <td>0</td>\n",
       "      <td>2020-04-08 23:30:00</td>\n",
       "    </tr>\n",
       "    <tr>\n",
       "      <th>24637</th>\n",
       "      <td>10023160000352</td>\n",
       "      <td>0</td>\n",
       "      <td>2020/4/8 23:30</td>\n",
       "      <td>2020-04-08 23:30:00</td>\n",
       "      <td>10023160000352</td>\n",
       "      <td>1</td>\n",
       "      <td>2020-07-04 13:29:00</td>\n",
       "    </tr>\n",
       "    <tr>\n",
       "      <th>24638</th>\n",
       "      <td>10023160000352</td>\n",
       "      <td>1</td>\n",
       "      <td>2020/7/4 13:29</td>\n",
       "      <td>2020-07-04 13:29:00</td>\n",
       "      <td>10023160000352</td>\n",
       "      <td>0</td>\n",
       "      <td>2020-07-04 18:30:00</td>\n",
       "    </tr>\n",
       "    <tr>\n",
       "      <th>24639</th>\n",
       "      <td>10023160000352</td>\n",
       "      <td>0</td>\n",
       "      <td>2020/7/4 18:30</td>\n",
       "      <td>2020-07-04 18:30:00</td>\n",
       "      <td>10023160000352</td>\n",
       "      <td>1</td>\n",
       "      <td>2020-10-16 09:36:00</td>\n",
       "    </tr>\n",
       "    <tr>\n",
       "      <th>24640</th>\n",
       "      <td>10023160000352</td>\n",
       "      <td>1</td>\n",
       "      <td>2020/10/16 09:36</td>\n",
       "      <td>2020-10-16 09:36:00</td>\n",
       "      <td>10023160000352</td>\n",
       "      <td>1</td>\n",
       "      <td>2017-05-01 17:00:00</td>\n",
       "    </tr>\n",
       "  </tbody>\n",
       "</table>\n",
       "<p>24641 rows × 7 columns</p>\n",
       "</div>"
      ],
      "text/plain": [
       "              meterNo  relayStatus_0c1o   relayUpdateTime new_relayUpdateTime  \\\n",
       "0      10014164400011                 0   2017/4/11 20:56 2017-04-11 20:56:00   \n",
       "1      10014164400011                 1   2017/6/19 11:32 2017-06-19 11:32:00   \n",
       "2      10014164400011                 0   2017/6/19 11:45 2017-06-19 11:45:00   \n",
       "3      10021160000828                 0   2017/4/11 06:00 2017-04-11 06:00:00   \n",
       "4      10021160000828                 1    2017/5/1 17:00 2017-05-01 17:00:00   \n",
       "...               ...               ...               ...                 ...   \n",
       "24636  10023160000352                 1    2020/4/8 22:38 2020-04-08 22:38:00   \n",
       "24637  10023160000352                 0    2020/4/8 23:30 2020-04-08 23:30:00   \n",
       "24638  10023160000352                 1    2020/7/4 13:29 2020-07-04 13:29:00   \n",
       "24639  10023160000352                 0    2020/7/4 18:30 2020-07-04 18:30:00   \n",
       "24640  10023160000352                 1  2020/10/16 09:36 2020-10-16 09:36:00   \n",
       "\n",
       "          new_meterNo  new_0c1o next_relayUpdateTime  \n",
       "0      10014164400011         1  2017-06-19 11:32:00  \n",
       "1      10014164400011         0  2017-06-19 11:45:00  \n",
       "2      10021160000828         0  2017-04-11 06:00:00  \n",
       "3      10021160000828         1  2017-05-01 17:00:00  \n",
       "4      10021160000828         0  2017-05-01 17:30:00  \n",
       "...               ...       ...                  ...  \n",
       "24636  10023160000352         0  2020-04-08 23:30:00  \n",
       "24637  10023160000352         1  2020-07-04 13:29:00  \n",
       "24638  10023160000352         0  2020-07-04 18:30:00  \n",
       "24639  10023160000352         1  2020-10-16 09:36:00  \n",
       "24640  10023160000352         1  2017-05-01 17:00:00  \n",
       "\n",
       "[24641 rows x 7 columns]"
      ]
     },
     "execution_count": 70,
     "metadata": {},
     "output_type": "execute_result"
    }
   ],
   "source": [
    "data_time_JiSuan"
   ]
  },
  {
   "cell_type": "code",
   "execution_count": 71,
   "metadata": {},
   "outputs": [],
   "source": [
    "data_time_JiSuan['NoIf_time']=data_time_JiSuan['next_relayUpdateTime']-data_time_JiSuan['new_relayUpdateTime']"
   ]
  },
  {
   "cell_type": "code",
   "execution_count": 72,
   "metadata": {},
   "outputs": [],
   "source": [
    "def timecompute(new_0c1o,relayStatus_0c1o,new_meterNo,meterNo,next_relayUpdateTime,new_relayUpdateTime):\n",
    "    if meterNo==new_meterNo and new_0c1o==1 and relayStatus_0c1o==0:\n",
    "        if_time = next_relayUpdateTime-new_relayUpdateTime\n",
    "    else:\n",
    "        if_time = 0\n",
    "    return if_time"
   ]
  },
  {
   "cell_type": "code",
   "execution_count": 73,
   "metadata": {},
   "outputs": [],
   "source": [
    "def time_JiSuan(data):\n",
    "    new_0c1o=data['new_0c1o']\n",
    "    relayStatus_0c1o=data['relayStatus_0c1o']\n",
    "    new_meterNo=data['new_meterNo']\n",
    "    meterNo=data['meterNo']\n",
    "    next_relayUpdateTime=data['next_relayUpdateTime']\n",
    "    new_relayUpdateTime=data['new_relayUpdateTime']\n",
    "    if meterNo==new_meterNo and new_0c1o==0 and relayStatus_0c1o==1:\n",
    "        if_time = next_relayUpdateTime-new_relayUpdateTime\n",
    "    else:\n",
    "        if_time = 0\n",
    "    return if_time\n",
    "    "
   ]
  },
  {
   "cell_type": "code",
   "execution_count": 74,
   "metadata": {},
   "outputs": [],
   "source": [
    "data_time_JiSuan['If_Time']=data_time_JiSuan.apply(time_JiSuan,axis=1)"
   ]
  },
  {
   "cell_type": "code",
   "execution_count": 75,
   "metadata": {},
   "outputs": [
    {
     "data": {
      "text/html": [
       "<div>\n",
       "<style scoped>\n",
       "    .dataframe tbody tr th:only-of-type {\n",
       "        vertical-align: middle;\n",
       "    }\n",
       "\n",
       "    .dataframe tbody tr th {\n",
       "        vertical-align: top;\n",
       "    }\n",
       "\n",
       "    .dataframe thead th {\n",
       "        text-align: right;\n",
       "    }\n",
       "</style>\n",
       "<table border=\"1\" class=\"dataframe\">\n",
       "  <thead>\n",
       "    <tr style=\"text-align: right;\">\n",
       "      <th></th>\n",
       "      <th>meterNo</th>\n",
       "      <th>relayStatus_0c1o</th>\n",
       "      <th>relayUpdateTime</th>\n",
       "      <th>new_relayUpdateTime</th>\n",
       "      <th>new_meterNo</th>\n",
       "      <th>new_0c1o</th>\n",
       "      <th>next_relayUpdateTime</th>\n",
       "      <th>NoIf_time</th>\n",
       "      <th>If_Time</th>\n",
       "    </tr>\n",
       "  </thead>\n",
       "  <tbody>\n",
       "    <tr>\n",
       "      <th>0</th>\n",
       "      <td>10014164400011</td>\n",
       "      <td>0</td>\n",
       "      <td>2017/4/11 20:56</td>\n",
       "      <td>2017-04-11 20:56:00</td>\n",
       "      <td>10014164400011</td>\n",
       "      <td>1</td>\n",
       "      <td>2017-06-19 11:32:00</td>\n",
       "      <td>68 days 14:36:00</td>\n",
       "      <td>0</td>\n",
       "    </tr>\n",
       "    <tr>\n",
       "      <th>1</th>\n",
       "      <td>10014164400011</td>\n",
       "      <td>1</td>\n",
       "      <td>2017/6/19 11:32</td>\n",
       "      <td>2017-06-19 11:32:00</td>\n",
       "      <td>10014164400011</td>\n",
       "      <td>0</td>\n",
       "      <td>2017-06-19 11:45:00</td>\n",
       "      <td>0 days 00:13:00</td>\n",
       "      <td>0 days 00:13:00</td>\n",
       "    </tr>\n",
       "    <tr>\n",
       "      <th>2</th>\n",
       "      <td>10014164400011</td>\n",
       "      <td>0</td>\n",
       "      <td>2017/6/19 11:45</td>\n",
       "      <td>2017-06-19 11:45:00</td>\n",
       "      <td>10021160000828</td>\n",
       "      <td>0</td>\n",
       "      <td>2017-04-11 06:00:00</td>\n",
       "      <td>-70 days +18:15:00</td>\n",
       "      <td>0</td>\n",
       "    </tr>\n",
       "    <tr>\n",
       "      <th>3</th>\n",
       "      <td>10021160000828</td>\n",
       "      <td>0</td>\n",
       "      <td>2017/4/11 06:00</td>\n",
       "      <td>2017-04-11 06:00:00</td>\n",
       "      <td>10021160000828</td>\n",
       "      <td>1</td>\n",
       "      <td>2017-05-01 17:00:00</td>\n",
       "      <td>20 days 11:00:00</td>\n",
       "      <td>0</td>\n",
       "    </tr>\n",
       "    <tr>\n",
       "      <th>4</th>\n",
       "      <td>10021160000828</td>\n",
       "      <td>1</td>\n",
       "      <td>2017/5/1 17:00</td>\n",
       "      <td>2017-05-01 17:00:00</td>\n",
       "      <td>10021160000828</td>\n",
       "      <td>0</td>\n",
       "      <td>2017-05-01 17:30:00</td>\n",
       "      <td>0 days 00:30:00</td>\n",
       "      <td>0 days 00:30:00</td>\n",
       "    </tr>\n",
       "  </tbody>\n",
       "</table>\n",
       "</div>"
      ],
      "text/plain": [
       "          meterNo  relayStatus_0c1o  relayUpdateTime new_relayUpdateTime  \\\n",
       "0  10014164400011                 0  2017/4/11 20:56 2017-04-11 20:56:00   \n",
       "1  10014164400011                 1  2017/6/19 11:32 2017-06-19 11:32:00   \n",
       "2  10014164400011                 0  2017/6/19 11:45 2017-06-19 11:45:00   \n",
       "3  10021160000828                 0  2017/4/11 06:00 2017-04-11 06:00:00   \n",
       "4  10021160000828                 1   2017/5/1 17:00 2017-05-01 17:00:00   \n",
       "\n",
       "      new_meterNo  new_0c1o next_relayUpdateTime          NoIf_time  \\\n",
       "0  10014164400011         1  2017-06-19 11:32:00   68 days 14:36:00   \n",
       "1  10014164400011         0  2017-06-19 11:45:00    0 days 00:13:00   \n",
       "2  10021160000828         0  2017-04-11 06:00:00 -70 days +18:15:00   \n",
       "3  10021160000828         1  2017-05-01 17:00:00   20 days 11:00:00   \n",
       "4  10021160000828         0  2017-05-01 17:30:00    0 days 00:30:00   \n",
       "\n",
       "           If_Time  \n",
       "0                0  \n",
       "1  0 days 00:13:00  \n",
       "2                0  \n",
       "3                0  \n",
       "4  0 days 00:30:00  "
      ]
     },
     "execution_count": 75,
     "metadata": {},
     "output_type": "execute_result"
    }
   ],
   "source": [
    "data_time_JiSuan.head(5)"
   ]
  },
  {
   "cell_type": "code",
   "execution_count": 76,
   "metadata": {},
   "outputs": [
    {
     "name": "stdout",
     "output_type": "stream",
     "text": [
      "<class 'pandas.core.frame.DataFrame'>\n",
      "RangeIndex: 24641 entries, 0 to 24640\n",
      "Data columns (total 9 columns):\n",
      " #   Column                Non-Null Count  Dtype          \n",
      "---  ------                --------------  -----          \n",
      " 0   meterNo               24641 non-null  int64          \n",
      " 1   relayStatus_0c1o      24641 non-null  int64          \n",
      " 2   relayUpdateTime       24641 non-null  object         \n",
      " 3   new_relayUpdateTime   24641 non-null  datetime64[ns] \n",
      " 4   new_meterNo           24641 non-null  int64          \n",
      " 5   new_0c1o              24641 non-null  int64          \n",
      " 6   next_relayUpdateTime  24641 non-null  datetime64[ns] \n",
      " 7   NoIf_time             24641 non-null  timedelta64[ns]\n",
      " 8   If_Time               24641 non-null  object         \n",
      "dtypes: datetime64[ns](2), int64(4), object(2), timedelta64[ns](1)\n",
      "memory usage: 1.7+ MB\n"
     ]
    }
   ],
   "source": [
    "data_time_JiSuan.info()"
   ]
  },
  {
   "cell_type": "code",
   "execution_count": 77,
   "metadata": {},
   "outputs": [],
   "source": [
    "from datetime import  datetime"
   ]
  },
  {
   "cell_type": "code",
   "execution_count": 78,
   "metadata": {},
   "outputs": [],
   "source": [
    "def shijianchuo(data):\n",
    "    new_0c1o=data['new_0c1o']\n",
    "    relayStatus_0c1o=data['relayStatus_0c1o']\n",
    "    new_meterNo=data['new_meterNo']\n",
    "    meterNo=data['meterNo']\n",
    "    next_relayUpdateTime=data['next_relayUpdateTime']\n",
    "    new_relayUpdateTime=data['new_relayUpdateTime']\n",
    "    new_relayUpdateTime = int(datetime.timestamp(new_relayUpdateTime))\n",
    "    next_relayUpdateTime = int(datetime.timestamp(next_relayUpdateTime))\n",
    "    if meterNo==new_meterNo and new_0c1o==0 and relayStatus_0c1o==1  :\n",
    "        if_time = next_relayUpdateTime-new_relayUpdateTime\n",
    "    else:\n",
    "        if_time = 0\n",
    "    return if_time"
   ]
  },
  {
   "cell_type": "code",
   "execution_count": 79,
   "metadata": {},
   "outputs": [],
   "source": [
    "data_time_JiSuan['If_Time_chuo']=data_time_JiSuan.apply(shijianchuo,axis=1)"
   ]
  },
  {
   "cell_type": "code",
   "execution_count": 80,
   "metadata": {},
   "outputs": [
    {
     "data": {
      "text/html": [
       "<div>\n",
       "<style scoped>\n",
       "    .dataframe tbody tr th:only-of-type {\n",
       "        vertical-align: middle;\n",
       "    }\n",
       "\n",
       "    .dataframe tbody tr th {\n",
       "        vertical-align: top;\n",
       "    }\n",
       "\n",
       "    .dataframe thead th {\n",
       "        text-align: right;\n",
       "    }\n",
       "</style>\n",
       "<table border=\"1\" class=\"dataframe\">\n",
       "  <thead>\n",
       "    <tr style=\"text-align: right;\">\n",
       "      <th></th>\n",
       "      <th>meterNo</th>\n",
       "      <th>relayStatus_0c1o</th>\n",
       "      <th>relayUpdateTime</th>\n",
       "      <th>new_relayUpdateTime</th>\n",
       "      <th>new_meterNo</th>\n",
       "      <th>new_0c1o</th>\n",
       "      <th>next_relayUpdateTime</th>\n",
       "      <th>NoIf_time</th>\n",
       "      <th>If_Time</th>\n",
       "      <th>If_Time_chuo</th>\n",
       "    </tr>\n",
       "  </thead>\n",
       "  <tbody>\n",
       "    <tr>\n",
       "      <th>0</th>\n",
       "      <td>10014164400011</td>\n",
       "      <td>0</td>\n",
       "      <td>2017/4/11 20:56</td>\n",
       "      <td>2017-04-11 20:56:00</td>\n",
       "      <td>10014164400011</td>\n",
       "      <td>1</td>\n",
       "      <td>2017-06-19 11:32:00</td>\n",
       "      <td>68 days 14:36:00</td>\n",
       "      <td>0</td>\n",
       "      <td>0</td>\n",
       "    </tr>\n",
       "    <tr>\n",
       "      <th>1</th>\n",
       "      <td>10014164400011</td>\n",
       "      <td>1</td>\n",
       "      <td>2017/6/19 11:32</td>\n",
       "      <td>2017-06-19 11:32:00</td>\n",
       "      <td>10014164400011</td>\n",
       "      <td>0</td>\n",
       "      <td>2017-06-19 11:45:00</td>\n",
       "      <td>0 days 00:13:00</td>\n",
       "      <td>0 days 00:13:00</td>\n",
       "      <td>780</td>\n",
       "    </tr>\n",
       "    <tr>\n",
       "      <th>2</th>\n",
       "      <td>10014164400011</td>\n",
       "      <td>0</td>\n",
       "      <td>2017/6/19 11:45</td>\n",
       "      <td>2017-06-19 11:45:00</td>\n",
       "      <td>10021160000828</td>\n",
       "      <td>0</td>\n",
       "      <td>2017-04-11 06:00:00</td>\n",
       "      <td>-70 days +18:15:00</td>\n",
       "      <td>0</td>\n",
       "      <td>0</td>\n",
       "    </tr>\n",
       "    <tr>\n",
       "      <th>3</th>\n",
       "      <td>10021160000828</td>\n",
       "      <td>0</td>\n",
       "      <td>2017/4/11 06:00</td>\n",
       "      <td>2017-04-11 06:00:00</td>\n",
       "      <td>10021160000828</td>\n",
       "      <td>1</td>\n",
       "      <td>2017-05-01 17:00:00</td>\n",
       "      <td>20 days 11:00:00</td>\n",
       "      <td>0</td>\n",
       "      <td>0</td>\n",
       "    </tr>\n",
       "    <tr>\n",
       "      <th>4</th>\n",
       "      <td>10021160000828</td>\n",
       "      <td>1</td>\n",
       "      <td>2017/5/1 17:00</td>\n",
       "      <td>2017-05-01 17:00:00</td>\n",
       "      <td>10021160000828</td>\n",
       "      <td>0</td>\n",
       "      <td>2017-05-01 17:30:00</td>\n",
       "      <td>0 days 00:30:00</td>\n",
       "      <td>0 days 00:30:00</td>\n",
       "      <td>1800</td>\n",
       "    </tr>\n",
       "  </tbody>\n",
       "</table>\n",
       "</div>"
      ],
      "text/plain": [
       "          meterNo  relayStatus_0c1o  relayUpdateTime new_relayUpdateTime  \\\n",
       "0  10014164400011                 0  2017/4/11 20:56 2017-04-11 20:56:00   \n",
       "1  10014164400011                 1  2017/6/19 11:32 2017-06-19 11:32:00   \n",
       "2  10014164400011                 0  2017/6/19 11:45 2017-06-19 11:45:00   \n",
       "3  10021160000828                 0  2017/4/11 06:00 2017-04-11 06:00:00   \n",
       "4  10021160000828                 1   2017/5/1 17:00 2017-05-01 17:00:00   \n",
       "\n",
       "      new_meterNo  new_0c1o next_relayUpdateTime          NoIf_time  \\\n",
       "0  10014164400011         1  2017-06-19 11:32:00   68 days 14:36:00   \n",
       "1  10014164400011         0  2017-06-19 11:45:00    0 days 00:13:00   \n",
       "2  10021160000828         0  2017-04-11 06:00:00 -70 days +18:15:00   \n",
       "3  10021160000828         1  2017-05-01 17:00:00   20 days 11:00:00   \n",
       "4  10021160000828         0  2017-05-01 17:30:00    0 days 00:30:00   \n",
       "\n",
       "           If_Time  If_Time_chuo  \n",
       "0                0             0  \n",
       "1  0 days 00:13:00           780  \n",
       "2                0             0  \n",
       "3                0             0  \n",
       "4  0 days 00:30:00          1800  "
      ]
     },
     "execution_count": 80,
     "metadata": {},
     "output_type": "execute_result"
    }
   ],
   "source": [
    "data_time_JiSuan.head(5)"
   ]
  },
  {
   "cell_type": "code",
   "execution_count": 81,
   "metadata": {},
   "outputs": [
    {
     "data": {
      "text/plain": [
       "780"
      ]
     },
     "execution_count": 81,
     "metadata": {},
     "output_type": "execute_result"
    }
   ],
   "source": [
    "13*60"
   ]
  },
  {
   "cell_type": "markdown",
   "metadata": {},
   "source": [
    "第四步：开始聚合"
   ]
  },
  {
   "cell_type": "code",
   "execution_count": 82,
   "metadata": {},
   "outputs": [],
   "source": [
    "data_group=data_time_JiSuan.copy(deep=1)"
   ]
  },
  {
   "cell_type": "code",
   "execution_count": 83,
   "metadata": {},
   "outputs": [],
   "source": [
    "datagroup_shijianchuo=data_group.groupby('new_meterNo',as_index=0).agg({'If_Time_chuo':'sum'})"
   ]
  },
  {
   "cell_type": "code",
   "execution_count": 84,
   "metadata": {},
   "outputs": [
    {
     "data": {
      "text/html": [
       "<div>\n",
       "<style scoped>\n",
       "    .dataframe tbody tr th:only-of-type {\n",
       "        vertical-align: middle;\n",
       "    }\n",
       "\n",
       "    .dataframe tbody tr th {\n",
       "        vertical-align: top;\n",
       "    }\n",
       "\n",
       "    .dataframe thead th {\n",
       "        text-align: right;\n",
       "    }\n",
       "</style>\n",
       "<table border=\"1\" class=\"dataframe\">\n",
       "  <thead>\n",
       "    <tr style=\"text-align: right;\">\n",
       "      <th></th>\n",
       "      <th>new_meterNo</th>\n",
       "      <th>If_Time_chuo</th>\n",
       "    </tr>\n",
       "  </thead>\n",
       "  <tbody>\n",
       "    <tr>\n",
       "      <th>0</th>\n",
       "      <td>10014164400011</td>\n",
       "      <td>780</td>\n",
       "    </tr>\n",
       "    <tr>\n",
       "      <th>1</th>\n",
       "      <td>10021160000828</td>\n",
       "      <td>672000</td>\n",
       "    </tr>\n",
       "    <tr>\n",
       "      <th>2</th>\n",
       "      <td>10021160000829</td>\n",
       "      <td>3324720</td>\n",
       "    </tr>\n",
       "    <tr>\n",
       "      <th>3</th>\n",
       "      <td>10021160000831</td>\n",
       "      <td>4373220</td>\n",
       "    </tr>\n",
       "    <tr>\n",
       "      <th>4</th>\n",
       "      <td>10021160000832</td>\n",
       "      <td>3217260</td>\n",
       "    </tr>\n",
       "  </tbody>\n",
       "</table>\n",
       "</div>"
      ],
      "text/plain": [
       "      new_meterNo  If_Time_chuo\n",
       "0  10014164400011           780\n",
       "1  10021160000828        672000\n",
       "2  10021160000829       3324720\n",
       "3  10021160000831       4373220\n",
       "4  10021160000832       3217260"
      ]
     },
     "execution_count": 84,
     "metadata": {},
     "output_type": "execute_result"
    }
   ],
   "source": [
    "datagroup_shijianchuo.head(5)"
   ]
  },
  {
   "cell_type": "markdown",
   "metadata": {},
   "source": [
    "第五步：计算次数"
   ]
  },
  {
   "cell_type": "code",
   "execution_count": 85,
   "metadata": {},
   "outputs": [],
   "source": [
    "data_cishu=data_time_JiSuan.copy(deep=1)"
   ]
  },
  {
   "cell_type": "code",
   "execution_count": 86,
   "metadata": {},
   "outputs": [],
   "source": [
    "data_cishu=data_cishu[(data_cishu['relayStatus_0c1o']==1)].groupby(['meterNo'])['relayStatus_0c1o'].sum()"
   ]
  },
  {
   "cell_type": "code",
   "execution_count": 87,
   "metadata": {},
   "outputs": [
    {
     "data": {
      "text/plain": [
       "meterNo\n",
       "10014164400011     1\n",
       "10021160000828     6\n",
       "10021160000829    16\n",
       "10021160000831    19\n",
       "10021160000832    14\n",
       "Name: relayStatus_0c1o, dtype: int64"
      ]
     },
     "execution_count": 87,
     "metadata": {},
     "output_type": "execute_result"
    }
   ],
   "source": [
    "data_cishu.head(5)"
   ]
  },
  {
   "cell_type": "code",
   "execution_count": 88,
   "metadata": {},
   "outputs": [
    {
     "data": {
      "text/plain": [
       "pandas.core.series.Series"
      ]
     },
     "execution_count": 88,
     "metadata": {},
     "output_type": "execute_result"
    }
   ],
   "source": [
    "type(data_cishu)"
   ]
  },
  {
   "cell_type": "markdown",
   "metadata": {},
   "source": [
    "第五步：2、把序列变成dataframe"
   ]
  },
  {
   "cell_type": "code",
   "execution_count": 89,
   "metadata": {},
   "outputs": [],
   "source": [
    "data_lhz_cishu={'new_meterNo':data_cishu.index,'lhz_cishu':data_cishu.values}"
   ]
  },
  {
   "cell_type": "code",
   "execution_count": 90,
   "metadata": {},
   "outputs": [],
   "source": [
    "data_lhz_cishu=pd.DataFrame(data_lhz_cishu)"
   ]
  },
  {
   "cell_type": "markdown",
   "metadata": {},
   "source": [
    "第六步：把两个dataframe组合"
   ]
  },
  {
   "cell_type": "code",
   "execution_count": 91,
   "metadata": {},
   "outputs": [
    {
     "data": {
      "text/html": [
       "<div>\n",
       "<style scoped>\n",
       "    .dataframe tbody tr th:only-of-type {\n",
       "        vertical-align: middle;\n",
       "    }\n",
       "\n",
       "    .dataframe tbody tr th {\n",
       "        vertical-align: top;\n",
       "    }\n",
       "\n",
       "    .dataframe thead th {\n",
       "        text-align: right;\n",
       "    }\n",
       "</style>\n",
       "<table border=\"1\" class=\"dataframe\">\n",
       "  <thead>\n",
       "    <tr style=\"text-align: right;\">\n",
       "      <th></th>\n",
       "      <th>new_meterNo</th>\n",
       "      <th>lhz_cishu</th>\n",
       "    </tr>\n",
       "  </thead>\n",
       "  <tbody>\n",
       "    <tr>\n",
       "      <th>0</th>\n",
       "      <td>10014164400011</td>\n",
       "      <td>1</td>\n",
       "    </tr>\n",
       "    <tr>\n",
       "      <th>1</th>\n",
       "      <td>10021160000828</td>\n",
       "      <td>6</td>\n",
       "    </tr>\n",
       "    <tr>\n",
       "      <th>2</th>\n",
       "      <td>10021160000829</td>\n",
       "      <td>16</td>\n",
       "    </tr>\n",
       "    <tr>\n",
       "      <th>3</th>\n",
       "      <td>10021160000831</td>\n",
       "      <td>19</td>\n",
       "    </tr>\n",
       "    <tr>\n",
       "      <th>4</th>\n",
       "      <td>10021160000832</td>\n",
       "      <td>14</td>\n",
       "    </tr>\n",
       "  </tbody>\n",
       "</table>\n",
       "</div>"
      ],
      "text/plain": [
       "      new_meterNo  lhz_cishu\n",
       "0  10014164400011          1\n",
       "1  10021160000828          6\n",
       "2  10021160000829         16\n",
       "3  10021160000831         19\n",
       "4  10021160000832         14"
      ]
     },
     "execution_count": 91,
     "metadata": {},
     "output_type": "execute_result"
    }
   ],
   "source": [
    "data_lhz_cishu.head(5)"
   ]
  },
  {
   "cell_type": "code",
   "execution_count": 92,
   "metadata": {},
   "outputs": [
    {
     "data": {
      "text/html": [
       "<div>\n",
       "<style scoped>\n",
       "    .dataframe tbody tr th:only-of-type {\n",
       "        vertical-align: middle;\n",
       "    }\n",
       "\n",
       "    .dataframe tbody tr th {\n",
       "        vertical-align: top;\n",
       "    }\n",
       "\n",
       "    .dataframe thead th {\n",
       "        text-align: right;\n",
       "    }\n",
       "</style>\n",
       "<table border=\"1\" class=\"dataframe\">\n",
       "  <thead>\n",
       "    <tr style=\"text-align: right;\">\n",
       "      <th></th>\n",
       "      <th>new_meterNo</th>\n",
       "      <th>If_Time_chuo</th>\n",
       "    </tr>\n",
       "  </thead>\n",
       "  <tbody>\n",
       "    <tr>\n",
       "      <th>0</th>\n",
       "      <td>10014164400011</td>\n",
       "      <td>780</td>\n",
       "    </tr>\n",
       "    <tr>\n",
       "      <th>1</th>\n",
       "      <td>10021160000828</td>\n",
       "      <td>672000</td>\n",
       "    </tr>\n",
       "    <tr>\n",
       "      <th>2</th>\n",
       "      <td>10021160000829</td>\n",
       "      <td>3324720</td>\n",
       "    </tr>\n",
       "    <tr>\n",
       "      <th>3</th>\n",
       "      <td>10021160000831</td>\n",
       "      <td>4373220</td>\n",
       "    </tr>\n",
       "    <tr>\n",
       "      <th>4</th>\n",
       "      <td>10021160000832</td>\n",
       "      <td>3217260</td>\n",
       "    </tr>\n",
       "  </tbody>\n",
       "</table>\n",
       "</div>"
      ],
      "text/plain": [
       "      new_meterNo  If_Time_chuo\n",
       "0  10014164400011           780\n",
       "1  10021160000828        672000\n",
       "2  10021160000829       3324720\n",
       "3  10021160000831       4373220\n",
       "4  10021160000832       3217260"
      ]
     },
     "execution_count": 92,
     "metadata": {},
     "output_type": "execute_result"
    }
   ],
   "source": [
    "datagroup_shijianchuo.head(5)"
   ]
  },
  {
   "cell_type": "code",
   "execution_count": 93,
   "metadata": {},
   "outputs": [],
   "source": [
    "data_fina=data_lhz_cishu.merge(datagroup_shijianchuo,how='inner',on='new_meterNo')"
   ]
  },
  {
   "cell_type": "code",
   "execution_count": 94,
   "metadata": {},
   "outputs": [
    {
     "data": {
      "text/html": [
       "<div>\n",
       "<style scoped>\n",
       "    .dataframe tbody tr th:only-of-type {\n",
       "        vertical-align: middle;\n",
       "    }\n",
       "\n",
       "    .dataframe tbody tr th {\n",
       "        vertical-align: top;\n",
       "    }\n",
       "\n",
       "    .dataframe thead th {\n",
       "        text-align: right;\n",
       "    }\n",
       "</style>\n",
       "<table border=\"1\" class=\"dataframe\">\n",
       "  <thead>\n",
       "    <tr style=\"text-align: right;\">\n",
       "      <th></th>\n",
       "      <th>new_meterNo</th>\n",
       "      <th>lhz_cishu</th>\n",
       "      <th>If_Time_chuo</th>\n",
       "    </tr>\n",
       "  </thead>\n",
       "  <tbody>\n",
       "    <tr>\n",
       "      <th>0</th>\n",
       "      <td>10014164400011</td>\n",
       "      <td>1</td>\n",
       "      <td>780</td>\n",
       "    </tr>\n",
       "    <tr>\n",
       "      <th>1</th>\n",
       "      <td>10021160000828</td>\n",
       "      <td>6</td>\n",
       "      <td>672000</td>\n",
       "    </tr>\n",
       "    <tr>\n",
       "      <th>2</th>\n",
       "      <td>10021160000829</td>\n",
       "      <td>16</td>\n",
       "      <td>3324720</td>\n",
       "    </tr>\n",
       "    <tr>\n",
       "      <th>3</th>\n",
       "      <td>10021160000831</td>\n",
       "      <td>19</td>\n",
       "      <td>4373220</td>\n",
       "    </tr>\n",
       "    <tr>\n",
       "      <th>4</th>\n",
       "      <td>10021160000832</td>\n",
       "      <td>14</td>\n",
       "      <td>3217260</td>\n",
       "    </tr>\n",
       "  </tbody>\n",
       "</table>\n",
       "</div>"
      ],
      "text/plain": [
       "      new_meterNo  lhz_cishu  If_Time_chuo\n",
       "0  10014164400011          1           780\n",
       "1  10021160000828          6        672000\n",
       "2  10021160000829         16       3324720\n",
       "3  10021160000831         19       4373220\n",
       "4  10021160000832         14       3217260"
      ]
     },
     "execution_count": 94,
     "metadata": {},
     "output_type": "execute_result"
    }
   ],
   "source": [
    "data_fina.head(5)"
   ]
  },
  {
   "cell_type": "markdown",
   "metadata": {},
   "source": [
    "第七步：画图"
   ]
  },
  {
   "cell_type": "code",
   "execution_count": 95,
   "metadata": {},
   "outputs": [],
   "source": [
    "import matplotlib.pyplot as plt"
   ]
  },
  {
   "cell_type": "code",
   "execution_count": 97,
   "metadata": {},
   "outputs": [],
   "source": [
    "data_fina['mean_min']=(data_fina['If_Time_chuo']/data_fina['lhz_cishu'])/60"
   ]
  },
  {
   "cell_type": "code",
   "execution_count": 98,
   "metadata": {},
   "outputs": [
    {
     "data": {
      "text/plain": [
       "<matplotlib.collections.PathCollection at 0x26b09383dc0>"
      ]
     },
     "execution_count": 98,
     "metadata": {},
     "output_type": "execute_result"
    },
    {
     "data": {
      "image/png": "[encoded data removed]",
      "text/plain": [
       "<Figure size 432x288 with 1 Axes>"
      ]
     },
     "metadata": {
      "needs_background": "light"
     },
     "output_type": "display_data"
    }
   ],
   "source": [
    "plt.title(\"次数和平均值\")\n",
    "plt.scatter(data_fina['lhz_cishu'], data_fina['mean_min'],color='k',s=3,label='Data points')\n"
   ]
  },
  {
   "cell_type": "markdown",
   "metadata": {},
   "source": [
    "第八步：lof算法引进"
   ]
  },
  {
   "cell_type": "code",
   "execution_count": 101,
   "metadata": {},
   "outputs": [],
   "source": [
    "lof_data=data_fina.copy(deep=1)"
   ]
  },
  {
   "cell_type": "code",
   "execution_count": 99,
   "metadata": {},
   "outputs": [],
   "source": [
    "from sklearn.neighbors import LocalOutlierFactor"
   ]
  },
  {
   "cell_type": "markdown",
   "metadata": {},
   "source": [
    "转换成为数组"
   ]
  },
  {
   "cell_type": "code",
   "execution_count": 103,
   "metadata": {},
   "outputs": [],
   "source": [
    "X=np.array(lof_data)"
   ]
  },
  {
   "cell_type": "code",
   "execution_count": 104,
   "metadata": {},
   "outputs": [
    {
     "data": {
      "text/plain": [
       "numpy.ndarray"
      ]
     },
     "execution_count": 104,
     "metadata": {},
     "output_type": "execute_result"
    }
   ],
   "source": [
    "type(X)"
   ]
  },
  {
   "cell_type": "code",
   "execution_count": 109,
   "metadata": {},
   "outputs": [],
   "source": [
    "Y=lof_data.values"
   ]
  },
  {
   "cell_type": "code",
   "execution_count": 110,
   "metadata": {},
   "outputs": [
    {
     "data": {
      "text/plain": [
       "array([[1.00141644e+13, 1.00000000e+00, 7.80000000e+02, 1.30000000e+01],\n",
       "       [1.00211600e+13, 6.00000000e+00, 6.72000000e+05, 1.86666667e+03],\n",
       "       [1.00211600e+13, 1.60000000e+01, 3.32472000e+06, 3.46325000e+03],\n",
       "       ...,\n",
       "       [1.00231600e+13, 8.30000000e+01, 1.16475000e+07, 2.33885542e+03],\n",
       "       [1.00231600e+13, 6.80000000e+01, 8.10294000e+06, 1.98601471e+03],\n",
       "       [1.00231600e+13, 2.80000000e+01, 2.35858200e+07, 1.40391786e+04]])"
      ]
     },
     "execution_count": 110,
     "metadata": {},
     "output_type": "execute_result"
    }
   ],
   "source": [
    "Y"
   ]
  },
  {
   "cell_type": "code",
   "execution_count": 111,
   "metadata": {},
   "outputs": [
    {
     "data": {
      "text/plain": [
       "(400, 4)"
      ]
     },
     "execution_count": 111,
     "metadata": {},
     "output_type": "execute_result"
    }
   ],
   "source": [
    "Y.shape"
   ]
  },
  {
   "cell_type": "code",
   "execution_count": 113,
   "metadata": {},
   "outputs": [],
   "source": [
    "Y1=Y[:,1]"
   ]
  },
  {
   "cell_type": "code",
   "execution_count": 116,
   "metadata": {},
   "outputs": [],
   "source": [
    "Y2=Y[:,3]"
   ]
  },
  {
   "cell_type": "code",
   "execution_count": 117,
   "metadata": {},
   "outputs": [],
   "source": [
    "Y_pic=np.c_[Y1,Y2]"
   ]
  },
  {
   "cell_type": "code",
   "execution_count": 118,
   "metadata": {},
   "outputs": [
    {
     "data": {
      "text/plain": [
       "(400, 2)"
      ]
     },
     "execution_count": 118,
     "metadata": {},
     "output_type": "execute_result"
    }
   ],
   "source": [
    "Y_pic.shape"
   ]
  },
  {
   "cell_type": "code",
   "execution_count": 196,
   "metadata": {},
   "outputs": [],
   "source": [
    "clf = LocalOutlierFactor(n_neighbors=20, contamination=0.01)"
   ]
  },
  {
   "cell_type": "code",
   "execution_count": 197,
   "metadata": {},
   "outputs": [],
   "source": [
    "y_pred = clf.fit_predict(Y_pic)"
   ]
  },
  {
   "cell_type": "code",
   "execution_count": 198,
   "metadata": {},
   "outputs": [],
   "source": [
    "X_scores = clf.negative_outlier_factor_"
   ]
  },
  {
   "cell_type": "code",
   "execution_count": 199,
   "metadata": {},
   "outputs": [
    {
     "data": {
      "text/plain": [
       "array([-1.58017854, -1.08293793, -1.02059365, -1.07997715, -1.07759131,\n",
       "       -1.0182373 , -1.06252158, -1.08992573, -1.2023487 , -0.99332442,\n",
       "       -1.04994039, -1.05722142, -0.99044421, -1.04309134, -0.9757186 ,\n",
       "       -1.43143216, -1.14812715, -1.00024445, -0.99989778, -1.03675638,\n",
       "       -1.28715093, -1.06324661, -1.05384082, -1.0114045 , -0.9737631 ,\n",
       "       -1.04042827, -0.98220706, -0.97453257, -1.04780256, -0.99053642,\n",
       "       -0.98165291, -1.03598905, -0.99309537, -0.97269947, -0.99259804,\n",
       "       -1.06883659, -1.08471696, -1.06903688, -1.46011684, -1.03735579,\n",
       "       -0.97490947, -0.97450075, -0.98818133, -0.999898  , -0.9944814 ,\n",
       "       -1.02293908, -1.00036006, -1.41694784, -1.02059365, -0.99821086,\n",
       "       -0.98320552, -0.98397697, -0.99198478, -0.98930853, -0.99965373,\n",
       "       -1.08649575, -1.07532978, -0.97323726, -1.04426311, -0.96700552,\n",
       "       -1.05026945, -0.99761016, -0.9899436 , -0.97943825, -1.01617447,\n",
       "       -1.00220313, -0.97425619, -1.01067685, -1.05120068, -1.06416246,\n",
       "       -1.03596019, -1.01958455, -1.13938094, -1.12585359, -1.6402664 ,\n",
       "       -1.08578086, -1.03343633, -1.03789604, -0.99456565, -0.97270724,\n",
       "       -1.01370577, -1.02444179, -1.02001253, -1.05121025, -1.19469952,\n",
       "       -1.00990001, -0.98981818, -1.06326643, -0.97292789, -0.97596831,\n",
       "       -0.99751555, -1.02474321, -0.99563021, -1.00027035, -0.99611865,\n",
       "       -0.98067677, -1.01033574, -0.99611996, -1.03164539, -1.09872526,\n",
       "       -0.99291389, -1.01067685, -0.99560451, -1.0174668 , -1.04167699,\n",
       "       -0.97281719, -1.68903019, -1.07534142, -0.9742546 , -0.98181941,\n",
       "       -0.99077928, -0.99283127, -0.9578121 , -1.06265869, -1.56314615,\n",
       "       -1.11058992, -0.96002002, -1.04265012, -1.02699873, -1.05666375,\n",
       "       -1.04403509, -1.03811212, -0.99864725, -0.99524806, -1.01574356,\n",
       "       -1.19469952, -0.97514908, -1.01183751, -1.00089941, -0.96927475,\n",
       "       -1.02789409, -1.14115642, -1.00655062, -1.01647756, -1.31197062,\n",
       "       -0.98630018, -1.03368129, -0.97427505, -1.14536377, -0.99137017,\n",
       "       -1.05604105, -1.06117417, -1.00645462, -0.96434484, -1.02582447,\n",
       "       -1.00041145, -1.34528558, -1.02927523, -1.48005093, -1.01243993,\n",
       "       -0.97451073, -1.04640758, -1.02929218, -0.99897961, -0.97965422,\n",
       "       -1.00815258, -1.41849728, -1.07583828, -1.00049734, -1.06937485,\n",
       "       -1.02111516, -0.98660604, -0.966496  , -1.05861325, -1.12435295,\n",
       "       -1.0927865 , -0.97274714, -1.07799509, -1.11814943, -1.05804351,\n",
       "       -0.97444057, -0.98479785, -0.97664957, -1.0027641 , -1.48081054,\n",
       "       -1.12729379, -0.98728998, -1.03710892, -1.04193553, -2.81922809,\n",
       "       -1.14744787, -1.31374149, -0.97106955, -0.9930193 , -1.01375168,\n",
       "       -0.97226508, -0.97271581, -1.04211768, -1.06691631, -1.04347132,\n",
       "       -1.04100216, -0.99491439, -1.00073369, -1.01747133, -0.97103556,\n",
       "       -1.59402776, -1.03067865, -1.02191967, -0.99937617, -0.99401235,\n",
       "       -1.06240463, -1.00334654, -0.9930193 , -1.22729735, -1.04805807,\n",
       "       -1.07554231, -0.99512057, -1.32158743, -0.97088291, -0.98153569,\n",
       "       -1.08581024, -1.02812334, -3.79016752, -1.17410241, -0.99683497,\n",
       "       -1.04661316, -1.10463155, -1.1282822 , -1.18490263, -1.07579286,\n",
       "       -0.99881622, -1.68542961, -1.02775361, -1.51833391, -1.00546472,\n",
       "       -1.05245939, -0.97384684, -1.2168939 , -1.02455659, -1.00028685,\n",
       "       -1.23629276, -0.99247699, -5.95299806, -1.01504747, -1.03974568,\n",
       "       -1.00324519, -1.0128397 , -1.68389361, -1.02182236, -1.46792218,\n",
       "       -1.34041897, -1.02079084, -0.97099094, -0.99462507, -1.45410779,\n",
       "       -1.06194995, -3.21560939, -1.00251197, -1.43092341, -0.99437378,\n",
       "       -1.0249606 , -0.97541632, -1.0003561 , -0.97665297, -1.45483976,\n",
       "       -1.08602718, -0.99088301, -1.03679602, -1.03091914, -0.96235204,\n",
       "       -0.9738778 , -0.96924191, -1.07431724, -1.52763285, -1.07355148,\n",
       "       -1.09205714, -0.98708572, -1.18075308, -1.00742772, -1.06652512,\n",
       "       -0.98056226, -1.03335902, -2.5050537 , -1.0630161 , -1.47559807,\n",
       "       -0.99438567, -0.99111116, -1.01819025, -1.21171332, -1.17458406,\n",
       "       -1.05399843, -1.49867099, -0.97384684, -0.98668366, -1.02068337,\n",
       "       -0.98107756, -1.59056661, -0.96445767, -3.16490391, -1.03697004,\n",
       "       -3.93086132, -0.96173262, -0.98783018, -1.07647644, -1.07708965,\n",
       "       -0.98635857, -1.00423488, -1.10434497, -1.02802208, -1.04940268,\n",
       "       -1.06054682, -1.09708743, -1.00495931, -1.06348342, -1.02902174,\n",
       "       -0.98581948, -1.22780088, -4.14321087, -1.61540247, -1.04693595,\n",
       "       -1.01229478, -1.04941401, -2.86494035, -0.96660527, -1.08548589,\n",
       "       -1.05237295, -1.78433698, -1.05524257, -1.14673686, -1.01570221,\n",
       "       -1.01960092, -1.46739738, -1.05458722, -1.03840031, -1.05027726,\n",
       "       -1.01793855, -1.02429703, -1.0266343 , -0.98137239, -1.31833456,\n",
       "       -1.02590715, -2.69597109, -0.98212069, -1.00558733, -0.99782313,\n",
       "       -1.06414994, -0.98767266, -1.06800482, -1.07028399, -1.23092239,\n",
       "       -1.00615939, -1.01890093, -1.0226428 , -1.17226602, -1.26900025,\n",
       "       -1.06120081, -0.98067677, -1.08510591, -1.04716525, -0.97620967,\n",
       "       -2.82066052, -0.99976439, -1.00335215, -1.08622032, -1.0503439 ,\n",
       "       -1.04111129, -1.03683851, -1.08476194, -0.99862426, -3.82174549,\n",
       "       -0.97971911, -1.02551153, -3.68019235, -3.98460007, -1.31500097,\n",
       "       -0.99516997, -1.00092535, -1.13948372, -1.0782339 , -1.07298003,\n",
       "       -0.96126611, -1.06830992, -1.09196748, -1.07591176, -0.96685928,\n",
       "       -1.11631747, -1.00537657, -1.01005833, -1.05765707, -1.07580579,\n",
       "       -1.36041626, -1.06092554, -1.52172855, -1.10381803, -2.42058454,\n",
       "       -2.87110155, -1.01530721, -1.03725137, -1.08639513, -1.15218059,\n",
       "       -1.03672406, -7.59063144, -1.77679466, -1.01012443, -0.98539607,\n",
       "       -1.04436491, -1.01266353, -1.05259473, -1.10604242, -0.98930923])"
      ]
     },
     "execution_count": 199,
     "metadata": {},
     "output_type": "execute_result"
    }
   ],
   "source": [
    "X_scores"
   ]
  },
  {
   "cell_type": "code",
   "execution_count": 177,
   "metadata": {},
   "outputs": [],
   "source": [
    "Y_fina = np.c_[Y_pic,X_scores]"
   ]
  },
  {
   "cell_type": "code",
   "execution_count": 200,
   "metadata": {},
   "outputs": [],
   "source": [
    "Y_all = np.c_[Y,X_scores]"
   ]
  },
  {
   "cell_type": "code",
   "execution_count": 127,
   "metadata": {},
   "outputs": [
    {
     "data": {
      "text/plain": [
       "(400, 5)"
      ]
     },
     "execution_count": 127,
     "metadata": {},
     "output_type": "execute_result"
    }
   ],
   "source": [
    "Y_all.shape"
   ]
  },
  {
   "cell_type": "code",
   "execution_count": 125,
   "metadata": {},
   "outputs": [
    {
     "data": {
      "text/plain": [
       "(400, 3)"
      ]
     },
     "execution_count": 125,
     "metadata": {},
     "output_type": "execute_result"
    }
   ],
   "source": [
    "Y_fina.shape"
   ]
  },
  {
   "cell_type": "code",
   "execution_count": 201,
   "metadata": {},
   "outputs": [],
   "source": [
    "last_data=pd.DataFrame(Y_all)"
   ]
  },
  {
   "cell_type": "code",
   "execution_count": 202,
   "metadata": {},
   "outputs": [
    {
     "data": {
      "text/html": [
       "<div>\n",
       "<style scoped>\n",
       "    .dataframe tbody tr th:only-of-type {\n",
       "        vertical-align: middle;\n",
       "    }\n",
       "\n",
       "    .dataframe tbody tr th {\n",
       "        vertical-align: top;\n",
       "    }\n",
       "\n",
       "    .dataframe thead th {\n",
       "        text-align: right;\n",
       "    }\n",
       "</style>\n",
       "<table border=\"1\" class=\"dataframe\">\n",
       "  <thead>\n",
       "    <tr style=\"text-align: right;\">\n",
       "      <th></th>\n",
       "      <th>0</th>\n",
       "      <th>1</th>\n",
       "      <th>2</th>\n",
       "      <th>3</th>\n",
       "      <th>4</th>\n",
       "    </tr>\n",
       "  </thead>\n",
       "  <tbody>\n",
       "    <tr>\n",
       "      <th>0</th>\n",
       "      <td>1.001416e+13</td>\n",
       "      <td>1.0</td>\n",
       "      <td>780.0</td>\n",
       "      <td>13.000000</td>\n",
       "      <td>-1.580179</td>\n",
       "    </tr>\n",
       "    <tr>\n",
       "      <th>1</th>\n",
       "      <td>1.002116e+13</td>\n",
       "      <td>6.0</td>\n",
       "      <td>672000.0</td>\n",
       "      <td>1866.666667</td>\n",
       "      <td>-1.082938</td>\n",
       "    </tr>\n",
       "    <tr>\n",
       "      <th>2</th>\n",
       "      <td>1.002116e+13</td>\n",
       "      <td>16.0</td>\n",
       "      <td>3324720.0</td>\n",
       "      <td>3463.250000</td>\n",
       "      <td>-1.020594</td>\n",
       "    </tr>\n",
       "    <tr>\n",
       "      <th>3</th>\n",
       "      <td>1.002116e+13</td>\n",
       "      <td>19.0</td>\n",
       "      <td>4373220.0</td>\n",
       "      <td>3836.157895</td>\n",
       "      <td>-1.079977</td>\n",
       "    </tr>\n",
       "    <tr>\n",
       "      <th>4</th>\n",
       "      <td>1.002116e+13</td>\n",
       "      <td>14.0</td>\n",
       "      <td>3217260.0</td>\n",
       "      <td>3830.071429</td>\n",
       "      <td>-1.077591</td>\n",
       "    </tr>\n",
       "  </tbody>\n",
       "</table>\n",
       "</div>"
      ],
      "text/plain": [
       "              0     1          2            3         4\n",
       "0  1.001416e+13   1.0      780.0    13.000000 -1.580179\n",
       "1  1.002116e+13   6.0   672000.0  1866.666667 -1.082938\n",
       "2  1.002116e+13  16.0  3324720.0  3463.250000 -1.020594\n",
       "3  1.002116e+13  19.0  4373220.0  3836.157895 -1.079977\n",
       "4  1.002116e+13  14.0  3217260.0  3830.071429 -1.077591"
      ]
     },
     "execution_count": 202,
     "metadata": {},
     "output_type": "execute_result"
    }
   ],
   "source": [
    "last_data.head(5)"
   ]
  },
  {
   "cell_type": "code",
   "execution_count": null,
   "metadata": {},
   "outputs": [],
   "source": [
    "last_data.info()"
   ]
  },
  {
   "cell_type": "markdown",
   "metadata": {},
   "source": [
    "第九步，处理最后数据"
   ]
  },
  {
   "cell_type": "code",
   "execution_count": 203,
   "metadata": {},
   "outputs": [],
   "source": [
    "after_lof_data=last_data.copy(deep=1)"
   ]
  },
  {
   "cell_type": "code",
   "execution_count": 204,
   "metadata": {},
   "outputs": [],
   "source": [
    "after_lof_data.columns=['meterNo','times','all_s','aver','score']"
   ]
  },
  {
   "cell_type": "code",
   "execution_count": 209,
   "metadata": {},
   "outputs": [
    {
     "data": {
      "text/html": [
       "<div>\n",
       "<style scoped>\n",
       "    .dataframe tbody tr th:only-of-type {\n",
       "        vertical-align: middle;\n",
       "    }\n",
       "\n",
       "    .dataframe tbody tr th {\n",
       "        vertical-align: top;\n",
       "    }\n",
       "\n",
       "    .dataframe thead th {\n",
       "        text-align: right;\n",
       "    }\n",
       "</style>\n",
       "<table border=\"1\" class=\"dataframe\">\n",
       "  <thead>\n",
       "    <tr style=\"text-align: right;\">\n",
       "      <th></th>\n",
       "      <th>meterNo</th>\n",
       "      <th>times</th>\n",
       "      <th>all_s</th>\n",
       "      <th>aver</th>\n",
       "      <th>score</th>\n",
       "      <th>z_score</th>\n",
       "    </tr>\n",
       "  </thead>\n",
       "  <tbody>\n",
       "    <tr>\n",
       "      <th>0</th>\n",
       "      <td>10014164400011</td>\n",
       "      <td>1</td>\n",
       "      <td>780.0</td>\n",
       "      <td>13.000000</td>\n",
       "      <td>-1.580179</td>\n",
       "      <td>1.580179</td>\n",
       "    </tr>\n",
       "    <tr>\n",
       "      <th>1</th>\n",
       "      <td>10021160000828</td>\n",
       "      <td>6</td>\n",
       "      <td>672000.0</td>\n",
       "      <td>1866.666667</td>\n",
       "      <td>-1.082938</td>\n",
       "      <td>1.082938</td>\n",
       "    </tr>\n",
       "    <tr>\n",
       "      <th>2</th>\n",
       "      <td>10021160000829</td>\n",
       "      <td>16</td>\n",
       "      <td>3324720.0</td>\n",
       "      <td>3463.250000</td>\n",
       "      <td>-1.020594</td>\n",
       "      <td>1.020594</td>\n",
       "    </tr>\n",
       "    <tr>\n",
       "      <th>3</th>\n",
       "      <td>10021160000831</td>\n",
       "      <td>19</td>\n",
       "      <td>4373220.0</td>\n",
       "      <td>3836.157895</td>\n",
       "      <td>-1.079977</td>\n",
       "      <td>1.079977</td>\n",
       "    </tr>\n",
       "    <tr>\n",
       "      <th>4</th>\n",
       "      <td>10021160000832</td>\n",
       "      <td>14</td>\n",
       "      <td>3217260.0</td>\n",
       "      <td>3830.071429</td>\n",
       "      <td>-1.077591</td>\n",
       "      <td>1.077591</td>\n",
       "    </tr>\n",
       "  </tbody>\n",
       "</table>\n",
       "</div>"
      ],
      "text/plain": [
       "          meterNo  times      all_s         aver     score   z_score\n",
       "0  10014164400011      1      780.0    13.000000 -1.580179  1.580179\n",
       "1  10021160000828      6   672000.0  1866.666667 -1.082938  1.082938\n",
       "2  10021160000829     16  3324720.0  3463.250000 -1.020594  1.020594\n",
       "3  10021160000831     19  4373220.0  3836.157895 -1.079977  1.079977\n",
       "4  10021160000832     14  3217260.0  3830.071429 -1.077591  1.077591"
      ]
     },
     "execution_count": 209,
     "metadata": {},
     "output_type": "execute_result"
    }
   ],
   "source": [
    "after_lof_data.head(5)"
   ]
  },
  {
   "cell_type": "code",
   "execution_count": 206,
   "metadata": {},
   "outputs": [],
   "source": [
    "after_lof_data['meterNo']=after_lof_data['meterNo'].astype('int64').astype('object')"
   ]
  },
  {
   "cell_type": "code",
   "execution_count": 207,
   "metadata": {},
   "outputs": [],
   "source": [
    "after_lof_data['times']=after_lof_data['times'].astype('int64')"
   ]
  },
  {
   "cell_type": "code",
   "execution_count": 208,
   "metadata": {},
   "outputs": [],
   "source": [
    "after_lof_data['z_score']=after_lof_data['score'].abs()"
   ]
  },
  {
   "cell_type": "markdown",
   "metadata": {},
   "source": [
    "排列"
   ]
  },
  {
   "cell_type": "code",
   "execution_count": 210,
   "metadata": {},
   "outputs": [],
   "source": [
    "sort_after_lof_data=after_lof_data.copy(deep=1)"
   ]
  },
  {
   "cell_type": "code",
   "execution_count": 211,
   "metadata": {},
   "outputs": [],
   "source": [
    "sort_after_lof_data.sort_values(\"z_score\",inplace=True)"
   ]
  },
  {
   "cell_type": "code",
   "execution_count": 212,
   "metadata": {},
   "outputs": [
    {
     "data": {
      "text/html": [
       "<div>\n",
       "<style scoped>\n",
       "    .dataframe tbody tr th:only-of-type {\n",
       "        vertical-align: middle;\n",
       "    }\n",
       "\n",
       "    .dataframe tbody tr th {\n",
       "        vertical-align: top;\n",
       "    }\n",
       "\n",
       "    .dataframe thead th {\n",
       "        text-align: right;\n",
       "    }\n",
       "</style>\n",
       "<table border=\"1\" class=\"dataframe\">\n",
       "  <thead>\n",
       "    <tr style=\"text-align: right;\">\n",
       "      <th></th>\n",
       "      <th>meterNo</th>\n",
       "      <th>times</th>\n",
       "      <th>all_s</th>\n",
       "      <th>aver</th>\n",
       "      <th>score</th>\n",
       "      <th>z_score</th>\n",
       "    </tr>\n",
       "  </thead>\n",
       "  <tbody>\n",
       "    <tr>\n",
       "      <th>112</th>\n",
       "      <td>10021160000972</td>\n",
       "      <td>26</td>\n",
       "      <td>552660.0</td>\n",
       "      <td>354.269231</td>\n",
       "      <td>-0.957812</td>\n",
       "      <td>0.957812</td>\n",
       "    </tr>\n",
       "    <tr>\n",
       "      <th>116</th>\n",
       "      <td>10021160000976</td>\n",
       "      <td>21</td>\n",
       "      <td>444660.0</td>\n",
       "      <td>352.904762</td>\n",
       "      <td>-0.960020</td>\n",
       "      <td>0.960020</td>\n",
       "    </tr>\n",
       "    <tr>\n",
       "      <th>370</th>\n",
       "      <td>10023160000299</td>\n",
       "      <td>19</td>\n",
       "      <td>405300.0</td>\n",
       "      <td>355.526316</td>\n",
       "      <td>-0.961266</td>\n",
       "      <td>0.961266</td>\n",
       "    </tr>\n",
       "    <tr>\n",
       "      <th>291</th>\n",
       "      <td>10023160000153</td>\n",
       "      <td>19</td>\n",
       "      <td>1883520.0</td>\n",
       "      <td>1652.210526</td>\n",
       "      <td>-0.961733</td>\n",
       "      <td>0.961733</td>\n",
       "    </tr>\n",
       "    <tr>\n",
       "      <th>259</th>\n",
       "      <td>10023160000114</td>\n",
       "      <td>67</td>\n",
       "      <td>6519660.0</td>\n",
       "      <td>1621.805970</td>\n",
       "      <td>-0.962352</td>\n",
       "      <td>0.962352</td>\n",
       "    </tr>\n",
       "  </tbody>\n",
       "</table>\n",
       "</div>"
      ],
      "text/plain": [
       "            meterNo  times      all_s         aver     score   z_score\n",
       "112  10021160000972     26   552660.0   354.269231 -0.957812  0.957812\n",
       "116  10021160000976     21   444660.0   352.904762 -0.960020  0.960020\n",
       "370  10023160000299     19   405300.0   355.526316 -0.961266  0.961266\n",
       "291  10023160000153     19  1883520.0  1652.210526 -0.961733  0.961733\n",
       "259  10023160000114     67  6519660.0  1621.805970 -0.962352  0.962352"
      ]
     },
     "execution_count": 212,
     "metadata": {},
     "output_type": "execute_result"
    }
   ],
   "source": [
    "sort_after_lof_data.head(5)"
   ]
  },
  {
   "cell_type": "code",
   "execution_count": 213,
   "metadata": {},
   "outputs": [
    {
     "data": {
      "text/plain": [
       "1.6854296147815186"
      ]
     },
     "execution_count": 213,
     "metadata": {},
     "output_type": "execute_result"
    }
   ],
   "source": [
    "sort_after_lof_data.iloc[379,5]"
   ]
  },
  {
   "cell_type": "code",
   "execution_count": 214,
   "metadata": {},
   "outputs": [],
   "source": [
    "sort_after_lof_data.loc[sort_after_lof_data['z_score']>=sort_after_lof_data.iloc[379,5],'class']=0\n",
    "sort_after_lof_data.loc[sort_after_lof_data['z_score']<sort_after_lof_data.iloc[379,5],'class']=1"
   ]
  },
  {
   "cell_type": "code",
   "execution_count": 215,
   "metadata": {},
   "outputs": [
    {
     "data": {
      "text/plain": [
       "112    26\n",
       "116    21\n",
       "370    19\n",
       "291    19\n",
       "259    67\n",
       "       ..\n",
       "286     8\n",
       "195    30\n",
       "308    11\n",
       "74     21\n",
       "237    45\n",
       "Name: times, Length: 379, dtype: int64"
      ]
     },
     "execution_count": 215,
     "metadata": {},
     "output_type": "execute_result"
    }
   ],
   "source": [
    "sort_after_lof_data['times'][:379]"
   ]
  },
  {
   "cell_type": "code",
   "execution_count": 216,
   "metadata": {},
   "outputs": [
    {
     "data": {
      "image/png": "[encoded data removed]",
      "text/plain": [
       "<Figure size 432x288 with 1 Axes>"
      ]
     },
     "metadata": {
      "needs_background": "light"
     },
     "output_type": "display_data"
    }
   ],
   "source": [
    "plt.title(\"LOF\")\n",
    "plt.scatter(sort_after_lof_data['times'][:379],sort_after_lof_data['aver'][:379],color='r',label=\"inliner\")\n",
    "plt.scatter(sort_after_lof_data['times'][379:],sort_after_lof_data['aver'][379:],color='g',label=\"outliner\")\n",
    "plt.legend()\n",
    "plt.show()"
   ]
  },
  {
   "cell_type": "code",
   "execution_count": 195,
   "metadata": {},
   "outputs": [
    {
     "data": {
      "text/html": [
       "<div>\n",
       "<style scoped>\n",
       "    .dataframe tbody tr th:only-of-type {\n",
       "        vertical-align: middle;\n",
       "    }\n",
       "\n",
       "    .dataframe tbody tr th {\n",
       "        vertical-align: top;\n",
       "    }\n",
       "\n",
       "    .dataframe thead th {\n",
       "        text-align: right;\n",
       "    }\n",
       "</style>\n",
       "<table border=\"1\" class=\"dataframe\">\n",
       "  <thead>\n",
       "    <tr style=\"text-align: right;\">\n",
       "      <th></th>\n",
       "      <th>meterNo</th>\n",
       "      <th>times</th>\n",
       "      <th>all_s</th>\n",
       "      <th>aver</th>\n",
       "      <th>score</th>\n",
       "      <th>z_score</th>\n",
       "      <th>class</th>\n",
       "    </tr>\n",
       "  </thead>\n",
       "  <tbody>\n",
       "    <tr>\n",
       "      <th>203</th>\n",
       "      <td>10023160000013</td>\n",
       "      <td>34</td>\n",
       "      <td>8593560.0</td>\n",
       "      <td>4212.529412</td>\n",
       "      <td>-2.107654</td>\n",
       "      <td>2.107654</td>\n",
       "      <td>0.0</td>\n",
       "    </tr>\n",
       "    <tr>\n",
       "      <th>114</th>\n",
       "      <td>10021160000974</td>\n",
       "      <td>111</td>\n",
       "      <td>5270220.0</td>\n",
       "      <td>791.324324</td>\n",
       "      <td>-2.406608</td>\n",
       "      <td>2.406608</td>\n",
       "      <td>0.0</td>\n",
       "    </tr>\n",
       "    <tr>\n",
       "      <th>392</th>\n",
       "      <td>10023160000342</td>\n",
       "      <td>89</td>\n",
       "      <td>1682940.0</td>\n",
       "      <td>315.157303</td>\n",
       "      <td>-2.423722</td>\n",
       "      <td>2.423722</td>\n",
       "      <td>0.0</td>\n",
       "    </tr>\n",
       "    <tr>\n",
       "      <th>331</th>\n",
       "      <td>10023160000234</td>\n",
       "      <td>11</td>\n",
       "      <td>46908000.0</td>\n",
       "      <td>71072.727273</td>\n",
       "      <td>-2.742338</td>\n",
       "      <td>2.742338</td>\n",
       "      <td>0.0</td>\n",
       "    </tr>\n",
       "    <tr>\n",
       "      <th>272</th>\n",
       "      <td>10023160000132</td>\n",
       "      <td>14</td>\n",
       "      <td>54878100.0</td>\n",
       "      <td>65331.071429</td>\n",
       "      <td>-2.760109</td>\n",
       "      <td>2.760109</td>\n",
       "      <td>0.0</td>\n",
       "    </tr>\n",
       "    <tr>\n",
       "      <th>246</th>\n",
       "      <td>10023160000097</td>\n",
       "      <td>7</td>\n",
       "      <td>35441640.0</td>\n",
       "      <td>84384.857143</td>\n",
       "      <td>-2.816650</td>\n",
       "      <td>2.816650</td>\n",
       "      <td>0.0</td>\n",
       "    </tr>\n",
       "    <tr>\n",
       "      <th>179</th>\n",
       "      <td>10021160001063</td>\n",
       "      <td>6</td>\n",
       "      <td>26722920.0</td>\n",
       "      <td>74230.333333</td>\n",
       "      <td>-2.830378</td>\n",
       "      <td>2.830378</td>\n",
       "      <td>0.0</td>\n",
       "    </tr>\n",
       "    <tr>\n",
       "      <th>362</th>\n",
       "      <td>10023160000284</td>\n",
       "      <td>11</td>\n",
       "      <td>65861640.0</td>\n",
       "      <td>99790.363636</td>\n",
       "      <td>-2.836017</td>\n",
       "      <td>2.836017</td>\n",
       "      <td>0.0</td>\n",
       "    </tr>\n",
       "    <tr>\n",
       "      <th>212</th>\n",
       "      <td>10023160000029</td>\n",
       "      <td>8</td>\n",
       "      <td>49484820.0</td>\n",
       "      <td>103093.375000</td>\n",
       "      <td>-2.884867</td>\n",
       "      <td>2.884867</td>\n",
       "      <td>0.0</td>\n",
       "    </tr>\n",
       "    <tr>\n",
       "      <th>307</th>\n",
       "      <td>10023160000177</td>\n",
       "      <td>7</td>\n",
       "      <td>47463060.0</td>\n",
       "      <td>113007.285714</td>\n",
       "      <td>-3.068193</td>\n",
       "      <td>3.068193</td>\n",
       "      <td>0.0</td>\n",
       "    </tr>\n",
       "    <tr>\n",
       "      <th>385</th>\n",
       "      <td>10023160000333</td>\n",
       "      <td>157</td>\n",
       "      <td>3566760.0</td>\n",
       "      <td>378.636943</td>\n",
       "      <td>-3.586844</td>\n",
       "      <td>3.586844</td>\n",
       "      <td>0.0</td>\n",
       "    </tr>\n",
       "    <tr>\n",
       "      <th>312</th>\n",
       "      <td>10023160000192</td>\n",
       "      <td>164</td>\n",
       "      <td>4142100.0</td>\n",
       "      <td>420.945122</td>\n",
       "      <td>-3.847300</td>\n",
       "      <td>3.847300</td>\n",
       "      <td>0.0</td>\n",
       "    </tr>\n",
       "    <tr>\n",
       "      <th>384</th>\n",
       "      <td>10023160000332</td>\n",
       "      <td>199</td>\n",
       "      <td>10580160.0</td>\n",
       "      <td>886.110553</td>\n",
       "      <td>-3.994400</td>\n",
       "      <td>3.994400</td>\n",
       "      <td>0.0</td>\n",
       "    </tr>\n",
       "    <tr>\n",
       "      <th>363</th>\n",
       "      <td>10023160000285</td>\n",
       "      <td>249</td>\n",
       "      <td>4109940.0</td>\n",
       "      <td>275.096386</td>\n",
       "      <td>-4.068094</td>\n",
       "      <td>4.068094</td>\n",
       "      <td>0.0</td>\n",
       "    </tr>\n",
       "    <tr>\n",
       "      <th>288</th>\n",
       "      <td>10023160000150</td>\n",
       "      <td>196</td>\n",
       "      <td>2935800.0</td>\n",
       "      <td>249.642857</td>\n",
       "      <td>-4.183771</td>\n",
       "      <td>4.183771</td>\n",
       "      <td>0.0</td>\n",
       "    </tr>\n",
       "    <tr>\n",
       "      <th>232</th>\n",
       "      <td>10023160000067</td>\n",
       "      <td>5</td>\n",
       "      <td>46906500.0</td>\n",
       "      <td>156355.000000</td>\n",
       "      <td>-4.259347</td>\n",
       "      <td>4.259347</td>\n",
       "      <td>0.0</td>\n",
       "    </tr>\n",
       "    <tr>\n",
       "      <th>359</th>\n",
       "      <td>10023160000281</td>\n",
       "      <td>258</td>\n",
       "      <td>10278660.0</td>\n",
       "      <td>663.996124</td>\n",
       "      <td>-4.443160</td>\n",
       "      <td>4.443160</td>\n",
       "      <td>0.0</td>\n",
       "    </tr>\n",
       "    <tr>\n",
       "      <th>350</th>\n",
       "      <td>10023160000264</td>\n",
       "      <td>154</td>\n",
       "      <td>4430100.0</td>\n",
       "      <td>479.448052</td>\n",
       "      <td>-4.507168</td>\n",
       "      <td>4.507168</td>\n",
       "      <td>0.0</td>\n",
       "    </tr>\n",
       "    <tr>\n",
       "      <th>290</th>\n",
       "      <td>10023160000152</td>\n",
       "      <td>218</td>\n",
       "      <td>7797720.0</td>\n",
       "      <td>596.155963</td>\n",
       "      <td>-4.983662</td>\n",
       "      <td>4.983662</td>\n",
       "      <td>0.0</td>\n",
       "    </tr>\n",
       "    <tr>\n",
       "      <th>391</th>\n",
       "      <td>10023160000341</td>\n",
       "      <td>644</td>\n",
       "      <td>2733600.0</td>\n",
       "      <td>70.745342</td>\n",
       "      <td>-9.534178</td>\n",
       "      <td>9.534178</td>\n",
       "      <td>0.0</td>\n",
       "    </tr>\n",
       "  </tbody>\n",
       "</table>\n",
       "</div>"
      ],
      "text/plain": [
       "            meterNo  times       all_s           aver     score   z_score  \\\n",
       "203  10023160000013     34   8593560.0    4212.529412 -2.107654  2.107654   \n",
       "114  10021160000974    111   5270220.0     791.324324 -2.406608  2.406608   \n",
       "392  10023160000342     89   1682940.0     315.157303 -2.423722  2.423722   \n",
       "331  10023160000234     11  46908000.0   71072.727273 -2.742338  2.742338   \n",
       "272  10023160000132     14  54878100.0   65331.071429 -2.760109  2.760109   \n",
       "246  10023160000097      7  35441640.0   84384.857143 -2.816650  2.816650   \n",
       "179  10021160001063      6  26722920.0   74230.333333 -2.830378  2.830378   \n",
       "362  10023160000284     11  65861640.0   99790.363636 -2.836017  2.836017   \n",
       "212  10023160000029      8  49484820.0  103093.375000 -2.884867  2.884867   \n",
       "307  10023160000177      7  47463060.0  113007.285714 -3.068193  3.068193   \n",
       "385  10023160000333    157   3566760.0     378.636943 -3.586844  3.586844   \n",
       "312  10023160000192    164   4142100.0     420.945122 -3.847300  3.847300   \n",
       "384  10023160000332    199  10580160.0     886.110553 -3.994400  3.994400   \n",
       "363  10023160000285    249   4109940.0     275.096386 -4.068094  4.068094   \n",
       "288  10023160000150    196   2935800.0     249.642857 -4.183771  4.183771   \n",
       "232  10023160000067      5  46906500.0  156355.000000 -4.259347  4.259347   \n",
       "359  10023160000281    258  10278660.0     663.996124 -4.443160  4.443160   \n",
       "350  10023160000264    154   4430100.0     479.448052 -4.507168  4.507168   \n",
       "290  10023160000152    218   7797720.0     596.155963 -4.983662  4.983662   \n",
       "391  10023160000341    644   2733600.0      70.745342 -9.534178  9.534178   \n",
       "\n",
       "     class  \n",
       "203    0.0  \n",
       "114    0.0  \n",
       "392    0.0  \n",
       "331    0.0  \n",
       "272    0.0  \n",
       "246    0.0  \n",
       "179    0.0  \n",
       "362    0.0  \n",
       "212    0.0  \n",
       "307    0.0  \n",
       "385    0.0  \n",
       "312    0.0  \n",
       "384    0.0  \n",
       "363    0.0  \n",
       "288    0.0  \n",
       "232    0.0  \n",
       "359    0.0  \n",
       "350    0.0  \n",
       "290    0.0  \n",
       "391    0.0  "
      ]
     },
     "execution_count": 195,
     "metadata": {},
     "output_type": "execute_result"
    }
   ],
   "source": [
    "sort_after_lof_data.tail(20)"
   ]
  }
 ],
 "metadata": {
  "interpreter": {
   "hash": "7b4b4feff2f24a0f0a34464dbe537a36fda679851528fb8735cb41fa49dffb2d"
  },
  "kernelspec": {
   "display_name": "Python 3.8.8 ('base')",
   "language": "python",
   "name": "python3"
  },
  "language_info": {
   "codemirror_mode": {
    "name": "ipython",
    "version": 3
   },
   "file_extension": ".py",
   "mimetype": "text/x-python",
   "name": "python",
   "nbconvert_exporter": "python",
   "pygments_lexer": "ipython3",
   "version": "3.8.8"
  },
  "orig_nbformat": 4
 },
 "nbformat": 4,
 "nbformat_minor": 2
}
