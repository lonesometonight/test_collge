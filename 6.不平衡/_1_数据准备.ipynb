{
 "cells": [
  {
   "cell_type": "markdown",
   "metadata": {},
   "source": [
    "1、导入数据"
   ]
  },
  {
   "cell_type": "code",
   "execution_count": 1,
   "metadata": {},
   "outputs": [],
   "source": [
    "import pandas as pd\n",
    "import numpy as np"
   ]
  },
  {
   "cell_type": "code",
   "execution_count": 2,
   "metadata": {},
   "outputs": [],
   "source": [
    "data1 = \"D:\\\\1_kaoyan\\college_ending\\\\400仪表数据--全\\middata - 副本\\仪器分时数据——按照不同类型类型来区分(单相,三相)\\\\1_有数据\\处理后\\核心数据\\FourHundred_loadprofile_three_P8391三相表相1的平均电流.csv\"\n",
    "data2 = \"D:\\\\1_kaoyan\\college_ending\\\\400仪表数据--全\\middata - 副本\\仪器分时数据——按照不同类型类型来区分(单相,三相)\\\\1_有数据\\处理后\\核心数据\\FourHundred_loadprofile_three_P8392三相表相2的平均电流.csv\"\n",
    "data3 = \"D:\\\\1_kaoyan\\college_ending\\\\400仪表数据--全\\middata - 副本\\仪器分时数据——按照不同类型类型来区分(单相,三相)\\\\1_有数据\\处理后\\核心数据\\FourHundred_loadprofile_three_P8393三相表相3的平均电流.csv\""
   ]
  },
  {
   "cell_type": "code",
   "execution_count": 3,
   "metadata": {},
   "outputs": [],
   "source": [
    "pd1 = pd.read_csv(data1,encoding='utf-8')"
   ]
  },
  {
   "cell_type": "code",
   "execution_count": 4,
   "metadata": {},
   "outputs": [],
   "source": [
    "pd2=pd.read_csv(data2,encoding='utf-8')\n",
    "pd3=pd.read_csv(data2,encoding='utf-8')"
   ]
  },
  {
   "cell_type": "code",
   "execution_count": 5,
   "metadata": {},
   "outputs": [
    {
     "name": "stdout",
     "output_type": "stream",
     "text": [
      "<class 'pandas.core.frame.DataFrame'>\n",
      "RangeIndex: 35136 entries, 0 to 35135\n",
      "Columns: 201 entries, MeterNo to 10014164400011 \n",
      "dtypes: float64(200), object(1)\n",
      "memory usage: 53.9+ MB\n"
     ]
    }
   ],
   "source": [
    "pd1.info()"
   ]
  },
  {
   "cell_type": "markdown",
   "metadata": {},
   "source": [
    "1.1、判断表头是否一致，是一致的"
   ]
  },
  {
   "cell_type": "code",
   "execution_count": 6,
   "metadata": {},
   "outputs": [],
   "source": [
    "biao1=pd1.columns\n",
    "biao2=pd2.columns\n",
    "biao3=pd3.columns"
   ]
  },
  {
   "cell_type": "code",
   "execution_count": 7,
   "metadata": {},
   "outputs": [
    {
     "data": {
      "text/plain": [
       "Index(['MeterNo', '10023160000011 ', '10023160000012 ', '10023160000013 ',\n",
       "       '10023160000015 ', '10023160000016 ', '10023160000019 ',\n",
       "       '10023160000020 ', '10023160000023 ', '10023160000024 ',\n",
       "       ...\n",
       "       '10023160000341 ', '10023160000342 ', '10023160000343 ',\n",
       "       '10023160000345 ', '10023160000346 ', '10023160000347 ',\n",
       "       '10023160000349 ', '10023160000350 ', '10023160000352 ',\n",
       "       '10014164400011 '],\n",
       "      dtype='object', length=201)"
      ]
     },
     "execution_count": 7,
     "metadata": {},
     "output_type": "execute_result"
    }
   ],
   "source": [
    "biao1"
   ]
  },
  {
   "cell_type": "code",
   "execution_count": 8,
   "metadata": {},
   "outputs": [
    {
     "data": {
      "text/plain": [
       "pandas.core.indexes.base.Index"
      ]
     },
     "execution_count": 8,
     "metadata": {},
     "output_type": "execute_result"
    }
   ],
   "source": [
    "type(biao1)"
   ]
  },
  {
   "cell_type": "code",
   "execution_count": 9,
   "metadata": {},
   "outputs": [
    {
     "data": {
      "text/plain": [
       "array([ True,  True,  True,  True,  True,  True,  True,  True,  True,\n",
       "        True,  True,  True,  True,  True,  True,  True,  True,  True,\n",
       "        True,  True,  True,  True,  True,  True,  True,  True,  True,\n",
       "        True,  True,  True,  True,  True,  True,  True,  True,  True,\n",
       "        True,  True,  True,  True,  True,  True,  True,  True,  True,\n",
       "        True,  True,  True,  True,  True,  True,  True,  True,  True,\n",
       "        True,  True,  True,  True,  True,  True,  True,  True,  True,\n",
       "        True,  True,  True,  True,  True,  True,  True,  True,  True,\n",
       "        True,  True,  True,  True,  True,  True,  True,  True,  True,\n",
       "        True,  True,  True,  True,  True,  True,  True,  True,  True,\n",
       "        True,  True,  True,  True,  True,  True,  True,  True,  True,\n",
       "        True,  True,  True,  True,  True,  True,  True,  True,  True,\n",
       "        True,  True,  True,  True,  True,  True,  True,  True,  True,\n",
       "        True,  True,  True,  True,  True,  True,  True,  True,  True,\n",
       "        True,  True,  True,  True,  True,  True,  True,  True,  True,\n",
       "        True,  True,  True,  True,  True,  True,  True,  True,  True,\n",
       "        True,  True,  True,  True,  True,  True,  True,  True,  True,\n",
       "        True,  True,  True,  True,  True,  True,  True,  True,  True,\n",
       "        True,  True,  True,  True,  True,  True,  True,  True,  True,\n",
       "        True,  True,  True,  True,  True,  True,  True,  True,  True,\n",
       "        True,  True,  True,  True,  True,  True,  True,  True,  True,\n",
       "        True,  True,  True,  True,  True,  True,  True,  True,  True,\n",
       "        True,  True,  True])"
      ]
     },
     "execution_count": 9,
     "metadata": {},
     "output_type": "execute_result"
    }
   ],
   "source": [
    "biao1==biao3"
   ]
  },
  {
   "cell_type": "code",
   "execution_count": 10,
   "metadata": {},
   "outputs": [],
   "source": [
    "biaotou=list(biao1)"
   ]
  },
  {
   "cell_type": "markdown",
   "metadata": {},
   "source": [
    "1.2、把表头列出来，注意除了'MeterNo'，其他的后面都有空格"
   ]
  },
  {
   "cell_type": "code",
   "execution_count": 11,
   "metadata": {},
   "outputs": [
    {
     "data": {
      "text/plain": [
       "['MeterNo',\n",
       " '10023160000011 ',\n",
       " '10023160000012 ',\n",
       " '10023160000013 ',\n",
       " '10023160000015 ',\n",
       " '10023160000016 ',\n",
       " '10023160000019 ',\n",
       " '10023160000020 ',\n",
       " '10023160000023 ',\n",
       " '10023160000024 ',\n",
       " '10023160000027 ',\n",
       " '10023160000028 ',\n",
       " '10023160000029 ',\n",
       " '10023160000030 ',\n",
       " '10023160000032 ',\n",
       " '10023160000036 ',\n",
       " '10023160000037 ',\n",
       " '10023160000040 ',\n",
       " '10023160000041 ',\n",
       " '10023160000042 ',\n",
       " '10023160000043 ',\n",
       " '10023160000044 ',\n",
       " '10023160000048 ',\n",
       " '10023160000049 ',\n",
       " '10023160000050 ',\n",
       " '10023160000052 ',\n",
       " '10023160000054 ',\n",
       " '10023160000055 ',\n",
       " '10023160000060 ',\n",
       " '10023160000063 ',\n",
       " '10023160000065 ',\n",
       " '10023160000066 ',\n",
       " '10023160000067 ',\n",
       " '10023160000068 ',\n",
       " '10023160000069 ',\n",
       " '10023160000071 ',\n",
       " '10023160000072 ',\n",
       " '10023160000073 ',\n",
       " '10023160000075 ',\n",
       " '10023160000076 ',\n",
       " '10023160000077 ',\n",
       " '10023160000079 ',\n",
       " '10023160000081 ',\n",
       " '10023160000084 ',\n",
       " '10023160000087 ',\n",
       " '10023160000092 ',\n",
       " '10023160000097 ',\n",
       " '10023160000098 ',\n",
       " '10023160000099 ',\n",
       " '10023160000100 ',\n",
       " '10023160000101 ',\n",
       " '10023160000102 ',\n",
       " '10023160000103 ',\n",
       " '10023160000105 ',\n",
       " '10023160000106 ',\n",
       " '10023160000107 ',\n",
       " '10023160000109 ',\n",
       " '10023160000111 ',\n",
       " '10023160000112 ',\n",
       " '10023160000114 ',\n",
       " '10023160000115 ',\n",
       " '10023160000116 ',\n",
       " '10023160000117 ',\n",
       " '10023160000118 ',\n",
       " '10023160000119 ',\n",
       " '10023160000120 ',\n",
       " '10023160000121 ',\n",
       " '10023160000122 ',\n",
       " '10023160000126 ',\n",
       " '10023160000128 ',\n",
       " '10023160000129 ',\n",
       " '10023160000131 ',\n",
       " '10023160000132 ',\n",
       " '10023160000133 ',\n",
       " '10023160000134 ',\n",
       " '10023160000135 ',\n",
       " '10023160000136 ',\n",
       " '10023160000137 ',\n",
       " '10023160000138 ',\n",
       " '10023160000139 ',\n",
       " '10023160000140 ',\n",
       " '10023160000141 ',\n",
       " '10023160000142 ',\n",
       " '10023160000143 ',\n",
       " '10023160000144 ',\n",
       " '10023160000147 ',\n",
       " '10023160000148 ',\n",
       " '10023160000149 ',\n",
       " '10023160000150 ',\n",
       " '10023160000151 ',\n",
       " '10023160000152 ',\n",
       " '10023160000153 ',\n",
       " '10023160000154 ',\n",
       " '10023160000156 ',\n",
       " '10023160000157 ',\n",
       " '10023160000158 ',\n",
       " '10023160000159 ',\n",
       " '10023160000160 ',\n",
       " '10023160000162 ',\n",
       " '10023160000163 ',\n",
       " '10023160000164 ',\n",
       " '10023160000165 ',\n",
       " '10023160000166 ',\n",
       " '10023160000169 ',\n",
       " '10023160000171 ',\n",
       " '10023160000172 ',\n",
       " '10023160000174 ',\n",
       " '10023160000177 ',\n",
       " '10023160000180 ',\n",
       " '10023160000183 ',\n",
       " '10023160000185 ',\n",
       " '10023160000188 ',\n",
       " '10023160000192 ',\n",
       " '10023160000195 ',\n",
       " '10023160000196 ',\n",
       " '10023160000200 ',\n",
       " '10023160000201 ',\n",
       " '10023160000203 ',\n",
       " '10023160000206 ',\n",
       " '10023160000207 ',\n",
       " '10023160000208 ',\n",
       " '10023160000214 ',\n",
       " '10023160000217 ',\n",
       " '10023160000219 ',\n",
       " '10023160000221 ',\n",
       " '10023160000222 ',\n",
       " '10023160000226 ',\n",
       " '10023160000228 ',\n",
       " '10023160000230 ',\n",
       " '10023160000232 ',\n",
       " '10023160000233 ',\n",
       " '10023160000234 ',\n",
       " '10023160000237 ',\n",
       " '10023160000240 ',\n",
       " '10023160000241 ',\n",
       " '10023160000242 ',\n",
       " '10023160000243 ',\n",
       " '10023160000245 ',\n",
       " '10023160000246 ',\n",
       " '10023160000247 ',\n",
       " '10023160000249 ',\n",
       " '10023160000250 ',\n",
       " '10023160000251 ',\n",
       " '10023160000253 ',\n",
       " '10023160000254 ',\n",
       " '10023160000255 ',\n",
       " '10023160000256 ',\n",
       " '10023160000260 ',\n",
       " '10023160000261 ',\n",
       " '10023160000263 ',\n",
       " '10023160000264 ',\n",
       " '10023160000267 ',\n",
       " '10023160000268 ',\n",
       " '10023160000271 ',\n",
       " '10023160000272 ',\n",
       " '10023160000273 ',\n",
       " '10023160000275 ',\n",
       " '10023160000278 ',\n",
       " '10023160000280 ',\n",
       " '10023160000281 ',\n",
       " '10023160000282 ',\n",
       " '10023160000283 ',\n",
       " '10023160000284 ',\n",
       " '10023160000285 ',\n",
       " '10023160000286 ',\n",
       " '10023160000289 ',\n",
       " '10023160000290 ',\n",
       " '10023160000291 ',\n",
       " '10023160000292 ',\n",
       " '10023160000296 ',\n",
       " '10023160000299 ',\n",
       " '10023160000300 ',\n",
       " '10023160000301 ',\n",
       " '10023160000308 ',\n",
       " '10023160000310 ',\n",
       " '10023160000311 ',\n",
       " '10023160000312 ',\n",
       " '10023160000313 ',\n",
       " '10023160000325 ',\n",
       " '10023160000326 ',\n",
       " '10023160000327 ',\n",
       " '10023160000328 ',\n",
       " '10023160000329 ',\n",
       " '10023160000330 ',\n",
       " '10023160000332 ',\n",
       " '10023160000333 ',\n",
       " '10023160000334 ',\n",
       " '10023160000336 ',\n",
       " '10023160000337 ',\n",
       " '10023160000338 ',\n",
       " '10023160000340 ',\n",
       " '10023160000341 ',\n",
       " '10023160000342 ',\n",
       " '10023160000343 ',\n",
       " '10023160000345 ',\n",
       " '10023160000346 ',\n",
       " '10023160000347 ',\n",
       " '10023160000349 ',\n",
       " '10023160000350 ',\n",
       " '10023160000352 ',\n",
       " '10014164400011 ']"
      ]
     },
     "execution_count": 11,
     "metadata": {},
     "output_type": "execute_result"
    }
   ],
   "source": [
    "biaotou"
   ]
  },
  {
   "cell_type": "code",
   "execution_count": 12,
   "metadata": {},
   "outputs": [
    {
     "data": {
      "text/plain": [
       "0        True\n",
       "1        True\n",
       "2        True\n",
       "3        True\n",
       "4        True\n",
       "         ... \n",
       "35131    True\n",
       "35132    True\n",
       "35133    True\n",
       "35134    True\n",
       "35135    True\n",
       "Name: 10023160000011 , Length: 35136, dtype: bool"
      ]
     },
     "execution_count": 12,
     "metadata": {},
     "output_type": "execute_result"
    }
   ],
   "source": [
    "pd1[biaotou[1]]==pd1['10023160000011 ']"
   ]
  },
  {
   "cell_type": "code",
   "execution_count": 13,
   "metadata": {},
   "outputs": [],
   "source": [
    "str1='biao'+ biaotou[1]\n"
   ]
  },
  {
   "cell_type": "code",
   "execution_count": 14,
   "metadata": {},
   "outputs": [
    {
     "data": {
      "text/plain": [
       "'biao10023160000011 '"
      ]
     },
     "execution_count": 14,
     "metadata": {},
     "output_type": "execute_result"
    }
   ],
   "source": [
    "str1"
   ]
  },
  {
   "cell_type": "markdown",
   "metadata": {},
   "source": [
    "2.1、分离数据，把第一个的三相全部提取出来"
   ]
  },
  {
   "cell_type": "code",
   "execution_count": 15,
   "metadata": {},
   "outputs": [],
   "source": [
    "str1=pd1[[biaotou[0],biaotou[1]]].copy(deep=1)"
   ]
  },
  {
   "cell_type": "code",
   "execution_count": 16,
   "metadata": {},
   "outputs": [],
   "source": [
    "str2=pd2[[biaotou[0],biaotou[1]]].copy(deep=1)"
   ]
  },
  {
   "cell_type": "code",
   "execution_count": 17,
   "metadata": {},
   "outputs": [],
   "source": [
    "str3=pd3[[biaotou[0],biaotou[1]]].copy(deep=1)"
   ]
  },
  {
   "cell_type": "markdown",
   "metadata": {},
   "source": [
    "2.2、组合三相"
   ]
  },
  {
   "cell_type": "code",
   "execution_count": 18,
   "metadata": {},
   "outputs": [],
   "source": [
    "diyige=pd.concat([str1,str2,str3],axis=1)"
   ]
  },
  {
   "cell_type": "code",
   "execution_count": 19,
   "metadata": {},
   "outputs": [],
   "source": [
    "diyige.columns = ['MeterNo','10023160000011 '+'1',\n",
    "                  'MeterNo1','10023160000011 '+'2',\n",
    "                  'MeterNo2','10023160000011 '+'3']"
   ]
  },
  {
   "cell_type": "code",
   "execution_count": 20,
   "metadata": {},
   "outputs": [],
   "source": [
    "diyige_right=diyige[['MeterNo','10023160000011 '+'1','10023160000011 '+'2','10023160000011 '+'3']]"
   ]
  },
  {
   "cell_type": "code",
   "execution_count": 21,
   "metadata": {},
   "outputs": [
    {
     "data": {
      "text/html": [
       "<div>\n",
       "<style scoped>\n",
       "    .dataframe tbody tr th:only-of-type {\n",
       "        vertical-align: middle;\n",
       "    }\n",
       "\n",
       "    .dataframe tbody tr th {\n",
       "        vertical-align: top;\n",
       "    }\n",
       "\n",
       "    .dataframe thead th {\n",
       "        text-align: right;\n",
       "    }\n",
       "</style>\n",
       "<table border=\"1\" class=\"dataframe\">\n",
       "  <thead>\n",
       "    <tr style=\"text-align: right;\">\n",
       "      <th></th>\n",
       "      <th>MeterNo</th>\n",
       "      <th>10023160000011 1</th>\n",
       "      <th>10023160000011 2</th>\n",
       "      <th>10023160000011 3</th>\n",
       "    </tr>\n",
       "  </thead>\n",
       "  <tbody>\n",
       "    <tr>\n",
       "      <th>0</th>\n",
       "      <td>2020/1/1 00:00</td>\n",
       "      <td>0.0</td>\n",
       "      <td>0.0</td>\n",
       "      <td>0.0</td>\n",
       "    </tr>\n",
       "    <tr>\n",
       "      <th>1</th>\n",
       "      <td>2020/1/1 00:15</td>\n",
       "      <td>0.0</td>\n",
       "      <td>0.0</td>\n",
       "      <td>0.0</td>\n",
       "    </tr>\n",
       "    <tr>\n",
       "      <th>2</th>\n",
       "      <td>2020/1/1 00:30</td>\n",
       "      <td>0.0</td>\n",
       "      <td>0.0</td>\n",
       "      <td>0.0</td>\n",
       "    </tr>\n",
       "    <tr>\n",
       "      <th>3</th>\n",
       "      <td>2020/1/1 00:45</td>\n",
       "      <td>0.0</td>\n",
       "      <td>0.0</td>\n",
       "      <td>0.0</td>\n",
       "    </tr>\n",
       "    <tr>\n",
       "      <th>4</th>\n",
       "      <td>2020/1/1 01:00</td>\n",
       "      <td>0.0</td>\n",
       "      <td>0.0</td>\n",
       "      <td>0.0</td>\n",
       "    </tr>\n",
       "  </tbody>\n",
       "</table>\n",
       "</div>"
      ],
      "text/plain": [
       "          MeterNo  10023160000011 1  10023160000011 2  10023160000011 3\n",
       "0  2020/1/1 00:00               0.0               0.0               0.0\n",
       "1  2020/1/1 00:15               0.0               0.0               0.0\n",
       "2  2020/1/1 00:30               0.0               0.0               0.0\n",
       "3  2020/1/1 00:45               0.0               0.0               0.0\n",
       "4  2020/1/1 01:00               0.0               0.0               0.0"
      ]
     },
     "execution_count": 21,
     "metadata": {},
     "output_type": "execute_result"
    }
   ],
   "source": [
    "diyige_right.head(5)"
   ]
  },
  {
   "cell_type": "code",
   "execution_count": 22,
   "metadata": {},
   "outputs": [
    {
     "data": {
      "text/html": [
       "<div>\n",
       "<style scoped>\n",
       "    .dataframe tbody tr th:only-of-type {\n",
       "        vertical-align: middle;\n",
       "    }\n",
       "\n",
       "    .dataframe tbody tr th {\n",
       "        vertical-align: top;\n",
       "    }\n",
       "\n",
       "    .dataframe thead th {\n",
       "        text-align: right;\n",
       "    }\n",
       "</style>\n",
       "<table border=\"1\" class=\"dataframe\">\n",
       "  <thead>\n",
       "    <tr style=\"text-align: right;\">\n",
       "      <th></th>\n",
       "      <th>MeterNo</th>\n",
       "      <th>10023160000011</th>\n",
       "    </tr>\n",
       "  </thead>\n",
       "  <tbody>\n",
       "    <tr>\n",
       "      <th>0</th>\n",
       "      <td>2020/1/1 00:00</td>\n",
       "      <td>0.0</td>\n",
       "    </tr>\n",
       "    <tr>\n",
       "      <th>1</th>\n",
       "      <td>2020/1/1 00:15</td>\n",
       "      <td>0.0</td>\n",
       "    </tr>\n",
       "    <tr>\n",
       "      <th>2</th>\n",
       "      <td>2020/1/1 00:30</td>\n",
       "      <td>0.0</td>\n",
       "    </tr>\n",
       "    <tr>\n",
       "      <th>3</th>\n",
       "      <td>2020/1/1 00:45</td>\n",
       "      <td>0.0</td>\n",
       "    </tr>\n",
       "    <tr>\n",
       "      <th>4</th>\n",
       "      <td>2020/1/1 01:00</td>\n",
       "      <td>0.0</td>\n",
       "    </tr>\n",
       "  </tbody>\n",
       "</table>\n",
       "</div>"
      ],
      "text/plain": [
       "          MeterNo  10023160000011 \n",
       "0  2020/1/1 00:00              0.0\n",
       "1  2020/1/1 00:15              0.0\n",
       "2  2020/1/1 00:30              0.0\n",
       "3  2020/1/1 00:45              0.0\n",
       "4  2020/1/1 01:00              0.0"
      ]
     },
     "execution_count": 22,
     "metadata": {},
     "output_type": "execute_result"
    }
   ],
   "source": [
    "str1.head(5)"
   ]
  },
  {
   "cell_type": "code",
   "execution_count": 23,
   "metadata": {},
   "outputs": [
    {
     "data": {
      "text/html": [
       "<div>\n",
       "<style scoped>\n",
       "    .dataframe tbody tr th:only-of-type {\n",
       "        vertical-align: middle;\n",
       "    }\n",
       "\n",
       "    .dataframe tbody tr th {\n",
       "        vertical-align: top;\n",
       "    }\n",
       "\n",
       "    .dataframe thead th {\n",
       "        text-align: right;\n",
       "    }\n",
       "</style>\n",
       "<table border=\"1\" class=\"dataframe\">\n",
       "  <thead>\n",
       "    <tr style=\"text-align: right;\">\n",
       "      <th></th>\n",
       "      <th>MeterNo</th>\n",
       "      <th>10023160000011</th>\n",
       "    </tr>\n",
       "  </thead>\n",
       "  <tbody>\n",
       "    <tr>\n",
       "      <th>0</th>\n",
       "      <td>2020/01/01 00:00:00</td>\n",
       "      <td>0.0</td>\n",
       "    </tr>\n",
       "    <tr>\n",
       "      <th>1</th>\n",
       "      <td>2020/01/01 00:15:00</td>\n",
       "      <td>0.0</td>\n",
       "    </tr>\n",
       "    <tr>\n",
       "      <th>2</th>\n",
       "      <td>2020/01/01 00:30:00</td>\n",
       "      <td>0.0</td>\n",
       "    </tr>\n",
       "    <tr>\n",
       "      <th>3</th>\n",
       "      <td>2020/01/01 00:45:00</td>\n",
       "      <td>0.0</td>\n",
       "    </tr>\n",
       "    <tr>\n",
       "      <th>4</th>\n",
       "      <td>2020/01/01 01:00:00</td>\n",
       "      <td>0.0</td>\n",
       "    </tr>\n",
       "  </tbody>\n",
       "</table>\n",
       "</div>"
      ],
      "text/plain": [
       "               MeterNo  10023160000011 \n",
       "0  2020/01/01 00:00:00              0.0\n",
       "1  2020/01/01 00:15:00              0.0\n",
       "2  2020/01/01 00:30:00              0.0\n",
       "3  2020/01/01 00:45:00              0.0\n",
       "4  2020/01/01 01:00:00              0.0"
      ]
     },
     "execution_count": 23,
     "metadata": {},
     "output_type": "execute_result"
    }
   ],
   "source": [
    "str2.head(5)"
   ]
  },
  {
   "cell_type": "code",
   "execution_count": 24,
   "metadata": {},
   "outputs": [
    {
     "data": {
      "text/html": [
       "<div>\n",
       "<style scoped>\n",
       "    .dataframe tbody tr th:only-of-type {\n",
       "        vertical-align: middle;\n",
       "    }\n",
       "\n",
       "    .dataframe tbody tr th {\n",
       "        vertical-align: top;\n",
       "    }\n",
       "\n",
       "    .dataframe thead th {\n",
       "        text-align: right;\n",
       "    }\n",
       "</style>\n",
       "<table border=\"1\" class=\"dataframe\">\n",
       "  <thead>\n",
       "    <tr style=\"text-align: right;\">\n",
       "      <th></th>\n",
       "      <th>MeterNo</th>\n",
       "      <th>10023160000011</th>\n",
       "    </tr>\n",
       "  </thead>\n",
       "  <tbody>\n",
       "    <tr>\n",
       "      <th>0</th>\n",
       "      <td>2020/01/01 00:00:00</td>\n",
       "      <td>0.0</td>\n",
       "    </tr>\n",
       "    <tr>\n",
       "      <th>1</th>\n",
       "      <td>2020/01/01 00:15:00</td>\n",
       "      <td>0.0</td>\n",
       "    </tr>\n",
       "    <tr>\n",
       "      <th>2</th>\n",
       "      <td>2020/01/01 00:30:00</td>\n",
       "      <td>0.0</td>\n",
       "    </tr>\n",
       "    <tr>\n",
       "      <th>3</th>\n",
       "      <td>2020/01/01 00:45:00</td>\n",
       "      <td>0.0</td>\n",
       "    </tr>\n",
       "    <tr>\n",
       "      <th>4</th>\n",
       "      <td>2020/01/01 01:00:00</td>\n",
       "      <td>0.0</td>\n",
       "    </tr>\n",
       "  </tbody>\n",
       "</table>\n",
       "</div>"
      ],
      "text/plain": [
       "               MeterNo  10023160000011 \n",
       "0  2020/01/01 00:00:00              0.0\n",
       "1  2020/01/01 00:15:00              0.0\n",
       "2  2020/01/01 00:30:00              0.0\n",
       "3  2020/01/01 00:45:00              0.0\n",
       "4  2020/01/01 01:00:00              0.0"
      ]
     },
     "execution_count": 24,
     "metadata": {},
     "output_type": "execute_result"
    }
   ],
   "source": [
    "str3.head(5)"
   ]
  },
  {
   "cell_type": "markdown",
   "metadata": {},
   "source": [
    "3、填补空缺值"
   ]
  },
  {
   "cell_type": "code",
   "execution_count": 25,
   "metadata": {},
   "outputs": [
    {
     "data": {
      "text/plain": [
       "MeterNo             False\n",
       "10023160000011 1     True\n",
       "10023160000011 2     True\n",
       "10023160000011 3     True\n",
       "dtype: bool"
      ]
     },
     "execution_count": 25,
     "metadata": {},
     "output_type": "execute_result"
    }
   ],
   "source": [
    "diyige_right.isnull().any()"
   ]
  },
  {
   "cell_type": "code",
   "execution_count": 26,
   "metadata": {},
   "outputs": [
    {
     "data": {
      "text/plain": [
       "MeterNo               0\n",
       "10023160000011 1    409\n",
       "10023160000011 2    409\n",
       "10023160000011 3    409\n",
       "dtype: int64"
      ]
     },
     "execution_count": 26,
     "metadata": {},
     "output_type": "execute_result"
    }
   ],
   "source": [
    "diyige_right.isnull().sum()"
   ]
  },
  {
   "cell_type": "code",
   "execution_count": 27,
   "metadata": {},
   "outputs": [],
   "source": [
    "diyige_right=diyige_right.fillna(0.0)"
   ]
  },
  {
   "cell_type": "code",
   "execution_count": 28,
   "metadata": {},
   "outputs": [
    {
     "data": {
      "text/plain": [
       "MeterNo             False\n",
       "10023160000011 1    False\n",
       "10023160000011 2    False\n",
       "10023160000011 3    False\n",
       "dtype: bool"
      ]
     },
     "execution_count": 28,
     "metadata": {},
     "output_type": "execute_result"
    }
   ],
   "source": [
    "diyige_right.isnull().any()"
   ]
  },
  {
   "cell_type": "markdown",
   "metadata": {},
   "source": [
    "3、计算0的占比"
   ]
  },
  {
   "cell_type": "markdown",
   "metadata": {},
   "source": [
    "3.1、当全是0时，直接异常"
   ]
  },
  {
   "cell_type": "code",
   "execution_count": 29,
   "metadata": {},
   "outputs": [
    {
     "data": {
      "text/html": [
       "<div>\n",
       "<style scoped>\n",
       "    .dataframe tbody tr th:only-of-type {\n",
       "        vertical-align: middle;\n",
       "    }\n",
       "\n",
       "    .dataframe tbody tr th {\n",
       "        vertical-align: top;\n",
       "    }\n",
       "\n",
       "    .dataframe thead th {\n",
       "        text-align: right;\n",
       "    }\n",
       "</style>\n",
       "<table border=\"1\" class=\"dataframe\">\n",
       "  <thead>\n",
       "    <tr style=\"text-align: right;\">\n",
       "      <th></th>\n",
       "      <th>MeterNo</th>\n",
       "      <th>10023160000011 1</th>\n",
       "      <th>10023160000011 2</th>\n",
       "      <th>10023160000011 3</th>\n",
       "    </tr>\n",
       "  </thead>\n",
       "  <tbody>\n",
       "    <tr>\n",
       "      <th>0</th>\n",
       "      <td>2020/1/1 00:00</td>\n",
       "      <td>0.0</td>\n",
       "      <td>0.0</td>\n",
       "      <td>0.0</td>\n",
       "    </tr>\n",
       "    <tr>\n",
       "      <th>1</th>\n",
       "      <td>2020/1/1 00:15</td>\n",
       "      <td>0.0</td>\n",
       "      <td>0.0</td>\n",
       "      <td>0.0</td>\n",
       "    </tr>\n",
       "    <tr>\n",
       "      <th>2</th>\n",
       "      <td>2020/1/1 00:30</td>\n",
       "      <td>0.0</td>\n",
       "      <td>0.0</td>\n",
       "      <td>0.0</td>\n",
       "    </tr>\n",
       "    <tr>\n",
       "      <th>3</th>\n",
       "      <td>2020/1/1 00:45</td>\n",
       "      <td>0.0</td>\n",
       "      <td>0.0</td>\n",
       "      <td>0.0</td>\n",
       "    </tr>\n",
       "    <tr>\n",
       "      <th>4</th>\n",
       "      <td>2020/1/1 01:00</td>\n",
       "      <td>0.0</td>\n",
       "      <td>0.0</td>\n",
       "      <td>0.0</td>\n",
       "    </tr>\n",
       "  </tbody>\n",
       "</table>\n",
       "</div>"
      ],
      "text/plain": [
       "          MeterNo  10023160000011 1  10023160000011 2  10023160000011 3\n",
       "0  2020/1/1 00:00               0.0               0.0               0.0\n",
       "1  2020/1/1 00:15               0.0               0.0               0.0\n",
       "2  2020/1/1 00:30               0.0               0.0               0.0\n",
       "3  2020/1/1 00:45               0.0               0.0               0.0\n",
       "4  2020/1/1 01:00               0.0               0.0               0.0"
      ]
     },
     "execution_count": 29,
     "metadata": {},
     "output_type": "execute_result"
    }
   ],
   "source": [
    "diyige_right.head(5)"
   ]
  },
  {
   "cell_type": "code",
   "execution_count": 30,
   "metadata": {},
   "outputs": [
    {
     "data": {
      "text/plain": [
       "0        True\n",
       "1        True\n",
       "2        True\n",
       "3        True\n",
       "4        True\n",
       "         ... \n",
       "35131    True\n",
       "35132    True\n",
       "35133    True\n",
       "35134    True\n",
       "35135    True\n",
       "Name: 10023160000011 1, Length: 35136, dtype: bool"
      ]
     },
     "execution_count": 30,
     "metadata": {},
     "output_type": "execute_result"
    }
   ],
   "source": [
    "diyige_right['10023160000011 1']==0"
   ]
  },
  {
   "cell_type": "code",
   "execution_count": 31,
   "metadata": {},
   "outputs": [
    {
     "data": {
      "text/plain": [
       "0.00    33320\n",
       "0.02       17\n",
       "0.10       14\n",
       "0.11       13\n",
       "0.14       13\n",
       "        ...  \n",
       "9.07        1\n",
       "5.66        1\n",
       "4.72        1\n",
       "7.20        1\n",
       "3.96        1\n",
       "Name: 10023160000011 1, Length: 643, dtype: int64"
      ]
     },
     "execution_count": 31,
     "metadata": {},
     "output_type": "execute_result"
    }
   ],
   "source": [
    "diyige_right['10023160000011 1'].value_counts(0)"
   ]
  },
  {
   "cell_type": "markdown",
   "metadata": {},
   "source": [
    "3.1.1、计算0的占比"
   ]
  },
  {
   "cell_type": "code",
   "execution_count": 32,
   "metadata": {},
   "outputs": [],
   "source": [
    "num_0=diyige_right['10023160000011 1'][diyige_right['10023160000011 1']==0].count()"
   ]
  },
  {
   "cell_type": "code",
   "execution_count": 33,
   "metadata": {},
   "outputs": [],
   "source": [
    "num_all=diyige_right['10023160000011 1'].count()"
   ]
  },
  {
   "cell_type": "code",
   "execution_count": 34,
   "metadata": {},
   "outputs": [],
   "source": [
    "bili_0=num_0/num_all"
   ]
  },
  {
   "cell_type": "markdown",
   "metadata": {},
   "source": [
    "4、计算不平衡度"
   ]
  },
  {
   "cell_type": "code",
   "execution_count": 35,
   "metadata": {},
   "outputs": [
    {
     "data": {
      "text/html": [
       "<div>\n",
       "<style scoped>\n",
       "    .dataframe tbody tr th:only-of-type {\n",
       "        vertical-align: middle;\n",
       "    }\n",
       "\n",
       "    .dataframe tbody tr th {\n",
       "        vertical-align: top;\n",
       "    }\n",
       "\n",
       "    .dataframe thead th {\n",
       "        text-align: right;\n",
       "    }\n",
       "</style>\n",
       "<table border=\"1\" class=\"dataframe\">\n",
       "  <thead>\n",
       "    <tr style=\"text-align: right;\">\n",
       "      <th></th>\n",
       "      <th>MeterNo</th>\n",
       "      <th>10023160000011 1</th>\n",
       "      <th>10023160000011 2</th>\n",
       "      <th>10023160000011 3</th>\n",
       "    </tr>\n",
       "  </thead>\n",
       "  <tbody>\n",
       "    <tr>\n",
       "      <th>0</th>\n",
       "      <td>2020/1/1 00:00</td>\n",
       "      <td>0.0</td>\n",
       "      <td>0.0</td>\n",
       "      <td>0.0</td>\n",
       "    </tr>\n",
       "    <tr>\n",
       "      <th>1</th>\n",
       "      <td>2020/1/1 00:15</td>\n",
       "      <td>0.0</td>\n",
       "      <td>0.0</td>\n",
       "      <td>0.0</td>\n",
       "    </tr>\n",
       "    <tr>\n",
       "      <th>2</th>\n",
       "      <td>2020/1/1 00:30</td>\n",
       "      <td>0.0</td>\n",
       "      <td>0.0</td>\n",
       "      <td>0.0</td>\n",
       "    </tr>\n",
       "    <tr>\n",
       "      <th>3</th>\n",
       "      <td>2020/1/1 00:45</td>\n",
       "      <td>0.0</td>\n",
       "      <td>0.0</td>\n",
       "      <td>0.0</td>\n",
       "    </tr>\n",
       "    <tr>\n",
       "      <th>4</th>\n",
       "      <td>2020/1/1 01:00</td>\n",
       "      <td>0.0</td>\n",
       "      <td>0.0</td>\n",
       "      <td>0.0</td>\n",
       "    </tr>\n",
       "  </tbody>\n",
       "</table>\n",
       "</div>"
      ],
      "text/plain": [
       "          MeterNo  10023160000011 1  10023160000011 2  10023160000011 3\n",
       "0  2020/1/1 00:00               0.0               0.0               0.0\n",
       "1  2020/1/1 00:15               0.0               0.0               0.0\n",
       "2  2020/1/1 00:30               0.0               0.0               0.0\n",
       "3  2020/1/1 00:45               0.0               0.0               0.0\n",
       "4  2020/1/1 01:00               0.0               0.0               0.0"
      ]
     },
     "execution_count": 35,
     "metadata": {},
     "output_type": "execute_result"
    }
   ],
   "source": [
    "diyige_right.head(5)"
   ]
  },
  {
   "cell_type": "code",
   "execution_count": 36,
   "metadata": {},
   "outputs": [],
   "source": [
    "diyige_right['Mean_123']=1/3*(diyige_right.iloc[:,1]+diyige_right.iloc[:,2]+diyige_right.iloc[:,3])"
   ]
  },
  {
   "cell_type": "code",
   "execution_count": 37,
   "metadata": {},
   "outputs": [],
   "source": [
    "diyige_right['fen_zi']=abs((diyige_right.iloc[:,1]-diyige_right['Mean_123']))+abs((diyige_right.iloc[:,2]-diyige_right['Mean_123']))+abs((diyige_right.iloc[:,3]-diyige_right['Mean_123']))"
   ]
  },
  {
   "cell_type": "code",
   "execution_count": 38,
   "metadata": {},
   "outputs": [],
   "source": [
    "diyige_right['fen_mu']=3*diyige_right['Mean_123']"
   ]
  },
  {
   "cell_type": "code",
   "execution_count": 39,
   "metadata": {},
   "outputs": [],
   "source": [
    "diyige_right['不平衡度']=diyige_right['fen_zi']/(diyige_right['fen_mu']+0.001)"
   ]
  },
  {
   "cell_type": "markdown",
   "metadata": {},
   "source": [
    "5、开始画图"
   ]
  },
  {
   "cell_type": "code",
   "execution_count": 41,
   "metadata": {},
   "outputs": [],
   "source": [
    "import matplotlib.pyplot as plt"
   ]
  },
  {
   "cell_type": "code",
   "execution_count": 42,
   "metadata": {},
   "outputs": [
    {
     "data": {
      "text/html": [
       "<div>\n",
       "<style scoped>\n",
       "    .dataframe tbody tr th:only-of-type {\n",
       "        vertical-align: middle;\n",
       "    }\n",
       "\n",
       "    .dataframe tbody tr th {\n",
       "        vertical-align: top;\n",
       "    }\n",
       "\n",
       "    .dataframe thead th {\n",
       "        text-align: right;\n",
       "    }\n",
       "</style>\n",
       "<table border=\"1\" class=\"dataframe\">\n",
       "  <thead>\n",
       "    <tr style=\"text-align: right;\">\n",
       "      <th></th>\n",
       "      <th>MeterNo</th>\n",
       "      <th>10023160000011 1</th>\n",
       "      <th>10023160000011 2</th>\n",
       "      <th>10023160000011 3</th>\n",
       "      <th>Mean_123</th>\n",
       "      <th>fen_zi</th>\n",
       "      <th>fen_mu</th>\n",
       "      <th>不平衡度</th>\n",
       "    </tr>\n",
       "  </thead>\n",
       "  <tbody>\n",
       "    <tr>\n",
       "      <th>0</th>\n",
       "      <td>2020/1/1 00:00</td>\n",
       "      <td>0.0</td>\n",
       "      <td>0.0</td>\n",
       "      <td>0.0</td>\n",
       "      <td>0.0</td>\n",
       "      <td>0.0</td>\n",
       "      <td>0.0</td>\n",
       "      <td>0.0</td>\n",
       "    </tr>\n",
       "    <tr>\n",
       "      <th>1</th>\n",
       "      <td>2020/1/1 00:15</td>\n",
       "      <td>0.0</td>\n",
       "      <td>0.0</td>\n",
       "      <td>0.0</td>\n",
       "      <td>0.0</td>\n",
       "      <td>0.0</td>\n",
       "      <td>0.0</td>\n",
       "      <td>0.0</td>\n",
       "    </tr>\n",
       "    <tr>\n",
       "      <th>2</th>\n",
       "      <td>2020/1/1 00:30</td>\n",
       "      <td>0.0</td>\n",
       "      <td>0.0</td>\n",
       "      <td>0.0</td>\n",
       "      <td>0.0</td>\n",
       "      <td>0.0</td>\n",
       "      <td>0.0</td>\n",
       "      <td>0.0</td>\n",
       "    </tr>\n",
       "    <tr>\n",
       "      <th>3</th>\n",
       "      <td>2020/1/1 00:45</td>\n",
       "      <td>0.0</td>\n",
       "      <td>0.0</td>\n",
       "      <td>0.0</td>\n",
       "      <td>0.0</td>\n",
       "      <td>0.0</td>\n",
       "      <td>0.0</td>\n",
       "      <td>0.0</td>\n",
       "    </tr>\n",
       "    <tr>\n",
       "      <th>4</th>\n",
       "      <td>2020/1/1 01:00</td>\n",
       "      <td>0.0</td>\n",
       "      <td>0.0</td>\n",
       "      <td>0.0</td>\n",
       "      <td>0.0</td>\n",
       "      <td>0.0</td>\n",
       "      <td>0.0</td>\n",
       "      <td>0.0</td>\n",
       "    </tr>\n",
       "  </tbody>\n",
       "</table>\n",
       "</div>"
      ],
      "text/plain": [
       "          MeterNo  10023160000011 1  10023160000011 2  10023160000011 3  \\\n",
       "0  2020/1/1 00:00               0.0               0.0               0.0   \n",
       "1  2020/1/1 00:15               0.0               0.0               0.0   \n",
       "2  2020/1/1 00:30               0.0               0.0               0.0   \n",
       "3  2020/1/1 00:45               0.0               0.0               0.0   \n",
       "4  2020/1/1 01:00               0.0               0.0               0.0   \n",
       "\n",
       "   Mean_123  fen_zi  fen_mu  不平衡度  \n",
       "0       0.0     0.0     0.0   0.0  \n",
       "1       0.0     0.0     0.0   0.0  \n",
       "2       0.0     0.0     0.0   0.0  \n",
       "3       0.0     0.0     0.0   0.0  \n",
       "4       0.0     0.0     0.0   0.0  "
      ]
     },
     "execution_count": 42,
     "metadata": {},
     "output_type": "execute_result"
    }
   ],
   "source": [
    "diyige_right.head(5)"
   ]
  },
  {
   "cell_type": "code",
   "execution_count": 43,
   "metadata": {},
   "outputs": [
    {
     "name": "stdout",
     "output_type": "stream",
     "text": [
      "<class 'pandas.core.frame.DataFrame'>\n",
      "RangeIndex: 35136 entries, 0 to 35135\n",
      "Data columns (total 8 columns):\n",
      " #   Column            Non-Null Count  Dtype  \n",
      "---  ------            --------------  -----  \n",
      " 0   MeterNo           35136 non-null  object \n",
      " 1   10023160000011 1  35136 non-null  float64\n",
      " 2   10023160000011 2  35136 non-null  float64\n",
      " 3   10023160000011 3  35136 non-null  float64\n",
      " 4   Mean_123          35136 non-null  float64\n",
      " 5   fen_zi            35136 non-null  float64\n",
      " 6   fen_mu            35136 non-null  float64\n",
      " 7   不平衡度              35136 non-null  float64\n",
      "dtypes: float64(7), object(1)\n",
      "memory usage: 2.1+ MB\n"
     ]
    }
   ],
   "source": [
    "diyige_right.info()"
   ]
  },
  {
   "cell_type": "code",
   "execution_count": 44,
   "metadata": {},
   "outputs": [],
   "source": [
    "diyige_right['MeterNo']=diyige_right['MeterNo'].apply(pd.to_datetime)"
   ]
  },
  {
   "cell_type": "code",
   "execution_count": 45,
   "metadata": {},
   "outputs": [
    {
     "data": {
      "text/plain": [
       "<matplotlib.collections.PathCollection at 0x193b9a0b8b0>"
      ]
     },
     "execution_count": 45,
     "metadata": {},
     "output_type": "execute_result"
    },
    {
     "data": {
      "image/png": "[encoded data removed]",
      "text/plain": [
       "<Figure size 432x288 with 1 Axes>"
      ]
     },
     "metadata": {
      "needs_background": "light"
     },
     "output_type": "display_data"
    }
   ],
   "source": [
    "plt.scatter(diyige_right['MeterNo'],diyige_right['不平衡度'],color=\"g\", s=3,label='不平衡度')"
   ]
  },
  {
   "cell_type": "code",
   "execution_count": 46,
   "metadata": {},
   "outputs": [
    {
     "data": {
      "text/plain": [
       "0.000000e+00    33403\n",
       "1.706285e-16       11\n",
       "1.678765e-16        6\n",
       "1.720387e-16        5\n",
       "4.153686e-02        5\n",
       "                ...  \n",
       "1.402981e-01        1\n",
       "7.973528e-03        1\n",
       "1.972095e-02        1\n",
       "2.962834e-02        1\n",
       "3.466436e-02        1\n",
       "Name: 不平衡度, Length: 1625, dtype: int64"
      ]
     },
     "execution_count": 46,
     "metadata": {},
     "output_type": "execute_result"
    }
   ],
   "source": [
    "diyige_right['不平衡度'].value_counts()"
   ]
  },
  {
   "cell_type": "code",
   "execution_count": 47,
   "metadata": {},
   "outputs": [
    {
     "data": {
      "text/plain": [
       "0.9483151183970856"
      ]
     },
     "execution_count": 47,
     "metadata": {},
     "output_type": "execute_result"
    }
   ],
   "source": [
    "num_0/num_all"
   ]
  },
  {
   "cell_type": "code",
   "execution_count": 48,
   "metadata": {},
   "outputs": [
    {
     "data": {
      "text/plain": [
       "35136"
      ]
     },
     "execution_count": 48,
     "metadata": {},
     "output_type": "execute_result"
    }
   ],
   "source": [
    "num_all"
   ]
  },
  {
   "cell_type": "markdown",
   "metadata": {},
   "source": [
    "6、计算指标"
   ]
  },
  {
   "cell_type": "code",
   "execution_count": 49,
   "metadata": {},
   "outputs": [
    {
     "data": {
      "text/plain": [
       "0.002467327741002676"
      ]
     },
     "execution_count": 49,
     "metadata": {},
     "output_type": "execute_result"
    }
   ],
   "source": [
    "diyige_right['不平衡度'].mean()"
   ]
  },
  {
   "cell_type": "code",
   "execution_count": 50,
   "metadata": {},
   "outputs": [
    {
     "data": {
      "text/plain": [
       "count    35136.000000\n",
       "mean         0.002467\n",
       "std          0.020831\n",
       "min          0.000000\n",
       "25%          0.000000\n",
       "50%          0.000000\n",
       "75%          0.000000\n",
       "max          0.823045\n",
       "Name: 不平衡度, dtype: float64"
      ]
     },
     "execution_count": 50,
     "metadata": {},
     "output_type": "execute_result"
    }
   ],
   "source": [
    "diyige_right['不平衡度'].describe()"
   ]
  },
  {
   "cell_type": "code",
   "execution_count": null,
   "metadata": {},
   "outputs": [],
   "source": [
    "a="
   ]
  }
 ],
 "metadata": {
  "interpreter": {
   "hash": "7b4b4feff2f24a0f0a34464dbe537a36fda679851528fb8735cb41fa49dffb2d"
  },
  "kernelspec": {
   "display_name": "Python 3.8.8 ('base')",
   "language": "python",
   "name": "python3"
  },
  "language_info": {
   "codemirror_mode": {
    "name": "ipython",
    "version": 3
   },
   "file_extension": ".py",
   "mimetype": "text/x-python",
   "name": "python",
   "nbconvert_exporter": "python",
   "pygments_lexer": "ipython3",
   "version": "3.8.8"
  },
  "orig_nbformat": 4
 },
 "nbformat": 4,
 "nbformat_minor": 2
}
