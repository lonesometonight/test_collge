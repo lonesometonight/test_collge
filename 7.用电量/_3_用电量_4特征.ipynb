{
 "cells": [
  {
   "cell_type": "markdown",
   "metadata": {},
   "source": [
    "一、判断月用电量和日用电量是否匹配"
   ]
  },
  {
   "cell_type": "markdown",
   "metadata": {},
   "source": [
    "1、导入数据"
   ]
  },
  {
   "cell_type": "code",
   "execution_count": 1,
   "metadata": {},
   "outputs": [],
   "source": [
    "import pandas as pd\n",
    "import numpy as np"
   ]
  },
  {
   "cell_type": "code",
   "execution_count": 2,
   "metadata": {},
   "outputs": [],
   "source": [
    "filename_month_dianliang = \"D:\\\\1_kaoyan\\college_ending\\\\400仪表数据--全\\middata - 副本\\月结用电量数据——不同类型的功率收费区分\\处理过\\FourHundred_monthly_P0300_important.csv\""
   ]
  },
  {
   "cell_type": "markdown",
   "metadata": {},
   "source": [
    "1.1、测试文件打开的不同形式"
   ]
  },
  {
   "cell_type": "code",
   "execution_count": 3,
   "metadata": {},
   "outputs": [],
   "source": [
    "file_name = r\"D:\\1_kaoyan\\college_ending\\400仪表数据--全\\middata - 副本\\月结用电量数据——不同类型的功率收费区分\\处理过\\FourHundred_monthly_P0300_important.csv\""
   ]
  },
  {
   "cell_type": "code",
   "execution_count": 4,
   "metadata": {},
   "outputs": [],
   "source": [
    "data_dianliang = pd.read_csv(filename_month_dianliang,encoding='utf-8')"
   ]
  },
  {
   "cell_type": "code",
   "execution_count": 5,
   "metadata": {},
   "outputs": [],
   "source": [
    "data_ceshi = pd.read_csv(file_name,encoding='utf-8')"
   ]
  },
  {
   "cell_type": "code",
   "execution_count": 6,
   "metadata": {},
   "outputs": [
    {
     "data": {
      "text/html": [
       "<div>\n",
       "<style scoped>\n",
       "    .dataframe tbody tr th:only-of-type {\n",
       "        vertical-align: middle;\n",
       "    }\n",
       "\n",
       "    .dataframe tbody tr th {\n",
       "        vertical-align: top;\n",
       "    }\n",
       "\n",
       "    .dataframe thead th {\n",
       "        text-align: right;\n",
       "    }\n",
       "</style>\n",
       "<table border=\"1\" class=\"dataframe\">\n",
       "  <thead>\n",
       "    <tr style=\"text-align: right;\">\n",
       "      <th></th>\n",
       "      <th>meterNo</th>\n",
       "      <th>10023160000029</th>\n",
       "      <th>10023160000030</th>\n",
       "      <th>10023160000032</th>\n",
       "      <th>10023160000036</th>\n",
       "      <th>10023160000042</th>\n",
       "      <th>10023160000043</th>\n",
       "      <th>10023160000048</th>\n",
       "      <th>10023160000049</th>\n",
       "      <th>10023160000060</th>\n",
       "      <th>...</th>\n",
       "      <th>10023160000343</th>\n",
       "      <th>10023160000345</th>\n",
       "      <th>10023160000346</th>\n",
       "      <th>10023160000349</th>\n",
       "      <th>10023160000350</th>\n",
       "      <th>10023160000352</th>\n",
       "      <th>10014164400011</th>\n",
       "      <th>10023160000023</th>\n",
       "      <th>10023160000024</th>\n",
       "      <th>10023160000028</th>\n",
       "    </tr>\n",
       "  </thead>\n",
       "  <tbody>\n",
       "    <tr>\n",
       "      <th>0</th>\n",
       "      <td>2020/01/01</td>\n",
       "      <td>NaN</td>\n",
       "      <td>943.960</td>\n",
       "      <td>NaN</td>\n",
       "      <td>24203.820</td>\n",
       "      <td>NaN</td>\n",
       "      <td>4515.096</td>\n",
       "      <td>2415.337</td>\n",
       "      <td>32049.118</td>\n",
       "      <td>11100.061</td>\n",
       "      <td>...</td>\n",
       "      <td>NaN</td>\n",
       "      <td>NaN</td>\n",
       "      <td>NaN</td>\n",
       "      <td>NaN</td>\n",
       "      <td>NaN</td>\n",
       "      <td>6448.154</td>\n",
       "      <td>319990.22</td>\n",
       "      <td>3241.042</td>\n",
       "      <td>7228.847</td>\n",
       "      <td>490.567</td>\n",
       "    </tr>\n",
       "    <tr>\n",
       "      <th>1</th>\n",
       "      <td>2020/02/01</td>\n",
       "      <td>NaN</td>\n",
       "      <td>951.607</td>\n",
       "      <td>3172.237</td>\n",
       "      <td>NaN</td>\n",
       "      <td>NaN</td>\n",
       "      <td>NaN</td>\n",
       "      <td>NaN</td>\n",
       "      <td>NaN</td>\n",
       "      <td>13517.172</td>\n",
       "      <td>...</td>\n",
       "      <td>7192.481</td>\n",
       "      <td>6087.748</td>\n",
       "      <td>3418.803</td>\n",
       "      <td>NaN</td>\n",
       "      <td>NaN</td>\n",
       "      <td>6497.013</td>\n",
       "      <td>341856.32</td>\n",
       "      <td>NaN</td>\n",
       "      <td>7925.095</td>\n",
       "      <td>687.767</td>\n",
       "    </tr>\n",
       "    <tr>\n",
       "      <th>2</th>\n",
       "      <td>2020/03/01</td>\n",
       "      <td>NaN</td>\n",
       "      <td>1002.384</td>\n",
       "      <td>NaN</td>\n",
       "      <td>NaN</td>\n",
       "      <td>21127.655</td>\n",
       "      <td>NaN</td>\n",
       "      <td>NaN</td>\n",
       "      <td>34430.163</td>\n",
       "      <td>15560.190</td>\n",
       "      <td>...</td>\n",
       "      <td>7425.386</td>\n",
       "      <td>8161.105</td>\n",
       "      <td>3598.794</td>\n",
       "      <td>NaN</td>\n",
       "      <td>NaN</td>\n",
       "      <td>6545.503</td>\n",
       "      <td>357050.36</td>\n",
       "      <td>3623.238</td>\n",
       "      <td>NaN</td>\n",
       "      <td>925.205</td>\n",
       "    </tr>\n",
       "    <tr>\n",
       "      <th>3</th>\n",
       "      <td>2020/04/01</td>\n",
       "      <td>NaN</td>\n",
       "      <td>NaN</td>\n",
       "      <td>3363.291</td>\n",
       "      <td>31589.719</td>\n",
       "      <td>21756.424</td>\n",
       "      <td>5000.834</td>\n",
       "      <td>2591.190</td>\n",
       "      <td>NaN</td>\n",
       "      <td>16432.878</td>\n",
       "      <td>...</td>\n",
       "      <td>7557.746</td>\n",
       "      <td>8661.468</td>\n",
       "      <td>NaN</td>\n",
       "      <td>2803.823</td>\n",
       "      <td>8785.642</td>\n",
       "      <td>6580.769</td>\n",
       "      <td>368250.04</td>\n",
       "      <td>3844.503</td>\n",
       "      <td>8640.065</td>\n",
       "      <td>953.386</td>\n",
       "    </tr>\n",
       "    <tr>\n",
       "      <th>4</th>\n",
       "      <td>2020/05/01</td>\n",
       "      <td>NaN</td>\n",
       "      <td>NaN</td>\n",
       "      <td>3395.126</td>\n",
       "      <td>33603.535</td>\n",
       "      <td>NaN</td>\n",
       "      <td>5086.672</td>\n",
       "      <td>2654.542</td>\n",
       "      <td>NaN</td>\n",
       "      <td>16817.137</td>\n",
       "      <td>...</td>\n",
       "      <td>7668.069</td>\n",
       "      <td>9003.034</td>\n",
       "      <td>3801.965</td>\n",
       "      <td>2804.346</td>\n",
       "      <td>9028.801</td>\n",
       "      <td>6615.823</td>\n",
       "      <td>376873.24</td>\n",
       "      <td>NaN</td>\n",
       "      <td>8859.115</td>\n",
       "      <td>960.183</td>\n",
       "    </tr>\n",
       "  </tbody>\n",
       "</table>\n",
       "<p>5 rows × 397 columns</p>\n",
       "</div>"
      ],
      "text/plain": [
       "      meterNo  10023160000029   10023160000030   10023160000032   \\\n",
       "0  2020/01/01              NaN          943.960              NaN   \n",
       "1  2020/02/01              NaN          951.607         3172.237   \n",
       "2  2020/03/01              NaN         1002.384              NaN   \n",
       "3  2020/04/01              NaN              NaN         3363.291   \n",
       "4  2020/05/01              NaN              NaN         3395.126   \n",
       "\n",
       "   10023160000036   10023160000042   10023160000043   10023160000048   \\\n",
       "0        24203.820              NaN         4515.096         2415.337   \n",
       "1              NaN              NaN              NaN              NaN   \n",
       "2              NaN        21127.655              NaN              NaN   \n",
       "3        31589.719        21756.424         5000.834         2591.190   \n",
       "4        33603.535              NaN         5086.672         2654.542   \n",
       "\n",
       "   10023160000049   10023160000060   ...  10023160000343   10023160000345   \\\n",
       "0        32049.118        11100.061  ...              NaN              NaN   \n",
       "1              NaN        13517.172  ...         7192.481         6087.748   \n",
       "2        34430.163        15560.190  ...         7425.386         8161.105   \n",
       "3              NaN        16432.878  ...         7557.746         8661.468   \n",
       "4              NaN        16817.137  ...         7668.069         9003.034   \n",
       "\n",
       "   10023160000346   10023160000349   10023160000350   10023160000352   \\\n",
       "0              NaN              NaN              NaN         6448.154   \n",
       "1         3418.803              NaN              NaN         6497.013   \n",
       "2         3598.794              NaN              NaN         6545.503   \n",
       "3              NaN         2803.823         8785.642         6580.769   \n",
       "4         3801.965         2804.346         9028.801         6615.823   \n",
       "\n",
       "   10014164400011   10023160000023   10023160000024   10023160000028   \n",
       "0        319990.22         3241.042         7228.847          490.567  \n",
       "1        341856.32              NaN         7925.095          687.767  \n",
       "2        357050.36         3623.238              NaN          925.205  \n",
       "3        368250.04         3844.503         8640.065          953.386  \n",
       "4        376873.24              NaN         8859.115          960.183  \n",
       "\n",
       "[5 rows x 397 columns]"
      ]
     },
     "execution_count": 6,
     "metadata": {},
     "output_type": "execute_result"
    }
   ],
   "source": [
    "data_ceshi.head(5)"
   ]
  },
  {
   "cell_type": "code",
   "execution_count": 7,
   "metadata": {},
   "outputs": [
    {
     "data": {
      "text/html": [
       "<div>\n",
       "<style scoped>\n",
       "    .dataframe tbody tr th:only-of-type {\n",
       "        vertical-align: middle;\n",
       "    }\n",
       "\n",
       "    .dataframe tbody tr th {\n",
       "        vertical-align: top;\n",
       "    }\n",
       "\n",
       "    .dataframe thead th {\n",
       "        text-align: right;\n",
       "    }\n",
       "</style>\n",
       "<table border=\"1\" class=\"dataframe\">\n",
       "  <thead>\n",
       "    <tr style=\"text-align: right;\">\n",
       "      <th></th>\n",
       "      <th>meterNo</th>\n",
       "      <th>10023160000029</th>\n",
       "      <th>10023160000030</th>\n",
       "      <th>10023160000032</th>\n",
       "      <th>10023160000036</th>\n",
       "      <th>10023160000042</th>\n",
       "      <th>10023160000043</th>\n",
       "      <th>10023160000048</th>\n",
       "      <th>10023160000049</th>\n",
       "      <th>10023160000060</th>\n",
       "      <th>...</th>\n",
       "      <th>10023160000343</th>\n",
       "      <th>10023160000345</th>\n",
       "      <th>10023160000346</th>\n",
       "      <th>10023160000349</th>\n",
       "      <th>10023160000350</th>\n",
       "      <th>10023160000352</th>\n",
       "      <th>10014164400011</th>\n",
       "      <th>10023160000023</th>\n",
       "      <th>10023160000024</th>\n",
       "      <th>10023160000028</th>\n",
       "    </tr>\n",
       "  </thead>\n",
       "  <tbody>\n",
       "    <tr>\n",
       "      <th>0</th>\n",
       "      <td>2020/01/01</td>\n",
       "      <td>NaN</td>\n",
       "      <td>943.960</td>\n",
       "      <td>NaN</td>\n",
       "      <td>24203.820</td>\n",
       "      <td>NaN</td>\n",
       "      <td>4515.096</td>\n",
       "      <td>2415.337</td>\n",
       "      <td>32049.118</td>\n",
       "      <td>11100.061</td>\n",
       "      <td>...</td>\n",
       "      <td>NaN</td>\n",
       "      <td>NaN</td>\n",
       "      <td>NaN</td>\n",
       "      <td>NaN</td>\n",
       "      <td>NaN</td>\n",
       "      <td>6448.154</td>\n",
       "      <td>319990.22</td>\n",
       "      <td>3241.042</td>\n",
       "      <td>7228.847</td>\n",
       "      <td>490.567</td>\n",
       "    </tr>\n",
       "    <tr>\n",
       "      <th>1</th>\n",
       "      <td>2020/02/01</td>\n",
       "      <td>NaN</td>\n",
       "      <td>951.607</td>\n",
       "      <td>3172.237</td>\n",
       "      <td>NaN</td>\n",
       "      <td>NaN</td>\n",
       "      <td>NaN</td>\n",
       "      <td>NaN</td>\n",
       "      <td>NaN</td>\n",
       "      <td>13517.172</td>\n",
       "      <td>...</td>\n",
       "      <td>7192.481</td>\n",
       "      <td>6087.748</td>\n",
       "      <td>3418.803</td>\n",
       "      <td>NaN</td>\n",
       "      <td>NaN</td>\n",
       "      <td>6497.013</td>\n",
       "      <td>341856.32</td>\n",
       "      <td>NaN</td>\n",
       "      <td>7925.095</td>\n",
       "      <td>687.767</td>\n",
       "    </tr>\n",
       "    <tr>\n",
       "      <th>2</th>\n",
       "      <td>2020/03/01</td>\n",
       "      <td>NaN</td>\n",
       "      <td>1002.384</td>\n",
       "      <td>NaN</td>\n",
       "      <td>NaN</td>\n",
       "      <td>21127.655</td>\n",
       "      <td>NaN</td>\n",
       "      <td>NaN</td>\n",
       "      <td>34430.163</td>\n",
       "      <td>15560.190</td>\n",
       "      <td>...</td>\n",
       "      <td>7425.386</td>\n",
       "      <td>8161.105</td>\n",
       "      <td>3598.794</td>\n",
       "      <td>NaN</td>\n",
       "      <td>NaN</td>\n",
       "      <td>6545.503</td>\n",
       "      <td>357050.36</td>\n",
       "      <td>3623.238</td>\n",
       "      <td>NaN</td>\n",
       "      <td>925.205</td>\n",
       "    </tr>\n",
       "    <tr>\n",
       "      <th>3</th>\n",
       "      <td>2020/04/01</td>\n",
       "      <td>NaN</td>\n",
       "      <td>NaN</td>\n",
       "      <td>3363.291</td>\n",
       "      <td>31589.719</td>\n",
       "      <td>21756.424</td>\n",
       "      <td>5000.834</td>\n",
       "      <td>2591.190</td>\n",
       "      <td>NaN</td>\n",
       "      <td>16432.878</td>\n",
       "      <td>...</td>\n",
       "      <td>7557.746</td>\n",
       "      <td>8661.468</td>\n",
       "      <td>NaN</td>\n",
       "      <td>2803.823</td>\n",
       "      <td>8785.642</td>\n",
       "      <td>6580.769</td>\n",
       "      <td>368250.04</td>\n",
       "      <td>3844.503</td>\n",
       "      <td>8640.065</td>\n",
       "      <td>953.386</td>\n",
       "    </tr>\n",
       "    <tr>\n",
       "      <th>4</th>\n",
       "      <td>2020/05/01</td>\n",
       "      <td>NaN</td>\n",
       "      <td>NaN</td>\n",
       "      <td>3395.126</td>\n",
       "      <td>33603.535</td>\n",
       "      <td>NaN</td>\n",
       "      <td>5086.672</td>\n",
       "      <td>2654.542</td>\n",
       "      <td>NaN</td>\n",
       "      <td>16817.137</td>\n",
       "      <td>...</td>\n",
       "      <td>7668.069</td>\n",
       "      <td>9003.034</td>\n",
       "      <td>3801.965</td>\n",
       "      <td>2804.346</td>\n",
       "      <td>9028.801</td>\n",
       "      <td>6615.823</td>\n",
       "      <td>376873.24</td>\n",
       "      <td>NaN</td>\n",
       "      <td>8859.115</td>\n",
       "      <td>960.183</td>\n",
       "    </tr>\n",
       "  </tbody>\n",
       "</table>\n",
       "<p>5 rows × 397 columns</p>\n",
       "</div>"
      ],
      "text/plain": [
       "      meterNo  10023160000029   10023160000030   10023160000032   \\\n",
       "0  2020/01/01              NaN          943.960              NaN   \n",
       "1  2020/02/01              NaN          951.607         3172.237   \n",
       "2  2020/03/01              NaN         1002.384              NaN   \n",
       "3  2020/04/01              NaN              NaN         3363.291   \n",
       "4  2020/05/01              NaN              NaN         3395.126   \n",
       "\n",
       "   10023160000036   10023160000042   10023160000043   10023160000048   \\\n",
       "0        24203.820              NaN         4515.096         2415.337   \n",
       "1              NaN              NaN              NaN              NaN   \n",
       "2              NaN        21127.655              NaN              NaN   \n",
       "3        31589.719        21756.424         5000.834         2591.190   \n",
       "4        33603.535              NaN         5086.672         2654.542   \n",
       "\n",
       "   10023160000049   10023160000060   ...  10023160000343   10023160000345   \\\n",
       "0        32049.118        11100.061  ...              NaN              NaN   \n",
       "1              NaN        13517.172  ...         7192.481         6087.748   \n",
       "2        34430.163        15560.190  ...         7425.386         8161.105   \n",
       "3              NaN        16432.878  ...         7557.746         8661.468   \n",
       "4              NaN        16817.137  ...         7668.069         9003.034   \n",
       "\n",
       "   10023160000346   10023160000349   10023160000350   10023160000352   \\\n",
       "0              NaN              NaN              NaN         6448.154   \n",
       "1         3418.803              NaN              NaN         6497.013   \n",
       "2         3598.794              NaN              NaN         6545.503   \n",
       "3              NaN         2803.823         8785.642         6580.769   \n",
       "4         3801.965         2804.346         9028.801         6615.823   \n",
       "\n",
       "   10014164400011   10023160000023   10023160000024   10023160000028   \n",
       "0        319990.22         3241.042         7228.847          490.567  \n",
       "1        341856.32              NaN         7925.095          687.767  \n",
       "2        357050.36         3623.238              NaN          925.205  \n",
       "3        368250.04         3844.503         8640.065          953.386  \n",
       "4        376873.24              NaN         8859.115          960.183  \n",
       "\n",
       "[5 rows x 397 columns]"
      ]
     },
     "execution_count": 7,
     "metadata": {},
     "output_type": "execute_result"
    }
   ],
   "source": [
    "data_dianliang.head(5)"
   ]
  },
  {
   "cell_type": "code",
   "execution_count": 8,
   "metadata": {},
   "outputs": [
    {
     "name": "stdout",
     "output_type": "stream",
     "text": [
      "<class 'pandas.core.frame.DataFrame'>\n",
      "RangeIndex: 12 entries, 0 to 11\n",
      "Columns: 397 entries, meterNo to 10023160000028 \n",
      "dtypes: float64(396), object(1)\n",
      "memory usage: 37.3+ KB\n"
     ]
    }
   ],
   "source": [
    "data_dianliang.info()"
   ]
  },
  {
   "cell_type": "markdown",
   "metadata": {},
   "source": [
    "1.2、计算每一个表空值的个数"
   ]
  },
  {
   "cell_type": "code",
   "execution_count": 9,
   "metadata": {},
   "outputs": [
    {
     "data": {
      "text/html": [
       "<div>\n",
       "<style scoped>\n",
       "    .dataframe tbody tr th:only-of-type {\n",
       "        vertical-align: middle;\n",
       "    }\n",
       "\n",
       "    .dataframe tbody tr th {\n",
       "        vertical-align: top;\n",
       "    }\n",
       "\n",
       "    .dataframe thead th {\n",
       "        text-align: right;\n",
       "    }\n",
       "</style>\n",
       "<table border=\"1\" class=\"dataframe\">\n",
       "  <thead>\n",
       "    <tr style=\"text-align: right;\">\n",
       "      <th></th>\n",
       "      <th>meterNo</th>\n",
       "      <th>10023160000029</th>\n",
       "      <th>10023160000030</th>\n",
       "      <th>10023160000032</th>\n",
       "      <th>10023160000036</th>\n",
       "      <th>10023160000042</th>\n",
       "      <th>10023160000043</th>\n",
       "      <th>10023160000048</th>\n",
       "      <th>10023160000049</th>\n",
       "      <th>10023160000060</th>\n",
       "      <th>...</th>\n",
       "      <th>10023160000343</th>\n",
       "      <th>10023160000345</th>\n",
       "      <th>10023160000346</th>\n",
       "      <th>10023160000349</th>\n",
       "      <th>10023160000350</th>\n",
       "      <th>10023160000352</th>\n",
       "      <th>10014164400011</th>\n",
       "      <th>10023160000023</th>\n",
       "      <th>10023160000024</th>\n",
       "      <th>10023160000028</th>\n",
       "    </tr>\n",
       "  </thead>\n",
       "  <tbody>\n",
       "    <tr>\n",
       "      <th>0</th>\n",
       "      <td>False</td>\n",
       "      <td>True</td>\n",
       "      <td>False</td>\n",
       "      <td>True</td>\n",
       "      <td>False</td>\n",
       "      <td>True</td>\n",
       "      <td>False</td>\n",
       "      <td>False</td>\n",
       "      <td>False</td>\n",
       "      <td>False</td>\n",
       "      <td>...</td>\n",
       "      <td>True</td>\n",
       "      <td>True</td>\n",
       "      <td>True</td>\n",
       "      <td>True</td>\n",
       "      <td>True</td>\n",
       "      <td>False</td>\n",
       "      <td>False</td>\n",
       "      <td>False</td>\n",
       "      <td>False</td>\n",
       "      <td>False</td>\n",
       "    </tr>\n",
       "    <tr>\n",
       "      <th>1</th>\n",
       "      <td>False</td>\n",
       "      <td>True</td>\n",
       "      <td>False</td>\n",
       "      <td>False</td>\n",
       "      <td>True</td>\n",
       "      <td>True</td>\n",
       "      <td>True</td>\n",
       "      <td>True</td>\n",
       "      <td>True</td>\n",
       "      <td>False</td>\n",
       "      <td>...</td>\n",
       "      <td>False</td>\n",
       "      <td>False</td>\n",
       "      <td>False</td>\n",
       "      <td>True</td>\n",
       "      <td>True</td>\n",
       "      <td>False</td>\n",
       "      <td>False</td>\n",
       "      <td>True</td>\n",
       "      <td>False</td>\n",
       "      <td>False</td>\n",
       "    </tr>\n",
       "    <tr>\n",
       "      <th>2</th>\n",
       "      <td>False</td>\n",
       "      <td>True</td>\n",
       "      <td>False</td>\n",
       "      <td>True</td>\n",
       "      <td>True</td>\n",
       "      <td>False</td>\n",
       "      <td>True</td>\n",
       "      <td>True</td>\n",
       "      <td>False</td>\n",
       "      <td>False</td>\n",
       "      <td>...</td>\n",
       "      <td>False</td>\n",
       "      <td>False</td>\n",
       "      <td>False</td>\n",
       "      <td>True</td>\n",
       "      <td>True</td>\n",
       "      <td>False</td>\n",
       "      <td>False</td>\n",
       "      <td>False</td>\n",
       "      <td>True</td>\n",
       "      <td>False</td>\n",
       "    </tr>\n",
       "    <tr>\n",
       "      <th>3</th>\n",
       "      <td>False</td>\n",
       "      <td>True</td>\n",
       "      <td>True</td>\n",
       "      <td>False</td>\n",
       "      <td>False</td>\n",
       "      <td>False</td>\n",
       "      <td>False</td>\n",
       "      <td>False</td>\n",
       "      <td>True</td>\n",
       "      <td>False</td>\n",
       "      <td>...</td>\n",
       "      <td>False</td>\n",
       "      <td>False</td>\n",
       "      <td>True</td>\n",
       "      <td>False</td>\n",
       "      <td>False</td>\n",
       "      <td>False</td>\n",
       "      <td>False</td>\n",
       "      <td>False</td>\n",
       "      <td>False</td>\n",
       "      <td>False</td>\n",
       "    </tr>\n",
       "    <tr>\n",
       "      <th>4</th>\n",
       "      <td>False</td>\n",
       "      <td>True</td>\n",
       "      <td>True</td>\n",
       "      <td>False</td>\n",
       "      <td>False</td>\n",
       "      <td>True</td>\n",
       "      <td>False</td>\n",
       "      <td>False</td>\n",
       "      <td>True</td>\n",
       "      <td>False</td>\n",
       "      <td>...</td>\n",
       "      <td>False</td>\n",
       "      <td>False</td>\n",
       "      <td>False</td>\n",
       "      <td>False</td>\n",
       "      <td>False</td>\n",
       "      <td>False</td>\n",
       "      <td>False</td>\n",
       "      <td>True</td>\n",
       "      <td>False</td>\n",
       "      <td>False</td>\n",
       "    </tr>\n",
       "    <tr>\n",
       "      <th>5</th>\n",
       "      <td>False</td>\n",
       "      <td>True</td>\n",
       "      <td>True</td>\n",
       "      <td>False</td>\n",
       "      <td>False</td>\n",
       "      <td>True</td>\n",
       "      <td>False</td>\n",
       "      <td>False</td>\n",
       "      <td>False</td>\n",
       "      <td>False</td>\n",
       "      <td>...</td>\n",
       "      <td>False</td>\n",
       "      <td>False</td>\n",
       "      <td>False</td>\n",
       "      <td>False</td>\n",
       "      <td>False</td>\n",
       "      <td>False</td>\n",
       "      <td>False</td>\n",
       "      <td>True</td>\n",
       "      <td>False</td>\n",
       "      <td>True</td>\n",
       "    </tr>\n",
       "    <tr>\n",
       "      <th>6</th>\n",
       "      <td>False</td>\n",
       "      <td>True</td>\n",
       "      <td>False</td>\n",
       "      <td>True</td>\n",
       "      <td>False</td>\n",
       "      <td>True</td>\n",
       "      <td>False</td>\n",
       "      <td>False</td>\n",
       "      <td>False</td>\n",
       "      <td>False</td>\n",
       "      <td>...</td>\n",
       "      <td>False</td>\n",
       "      <td>False</td>\n",
       "      <td>False</td>\n",
       "      <td>True</td>\n",
       "      <td>False</td>\n",
       "      <td>False</td>\n",
       "      <td>False</td>\n",
       "      <td>True</td>\n",
       "      <td>False</td>\n",
       "      <td>False</td>\n",
       "    </tr>\n",
       "    <tr>\n",
       "      <th>7</th>\n",
       "      <td>False</td>\n",
       "      <td>True</td>\n",
       "      <td>False</td>\n",
       "      <td>False</td>\n",
       "      <td>False</td>\n",
       "      <td>True</td>\n",
       "      <td>False</td>\n",
       "      <td>False</td>\n",
       "      <td>False</td>\n",
       "      <td>False</td>\n",
       "      <td>...</td>\n",
       "      <td>False</td>\n",
       "      <td>False</td>\n",
       "      <td>False</td>\n",
       "      <td>False</td>\n",
       "      <td>False</td>\n",
       "      <td>False</td>\n",
       "      <td>False</td>\n",
       "      <td>False</td>\n",
       "      <td>False</td>\n",
       "      <td>False</td>\n",
       "    </tr>\n",
       "    <tr>\n",
       "      <th>8</th>\n",
       "      <td>False</td>\n",
       "      <td>True</td>\n",
       "      <td>False</td>\n",
       "      <td>False</td>\n",
       "      <td>False</td>\n",
       "      <td>True</td>\n",
       "      <td>False</td>\n",
       "      <td>False</td>\n",
       "      <td>False</td>\n",
       "      <td>False</td>\n",
       "      <td>...</td>\n",
       "      <td>False</td>\n",
       "      <td>False</td>\n",
       "      <td>False</td>\n",
       "      <td>False</td>\n",
       "      <td>False</td>\n",
       "      <td>False</td>\n",
       "      <td>False</td>\n",
       "      <td>False</td>\n",
       "      <td>False</td>\n",
       "      <td>False</td>\n",
       "    </tr>\n",
       "    <tr>\n",
       "      <th>9</th>\n",
       "      <td>False</td>\n",
       "      <td>True</td>\n",
       "      <td>False</td>\n",
       "      <td>False</td>\n",
       "      <td>False</td>\n",
       "      <td>True</td>\n",
       "      <td>True</td>\n",
       "      <td>False</td>\n",
       "      <td>False</td>\n",
       "      <td>False</td>\n",
       "      <td>...</td>\n",
       "      <td>False</td>\n",
       "      <td>False</td>\n",
       "      <td>False</td>\n",
       "      <td>True</td>\n",
       "      <td>False</td>\n",
       "      <td>False</td>\n",
       "      <td>False</td>\n",
       "      <td>False</td>\n",
       "      <td>False</td>\n",
       "      <td>False</td>\n",
       "    </tr>\n",
       "    <tr>\n",
       "      <th>10</th>\n",
       "      <td>False</td>\n",
       "      <td>False</td>\n",
       "      <td>True</td>\n",
       "      <td>True</td>\n",
       "      <td>True</td>\n",
       "      <td>True</td>\n",
       "      <td>True</td>\n",
       "      <td>False</td>\n",
       "      <td>True</td>\n",
       "      <td>False</td>\n",
       "      <td>...</td>\n",
       "      <td>False</td>\n",
       "      <td>False</td>\n",
       "      <td>False</td>\n",
       "      <td>True</td>\n",
       "      <td>True</td>\n",
       "      <td>False</td>\n",
       "      <td>False</td>\n",
       "      <td>False</td>\n",
       "      <td>True</td>\n",
       "      <td>False</td>\n",
       "    </tr>\n",
       "    <tr>\n",
       "      <th>11</th>\n",
       "      <td>False</td>\n",
       "      <td>False</td>\n",
       "      <td>False</td>\n",
       "      <td>True</td>\n",
       "      <td>True</td>\n",
       "      <td>True</td>\n",
       "      <td>True</td>\n",
       "      <td>True</td>\n",
       "      <td>False</td>\n",
       "      <td>False</td>\n",
       "      <td>...</td>\n",
       "      <td>False</td>\n",
       "      <td>False</td>\n",
       "      <td>False</td>\n",
       "      <td>True</td>\n",
       "      <td>True</td>\n",
       "      <td>False</td>\n",
       "      <td>False</td>\n",
       "      <td>False</td>\n",
       "      <td>False</td>\n",
       "      <td>False</td>\n",
       "    </tr>\n",
       "  </tbody>\n",
       "</table>\n",
       "<p>12 rows × 397 columns</p>\n",
       "</div>"
      ],
      "text/plain": [
       "    meterNo  10023160000029   10023160000030   10023160000032   \\\n",
       "0     False             True            False             True   \n",
       "1     False             True            False            False   \n",
       "2     False             True            False             True   \n",
       "3     False             True             True            False   \n",
       "4     False             True             True            False   \n",
       "5     False             True             True            False   \n",
       "6     False             True            False             True   \n",
       "7     False             True            False            False   \n",
       "8     False             True            False            False   \n",
       "9     False             True            False            False   \n",
       "10    False            False             True             True   \n",
       "11    False            False            False             True   \n",
       "\n",
       "    10023160000036   10023160000042   10023160000043   10023160000048   \\\n",
       "0             False             True            False            False   \n",
       "1              True             True             True             True   \n",
       "2              True            False             True             True   \n",
       "3             False            False            False            False   \n",
       "4             False             True            False            False   \n",
       "5             False             True            False            False   \n",
       "6             False             True            False            False   \n",
       "7             False             True            False            False   \n",
       "8             False             True            False            False   \n",
       "9             False             True             True            False   \n",
       "10             True             True             True            False   \n",
       "11             True             True             True             True   \n",
       "\n",
       "    10023160000049   10023160000060   ...  10023160000343   10023160000345   \\\n",
       "0             False            False  ...             True             True   \n",
       "1              True            False  ...            False            False   \n",
       "2             False            False  ...            False            False   \n",
       "3              True            False  ...            False            False   \n",
       "4              True            False  ...            False            False   \n",
       "5             False            False  ...            False            False   \n",
       "6             False            False  ...            False            False   \n",
       "7             False            False  ...            False            False   \n",
       "8             False            False  ...            False            False   \n",
       "9             False            False  ...            False            False   \n",
       "10             True            False  ...            False            False   \n",
       "11            False            False  ...            False            False   \n",
       "\n",
       "    10023160000346   10023160000349   10023160000350   10023160000352   \\\n",
       "0              True             True             True            False   \n",
       "1             False             True             True            False   \n",
       "2             False             True             True            False   \n",
       "3              True            False            False            False   \n",
       "4             False            False            False            False   \n",
       "5             False            False            False            False   \n",
       "6             False             True            False            False   \n",
       "7             False            False            False            False   \n",
       "8             False            False            False            False   \n",
       "9             False             True            False            False   \n",
       "10            False             True             True            False   \n",
       "11            False             True             True            False   \n",
       "\n",
       "    10014164400011   10023160000023   10023160000024   10023160000028   \n",
       "0             False            False            False            False  \n",
       "1             False             True            False            False  \n",
       "2             False            False             True            False  \n",
       "3             False            False            False            False  \n",
       "4             False             True            False            False  \n",
       "5             False             True            False             True  \n",
       "6             False             True            False            False  \n",
       "7             False            False            False            False  \n",
       "8             False            False            False            False  \n",
       "9             False            False            False            False  \n",
       "10            False            False             True            False  \n",
       "11            False            False            False            False  \n",
       "\n",
       "[12 rows x 397 columns]"
      ]
     },
     "execution_count": 9,
     "metadata": {},
     "output_type": "execute_result"
    }
   ],
   "source": [
    "data_dianliang.isnull()"
   ]
  },
  {
   "cell_type": "code",
   "execution_count": 10,
   "metadata": {},
   "outputs": [],
   "source": [
    "num_not0=data_dianliang.notnull().sum(axis=0)"
   ]
  },
  {
   "cell_type": "code",
   "execution_count": 11,
   "metadata": {},
   "outputs": [
    {
     "data": {
      "text/plain": [
       "meterNo            12\n",
       "10023160000029      2\n",
       "10023160000030      8\n",
       "10023160000032      7\n",
       "10023160000036      8\n",
       "                   ..\n",
       "10023160000352     12\n",
       "10014164400011     12\n",
       "10023160000023      8\n",
       "10023160000024     10\n",
       "10023160000028     11\n",
       "Length: 397, dtype: int64"
      ]
     },
     "execution_count": 11,
     "metadata": {},
     "output_type": "execute_result"
    }
   ],
   "source": [
    "num_not0"
   ]
  },
  {
   "cell_type": "code",
   "execution_count": 12,
   "metadata": {},
   "outputs": [
    {
     "data": {
      "text/plain": [
       "pandas.core.series.Series"
      ]
     },
     "execution_count": 12,
     "metadata": {},
     "output_type": "execute_result"
    }
   ],
   "source": [
    "type(num_not0)"
   ]
  },
  {
   "cell_type": "code",
   "execution_count": 13,
   "metadata": {},
   "outputs": [],
   "source": [
    "data_not0 = pd.DataFrame(num_not0)"
   ]
  },
  {
   "cell_type": "code",
   "execution_count": 14,
   "metadata": {},
   "outputs": [],
   "source": [
    "data_not0.reset_index(inplace=True)"
   ]
  },
  {
   "cell_type": "code",
   "execution_count": 15,
   "metadata": {},
   "outputs": [],
   "source": [
    "data_not0.columns=['meterNo','num_not0']"
   ]
  },
  {
   "cell_type": "code",
   "execution_count": 16,
   "metadata": {},
   "outputs": [],
   "source": [
    "data_not0.drop([0],axis=0,inplace=True)"
   ]
  },
  {
   "cell_type": "code",
   "execution_count": 17,
   "metadata": {},
   "outputs": [
    {
     "data": {
      "text/html": [
       "<div>\n",
       "<style scoped>\n",
       "    .dataframe tbody tr th:only-of-type {\n",
       "        vertical-align: middle;\n",
       "    }\n",
       "\n",
       "    .dataframe tbody tr th {\n",
       "        vertical-align: top;\n",
       "    }\n",
       "\n",
       "    .dataframe thead th {\n",
       "        text-align: right;\n",
       "    }\n",
       "</style>\n",
       "<table border=\"1\" class=\"dataframe\">\n",
       "  <thead>\n",
       "    <tr style=\"text-align: right;\">\n",
       "      <th></th>\n",
       "      <th>meterNo</th>\n",
       "      <th>num_not0</th>\n",
       "    </tr>\n",
       "  </thead>\n",
       "  <tbody>\n",
       "    <tr>\n",
       "      <th>1</th>\n",
       "      <td>10023160000029</td>\n",
       "      <td>2</td>\n",
       "    </tr>\n",
       "    <tr>\n",
       "      <th>2</th>\n",
       "      <td>10023160000030</td>\n",
       "      <td>8</td>\n",
       "    </tr>\n",
       "    <tr>\n",
       "      <th>3</th>\n",
       "      <td>10023160000032</td>\n",
       "      <td>7</td>\n",
       "    </tr>\n",
       "    <tr>\n",
       "      <th>4</th>\n",
       "      <td>10023160000036</td>\n",
       "      <td>8</td>\n",
       "    </tr>\n",
       "    <tr>\n",
       "      <th>5</th>\n",
       "      <td>10023160000042</td>\n",
       "      <td>2</td>\n",
       "    </tr>\n",
       "  </tbody>\n",
       "</table>\n",
       "</div>"
      ],
      "text/plain": [
       "           meterNo  num_not0\n",
       "1  10023160000029          2\n",
       "2  10023160000030          8\n",
       "3  10023160000032          7\n",
       "4  10023160000036          8\n",
       "5  10023160000042          2"
      ]
     },
     "execution_count": 17,
     "metadata": {},
     "output_type": "execute_result"
    }
   ],
   "source": [
    "data_not0.head(5)"
   ]
  },
  {
   "cell_type": "markdown",
   "metadata": {},
   "source": [
    "2、计算总的用电量"
   ]
  },
  {
   "cell_type": "code",
   "execution_count": 18,
   "metadata": {},
   "outputs": [],
   "source": [
    "data_all_dianliang = data_dianliang.copy(deep=1)"
   ]
  },
  {
   "cell_type": "code",
   "execution_count": 19,
   "metadata": {},
   "outputs": [],
   "source": [
    "data_all_dianliang=data_all_dianliang.fillna(0.0)"
   ]
  },
  {
   "cell_type": "code",
   "execution_count": 20,
   "metadata": {},
   "outputs": [],
   "source": [
    "sum_all=data_all_dianliang.sum(axis=0)"
   ]
  },
  {
   "cell_type": "code",
   "execution_count": 21,
   "metadata": {},
   "outputs": [
    {
     "data": {
      "text/plain": [
       "pandas.core.series.Series"
      ]
     },
     "execution_count": 21,
     "metadata": {},
     "output_type": "execute_result"
    }
   ],
   "source": [
    "type(sum_all)"
   ]
  },
  {
   "cell_type": "code",
   "execution_count": 22,
   "metadata": {},
   "outputs": [],
   "source": [
    "data_all_dianliang = pd.DataFrame(sum_all)"
   ]
  },
  {
   "cell_type": "code",
   "execution_count": 23,
   "metadata": {},
   "outputs": [],
   "source": [
    "data_all_dianliang=data_all_dianliang.reset_index()"
   ]
  },
  {
   "cell_type": "code",
   "execution_count": 24,
   "metadata": {},
   "outputs": [],
   "source": [
    "data_all_dianliang.columns=['meterNo','sum_all']"
   ]
  },
  {
   "cell_type": "code",
   "execution_count": 25,
   "metadata": {},
   "outputs": [
    {
     "data": {
      "text/html": [
       "<div>\n",
       "<style scoped>\n",
       "    .dataframe tbody tr th:only-of-type {\n",
       "        vertical-align: middle;\n",
       "    }\n",
       "\n",
       "    .dataframe tbody tr th {\n",
       "        vertical-align: top;\n",
       "    }\n",
       "\n",
       "    .dataframe thead th {\n",
       "        text-align: right;\n",
       "    }\n",
       "</style>\n",
       "<table border=\"1\" class=\"dataframe\">\n",
       "  <thead>\n",
       "    <tr style=\"text-align: right;\">\n",
       "      <th></th>\n",
       "      <th>meterNo</th>\n",
       "      <th>sum_all</th>\n",
       "    </tr>\n",
       "  </thead>\n",
       "  <tbody>\n",
       "    <tr>\n",
       "      <th>0</th>\n",
       "      <td>meterNo</td>\n",
       "      <td>2020/01/012020/02/012020/03/012020/04/012020/0...</td>\n",
       "    </tr>\n",
       "    <tr>\n",
       "      <th>1</th>\n",
       "      <td>10023160000029</td>\n",
       "      <td>58869.611</td>\n",
       "    </tr>\n",
       "    <tr>\n",
       "      <th>2</th>\n",
       "      <td>10023160000030</td>\n",
       "      <td>8161.616</td>\n",
       "    </tr>\n",
       "    <tr>\n",
       "      <th>3</th>\n",
       "      <td>10023160000032</td>\n",
       "      <td>24299.114</td>\n",
       "    </tr>\n",
       "    <tr>\n",
       "      <th>4</th>\n",
       "      <td>10023160000036</td>\n",
       "      <td>298325.673</td>\n",
       "    </tr>\n",
       "  </tbody>\n",
       "</table>\n",
       "</div>"
      ],
      "text/plain": [
       "           meterNo                                            sum_all\n",
       "0          meterNo  2020/01/012020/02/012020/03/012020/04/012020/0...\n",
       "1  10023160000029                                           58869.611\n",
       "2  10023160000030                                            8161.616\n",
       "3  10023160000032                                           24299.114\n",
       "4  10023160000036                                          298325.673"
      ]
     },
     "execution_count": 25,
     "metadata": {},
     "output_type": "execute_result"
    }
   ],
   "source": [
    "data_all_dianliang.head(5)"
   ]
  },
  {
   "cell_type": "code",
   "execution_count": 26,
   "metadata": {},
   "outputs": [],
   "source": [
    "data_all_dianliang.drop([0],axis=0,inplace=True)"
   ]
  },
  {
   "cell_type": "code",
   "execution_count": 27,
   "metadata": {},
   "outputs": [
    {
     "data": {
      "text/html": [
       "<div>\n",
       "<style scoped>\n",
       "    .dataframe tbody tr th:only-of-type {\n",
       "        vertical-align: middle;\n",
       "    }\n",
       "\n",
       "    .dataframe tbody tr th {\n",
       "        vertical-align: top;\n",
       "    }\n",
       "\n",
       "    .dataframe thead th {\n",
       "        text-align: right;\n",
       "    }\n",
       "</style>\n",
       "<table border=\"1\" class=\"dataframe\">\n",
       "  <thead>\n",
       "    <tr style=\"text-align: right;\">\n",
       "      <th></th>\n",
       "      <th>meterNo</th>\n",
       "      <th>sum_all</th>\n",
       "    </tr>\n",
       "  </thead>\n",
       "  <tbody>\n",
       "    <tr>\n",
       "      <th>1</th>\n",
       "      <td>10023160000029</td>\n",
       "      <td>58869.611</td>\n",
       "    </tr>\n",
       "    <tr>\n",
       "      <th>2</th>\n",
       "      <td>10023160000030</td>\n",
       "      <td>8161.616</td>\n",
       "    </tr>\n",
       "    <tr>\n",
       "      <th>3</th>\n",
       "      <td>10023160000032</td>\n",
       "      <td>24299.114</td>\n",
       "    </tr>\n",
       "    <tr>\n",
       "      <th>4</th>\n",
       "      <td>10023160000036</td>\n",
       "      <td>298325.673</td>\n",
       "    </tr>\n",
       "    <tr>\n",
       "      <th>5</th>\n",
       "      <td>10023160000042</td>\n",
       "      <td>42884.079</td>\n",
       "    </tr>\n",
       "  </tbody>\n",
       "</table>\n",
       "</div>"
      ],
      "text/plain": [
       "           meterNo     sum_all\n",
       "1  10023160000029    58869.611\n",
       "2  10023160000030     8161.616\n",
       "3  10023160000032    24299.114\n",
       "4  10023160000036   298325.673\n",
       "5  10023160000042    42884.079"
      ]
     },
     "execution_count": 27,
     "metadata": {},
     "output_type": "execute_result"
    }
   ],
   "source": [
    "data_all_dianliang.head(5)"
   ]
  },
  {
   "cell_type": "markdown",
   "metadata": {},
   "source": [
    "3、合并两张表格"
   ]
  },
  {
   "cell_type": "code",
   "execution_count": 28,
   "metadata": {},
   "outputs": [
    {
     "data": {
      "text/html": [
       "<div>\n",
       "<style scoped>\n",
       "    .dataframe tbody tr th:only-of-type {\n",
       "        vertical-align: middle;\n",
       "    }\n",
       "\n",
       "    .dataframe tbody tr th {\n",
       "        vertical-align: top;\n",
       "    }\n",
       "\n",
       "    .dataframe thead th {\n",
       "        text-align: right;\n",
       "    }\n",
       "</style>\n",
       "<table border=\"1\" class=\"dataframe\">\n",
       "  <thead>\n",
       "    <tr style=\"text-align: right;\">\n",
       "      <th></th>\n",
       "      <th>meterNo</th>\n",
       "      <th>num_not0</th>\n",
       "    </tr>\n",
       "  </thead>\n",
       "  <tbody>\n",
       "    <tr>\n",
       "      <th>1</th>\n",
       "      <td>10023160000029</td>\n",
       "      <td>2</td>\n",
       "    </tr>\n",
       "    <tr>\n",
       "      <th>2</th>\n",
       "      <td>10023160000030</td>\n",
       "      <td>8</td>\n",
       "    </tr>\n",
       "    <tr>\n",
       "      <th>3</th>\n",
       "      <td>10023160000032</td>\n",
       "      <td>7</td>\n",
       "    </tr>\n",
       "    <tr>\n",
       "      <th>4</th>\n",
       "      <td>10023160000036</td>\n",
       "      <td>8</td>\n",
       "    </tr>\n",
       "    <tr>\n",
       "      <th>5</th>\n",
       "      <td>10023160000042</td>\n",
       "      <td>2</td>\n",
       "    </tr>\n",
       "  </tbody>\n",
       "</table>\n",
       "</div>"
      ],
      "text/plain": [
       "           meterNo  num_not0\n",
       "1  10023160000029          2\n",
       "2  10023160000030          8\n",
       "3  10023160000032          7\n",
       "4  10023160000036          8\n",
       "5  10023160000042          2"
      ]
     },
     "execution_count": 28,
     "metadata": {},
     "output_type": "execute_result"
    }
   ],
   "source": [
    "data_not0.head(5)"
   ]
  },
  {
   "cell_type": "code",
   "execution_count": 29,
   "metadata": {},
   "outputs": [
    {
     "data": {
      "text/html": [
       "<div>\n",
       "<style scoped>\n",
       "    .dataframe tbody tr th:only-of-type {\n",
       "        vertical-align: middle;\n",
       "    }\n",
       "\n",
       "    .dataframe tbody tr th {\n",
       "        vertical-align: top;\n",
       "    }\n",
       "\n",
       "    .dataframe thead th {\n",
       "        text-align: right;\n",
       "    }\n",
       "</style>\n",
       "<table border=\"1\" class=\"dataframe\">\n",
       "  <thead>\n",
       "    <tr style=\"text-align: right;\">\n",
       "      <th></th>\n",
       "      <th>meterNo</th>\n",
       "      <th>sum_all</th>\n",
       "    </tr>\n",
       "  </thead>\n",
       "  <tbody>\n",
       "    <tr>\n",
       "      <th>1</th>\n",
       "      <td>10023160000029</td>\n",
       "      <td>58869.611</td>\n",
       "    </tr>\n",
       "    <tr>\n",
       "      <th>2</th>\n",
       "      <td>10023160000030</td>\n",
       "      <td>8161.616</td>\n",
       "    </tr>\n",
       "    <tr>\n",
       "      <th>3</th>\n",
       "      <td>10023160000032</td>\n",
       "      <td>24299.114</td>\n",
       "    </tr>\n",
       "    <tr>\n",
       "      <th>4</th>\n",
       "      <td>10023160000036</td>\n",
       "      <td>298325.673</td>\n",
       "    </tr>\n",
       "    <tr>\n",
       "      <th>5</th>\n",
       "      <td>10023160000042</td>\n",
       "      <td>42884.079</td>\n",
       "    </tr>\n",
       "  </tbody>\n",
       "</table>\n",
       "</div>"
      ],
      "text/plain": [
       "           meterNo     sum_all\n",
       "1  10023160000029    58869.611\n",
       "2  10023160000030     8161.616\n",
       "3  10023160000032    24299.114\n",
       "4  10023160000036   298325.673\n",
       "5  10023160000042    42884.079"
      ]
     },
     "execution_count": 29,
     "metadata": {},
     "output_type": "execute_result"
    }
   ],
   "source": [
    "data_all_dianliang.head(5)"
   ]
  },
  {
   "cell_type": "code",
   "execution_count": 30,
   "metadata": {},
   "outputs": [],
   "source": [
    "data_fina = data_not0.merge(data_all_dianliang, how='inner', on='meterNo')"
   ]
  },
  {
   "cell_type": "code",
   "execution_count": 31,
   "metadata": {},
   "outputs": [
    {
     "data": {
      "text/html": [
       "<div>\n",
       "<style scoped>\n",
       "    .dataframe tbody tr th:only-of-type {\n",
       "        vertical-align: middle;\n",
       "    }\n",
       "\n",
       "    .dataframe tbody tr th {\n",
       "        vertical-align: top;\n",
       "    }\n",
       "\n",
       "    .dataframe thead th {\n",
       "        text-align: right;\n",
       "    }\n",
       "</style>\n",
       "<table border=\"1\" class=\"dataframe\">\n",
       "  <thead>\n",
       "    <tr style=\"text-align: right;\">\n",
       "      <th></th>\n",
       "      <th>meterNo</th>\n",
       "      <th>num_not0</th>\n",
       "      <th>sum_all</th>\n",
       "    </tr>\n",
       "  </thead>\n",
       "  <tbody>\n",
       "    <tr>\n",
       "      <th>0</th>\n",
       "      <td>10023160000029</td>\n",
       "      <td>2</td>\n",
       "      <td>58869.611</td>\n",
       "    </tr>\n",
       "    <tr>\n",
       "      <th>1</th>\n",
       "      <td>10023160000030</td>\n",
       "      <td>8</td>\n",
       "      <td>8161.616</td>\n",
       "    </tr>\n",
       "    <tr>\n",
       "      <th>2</th>\n",
       "      <td>10023160000032</td>\n",
       "      <td>7</td>\n",
       "      <td>24299.114</td>\n",
       "    </tr>\n",
       "    <tr>\n",
       "      <th>3</th>\n",
       "      <td>10023160000036</td>\n",
       "      <td>8</td>\n",
       "      <td>298325.673</td>\n",
       "    </tr>\n",
       "    <tr>\n",
       "      <th>4</th>\n",
       "      <td>10023160000042</td>\n",
       "      <td>2</td>\n",
       "      <td>42884.079</td>\n",
       "    </tr>\n",
       "  </tbody>\n",
       "</table>\n",
       "</div>"
      ],
      "text/plain": [
       "           meterNo  num_not0     sum_all\n",
       "0  10023160000029          2   58869.611\n",
       "1  10023160000030          8    8161.616\n",
       "2  10023160000032          7   24299.114\n",
       "3  10023160000036          8  298325.673\n",
       "4  10023160000042          2   42884.079"
      ]
     },
     "execution_count": 31,
     "metadata": {},
     "output_type": "execute_result"
    }
   ],
   "source": [
    "data_fina.head(5)"
   ]
  },
  {
   "cell_type": "code",
   "execution_count": 32,
   "metadata": {},
   "outputs": [],
   "source": [
    "data_fina['aver_month']=data_fina['sum_all']/data_fina['num_not0']"
   ]
  },
  {
   "cell_type": "code",
   "execution_count": 33,
   "metadata": {},
   "outputs": [
    {
     "data": {
      "text/html": [
       "<div>\n",
       "<style scoped>\n",
       "    .dataframe tbody tr th:only-of-type {\n",
       "        vertical-align: middle;\n",
       "    }\n",
       "\n",
       "    .dataframe tbody tr th {\n",
       "        vertical-align: top;\n",
       "    }\n",
       "\n",
       "    .dataframe thead th {\n",
       "        text-align: right;\n",
       "    }\n",
       "</style>\n",
       "<table border=\"1\" class=\"dataframe\">\n",
       "  <thead>\n",
       "    <tr style=\"text-align: right;\">\n",
       "      <th></th>\n",
       "      <th>meterNo</th>\n",
       "      <th>10023160000029</th>\n",
       "      <th>10023160000030</th>\n",
       "      <th>10023160000032</th>\n",
       "      <th>10023160000036</th>\n",
       "      <th>10023160000042</th>\n",
       "      <th>10023160000043</th>\n",
       "      <th>10023160000048</th>\n",
       "      <th>10023160000049</th>\n",
       "      <th>10023160000060</th>\n",
       "      <th>...</th>\n",
       "      <th>10023160000343</th>\n",
       "      <th>10023160000345</th>\n",
       "      <th>10023160000346</th>\n",
       "      <th>10023160000349</th>\n",
       "      <th>10023160000350</th>\n",
       "      <th>10023160000352</th>\n",
       "      <th>10014164400011</th>\n",
       "      <th>10023160000023</th>\n",
       "      <th>10023160000024</th>\n",
       "      <th>10023160000028</th>\n",
       "    </tr>\n",
       "  </thead>\n",
       "  <tbody>\n",
       "    <tr>\n",
       "      <th>0</th>\n",
       "      <td>2020/01/01</td>\n",
       "      <td>NaN</td>\n",
       "      <td>943.960</td>\n",
       "      <td>NaN</td>\n",
       "      <td>24203.820</td>\n",
       "      <td>NaN</td>\n",
       "      <td>4515.096</td>\n",
       "      <td>2415.337</td>\n",
       "      <td>32049.118</td>\n",
       "      <td>11100.061</td>\n",
       "      <td>...</td>\n",
       "      <td>NaN</td>\n",
       "      <td>NaN</td>\n",
       "      <td>NaN</td>\n",
       "      <td>NaN</td>\n",
       "      <td>NaN</td>\n",
       "      <td>6448.154</td>\n",
       "      <td>319990.22</td>\n",
       "      <td>3241.042</td>\n",
       "      <td>7228.847</td>\n",
       "      <td>490.567</td>\n",
       "    </tr>\n",
       "    <tr>\n",
       "      <th>1</th>\n",
       "      <td>2020/02/01</td>\n",
       "      <td>NaN</td>\n",
       "      <td>951.607</td>\n",
       "      <td>3172.237</td>\n",
       "      <td>NaN</td>\n",
       "      <td>NaN</td>\n",
       "      <td>NaN</td>\n",
       "      <td>NaN</td>\n",
       "      <td>NaN</td>\n",
       "      <td>13517.172</td>\n",
       "      <td>...</td>\n",
       "      <td>7192.481</td>\n",
       "      <td>6087.748</td>\n",
       "      <td>3418.803</td>\n",
       "      <td>NaN</td>\n",
       "      <td>NaN</td>\n",
       "      <td>6497.013</td>\n",
       "      <td>341856.32</td>\n",
       "      <td>NaN</td>\n",
       "      <td>7925.095</td>\n",
       "      <td>687.767</td>\n",
       "    </tr>\n",
       "    <tr>\n",
       "      <th>2</th>\n",
       "      <td>2020/03/01</td>\n",
       "      <td>NaN</td>\n",
       "      <td>1002.384</td>\n",
       "      <td>NaN</td>\n",
       "      <td>NaN</td>\n",
       "      <td>21127.655</td>\n",
       "      <td>NaN</td>\n",
       "      <td>NaN</td>\n",
       "      <td>34430.163</td>\n",
       "      <td>15560.190</td>\n",
       "      <td>...</td>\n",
       "      <td>7425.386</td>\n",
       "      <td>8161.105</td>\n",
       "      <td>3598.794</td>\n",
       "      <td>NaN</td>\n",
       "      <td>NaN</td>\n",
       "      <td>6545.503</td>\n",
       "      <td>357050.36</td>\n",
       "      <td>3623.238</td>\n",
       "      <td>NaN</td>\n",
       "      <td>925.205</td>\n",
       "    </tr>\n",
       "    <tr>\n",
       "      <th>3</th>\n",
       "      <td>2020/04/01</td>\n",
       "      <td>NaN</td>\n",
       "      <td>NaN</td>\n",
       "      <td>3363.291</td>\n",
       "      <td>31589.719</td>\n",
       "      <td>21756.424</td>\n",
       "      <td>5000.834</td>\n",
       "      <td>2591.190</td>\n",
       "      <td>NaN</td>\n",
       "      <td>16432.878</td>\n",
       "      <td>...</td>\n",
       "      <td>7557.746</td>\n",
       "      <td>8661.468</td>\n",
       "      <td>NaN</td>\n",
       "      <td>2803.823</td>\n",
       "      <td>8785.642</td>\n",
       "      <td>6580.769</td>\n",
       "      <td>368250.04</td>\n",
       "      <td>3844.503</td>\n",
       "      <td>8640.065</td>\n",
       "      <td>953.386</td>\n",
       "    </tr>\n",
       "    <tr>\n",
       "      <th>4</th>\n",
       "      <td>2020/05/01</td>\n",
       "      <td>NaN</td>\n",
       "      <td>NaN</td>\n",
       "      <td>3395.126</td>\n",
       "      <td>33603.535</td>\n",
       "      <td>NaN</td>\n",
       "      <td>5086.672</td>\n",
       "      <td>2654.542</td>\n",
       "      <td>NaN</td>\n",
       "      <td>16817.137</td>\n",
       "      <td>...</td>\n",
       "      <td>7668.069</td>\n",
       "      <td>9003.034</td>\n",
       "      <td>3801.965</td>\n",
       "      <td>2804.346</td>\n",
       "      <td>9028.801</td>\n",
       "      <td>6615.823</td>\n",
       "      <td>376873.24</td>\n",
       "      <td>NaN</td>\n",
       "      <td>8859.115</td>\n",
       "      <td>960.183</td>\n",
       "    </tr>\n",
       "    <tr>\n",
       "      <th>5</th>\n",
       "      <td>2020/06/01</td>\n",
       "      <td>NaN</td>\n",
       "      <td>NaN</td>\n",
       "      <td>3544.721</td>\n",
       "      <td>36211.490</td>\n",
       "      <td>NaN</td>\n",
       "      <td>5143.073</td>\n",
       "      <td>2792.625</td>\n",
       "      <td>35136.048</td>\n",
       "      <td>16978.566</td>\n",
       "      <td>...</td>\n",
       "      <td>7741.230</td>\n",
       "      <td>9108.909</td>\n",
       "      <td>3909.870</td>\n",
       "      <td>2804.362</td>\n",
       "      <td>9243.832</td>\n",
       "      <td>6634.496</td>\n",
       "      <td>384250.98</td>\n",
       "      <td>NaN</td>\n",
       "      <td>8998.919</td>\n",
       "      <td>NaN</td>\n",
       "    </tr>\n",
       "    <tr>\n",
       "      <th>6</th>\n",
       "      <td>2020/07/01</td>\n",
       "      <td>NaN</td>\n",
       "      <td>1017.191</td>\n",
       "      <td>NaN</td>\n",
       "      <td>38974.372</td>\n",
       "      <td>NaN</td>\n",
       "      <td>5179.983</td>\n",
       "      <td>3055.561</td>\n",
       "      <td>35818.349</td>\n",
       "      <td>17103.270</td>\n",
       "      <td>...</td>\n",
       "      <td>7814.257</td>\n",
       "      <td>9143.579</td>\n",
       "      <td>3979.145</td>\n",
       "      <td>NaN</td>\n",
       "      <td>9299.952</td>\n",
       "      <td>6656.703</td>\n",
       "      <td>390578.88</td>\n",
       "      <td>NaN</td>\n",
       "      <td>9143.199</td>\n",
       "      <td>971.270</td>\n",
       "    </tr>\n",
       "    <tr>\n",
       "      <th>7</th>\n",
       "      <td>2020/08/01</td>\n",
       "      <td>NaN</td>\n",
       "      <td>1021.076</td>\n",
       "      <td>3589.157</td>\n",
       "      <td>41435.351</td>\n",
       "      <td>NaN</td>\n",
       "      <td>5200.839</td>\n",
       "      <td>3245.493</td>\n",
       "      <td>37034.425</td>\n",
       "      <td>17257.001</td>\n",
       "      <td>...</td>\n",
       "      <td>7887.846</td>\n",
       "      <td>9177.719</td>\n",
       "      <td>3987.575</td>\n",
       "      <td>2805.799</td>\n",
       "      <td>9333.523</td>\n",
       "      <td>6667.317</td>\n",
       "      <td>398084.96</td>\n",
       "      <td>4483.333</td>\n",
       "      <td>9322.599</td>\n",
       "      <td>973.398</td>\n",
       "    </tr>\n",
       "    <tr>\n",
       "      <th>8</th>\n",
       "      <td>2020/09/01</td>\n",
       "      <td>NaN</td>\n",
       "      <td>1021.076</td>\n",
       "      <td>3615.875</td>\n",
       "      <td>43842.749</td>\n",
       "      <td>NaN</td>\n",
       "      <td>5290.598</td>\n",
       "      <td>3431.468</td>\n",
       "      <td>38506.096</td>\n",
       "      <td>17422.169</td>\n",
       "      <td>...</td>\n",
       "      <td>7965.956</td>\n",
       "      <td>9223.371</td>\n",
       "      <td>3993.952</td>\n",
       "      <td>2808.349</td>\n",
       "      <td>9404.541</td>\n",
       "      <td>6678.251</td>\n",
       "      <td>407948.98</td>\n",
       "      <td>4639.007</td>\n",
       "      <td>9486.536</td>\n",
       "      <td>973.444</td>\n",
       "    </tr>\n",
       "    <tr>\n",
       "      <th>9</th>\n",
       "      <td>2020/10/01</td>\n",
       "      <td>NaN</td>\n",
       "      <td>1045.640</td>\n",
       "      <td>3618.707</td>\n",
       "      <td>48464.637</td>\n",
       "      <td>NaN</td>\n",
       "      <td>NaN</td>\n",
       "      <td>3525.995</td>\n",
       "      <td>39729.205</td>\n",
       "      <td>17597.822</td>\n",
       "      <td>...</td>\n",
       "      <td>8038.542</td>\n",
       "      <td>9264.981</td>\n",
       "      <td>3999.798</td>\n",
       "      <td>NaN</td>\n",
       "      <td>9455.836</td>\n",
       "      <td>6691.604</td>\n",
       "      <td>415943.48</td>\n",
       "      <td>4778.175</td>\n",
       "      <td>9656.596</td>\n",
       "      <td>973.444</td>\n",
       "    </tr>\n",
       "    <tr>\n",
       "      <th>10</th>\n",
       "      <td>2020/11/01</td>\n",
       "      <td>28456.808</td>\n",
       "      <td>NaN</td>\n",
       "      <td>NaN</td>\n",
       "      <td>NaN</td>\n",
       "      <td>NaN</td>\n",
       "      <td>NaN</td>\n",
       "      <td>3553.881</td>\n",
       "      <td>NaN</td>\n",
       "      <td>18194.351</td>\n",
       "      <td>...</td>\n",
       "      <td>8154.504</td>\n",
       "      <td>9618.226</td>\n",
       "      <td>3999.798</td>\n",
       "      <td>NaN</td>\n",
       "      <td>NaN</td>\n",
       "      <td>6713.078</td>\n",
       "      <td>427051.82</td>\n",
       "      <td>4927.713</td>\n",
       "      <td>NaN</td>\n",
       "      <td>973.444</td>\n",
       "    </tr>\n",
       "    <tr>\n",
       "      <th>11</th>\n",
       "      <td>2020/12/01</td>\n",
       "      <td>30412.803</td>\n",
       "      <td>1158.682</td>\n",
       "      <td>NaN</td>\n",
       "      <td>NaN</td>\n",
       "      <td>NaN</td>\n",
       "      <td>NaN</td>\n",
       "      <td>NaN</td>\n",
       "      <td>42055.416</td>\n",
       "      <td>19530.592</td>\n",
       "      <td>...</td>\n",
       "      <td>8512.818</td>\n",
       "      <td>11204.456</td>\n",
       "      <td>3999.798</td>\n",
       "      <td>NaN</td>\n",
       "      <td>NaN</td>\n",
       "      <td>6713.078</td>\n",
       "      <td>445157.22</td>\n",
       "      <td>4985.436</td>\n",
       "      <td>10388.220</td>\n",
       "      <td>973.444</td>\n",
       "    </tr>\n",
       "  </tbody>\n",
       "</table>\n",
       "<p>12 rows × 397 columns</p>\n",
       "</div>"
      ],
      "text/plain": [
       "       meterNo  10023160000029   10023160000030   10023160000032   \\\n",
       "0   2020/01/01              NaN          943.960              NaN   \n",
       "1   2020/02/01              NaN          951.607         3172.237   \n",
       "2   2020/03/01              NaN         1002.384              NaN   \n",
       "3   2020/04/01              NaN              NaN         3363.291   \n",
       "4   2020/05/01              NaN              NaN         3395.126   \n",
       "5   2020/06/01              NaN              NaN         3544.721   \n",
       "6   2020/07/01              NaN         1017.191              NaN   \n",
       "7   2020/08/01              NaN         1021.076         3589.157   \n",
       "8   2020/09/01              NaN         1021.076         3615.875   \n",
       "9   2020/10/01              NaN         1045.640         3618.707   \n",
       "10  2020/11/01        28456.808              NaN              NaN   \n",
       "11  2020/12/01        30412.803         1158.682              NaN   \n",
       "\n",
       "    10023160000036   10023160000042   10023160000043   10023160000048   \\\n",
       "0         24203.820              NaN         4515.096         2415.337   \n",
       "1               NaN              NaN              NaN              NaN   \n",
       "2               NaN        21127.655              NaN              NaN   \n",
       "3         31589.719        21756.424         5000.834         2591.190   \n",
       "4         33603.535              NaN         5086.672         2654.542   \n",
       "5         36211.490              NaN         5143.073         2792.625   \n",
       "6         38974.372              NaN         5179.983         3055.561   \n",
       "7         41435.351              NaN         5200.839         3245.493   \n",
       "8         43842.749              NaN         5290.598         3431.468   \n",
       "9         48464.637              NaN              NaN         3525.995   \n",
       "10              NaN              NaN              NaN         3553.881   \n",
       "11              NaN              NaN              NaN              NaN   \n",
       "\n",
       "    10023160000049   10023160000060   ...  10023160000343   10023160000345   \\\n",
       "0         32049.118        11100.061  ...              NaN              NaN   \n",
       "1               NaN        13517.172  ...         7192.481         6087.748   \n",
       "2         34430.163        15560.190  ...         7425.386         8161.105   \n",
       "3               NaN        16432.878  ...         7557.746         8661.468   \n",
       "4               NaN        16817.137  ...         7668.069         9003.034   \n",
       "5         35136.048        16978.566  ...         7741.230         9108.909   \n",
       "6         35818.349        17103.270  ...         7814.257         9143.579   \n",
       "7         37034.425        17257.001  ...         7887.846         9177.719   \n",
       "8         38506.096        17422.169  ...         7965.956         9223.371   \n",
       "9         39729.205        17597.822  ...         8038.542         9264.981   \n",
       "10              NaN        18194.351  ...         8154.504         9618.226   \n",
       "11        42055.416        19530.592  ...         8512.818        11204.456   \n",
       "\n",
       "    10023160000346   10023160000349   10023160000350   10023160000352   \\\n",
       "0               NaN              NaN              NaN         6448.154   \n",
       "1          3418.803              NaN              NaN         6497.013   \n",
       "2          3598.794              NaN              NaN         6545.503   \n",
       "3               NaN         2803.823         8785.642         6580.769   \n",
       "4          3801.965         2804.346         9028.801         6615.823   \n",
       "5          3909.870         2804.362         9243.832         6634.496   \n",
       "6          3979.145              NaN         9299.952         6656.703   \n",
       "7          3987.575         2805.799         9333.523         6667.317   \n",
       "8          3993.952         2808.349         9404.541         6678.251   \n",
       "9          3999.798              NaN         9455.836         6691.604   \n",
       "10         3999.798              NaN              NaN         6713.078   \n",
       "11         3999.798              NaN              NaN         6713.078   \n",
       "\n",
       "    10014164400011   10023160000023   10023160000024   10023160000028   \n",
       "0         319990.22         3241.042         7228.847          490.567  \n",
       "1         341856.32              NaN         7925.095          687.767  \n",
       "2         357050.36         3623.238              NaN          925.205  \n",
       "3         368250.04         3844.503         8640.065          953.386  \n",
       "4         376873.24              NaN         8859.115          960.183  \n",
       "5         384250.98              NaN         8998.919              NaN  \n",
       "6         390578.88              NaN         9143.199          971.270  \n",
       "7         398084.96         4483.333         9322.599          973.398  \n",
       "8         407948.98         4639.007         9486.536          973.444  \n",
       "9         415943.48         4778.175         9656.596          973.444  \n",
       "10        427051.82         4927.713              NaN          973.444  \n",
       "11        445157.22         4985.436        10388.220          973.444  \n",
       "\n",
       "[12 rows x 397 columns]"
      ]
     },
     "execution_count": 33,
     "metadata": {},
     "output_type": "execute_result"
    }
   ],
   "source": [
    "data_dianliang"
   ]
  },
  {
   "cell_type": "code",
   "execution_count": 34,
   "metadata": {},
   "outputs": [
    {
     "data": {
      "text/html": [
       "<div>\n",
       "<style scoped>\n",
       "    .dataframe tbody tr th:only-of-type {\n",
       "        vertical-align: middle;\n",
       "    }\n",
       "\n",
       "    .dataframe tbody tr th {\n",
       "        vertical-align: top;\n",
       "    }\n",
       "\n",
       "    .dataframe thead th {\n",
       "        text-align: right;\n",
       "    }\n",
       "</style>\n",
       "<table border=\"1\" class=\"dataframe\">\n",
       "  <thead>\n",
       "    <tr style=\"text-align: right;\">\n",
       "      <th></th>\n",
       "      <th>10023160000029</th>\n",
       "      <th>10023160000030</th>\n",
       "      <th>10023160000032</th>\n",
       "      <th>10023160000036</th>\n",
       "      <th>10023160000042</th>\n",
       "      <th>10023160000043</th>\n",
       "      <th>10023160000048</th>\n",
       "      <th>10023160000049</th>\n",
       "      <th>10023160000060</th>\n",
       "      <th>10021160001047</th>\n",
       "      <th>...</th>\n",
       "      <th>10023160000343</th>\n",
       "      <th>10023160000345</th>\n",
       "      <th>10023160000346</th>\n",
       "      <th>10023160000349</th>\n",
       "      <th>10023160000350</th>\n",
       "      <th>10023160000352</th>\n",
       "      <th>10014164400011</th>\n",
       "      <th>10023160000023</th>\n",
       "      <th>10023160000024</th>\n",
       "      <th>10023160000028</th>\n",
       "    </tr>\n",
       "  </thead>\n",
       "  <tbody>\n",
       "    <tr>\n",
       "      <th>count</th>\n",
       "      <td>2.000000</td>\n",
       "      <td>8.000000</td>\n",
       "      <td>7.000000</td>\n",
       "      <td>8.000000</td>\n",
       "      <td>2.000000</td>\n",
       "      <td>7.000000</td>\n",
       "      <td>9.000000</td>\n",
       "      <td>8.000000</td>\n",
       "      <td>12.000000</td>\n",
       "      <td>1.00</td>\n",
       "      <td>...</td>\n",
       "      <td>11.000000</td>\n",
       "      <td>11.000000</td>\n",
       "      <td>10.000000</td>\n",
       "      <td>5.00000</td>\n",
       "      <td>7.000000</td>\n",
       "      <td>12.000000</td>\n",
       "      <td>12.000000</td>\n",
       "      <td>8.000000</td>\n",
       "      <td>10.000000</td>\n",
       "      <td>11.000000</td>\n",
       "    </tr>\n",
       "    <tr>\n",
       "      <th>mean</th>\n",
       "      <td>29434.805500</td>\n",
       "      <td>1020.202000</td>\n",
       "      <td>3471.302000</td>\n",
       "      <td>37290.709125</td>\n",
       "      <td>21442.039500</td>\n",
       "      <td>5059.585000</td>\n",
       "      <td>3029.565778</td>\n",
       "      <td>36844.852500</td>\n",
       "      <td>16459.267417</td>\n",
       "      <td>1345.04</td>\n",
       "      <td>...</td>\n",
       "      <td>7814.439545</td>\n",
       "      <td>8968.599636</td>\n",
       "      <td>3868.949800</td>\n",
       "      <td>2805.33580</td>\n",
       "      <td>9221.732429</td>\n",
       "      <td>6620.149083</td>\n",
       "      <td>386086.375000</td>\n",
       "      <td>4315.305875</td>\n",
       "      <td>8964.919100</td>\n",
       "      <td>895.959273</td>\n",
       "    </tr>\n",
       "    <tr>\n",
       "      <th>std</th>\n",
       "      <td>1383.097328</td>\n",
       "      <td>66.192354</td>\n",
       "      <td>167.739267</td>\n",
       "      <td>7618.835587</td>\n",
       "      <td>444.606824</td>\n",
       "      <td>256.722704</td>\n",
       "      <td>432.493962</td>\n",
       "      <td>3186.324485</td>\n",
       "      <td>2221.832803</td>\n",
       "      <td>NaN</td>\n",
       "      <td>...</td>\n",
       "      <td>362.327839</td>\n",
       "      <td>1213.042586</td>\n",
       "      <td>204.119232</td>\n",
       "      <td>1.83783</td>\n",
       "      <td>236.193663</td>\n",
       "      <td>86.026628</td>\n",
       "      <td>36024.709056</td>\n",
       "      <td>657.488337</td>\n",
       "      <td>891.257937</td>\n",
       "      <td>158.634404</td>\n",
       "    </tr>\n",
       "    <tr>\n",
       "      <th>min</th>\n",
       "      <td>28456.808000</td>\n",
       "      <td>943.960000</td>\n",
       "      <td>3172.237000</td>\n",
       "      <td>24203.820000</td>\n",
       "      <td>21127.655000</td>\n",
       "      <td>4515.096000</td>\n",
       "      <td>2415.337000</td>\n",
       "      <td>32049.118000</td>\n",
       "      <td>11100.061000</td>\n",
       "      <td>1345.04</td>\n",
       "      <td>...</td>\n",
       "      <td>7192.481000</td>\n",
       "      <td>6087.748000</td>\n",
       "      <td>3418.803000</td>\n",
       "      <td>2803.82300</td>\n",
       "      <td>8785.642000</td>\n",
       "      <td>6448.154000</td>\n",
       "      <td>319990.220000</td>\n",
       "      <td>3241.042000</td>\n",
       "      <td>7228.847000</td>\n",
       "      <td>490.567000</td>\n",
       "    </tr>\n",
       "    <tr>\n",
       "      <th>25%</th>\n",
       "      <td>28945.806750</td>\n",
       "      <td>989.689750</td>\n",
       "      <td>3379.208500</td>\n",
       "      <td>33100.081000</td>\n",
       "      <td>21284.847250</td>\n",
       "      <td>5043.753000</td>\n",
       "      <td>2654.542000</td>\n",
       "      <td>34959.576750</td>\n",
       "      <td>16214.706000</td>\n",
       "      <td>1345.04</td>\n",
       "      <td>...</td>\n",
       "      <td>7612.907500</td>\n",
       "      <td>8832.251000</td>\n",
       "      <td>3828.941250</td>\n",
       "      <td>2804.34600</td>\n",
       "      <td>9136.316500</td>\n",
       "      <td>6571.952500</td>\n",
       "      <td>365450.120000</td>\n",
       "      <td>3789.186750</td>\n",
       "      <td>8694.827500</td>\n",
       "      <td>939.295500</td>\n",
       "    </tr>\n",
       "    <tr>\n",
       "      <th>50%</th>\n",
       "      <td>29434.805500</td>\n",
       "      <td>1019.133500</td>\n",
       "      <td>3544.721000</td>\n",
       "      <td>37592.931000</td>\n",
       "      <td>21442.039500</td>\n",
       "      <td>5143.073000</td>\n",
       "      <td>3055.561000</td>\n",
       "      <td>36426.387000</td>\n",
       "      <td>17040.918000</td>\n",
       "      <td>1345.04</td>\n",
       "      <td>...</td>\n",
       "      <td>7814.257000</td>\n",
       "      <td>9143.579000</td>\n",
       "      <td>3983.360000</td>\n",
       "      <td>2804.36200</td>\n",
       "      <td>9299.952000</td>\n",
       "      <td>6645.599500</td>\n",
       "      <td>387414.930000</td>\n",
       "      <td>4561.170000</td>\n",
       "      <td>9071.059000</td>\n",
       "      <td>971.270000</td>\n",
       "    </tr>\n",
       "    <tr>\n",
       "      <th>75%</th>\n",
       "      <td>29923.804250</td>\n",
       "      <td>1027.217000</td>\n",
       "      <td>3602.516000</td>\n",
       "      <td>42037.200500</td>\n",
       "      <td>21599.231750</td>\n",
       "      <td>5190.411000</td>\n",
       "      <td>3431.468000</td>\n",
       "      <td>38811.873250</td>\n",
       "      <td>17466.082250</td>\n",
       "      <td>1345.04</td>\n",
       "      <td>...</td>\n",
       "      <td>8002.249000</td>\n",
       "      <td>9244.176000</td>\n",
       "      <td>3998.336500</td>\n",
       "      <td>2805.79900</td>\n",
       "      <td>9369.032000</td>\n",
       "      <td>6681.589250</td>\n",
       "      <td>409947.605000</td>\n",
       "      <td>4815.559500</td>\n",
       "      <td>9445.551750</td>\n",
       "      <td>973.444000</td>\n",
       "    </tr>\n",
       "    <tr>\n",
       "      <th>max</th>\n",
       "      <td>30412.803000</td>\n",
       "      <td>1158.682000</td>\n",
       "      <td>3618.707000</td>\n",
       "      <td>48464.637000</td>\n",
       "      <td>21756.424000</td>\n",
       "      <td>5290.598000</td>\n",
       "      <td>3553.881000</td>\n",
       "      <td>42055.416000</td>\n",
       "      <td>19530.592000</td>\n",
       "      <td>1345.04</td>\n",
       "      <td>...</td>\n",
       "      <td>8512.818000</td>\n",
       "      <td>11204.456000</td>\n",
       "      <td>3999.798000</td>\n",
       "      <td>2808.34900</td>\n",
       "      <td>9455.836000</td>\n",
       "      <td>6713.078000</td>\n",
       "      <td>445157.220000</td>\n",
       "      <td>4985.436000</td>\n",
       "      <td>10388.220000</td>\n",
       "      <td>973.444000</td>\n",
       "    </tr>\n",
       "  </tbody>\n",
       "</table>\n",
       "<p>8 rows × 396 columns</p>\n",
       "</div>"
      ],
      "text/plain": [
       "       10023160000029   10023160000030   10023160000032   10023160000036   \\\n",
       "count         2.000000         8.000000         7.000000         8.000000   \n",
       "mean      29434.805500      1020.202000      3471.302000     37290.709125   \n",
       "std        1383.097328        66.192354       167.739267      7618.835587   \n",
       "min       28456.808000       943.960000      3172.237000     24203.820000   \n",
       "25%       28945.806750       989.689750      3379.208500     33100.081000   \n",
       "50%       29434.805500      1019.133500      3544.721000     37592.931000   \n",
       "75%       29923.804250      1027.217000      3602.516000     42037.200500   \n",
       "max       30412.803000      1158.682000      3618.707000     48464.637000   \n",
       "\n",
       "       10023160000042   10023160000043   10023160000048   10023160000049   \\\n",
       "count         2.000000         7.000000         9.000000         8.000000   \n",
       "mean      21442.039500      5059.585000      3029.565778     36844.852500   \n",
       "std         444.606824       256.722704       432.493962      3186.324485   \n",
       "min       21127.655000      4515.096000      2415.337000     32049.118000   \n",
       "25%       21284.847250      5043.753000      2654.542000     34959.576750   \n",
       "50%       21442.039500      5143.073000      3055.561000     36426.387000   \n",
       "75%       21599.231750      5190.411000      3431.468000     38811.873250   \n",
       "max       21756.424000      5290.598000      3553.881000     42055.416000   \n",
       "\n",
       "       10023160000060   10021160001047   ...  10023160000343   \\\n",
       "count        12.000000             1.00  ...        11.000000   \n",
       "mean      16459.267417          1345.04  ...      7814.439545   \n",
       "std        2221.832803              NaN  ...       362.327839   \n",
       "min       11100.061000          1345.04  ...      7192.481000   \n",
       "25%       16214.706000          1345.04  ...      7612.907500   \n",
       "50%       17040.918000          1345.04  ...      7814.257000   \n",
       "75%       17466.082250          1345.04  ...      8002.249000   \n",
       "max       19530.592000          1345.04  ...      8512.818000   \n",
       "\n",
       "       10023160000345   10023160000346   10023160000349   10023160000350   \\\n",
       "count        11.000000        10.000000          5.00000         7.000000   \n",
       "mean       8968.599636      3868.949800       2805.33580      9221.732429   \n",
       "std        1213.042586       204.119232          1.83783       236.193663   \n",
       "min        6087.748000      3418.803000       2803.82300      8785.642000   \n",
       "25%        8832.251000      3828.941250       2804.34600      9136.316500   \n",
       "50%        9143.579000      3983.360000       2804.36200      9299.952000   \n",
       "75%        9244.176000      3998.336500       2805.79900      9369.032000   \n",
       "max       11204.456000      3999.798000       2808.34900      9455.836000   \n",
       "\n",
       "       10023160000352   10014164400011   10023160000023   10023160000024   \\\n",
       "count        12.000000        12.000000         8.000000        10.000000   \n",
       "mean       6620.149083    386086.375000      4315.305875      8964.919100   \n",
       "std          86.026628     36024.709056       657.488337       891.257937   \n",
       "min        6448.154000    319990.220000      3241.042000      7228.847000   \n",
       "25%        6571.952500    365450.120000      3789.186750      8694.827500   \n",
       "50%        6645.599500    387414.930000      4561.170000      9071.059000   \n",
       "75%        6681.589250    409947.605000      4815.559500      9445.551750   \n",
       "max        6713.078000    445157.220000      4985.436000     10388.220000   \n",
       "\n",
       "       10023160000028   \n",
       "count        11.000000  \n",
       "mean        895.959273  \n",
       "std         158.634404  \n",
       "min         490.567000  \n",
       "25%         939.295500  \n",
       "50%         971.270000  \n",
       "75%         973.444000  \n",
       "max         973.444000  \n",
       "\n",
       "[8 rows x 396 columns]"
      ]
     },
     "execution_count": 34,
     "metadata": {},
     "output_type": "execute_result"
    }
   ],
   "source": [
    "data_dianliang.describe()"
   ]
  },
  {
   "cell_type": "code",
   "execution_count": 35,
   "metadata": {},
   "outputs": [
    {
     "data": {
      "text/plain": [
       "10023160000029      1383.097328\n",
       "10023160000030        66.192354\n",
       "10023160000032       167.739267\n",
       "10023160000036      7618.835587\n",
       "10023160000042       444.606824\n",
       "                       ...     \n",
       "10023160000352        86.026628\n",
       "10014164400011     36024.709056\n",
       "10023160000023       657.488337\n",
       "10023160000024       891.257937\n",
       "10023160000028       158.634404\n",
       "Length: 396, dtype: float64"
      ]
     },
     "execution_count": 35,
     "metadata": {},
     "output_type": "execute_result"
    }
   ],
   "source": [
    "data_dianliang.std()"
   ]
  },
  {
   "cell_type": "code",
   "execution_count": 36,
   "metadata": {},
   "outputs": [
    {
     "data": {
      "text/plain": [
       "[1383.0973284669803,\n",
       " 66.19235371249462,\n",
       " 167.73926704958893,\n",
       " 7618.835587365744,\n",
       " 444.6068236998845,\n",
       " 256.7227038148361,\n",
       " 432.49396211068006,\n",
       " 3186.3244848990407,\n",
       " 2221.8328030149287,\n",
       " nan,\n",
       " 119.61917929513821,\n",
       " 337.35422799766644,\n",
       " 94.46580220270192,\n",
       " 75.31606318345739,\n",
       " 267.4295919750911,\n",
       " 622.9203425357135,\n",
       " 182.17086769089767,\n",
       " 1182.587417918897,\n",
       " 511.5548304095624,\n",
       " 347.5619997307108,\n",
       " 220.94877453910743,\n",
       " 311.59706925708736,\n",
       " 148.22427415879463,\n",
       " 286.9121757585253,\n",
       " 458.0641330367298,\n",
       " 593.9306973095672,\n",
       " 233.219433316322,\n",
       " 0.09465766068985423,\n",
       " 378.9222569414549,\n",
       " 628.2966223837357,\n",
       " 141.1208434080683,\n",
       " 96.06557122229145,\n",
       " 75.23282671913583,\n",
       " 129.27095061806023,\n",
       " 128.52677026943027,\n",
       " 347.70789986252913,\n",
       " 262.50842657806413,\n",
       " 108.58306810034118,\n",
       " 254.9794392379184,\n",
       " 260.50113607098297,\n",
       " 266.0528610800014,\n",
       " 606.3858525018925,\n",
       " 451.9738300669144,\n",
       " 255.7901776058935,\n",
       " 233.13081211921266,\n",
       " 339.3533655053209,\n",
       " 151.16713465231928,\n",
       " 242.62026045421837,\n",
       " 98.65453542861759,\n",
       " 251.2531522519578,\n",
       " 57.30973481165149,\n",
       " 215.4002515291433,\n",
       " 126.0999533403838,\n",
       " 747.5523778273149,\n",
       " 72.91606636038955,\n",
       " 200.72318367742182,\n",
       " 177.18553142353613,\n",
       " 487.2411090783509,\n",
       " 304.2935708582929,\n",
       " 235.71383126650275,\n",
       " 248.04104170363482,\n",
       " 363.4337523786144,\n",
       " 179.58596722172814,\n",
       " 141.9903990649677,\n",
       " 144.37074006075784,\n",
       " 358.05663901199154,\n",
       " 337.9344230166826,\n",
       " 364.70086219483926,\n",
       " 233.47699192484205,\n",
       " 898.0968682179061,\n",
       " 701.196103796604,\n",
       " 1924.187703427114,\n",
       " 246.61793870686444,\n",
       " 825.3822343305968,\n",
       " 864.4091234084237,\n",
       " 827.1057827744554,\n",
       " 1433.2965089972265,\n",
       " 253.6628818675158,\n",
       " 456.64716289311747,\n",
       " 19.564537979040722,\n",
       " 91.75619671287116,\n",
       " 202.16571884477034,\n",
       " 183.37516886036718,\n",
       " 270.1640313741306,\n",
       " nan,\n",
       " 769.6889802946334,\n",
       " 236.66526290580273,\n",
       " 386.9713339062867,\n",
       " 287.1326760016573,\n",
       " 262.4104997668305,\n",
       " 99.94168902692994,\n",
       " 212.80145251592833,\n",
       " 156.23747306543558,\n",
       " 241.20643979739276,\n",
       " 215.17440443104417,\n",
       " 441.9034066364264,\n",
       " 110.1104177199167,\n",
       " 77.80302617554624,\n",
       " 182.0603540320295,\n",
       " 202.42937333275253,\n",
       " 96.45617829177426,\n",
       " 996.5695027825541,\n",
       " 293.95808581538023,\n",
       " 125.61490979565164,\n",
       " 465.23967930193106,\n",
       " 588.3591960443633,\n",
       " 163.97226822951896,\n",
       " 322.0011500439936,\n",
       " 365.0973492143754,\n",
       " 37.65089506149644,\n",
       " 535.4587070615815,\n",
       " 114.47391087598268,\n",
       " 2.8660348110027627,\n",
       " 82.34239109201287,\n",
       " 268.65817698200715,\n",
       " 486.0974969317276,\n",
       " 240.79185220829527,\n",
       " 39.05918604589938,\n",
       " 168.99078044104272,\n",
       " 198.8394247730649,\n",
       " 293.35999232914503,\n",
       " 260.5678856666491,\n",
       " 537.4442475358948,\n",
       " 176.3868521416045,\n",
       " 340.7762247092857,\n",
       " 0.0015075567228874465,\n",
       " 69.02488651922886,\n",
       " 1032.4486423747276,\n",
       " 443.964648816286,\n",
       " 402.84001076354093,\n",
       " 74.95848717402308,\n",
       " 433.9015713724611,\n",
       " 663.2386693777906,\n",
       " 556.3407019018603,\n",
       " 106.475662305211,\n",
       " 186.057102889995,\n",
       " 286.511999129562,\n",
       " 400.93907261979115,\n",
       " 45.52110436854336,\n",
       " 258.6687358470231,\n",
       " 521.7472184888701,\n",
       " 2.356944439504053,\n",
       " 820.730470925369,\n",
       " 5.560492720156107,\n",
       " 277.86351898351376,\n",
       " 356.3791745277646,\n",
       " 457.71069920085097,\n",
       " 202.7928063280016,\n",
       " 66.7324263005897,\n",
       " 519.0878635851195,\n",
       " 812.143013431673,\n",
       " 138.66973778396184,\n",
       " 179.4724557825763,\n",
       " 330.0039187074492,\n",
       " 117.6061373258086,\n",
       " 367.191647287021,\n",
       " 509.28844031842084,\n",
       " 434.9591184505213,\n",
       " 214.09611062083707,\n",
       " 266.40954381706786,\n",
       " 183.68067585300906,\n",
       " 293.7616485099628,\n",
       " 306.4880306543574,\n",
       " 93.22554784300699,\n",
       " 260.1301324380596,\n",
       " 114.02113952461148,\n",
       " 291.0449501298439,\n",
       " nan,\n",
       " 621.4923711512815,\n",
       " 139.5209436750257,\n",
       " 191.38189832444098,\n",
       " 2511.343077123126,\n",
       " 427.2424293874508,\n",
       " 1855.133763555093,\n",
       " 1813.858008099326,\n",
       " 114.77674639120725,\n",
       " 173.8989381071966,\n",
       " 4791.221282230834,\n",
       " 265.6905576653321,\n",
       " 87.28857416048044,\n",
       " 423.35404555728496,\n",
       " 126.91499960059166,\n",
       " 543.4699245862532,\n",
       " 1157.9488800083657,\n",
       " 140.06852244223725,\n",
       " 801.6504829480355,\n",
       " 1735.9863671592584,\n",
       " 154.34692858327605,\n",
       " 628.0136568512338,\n",
       " 995.7334799888426,\n",
       " 437.243332369654,\n",
       " 291.1681200228814,\n",
       " 151.75325294229506,\n",
       " 418.18682812701286,\n",
       " 8.415913441483772,\n",
       " 54.01207870102817,\n",
       " 1078.902736576365,\n",
       " 123.41130991624077,\n",
       " 8.646738710828105,\n",
       " 336.2701947141118,\n",
       " 296.24518663257584,\n",
       " 314.61385563233057,\n",
       " 236.83319061139682,\n",
       " 15.831348045961866,\n",
       " 516.8165863967779,\n",
       " 896.1347888863222,\n",
       " 0.0,\n",
       " 148.02649152585673,\n",
       " 26.010014908257503,\n",
       " 194.1686064089934,\n",
       " 775.7439205952508,\n",
       " 372.48429114642835,\n",
       " 118.0141865569431,\n",
       " 202.6953630150877,\n",
       " 63.388495114482616,\n",
       " 244.31180981854033,\n",
       " 702.6525709414966,\n",
       " 1953.7684918520138,\n",
       " 505.37894200382857,\n",
       " 300.9936586841334,\n",
       " 950.9934284503695,\n",
       " 209.48966105572472,\n",
       " 536.5285194088574,\n",
       " 86.6805637290527,\n",
       " 0.0,\n",
       " 1309.5512882762173,\n",
       " 601.3240979001899,\n",
       " 33.338523877994916,\n",
       " 8376.087176057788,\n",
       " 779.5785287016434,\n",
       " 208.6637382792388,\n",
       " 2718.1994592202573,\n",
       " 206.7807800098129,\n",
       " nan,\n",
       " 365.9939882507587,\n",
       " 2.4116620165382783e-13,\n",
       " 2139.7698917043235,\n",
       " 702.6983722922314,\n",
       " 441.5826477655602,\n",
       " 919.6857019461285,\n",
       " 78.43332960045932,\n",
       " 359.3742936160014,\n",
       " 379.0031399205758,\n",
       " 0.9980883782081819,\n",
       " 0.0,\n",
       " 294.8984397496257,\n",
       " 4182.392277150419,\n",
       " 539.2859305414894,\n",
       " 534.9819977249911,\n",
       " 1.6209108807499097,\n",
       " 5645.800647322386,\n",
       " 0.0,\n",
       " 2103.3534809284265,\n",
       " 2822.65579347518,\n",
       " nan,\n",
       " 3966.8425479987677,\n",
       " 1414.6568386470224,\n",
       " 512.2357090456236,\n",
       " 489.6244303812534,\n",
       " 593.738330391107,\n",
       " 3861.406026812843,\n",
       " 4515.638356881312,\n",
       " 2635.873447667614,\n",
       " 1440.5860814327386,\n",
       " 401.3028735804226,\n",
       " 409.07312260523787,\n",
       " 2450.0311448427096,\n",
       " 0.0,\n",
       " 2182.0881532271565,\n",
       " 313.9936229417902,\n",
       " 5825.233560323273,\n",
       " 1732.2199408264698,\n",
       " 668.3835648782069,\n",
       " 511.7628337471805,\n",
       " 1276.0303005922572,\n",
       " 727.157610624701,\n",
       " 606.5104276514144,\n",
       " 1161.8873164198653,\n",
       " 1415.055754818441,\n",
       " 1441.307278963252,\n",
       " 204.08982507552193,\n",
       " 313.1910683907185,\n",
       " 1237.4079409010844,\n",
       " 467.16632871357467,\n",
       " 1564.8997363806427,\n",
       " 2870.7543817642013,\n",
       " 521.4740152667767,\n",
       " 1198.1756025260104,\n",
       " 852.2905637611171,\n",
       " 140.47195933198978,\n",
       " 504.26028254860614,\n",
       " 251.96591311741136,\n",
       " 428.03218665929023,\n",
       " 181.69363306774412,\n",
       " 550.8401492670496,\n",
       " 1078.0132110304887,\n",
       " 220.8437397706838,\n",
       " 882.0423405046563,\n",
       " 57.22383121382101,\n",
       " 161.09534924355052,\n",
       " 663.8185370191809,\n",
       " 0.0,\n",
       " nan,\n",
       " 503.2117053495116,\n",
       " 89.43462974845058,\n",
       " 1675.9376791906109,\n",
       " 4191.59166136561,\n",
       " 967.0788069237483,\n",
       " 239.58580875732184,\n",
       " 2321.947977646571,\n",
       " 1.88411095042053e-15,\n",
       " 482.6254040229189,\n",
       " 52.472026437479585,\n",
       " 2522.4600948375796,\n",
       " 4351.685162952855,\n",
       " 545.4382715389014,\n",
       " 445.52949896475866,\n",
       " 512.604543431061,\n",
       " 123.62789882215833,\n",
       " 0.6224099058564919,\n",
       " 2867.950736629396,\n",
       " 0.0,\n",
       " 0.0,\n",
       " 1673.678803005955,\n",
       " 1420.3315853860804,\n",
       " nan,\n",
       " 341.6056456538827,\n",
       " 622.2893153421486,\n",
       " 491.7651886234595,\n",
       " 1655.5124828990129,\n",
       " 29.641567390339848,\n",
       " 291.40488609746626,\n",
       " 1836.3159117850032,\n",
       " 1929.869847055581,\n",
       " 116.86442769009446,\n",
       " 70.38234872380134,\n",
       " 119.26012564618091,\n",
       " 153.43904292672016,\n",
       " 100.10294873917437,\n",
       " 257.4423091504193,\n",
       " 1355.68111205204,\n",
       " 640.0952482403479,\n",
       " 1051.3299605335794,\n",
       " 4144.030125434742,\n",
       " 1.975699189879089,\n",
       " 361.85671081805407,\n",
       " 0.0,\n",
       " 1088.8046239565265,\n",
       " 44.04750174868037,\n",
       " 224.4722563451807,\n",
       " 2079.23883419373,\n",
       " 387.21143171028024,\n",
       " 8163.2089973816755,\n",
       " nan,\n",
       " nan,\n",
       " 1.7811304401235254e-13,\n",
       " 627.0993925391491,\n",
       " 56.20407720645172,\n",
       " 3250.06323185022,\n",
       " 581.2421973926344,\n",
       " 1016.433822283617,\n",
       " 726.7397361637076,\n",
       " 345.89450007119217,\n",
       " 586.4667052984337,\n",
       " 0.0,\n",
       " 282.3393612927857,\n",
       " 3699.12295703528,\n",
       " 286.33491300580937,\n",
       " 0.0,\n",
       " 5124.73009182427,\n",
       " 2784.1122587930627,\n",
       " 1495.734929219288,\n",
       " 1420.841375600288,\n",
       " 1457.348285858257,\n",
       " 199.92601921004248,\n",
       " 1355.8474052616982,\n",
       " 635.6625158583234,\n",
       " 1369.81653295263,\n",
       " 1144.7119401803836,\n",
       " 591.1165203346123,\n",
       " 3490.3977038093276,\n",
       " 1297.4417930842849,\n",
       " 860.4722092305426,\n",
       " 756.232366452975,\n",
       " 1434.746927394049,\n",
       " 593.6166322208452,\n",
       " 362.32783910937985,\n",
       " 1213.0425862682873,\n",
       " 204.11923218648454,\n",
       " 1.83783043287467,\n",
       " 236.1936628551924,\n",
       " 86.0266277872554,\n",
       " 36024.70905609611,\n",
       " 657.4883372098565,\n",
       " 891.2579369951026,\n",
       " 158.63440354796364]"
      ]
     },
     "execution_count": 36,
     "metadata": {},
     "output_type": "execute_result"
    }
   ],
   "source": [
    "list(data_dianliang.std()[:])"
   ]
  },
  {
   "cell_type": "code",
   "execution_count": 37,
   "metadata": {},
   "outputs": [],
   "source": [
    "data_fina['std_month']=list(data_dianliang.std()[:])"
   ]
  },
  {
   "cell_type": "code",
   "execution_count": 38,
   "metadata": {},
   "outputs": [
    {
     "data": {
      "text/html": [
       "<div>\n",
       "<style scoped>\n",
       "    .dataframe tbody tr th:only-of-type {\n",
       "        vertical-align: middle;\n",
       "    }\n",
       "\n",
       "    .dataframe tbody tr th {\n",
       "        vertical-align: top;\n",
       "    }\n",
       "\n",
       "    .dataframe thead th {\n",
       "        text-align: right;\n",
       "    }\n",
       "</style>\n",
       "<table border=\"1\" class=\"dataframe\">\n",
       "  <thead>\n",
       "    <tr style=\"text-align: right;\">\n",
       "      <th></th>\n",
       "      <th>meterNo</th>\n",
       "      <th>num_not0</th>\n",
       "      <th>sum_all</th>\n",
       "      <th>aver_month</th>\n",
       "      <th>std_month</th>\n",
       "    </tr>\n",
       "  </thead>\n",
       "  <tbody>\n",
       "    <tr>\n",
       "      <th>0</th>\n",
       "      <td>10023160000029</td>\n",
       "      <td>2</td>\n",
       "      <td>58869.611</td>\n",
       "      <td>29434.8055</td>\n",
       "      <td>1383.097328</td>\n",
       "    </tr>\n",
       "    <tr>\n",
       "      <th>1</th>\n",
       "      <td>10023160000030</td>\n",
       "      <td>8</td>\n",
       "      <td>8161.616</td>\n",
       "      <td>1020.202</td>\n",
       "      <td>66.192354</td>\n",
       "    </tr>\n",
       "    <tr>\n",
       "      <th>2</th>\n",
       "      <td>10023160000032</td>\n",
       "      <td>7</td>\n",
       "      <td>24299.114</td>\n",
       "      <td>3471.302</td>\n",
       "      <td>167.739267</td>\n",
       "    </tr>\n",
       "    <tr>\n",
       "      <th>3</th>\n",
       "      <td>10023160000036</td>\n",
       "      <td>8</td>\n",
       "      <td>298325.673</td>\n",
       "      <td>37290.709125</td>\n",
       "      <td>7618.835587</td>\n",
       "    </tr>\n",
       "    <tr>\n",
       "      <th>4</th>\n",
       "      <td>10023160000042</td>\n",
       "      <td>2</td>\n",
       "      <td>42884.079</td>\n",
       "      <td>21442.0395</td>\n",
       "      <td>444.606824</td>\n",
       "    </tr>\n",
       "  </tbody>\n",
       "</table>\n",
       "</div>"
      ],
      "text/plain": [
       "           meterNo  num_not0     sum_all    aver_month    std_month\n",
       "0  10023160000029          2   58869.611    29434.8055  1383.097328\n",
       "1  10023160000030          8    8161.616      1020.202    66.192354\n",
       "2  10023160000032          7   24299.114      3471.302   167.739267\n",
       "3  10023160000036          8  298325.673  37290.709125  7618.835587\n",
       "4  10023160000042          2   42884.079    21442.0395   444.606824"
      ]
     },
     "execution_count": 38,
     "metadata": {},
     "output_type": "execute_result"
    }
   ],
   "source": [
    "data_fina.head(5)"
   ]
  },
  {
   "cell_type": "code",
   "execution_count": 39,
   "metadata": {},
   "outputs": [
    {
     "data": {
      "text/plain": [
       "9"
      ]
     },
     "execution_count": 39,
     "metadata": {},
     "output_type": "execute_result"
    }
   ],
   "source": [
    "data_fina['std_month'].isnull().sum()"
   ]
  },
  {
   "cell_type": "code",
   "execution_count": 40,
   "metadata": {},
   "outputs": [
    {
     "data": {
      "text/html": [
       "<div>\n",
       "<style scoped>\n",
       "    .dataframe tbody tr th:only-of-type {\n",
       "        vertical-align: middle;\n",
       "    }\n",
       "\n",
       "    .dataframe tbody tr th {\n",
       "        vertical-align: top;\n",
       "    }\n",
       "\n",
       "    .dataframe thead th {\n",
       "        text-align: right;\n",
       "    }\n",
       "</style>\n",
       "<table border=\"1\" class=\"dataframe\">\n",
       "  <thead>\n",
       "    <tr style=\"text-align: right;\">\n",
       "      <th></th>\n",
       "      <th>meterNo</th>\n",
       "      <th>num_not0</th>\n",
       "      <th>sum_all</th>\n",
       "      <th>aver_month</th>\n",
       "      <th>std_month</th>\n",
       "    </tr>\n",
       "  </thead>\n",
       "  <tbody>\n",
       "    <tr>\n",
       "      <th>9</th>\n",
       "      <td>10021160001047</td>\n",
       "      <td>1</td>\n",
       "      <td>1345.04</td>\n",
       "      <td>1345.04</td>\n",
       "      <td>NaN</td>\n",
       "    </tr>\n",
       "    <tr>\n",
       "      <th>84</th>\n",
       "      <td>10021160000921</td>\n",
       "      <td>1</td>\n",
       "      <td>3561.624</td>\n",
       "      <td>3561.624</td>\n",
       "      <td>NaN</td>\n",
       "    </tr>\n",
       "    <tr>\n",
       "      <th>167</th>\n",
       "      <td>10021160001030</td>\n",
       "      <td>1</td>\n",
       "      <td>1146.873</td>\n",
       "      <td>1146.873</td>\n",
       "      <td>NaN</td>\n",
       "    </tr>\n",
       "    <tr>\n",
       "      <th>233</th>\n",
       "      <td>10023160000067</td>\n",
       "      <td>1</td>\n",
       "      <td>790.259</td>\n",
       "      <td>790.259</td>\n",
       "      <td>NaN</td>\n",
       "    </tr>\n",
       "    <tr>\n",
       "      <th>254</th>\n",
       "      <td>10023160000114</td>\n",
       "      <td>1</td>\n",
       "      <td>88189.492</td>\n",
       "      <td>88189.492</td>\n",
       "      <td>NaN</td>\n",
       "    </tr>\n",
       "    <tr>\n",
       "      <th>302</th>\n",
       "      <td>10023160000180</td>\n",
       "      <td>1</td>\n",
       "      <td>155.179</td>\n",
       "      <td>155.179</td>\n",
       "      <td>NaN</td>\n",
       "    </tr>\n",
       "    <tr>\n",
       "      <th>325</th>\n",
       "      <td>10023160000234</td>\n",
       "      <td>1</td>\n",
       "      <td>21.216</td>\n",
       "      <td>21.216</td>\n",
       "      <td>NaN</td>\n",
       "    </tr>\n",
       "    <tr>\n",
       "      <th>353</th>\n",
       "      <td>10023160000282</td>\n",
       "      <td>1</td>\n",
       "      <td>9571.127</td>\n",
       "      <td>9571.127</td>\n",
       "      <td>NaN</td>\n",
       "    </tr>\n",
       "    <tr>\n",
       "      <th>354</th>\n",
       "      <td>10023160000283</td>\n",
       "      <td>1</td>\n",
       "      <td>4478.684</td>\n",
       "      <td>4478.684</td>\n",
       "      <td>NaN</td>\n",
       "    </tr>\n",
       "  </tbody>\n",
       "</table>\n",
       "</div>"
      ],
      "text/plain": [
       "             meterNo  num_not0    sum_all aver_month  std_month\n",
       "9    10021160001047          1    1345.04    1345.04        NaN\n",
       "84   10021160000921          1   3561.624   3561.624        NaN\n",
       "167  10021160001030          1   1146.873   1146.873        NaN\n",
       "233  10023160000067          1    790.259    790.259        NaN\n",
       "254  10023160000114          1  88189.492  88189.492        NaN\n",
       "302  10023160000180          1    155.179    155.179        NaN\n",
       "325  10023160000234          1     21.216     21.216        NaN\n",
       "353  10023160000282          1   9571.127   9571.127        NaN\n",
       "354  10023160000283          1   4478.684   4478.684        NaN"
      ]
     },
     "execution_count": 40,
     "metadata": {},
     "output_type": "execute_result"
    }
   ],
   "source": [
    "data_fina[data_fina['std_month'].isnull()]"
   ]
  },
  {
   "cell_type": "code",
   "execution_count": 41,
   "metadata": {},
   "outputs": [
    {
     "data": {
      "text/plain": [
       "823.3534232197478"
      ]
     },
     "execution_count": 41,
     "metadata": {},
     "output_type": "execute_result"
    }
   ],
   "source": [
    "data_fina['std_month'].mean()"
   ]
  },
  {
   "cell_type": "code",
   "execution_count": 42,
   "metadata": {},
   "outputs": [],
   "source": [
    "data_fina['std_month']=data_fina['std_month'].fillna(0)"
   ]
  },
  {
   "cell_type": "code",
   "execution_count": 43,
   "metadata": {},
   "outputs": [
    {
     "data": {
      "text/html": [
       "<div>\n",
       "<style scoped>\n",
       "    .dataframe tbody tr th:only-of-type {\n",
       "        vertical-align: middle;\n",
       "    }\n",
       "\n",
       "    .dataframe tbody tr th {\n",
       "        vertical-align: top;\n",
       "    }\n",
       "\n",
       "    .dataframe thead th {\n",
       "        text-align: right;\n",
       "    }\n",
       "</style>\n",
       "<table border=\"1\" class=\"dataframe\">\n",
       "  <thead>\n",
       "    <tr style=\"text-align: right;\">\n",
       "      <th></th>\n",
       "      <th>meterNo</th>\n",
       "      <th>num_not0</th>\n",
       "      <th>sum_all</th>\n",
       "      <th>aver_month</th>\n",
       "      <th>std_month</th>\n",
       "    </tr>\n",
       "  </thead>\n",
       "  <tbody>\n",
       "    <tr>\n",
       "      <th>0</th>\n",
       "      <td>10023160000029</td>\n",
       "      <td>2</td>\n",
       "      <td>58869.611</td>\n",
       "      <td>29434.8055</td>\n",
       "      <td>1383.097328</td>\n",
       "    </tr>\n",
       "    <tr>\n",
       "      <th>1</th>\n",
       "      <td>10023160000030</td>\n",
       "      <td>8</td>\n",
       "      <td>8161.616</td>\n",
       "      <td>1020.202</td>\n",
       "      <td>66.192354</td>\n",
       "    </tr>\n",
       "    <tr>\n",
       "      <th>2</th>\n",
       "      <td>10023160000032</td>\n",
       "      <td>7</td>\n",
       "      <td>24299.114</td>\n",
       "      <td>3471.302</td>\n",
       "      <td>167.739267</td>\n",
       "    </tr>\n",
       "    <tr>\n",
       "      <th>3</th>\n",
       "      <td>10023160000036</td>\n",
       "      <td>8</td>\n",
       "      <td>298325.673</td>\n",
       "      <td>37290.709125</td>\n",
       "      <td>7618.835587</td>\n",
       "    </tr>\n",
       "    <tr>\n",
       "      <th>4</th>\n",
       "      <td>10023160000042</td>\n",
       "      <td>2</td>\n",
       "      <td>42884.079</td>\n",
       "      <td>21442.0395</td>\n",
       "      <td>444.606824</td>\n",
       "    </tr>\n",
       "  </tbody>\n",
       "</table>\n",
       "</div>"
      ],
      "text/plain": [
       "           meterNo  num_not0     sum_all    aver_month    std_month\n",
       "0  10023160000029          2   58869.611    29434.8055  1383.097328\n",
       "1  10023160000030          8    8161.616      1020.202    66.192354\n",
       "2  10023160000032          7   24299.114      3471.302   167.739267\n",
       "3  10023160000036          8  298325.673  37290.709125  7618.835587\n",
       "4  10023160000042          2   42884.079    21442.0395   444.606824"
      ]
     },
     "execution_count": 43,
     "metadata": {},
     "output_type": "execute_result"
    }
   ],
   "source": [
    "data_fina.head(5)"
   ]
  },
  {
   "cell_type": "markdown",
   "metadata": {},
   "source": [
    "4、初次尝试应用孤立森林"
   ]
  },
  {
   "cell_type": "code",
   "execution_count": 44,
   "metadata": {},
   "outputs": [],
   "source": [
    "data_guli=data_fina.copy(deep=1)"
   ]
  },
  {
   "cell_type": "code",
   "execution_count": 45,
   "metadata": {},
   "outputs": [],
   "source": [
    "import plotly.express as px \n",
    "# from sklearn.datasets import load_iris \n",
    "from sklearn.ensemble import IsolationForest"
   ]
  },
  {
   "cell_type": "code",
   "execution_count": 46,
   "metadata": {},
   "outputs": [],
   "source": [
    "data_guli=data_guli.set_index('meterNo')"
   ]
  },
  {
   "cell_type": "code",
   "execution_count": 47,
   "metadata": {},
   "outputs": [],
   "source": [
    "data_guli_values = data_guli.copy(deep=1)"
   ]
  },
  {
   "cell_type": "code",
   "execution_count": 48,
   "metadata": {},
   "outputs": [
    {
     "data": {
      "text/html": [
       "<div>\n",
       "<style scoped>\n",
       "    .dataframe tbody tr th:only-of-type {\n",
       "        vertical-align: middle;\n",
       "    }\n",
       "\n",
       "    .dataframe tbody tr th {\n",
       "        vertical-align: top;\n",
       "    }\n",
       "\n",
       "    .dataframe thead th {\n",
       "        text-align: right;\n",
       "    }\n",
       "</style>\n",
       "<table border=\"1\" class=\"dataframe\">\n",
       "  <thead>\n",
       "    <tr style=\"text-align: right;\">\n",
       "      <th></th>\n",
       "      <th>num_not0</th>\n",
       "      <th>sum_all</th>\n",
       "      <th>aver_month</th>\n",
       "      <th>std_month</th>\n",
       "    </tr>\n",
       "    <tr>\n",
       "      <th>meterNo</th>\n",
       "      <th></th>\n",
       "      <th></th>\n",
       "      <th></th>\n",
       "      <th></th>\n",
       "    </tr>\n",
       "  </thead>\n",
       "  <tbody>\n",
       "    <tr>\n",
       "      <th>10023160000029</th>\n",
       "      <td>2</td>\n",
       "      <td>58869.611</td>\n",
       "      <td>29434.8055</td>\n",
       "      <td>1383.097328</td>\n",
       "    </tr>\n",
       "    <tr>\n",
       "      <th>10023160000030</th>\n",
       "      <td>8</td>\n",
       "      <td>8161.616</td>\n",
       "      <td>1020.202</td>\n",
       "      <td>66.192354</td>\n",
       "    </tr>\n",
       "    <tr>\n",
       "      <th>10023160000032</th>\n",
       "      <td>7</td>\n",
       "      <td>24299.114</td>\n",
       "      <td>3471.302</td>\n",
       "      <td>167.739267</td>\n",
       "    </tr>\n",
       "    <tr>\n",
       "      <th>10023160000036</th>\n",
       "      <td>8</td>\n",
       "      <td>298325.673</td>\n",
       "      <td>37290.709125</td>\n",
       "      <td>7618.835587</td>\n",
       "    </tr>\n",
       "    <tr>\n",
       "      <th>10023160000042</th>\n",
       "      <td>2</td>\n",
       "      <td>42884.079</td>\n",
       "      <td>21442.0395</td>\n",
       "      <td>444.606824</td>\n",
       "    </tr>\n",
       "  </tbody>\n",
       "</table>\n",
       "</div>"
      ],
      "text/plain": [
       "                 num_not0     sum_all    aver_month    std_month\n",
       "meterNo                                                         \n",
       "10023160000029          2   58869.611    29434.8055  1383.097328\n",
       "10023160000030          8    8161.616      1020.202    66.192354\n",
       "10023160000032          7   24299.114      3471.302   167.739267\n",
       "10023160000036          8  298325.673  37290.709125  7618.835587\n",
       "10023160000042          2   42884.079    21442.0395   444.606824"
      ]
     },
     "execution_count": 48,
     "metadata": {},
     "output_type": "execute_result"
    }
   ],
   "source": [
    "data_guli.head(5)"
   ]
  },
  {
   "cell_type": "code",
   "execution_count": 49,
   "metadata": {},
   "outputs": [],
   "source": [
    "# 模型训练\n",
    "iforest = IsolationForest(n_estimators=100, max_samples='auto',  \n",
    "                          contamination=0.05, max_features=4,  \n",
    "                          bootstrap=False, n_jobs=-1, random_state=1)"
   ]
  },
  {
   "cell_type": "code",
   "execution_count": 50,
   "metadata": {},
   "outputs": [],
   "source": [
    "#  fit_predict 函数 训练和预测一起 可以得到模型是否异常的判断，-1为异常，1为正常\n",
    "data_guli['label'] = iforest.fit_predict(data_guli_values) "
   ]
  },
  {
   "cell_type": "code",
   "execution_count": 51,
   "metadata": {},
   "outputs": [],
   "source": [
    "# 预测 decision_function 可以得出 异常评分\n",
    "data_guli['scores'] = iforest.decision_function(data_guli_values)"
   ]
  },
  {
   "cell_type": "code",
   "execution_count": 52,
   "metadata": {},
   "outputs": [
    {
     "data": {
      "text/html": [
       "<div>\n",
       "<style scoped>\n",
       "    .dataframe tbody tr th:only-of-type {\n",
       "        vertical-align: middle;\n",
       "    }\n",
       "\n",
       "    .dataframe tbody tr th {\n",
       "        vertical-align: top;\n",
       "    }\n",
       "\n",
       "    .dataframe thead th {\n",
       "        text-align: right;\n",
       "    }\n",
       "</style>\n",
       "<table border=\"1\" class=\"dataframe\">\n",
       "  <thead>\n",
       "    <tr style=\"text-align: right;\">\n",
       "      <th></th>\n",
       "      <th>num_not0</th>\n",
       "      <th>sum_all</th>\n",
       "      <th>aver_month</th>\n",
       "      <th>std_month</th>\n",
       "      <th>label</th>\n",
       "      <th>scores</th>\n",
       "    </tr>\n",
       "    <tr>\n",
       "      <th>meterNo</th>\n",
       "      <th></th>\n",
       "      <th></th>\n",
       "      <th></th>\n",
       "      <th></th>\n",
       "      <th></th>\n",
       "      <th></th>\n",
       "    </tr>\n",
       "  </thead>\n",
       "  <tbody>\n",
       "    <tr>\n",
       "      <th>10023160000029</th>\n",
       "      <td>2</td>\n",
       "      <td>58869.611</td>\n",
       "      <td>29434.8055</td>\n",
       "      <td>1383.097328</td>\n",
       "      <td>-1</td>\n",
       "      <td>-0.031353</td>\n",
       "    </tr>\n",
       "    <tr>\n",
       "      <th>10023160000030</th>\n",
       "      <td>8</td>\n",
       "      <td>8161.616</td>\n",
       "      <td>1020.202</td>\n",
       "      <td>66.192354</td>\n",
       "      <td>1</td>\n",
       "      <td>0.148253</td>\n",
       "    </tr>\n",
       "    <tr>\n",
       "      <th>10023160000032</th>\n",
       "      <td>7</td>\n",
       "      <td>24299.114</td>\n",
       "      <td>3471.302</td>\n",
       "      <td>167.739267</td>\n",
       "      <td>1</td>\n",
       "      <td>0.164816</td>\n",
       "    </tr>\n",
       "    <tr>\n",
       "      <th>10023160000036</th>\n",
       "      <td>8</td>\n",
       "      <td>298325.673</td>\n",
       "      <td>37290.709125</td>\n",
       "      <td>7618.835587</td>\n",
       "      <td>-1</td>\n",
       "      <td>-0.088254</td>\n",
       "    </tr>\n",
       "    <tr>\n",
       "      <th>10023160000042</th>\n",
       "      <td>2</td>\n",
       "      <td>42884.079</td>\n",
       "      <td>21442.0395</td>\n",
       "      <td>444.606824</td>\n",
       "      <td>1</td>\n",
       "      <td>0.015075</td>\n",
       "    </tr>\n",
       "  </tbody>\n",
       "</table>\n",
       "</div>"
      ],
      "text/plain": [
       "                 num_not0     sum_all    aver_month    std_month  label  \\\n",
       "meterNo                                                                   \n",
       "10023160000029          2   58869.611    29434.8055  1383.097328     -1   \n",
       "10023160000030          8    8161.616      1020.202    66.192354      1   \n",
       "10023160000032          7   24299.114      3471.302   167.739267      1   \n",
       "10023160000036          8  298325.673  37290.709125  7618.835587     -1   \n",
       "10023160000042          2   42884.079    21442.0395   444.606824      1   \n",
       "\n",
       "                   scores  \n",
       "meterNo                    \n",
       "10023160000029  -0.031353  \n",
       "10023160000030   0.148253  \n",
       "10023160000032   0.164816  \n",
       "10023160000036  -0.088254  \n",
       "10023160000042   0.015075  "
      ]
     },
     "execution_count": 52,
     "metadata": {},
     "output_type": "execute_result"
    }
   ],
   "source": [
    "data_guli.head(5)"
   ]
  },
  {
   "cell_type": "code",
   "execution_count": 53,
   "metadata": {},
   "outputs": [
    {
     "data": {
      "text/html": [
       "<div>\n",
       "<style scoped>\n",
       "    .dataframe tbody tr th:only-of-type {\n",
       "        vertical-align: middle;\n",
       "    }\n",
       "\n",
       "    .dataframe tbody tr th {\n",
       "        vertical-align: top;\n",
       "    }\n",
       "\n",
       "    .dataframe thead th {\n",
       "        text-align: right;\n",
       "    }\n",
       "</style>\n",
       "<table border=\"1\" class=\"dataframe\">\n",
       "  <thead>\n",
       "    <tr style=\"text-align: right;\">\n",
       "      <th></th>\n",
       "      <th>num_not0</th>\n",
       "      <th>sum_all</th>\n",
       "      <th>aver_month</th>\n",
       "      <th>std_month</th>\n",
       "      <th>label</th>\n",
       "      <th>scores</th>\n",
       "    </tr>\n",
       "    <tr>\n",
       "      <th>meterNo</th>\n",
       "      <th></th>\n",
       "      <th></th>\n",
       "      <th></th>\n",
       "      <th></th>\n",
       "      <th></th>\n",
       "      <th></th>\n",
       "    </tr>\n",
       "  </thead>\n",
       "  <tbody>\n",
       "    <tr>\n",
       "      <th>10023160000029</th>\n",
       "      <td>2</td>\n",
       "      <td>58869.611</td>\n",
       "      <td>29434.8055</td>\n",
       "      <td>1383.097328</td>\n",
       "      <td>-1</td>\n",
       "      <td>-0.031353</td>\n",
       "    </tr>\n",
       "    <tr>\n",
       "      <th>10023160000036</th>\n",
       "      <td>8</td>\n",
       "      <td>298325.673</td>\n",
       "      <td>37290.709125</td>\n",
       "      <td>7618.835587</td>\n",
       "      <td>-1</td>\n",
       "      <td>-0.088254</td>\n",
       "    </tr>\n",
       "    <tr>\n",
       "      <th>10023160000049</th>\n",
       "      <td>8</td>\n",
       "      <td>294758.82</td>\n",
       "      <td>36844.8525</td>\n",
       "      <td>3186.324485</td>\n",
       "      <td>-1</td>\n",
       "      <td>-0.000366</td>\n",
       "    </tr>\n",
       "    <tr>\n",
       "      <th>10023160000016</th>\n",
       "      <td>11</td>\n",
       "      <td>296477.087</td>\n",
       "      <td>26952.462455</td>\n",
       "      <td>4791.221282</td>\n",
       "      <td>-1</td>\n",
       "      <td>-0.015476</td>\n",
       "    </tr>\n",
       "    <tr>\n",
       "      <th>10023160000068</th>\n",
       "      <td>7</td>\n",
       "      <td>567601.566</td>\n",
       "      <td>81085.938</td>\n",
       "      <td>8376.087176</td>\n",
       "      <td>-1</td>\n",
       "      <td>-0.164023</td>\n",
       "    </tr>\n",
       "    <tr>\n",
       "      <th>10023160000072</th>\n",
       "      <td>5</td>\n",
       "      <td>176635.878</td>\n",
       "      <td>35327.1756</td>\n",
       "      <td>2718.199459</td>\n",
       "      <td>-1</td>\n",
       "      <td>-0.026542</td>\n",
       "    </tr>\n",
       "    <tr>\n",
       "      <th>10023160000079</th>\n",
       "      <td>3</td>\n",
       "      <td>16681.775</td>\n",
       "      <td>5560.591667</td>\n",
       "      <td>2139.769892</td>\n",
       "      <td>-1</td>\n",
       "      <td>-0.003887</td>\n",
       "    </tr>\n",
       "    <tr>\n",
       "      <th>10023160000107</th>\n",
       "      <td>11</td>\n",
       "      <td>538452.652</td>\n",
       "      <td>48950.241091</td>\n",
       "      <td>5645.800647</td>\n",
       "      <td>-1</td>\n",
       "      <td>-0.094639</td>\n",
       "    </tr>\n",
       "    <tr>\n",
       "      <th>10023160000114</th>\n",
       "      <td>1</td>\n",
       "      <td>88189.492</td>\n",
       "      <td>88189.492</td>\n",
       "      <td>0.000000</td>\n",
       "      <td>-1</td>\n",
       "      <td>-0.143948</td>\n",
       "    </tr>\n",
       "    <tr>\n",
       "      <th>10023160000115</th>\n",
       "      <td>12</td>\n",
       "      <td>536078.383</td>\n",
       "      <td>44673.198583</td>\n",
       "      <td>3966.842548</td>\n",
       "      <td>-1</td>\n",
       "      <td>-0.066901</td>\n",
       "    </tr>\n",
       "    <tr>\n",
       "      <th>10023160000121</th>\n",
       "      <td>9</td>\n",
       "      <td>161773.188</td>\n",
       "      <td>17974.798667</td>\n",
       "      <td>4515.638357</td>\n",
       "      <td>-1</td>\n",
       "      <td>-0.004492</td>\n",
       "    </tr>\n",
       "    <tr>\n",
       "      <th>10023160000136</th>\n",
       "      <td>7</td>\n",
       "      <td>261339.507</td>\n",
       "      <td>37334.215286</td>\n",
       "      <td>5825.233560</td>\n",
       "      <td>-1</td>\n",
       "      <td>-0.072403</td>\n",
       "    </tr>\n",
       "    <tr>\n",
       "      <th>10023160000208</th>\n",
       "      <td>9</td>\n",
       "      <td>341376.39</td>\n",
       "      <td>37930.71</td>\n",
       "      <td>4351.685163</td>\n",
       "      <td>-1</td>\n",
       "      <td>-0.025532</td>\n",
       "    </tr>\n",
       "    <tr>\n",
       "      <th>10023160000230</th>\n",
       "      <td>2</td>\n",
       "      <td>66909.938</td>\n",
       "      <td>33454.969</td>\n",
       "      <td>0.000000</td>\n",
       "      <td>-1</td>\n",
       "      <td>-0.042413</td>\n",
       "    </tr>\n",
       "    <tr>\n",
       "      <th>10023160000249</th>\n",
       "      <td>4</td>\n",
       "      <td>271361.094</td>\n",
       "      <td>67840.2735</td>\n",
       "      <td>1929.869847</td>\n",
       "      <td>-1</td>\n",
       "      <td>-0.095980</td>\n",
       "    </tr>\n",
       "    <tr>\n",
       "      <th>10023160000281</th>\n",
       "      <td>10</td>\n",
       "      <td>1042762.464</td>\n",
       "      <td>104276.2464</td>\n",
       "      <td>8163.208997</td>\n",
       "      <td>-1</td>\n",
       "      <td>-0.184065</td>\n",
       "    </tr>\n",
       "    <tr>\n",
       "      <th>10023160000289</th>\n",
       "      <td>5</td>\n",
       "      <td>102322.171</td>\n",
       "      <td>20464.4342</td>\n",
       "      <td>3250.063232</td>\n",
       "      <td>-1</td>\n",
       "      <td>-0.015869</td>\n",
       "    </tr>\n",
       "    <tr>\n",
       "      <th>10023160000312</th>\n",
       "      <td>12</td>\n",
       "      <td>385383.042</td>\n",
       "      <td>32115.2535</td>\n",
       "      <td>5124.730092</td>\n",
       "      <td>-1</td>\n",
       "      <td>-0.038492</td>\n",
       "    </tr>\n",
       "    <tr>\n",
       "      <th>10023160000313</th>\n",
       "      <td>12</td>\n",
       "      <td>508393.788</td>\n",
       "      <td>42366.149</td>\n",
       "      <td>2784.112259</td>\n",
       "      <td>-1</td>\n",
       "      <td>-0.057059</td>\n",
       "    </tr>\n",
       "    <tr>\n",
       "      <th>10014164400011</th>\n",
       "      <td>12</td>\n",
       "      <td>4633036.5</td>\n",
       "      <td>386086.375</td>\n",
       "      <td>36024.709056</td>\n",
       "      <td>-1</td>\n",
       "      <td>-0.271938</td>\n",
       "    </tr>\n",
       "  </tbody>\n",
       "</table>\n",
       "</div>"
      ],
      "text/plain": [
       "                 num_not0      sum_all    aver_month     std_month  label  \\\n",
       "meterNo                                                                     \n",
       "10023160000029          2    58869.611    29434.8055   1383.097328     -1   \n",
       "10023160000036          8   298325.673  37290.709125   7618.835587     -1   \n",
       "10023160000049          8    294758.82    36844.8525   3186.324485     -1   \n",
       "10023160000016         11   296477.087  26952.462455   4791.221282     -1   \n",
       "10023160000068          7   567601.566     81085.938   8376.087176     -1   \n",
       "10023160000072          5   176635.878    35327.1756   2718.199459     -1   \n",
       "10023160000079          3    16681.775   5560.591667   2139.769892     -1   \n",
       "10023160000107         11   538452.652  48950.241091   5645.800647     -1   \n",
       "10023160000114          1    88189.492     88189.492      0.000000     -1   \n",
       "10023160000115         12   536078.383  44673.198583   3966.842548     -1   \n",
       "10023160000121          9   161773.188  17974.798667   4515.638357     -1   \n",
       "10023160000136          7   261339.507  37334.215286   5825.233560     -1   \n",
       "10023160000208          9    341376.39      37930.71   4351.685163     -1   \n",
       "10023160000230          2    66909.938     33454.969      0.000000     -1   \n",
       "10023160000249          4   271361.094    67840.2735   1929.869847     -1   \n",
       "10023160000281         10  1042762.464   104276.2464   8163.208997     -1   \n",
       "10023160000289          5   102322.171    20464.4342   3250.063232     -1   \n",
       "10023160000312         12   385383.042    32115.2535   5124.730092     -1   \n",
       "10023160000313         12   508393.788     42366.149   2784.112259     -1   \n",
       "10014164400011         12    4633036.5    386086.375  36024.709056     -1   \n",
       "\n",
       "                   scores  \n",
       "meterNo                    \n",
       "10023160000029  -0.031353  \n",
       "10023160000036  -0.088254  \n",
       "10023160000049  -0.000366  \n",
       "10023160000016  -0.015476  \n",
       "10023160000068  -0.164023  \n",
       "10023160000072  -0.026542  \n",
       "10023160000079  -0.003887  \n",
       "10023160000107  -0.094639  \n",
       "10023160000114  -0.143948  \n",
       "10023160000115  -0.066901  \n",
       "10023160000121  -0.004492  \n",
       "10023160000136  -0.072403  \n",
       "10023160000208  -0.025532  \n",
       "10023160000230  -0.042413  \n",
       "10023160000249  -0.095980  \n",
       "10023160000281  -0.184065  \n",
       "10023160000289  -0.015869  \n",
       "10023160000312  -0.038492  \n",
       "10023160000313  -0.057059  \n",
       "10014164400011  -0.271938  "
      ]
     },
     "execution_count": 53,
     "metadata": {},
     "output_type": "execute_result"
    }
   ],
   "source": [
    "data_guli[data_guli.label==-1]"
   ]
  },
  {
   "cell_type": "code",
   "execution_count": 54,
   "metadata": {},
   "outputs": [
    {
     "data": {
      "application/vnd.plotly.v1+json": {
       "config": {
        "plotlyServerURL": "https://plot.ly"
       },
       "data": [
        {
         "alignmentgroup": "True",
         "bingroup": "x",
         "hovertemplate": "anomaly=outlier<br>scores=%{x}<br>count=%{y}<extra></extra>",
         "legendgroup": "outlier",
         "marker": {
          "color": "#636efa"
         },
         "name": "outlier",
         "offsetgroup": "outlier",
         "orientation": "v",
         "showlegend": true,
         "type": "histogram",
         "x": [
          -0.03135308492987021,
          -0.08825367395745332,
          -0.00036589170653156255,
          -0.015475786884190712,
          -0.16402252185748212,
          -0.026541957936688454,
          -0.0038870289305056316,
          -0.09463864967071867,
          -0.14394808180670216,
          -0.06690139228903214,
          -0.004491807424661931,
          -0.072403270860529,
          -0.025532492655119032,
          -0.042412500788132856,
          -0.09597951482006262,
          -0.1840651832443133,
          -0.0158690904994232,
          -0.03849227552585188,
          -0.057058706575837226,
          -0.27193763399202797
         ],
         "xaxis": "x",
         "yaxis": "y"
        },
        {
         "alignmentgroup": "True",
         "bingroup": "x",
         "hovertemplate": "anomaly=inlier<br>scores=%{x}<br>count=%{y}<extra></extra>",
         "legendgroup": "inlier",
         "marker": {
          "color": "#EF553B"
         },
         "name": "inlier",
         "offsetgroup": "inlier",
         "orientation": "v",
         "showlegend": true,
         "type": "histogram",
         "x": [
          0.1482532344280576,
          0.16481580730366463,
          0.015074736438688952,
          0.15844834678401193,
          0.17654959900945688,
          0.07111896725784572,
          0.04786744969235357,
          0.21881064696041586,
          0.22247997561972965,
          0.12066658562386695,
          0.18816510652212276,
          0.21964287178030428,
          0.19294468571728401,
          0.2064810425521092,
          0.17058482383052515,
          0.17801694989514671,
          0.21763115817284778,
          0.22898579659937163,
          0.22444520012783947,
          0.22432370018943987,
          0.21989212224504717,
          0.192948746744242,
          0.17532814502092486,
          0.2280091982656226,
          0.17898189807942722,
          0.21638567786031737,
          0.1268224571431475,
          0.22576513680699806,
          0.21654670895736305,
          0.21383227861047077,
          0.21796911898690347,
          0.19995365910002583,
          0.20896565241889203,
          0.2197054988590068,
          0.2207951920775904,
          0.2254364727210546,
          0.21504925209924047,
          0.2194001554308294,
          0.2036454379200468,
          0.21037577954575343,
          0.2197054988590068,
          0.2292319083925906,
          0.22448360089289499,
          0.22415486598756923,
          0.21712474477789223,
          0.2192341183823872,
          0.2299640000791055,
          0.20036177077394907,
          0.22704155736588755,
          0.22323180523307656,
          0.19382342148510867,
          0.1957562714445521,
          0.21563245640023515,
          0.22397462531133322,
          0.21009706591175908,
          0.21839875112795337,
          0.2298396778212945,
          0.21576552226824214,
          0.22235161561740052,
          0.20688816778403307,
          0.2271108410240244,
          0.20566185621715022,
          0.21353848045974255,
          0.2070231634152715,
          0.1624227261125118,
          0.20882341170779944,
          0.1772862938380898,
          0.19732027814555092,
          0.09251939040631363,
          0.227663237655704,
          0.17559888032639248,
          0.17018874914515658,
          0.15131320626970451,
          0.12874407811274396,
          0.2282920863040548,
          0.2117509629008998,
          0.07466887116043552,
          0.17664675900473187,
          0.22671680742150807,
          0.22615551457362054,
          0.18572192861704706,
          0.05014145687925364,
          0.19443685577028302,
          0.20815883070306979,
          0.13759382486651106,
          0.21457485942040366,
          0.19383993764225554,
          0.16504675660351392,
          0.1803186527383202,
          0.21404404829025292,
          0.15552188637345338,
          0.2140609449360968,
          0.21002910061927488,
          0.22055590580332657,
          0.1960855254237211,
          0.16875883130691238,
          0.20685998309867082,
          0.1951494823647666,
          0.14032448819015486,
          0.22329610726719712,
          0.22149429141155225,
          0.19981793562859995,
          0.20200637547734018,
          0.22083612910582423,
          0.21169300478021552,
          0.2130836537556483,
          0.1841335701179473,
          0.210941380107732,
          0.21851465493553213,
          0.17286166691297983,
          0.21543032097771114,
          0.22461984854629485,
          0.20893976643137946,
          0.22954513012426864,
          0.18120511193864025,
          0.203998955376765,
          0.22732313429085194,
          0.2293944913770669,
          0.22847075132559763,
          0.2091087433918946,
          0.22271078292307428,
          0.21811501811320633,
          0.1607541948486766,
          0.21883715935787124,
          0.16880603682777462,
          0.21551548056744985,
          0.19817469055122505,
          0.1937201689602735,
          0.19726084473128092,
          0.19872179022467767,
          0.19434224280142692,
          0.21153306061555177,
          0.22426445921740507,
          0.21457485942040366,
          0.20899942569023655,
          0.21468380039395069,
          0.21796557506567743,
          0.18771831191634375,
          0.16217777490863977,
          0.14638966433072004,
          0.1709900253306451,
          0.22869615769763352,
          0.22273142551483766,
          0.2094360246851774,
          0.22777138085764603,
          0.1960308696088952,
          0.2097378317606466,
          0.17582664118769187,
          0.20127487588808363,
          0.22704536513717888,
          0.22013041832199148,
          0.22387646965261498,
          0.21018607114126192,
          0.21168126966678985,
          0.20001893924302688,
          0.2290979380227312,
          0.20878615314211568,
          0.20929765779417708,
          0.21139874178887919,
          0.22604454530198004,
          0.1999864111977469,
          0.22443362480610135,
          0.19854277086308586,
          0.23004943312128368,
          0.05341463916481337,
          0.19381756410896173,
          0.22436226394326914,
          0.17088556810893218,
          0.06713246842038334,
          0.20782798699806226,
          0.12819601570404954,
          0.10391912066460451,
          0.22175310290125966,
          0.2197848368865119,
          0.22073196714088195,
          0.21607182784999052,
          0.2093365034397483,
          0.20155931324191584,
          0.20900326884055037,
          0.17058482383052515,
          0.22452220291140262,
          0.19004045180293128,
          0.1249093353523989,
          0.22557621458659205,
          0.20296879622679498,
          0.17405306271104715,
          0.21646517227391493,
          0.22446972558260497,
          0.22007556738509215,
          0.20397593980283424,
          0.19255122624567067,
          0.2085160576013359,
          0.1761906701097808,
          0.2238613270128197,
          0.0689813372303012,
          0.1620240122501317,
          0.2276218011840775,
          0.20097518523427182,
          0.22903372230356672,
          0.1357413189837598,
          0.2060480276974263,
          0.12808035136104723,
          0.13169473689566474,
          0.22690386359407522,
          0.13040946970965678,
          0.22916691462372257,
          0.1588679750889394,
          0.15371758909783861,
          0.22383419970759227,
          0.2032446062828276,
          0.21058777997651812,
          0.22677653466927566,
          0.12153525649250824,
          0.018434985938005966,
          0.20951841456502313,
          0.22227590560307597,
          0.16891947970665683,
          0.22571628541357974,
          0.13251539005761576,
          0.17285391964217361,
          0.1573060786573517,
          0.1432831002986441,
          0.17442850990417674,
          0.20920941479004562,
          0.13451538260026907,
          0.14766839944011234,
          0.1476166895246065,
          0.050269238564275676,
          0.16757116918145798,
          0.1517581411260912,
          0.19958454802987086,
          0.17079242510752135,
          0.10007712021143866,
          0.13710792385314258,
          0.009897233254480664,
          0.18232092326726146,
          0.13775773170887673,
          0.13390046094573815,
          0.22062272738984068,
          0.01883054406059781,
          0.10500921208997155,
          0.1711638482493683,
          0.20102872772888236,
          0.06565094257846316,
          0.10783807064079376,
          0.06158477343347146,
          0.051664701346532116,
          0.20670841121777023,
          0.1261001498044404,
          0.14011776544297716,
          0.020526698424156997,
          0.05548319068601948,
          0.13140748646874545,
          0.15247538924236498,
          0.14234537078799664,
          0.07064846155609561,
          0.14058531769380328,
          0.02781709080619854,
          0.17979979960246995,
          0.10459044114776006,
          0.10274507801027238,
          0.16592703485844307,
          0.14102450378437897,
          0.17549393663731117,
          0.20342681173472055,
          0.1659276320920099,
          0.15225961211223898,
          0.1339498290305154,
          0.14603453533300026,
          0.21105850865546827,
          0.16689480608636115,
          0.20119876931403213,
          0.04201336800837041,
          0.03454198487730087,
          0.2091289302563875,
          0.13406692841891116,
          0.1719412379933385,
          0.22463089228237393,
          0.19835742695516384,
          0.22190542101570254,
          0.03768268494689331,
          0.20760347571210758,
          0.20408003043836376,
          0.17648056539961993,
          0.22443925067485354,
          0.17421738905762468,
          0.20570461995885303,
          0.22552684684559976,
          0.13761733642762414,
          0.13390046094573815,
          0.03917655020751254,
          0.19430318086796639,
          0.19034652555680848,
          0.12628519094388213,
          0.0076252688648215106,
          0.1786924420730861,
          0.1431532178122794,
          0.0012586442084491223,
          0.1332434640055024,
          0.16630607726809293,
          0.14143544793990287,
          0.07239773231601765,
          0.17599587083774992,
          0.18925369083440519,
          0.06988335907478671,
          0.2037209582017156,
          0.0001219639021771135,
          0.013015467106425427,
          0.012815690184899586,
          0.09771325352266325,
          0.01824898001021058,
          0.038634479840828906,
          0.2226547333203232,
          0.1822456229502361,
          0.14323467405816637,
          0.10781770800750712,
          0.07287689923660579,
          0.20757726831176465,
          0.13178944041187657,
          0.11257120901805967,
          0.2088629693745051,
          0.15597232750089574,
          0.1674117205496619,
          0.14789541271260093,
          0.11572630070397771,
          0.14779946820526052,
          0.18388219265675504,
          0.17753670331204652,
          0.01412907790208584,
          0.13430445732636354,
          0.16287975883591754,
          0.05337349038104644,
          0.14555686021517766,
          0.08462428165151115,
          0.14210210554492786,
          0.046212754297602965,
          0.17152555452637702,
          0.008752437533295132,
          0.03850772207095943,
          0.1792013000058807,
          0.19294468571728401,
          0.21381110677526383,
          0.1873417502340196,
          0.17459487583888955,
          0.18346309912531855,
          0.14698639406918906,
          0.1922760288846619,
          0.1363120817384995,
          0.22053876506728753,
          0.019888721111486873,
          0.19466295134790051,
          0.13836328896016054,
          0.09902964663085695,
          0.09116163932551224,
          0.1131001638878315,
          0.22108966347698455,
          0.04409909303784487,
          0.13294789027238219,
          0.047389614216293396,
          0.1681384493957268,
          0.024848178365350693,
          0.00797427482388613,
          0.11407222152880747,
          0.16939165663758587,
          0.1678641071934755,
          0.04965437056090216,
          0.18097402693841252,
          0.1803734323882764,
          0.16261569680344623,
          0.18502285417009862,
          0.12107695349641745,
          0.1256968766295548,
          0.1875026208178912,
          0.15120166063238716,
          0.15913049389790446,
          0.19474882061438437
         ],
         "xaxis": "x",
         "yaxis": "y"
        }
       ],
       "layout": {
        "barmode": "relative",
        "legend": {
         "title": {
          "text": "anomaly"
         },
         "tracegroupgap": 0
        },
        "margin": {
         "t": 60
        },
        "template": {
         "data": {
          "bar": [
           {
            "error_x": {
             "color": "#2a3f5f"
            },
            "error_y": {
             "color": "#2a3f5f"
            },
            "marker": {
             "line": {
              "color": "#E5ECF6",
              "width": 0.5
             }
            },
            "type": "bar"
           }
          ],
          "barpolar": [
           {
            "marker": {
             "line": {
              "color": "#E5ECF6",
              "width": 0.5
             }
            },
            "type": "barpolar"
           }
          ],
          "carpet": [
           {
            "aaxis": {
             "endlinecolor": "#2a3f5f",
             "gridcolor": "white",
             "linecolor": "white",
             "minorgridcolor": "white",
             "startlinecolor": "#2a3f5f"
            },
            "baxis": {
             "endlinecolor": "#2a3f5f",
             "gridcolor": "white",
             "linecolor": "white",
             "minorgridcolor": "white",
             "startlinecolor": "#2a3f5f"
            },
            "type": "carpet"
           }
          ],
          "choropleth": [
           {
            "colorbar": {
             "outlinewidth": 0,
             "ticks": ""
            },
            "type": "choropleth"
           }
          ],
          "contour": [
           {
            "colorbar": {
             "outlinewidth": 0,
             "ticks": ""
            },
            "colorscale": [
             [
              0,
              "#0d0887"
             ],
             [
              0.1111111111111111,
              "#46039f"
             ],
             [
              0.2222222222222222,
              "#7201a8"
             ],
             [
              0.3333333333333333,
              "#9c179e"
             ],
             [
              0.4444444444444444,
              "#bd3786"
             ],
             [
              0.5555555555555556,
              "#d8576b"
             ],
             [
              0.6666666666666666,
              "#ed7953"
             ],
             [
              0.7777777777777778,
              "#fb9f3a"
             ],
             [
              0.8888888888888888,
              "#fdca26"
             ],
             [
              1,
              "#f0f921"
             ]
            ],
            "type": "contour"
           }
          ],
          "contourcarpet": [
           {
            "colorbar": {
             "outlinewidth": 0,
             "ticks": ""
            },
            "type": "contourcarpet"
           }
          ],
          "heatmap": [
           {
            "colorbar": {
             "outlinewidth": 0,
             "ticks": ""
            },
            "colorscale": [
             [
              0,
              "#0d0887"
             ],
             [
              0.1111111111111111,
              "#46039f"
             ],
             [
              0.2222222222222222,
              "#7201a8"
             ],
             [
              0.3333333333333333,
              "#9c179e"
             ],
             [
              0.4444444444444444,
              "#bd3786"
             ],
             [
              0.5555555555555556,
              "#d8576b"
             ],
             [
              0.6666666666666666,
              "#ed7953"
             ],
             [
              0.7777777777777778,
              "#fb9f3a"
             ],
             [
              0.8888888888888888,
              "#fdca26"
             ],
             [
              1,
              "#f0f921"
             ]
            ],
            "type": "heatmap"
           }
          ],
          "heatmapgl": [
           {
            "colorbar": {
             "outlinewidth": 0,
             "ticks": ""
            },
            "colorscale": [
             [
              0,
              "#0d0887"
             ],
             [
              0.1111111111111111,
              "#46039f"
             ],
             [
              0.2222222222222222,
              "#7201a8"
             ],
             [
              0.3333333333333333,
              "#9c179e"
             ],
             [
              0.4444444444444444,
              "#bd3786"
             ],
             [
              0.5555555555555556,
              "#d8576b"
             ],
             [
              0.6666666666666666,
              "#ed7953"
             ],
             [
              0.7777777777777778,
              "#fb9f3a"
             ],
             [
              0.8888888888888888,
              "#fdca26"
             ],
             [
              1,
              "#f0f921"
             ]
            ],
            "type": "heatmapgl"
           }
          ],
          "histogram": [
           {
            "marker": {
             "colorbar": {
              "outlinewidth": 0,
              "ticks": ""
             }
            },
            "type": "histogram"
           }
          ],
          "histogram2d": [
           {
            "colorbar": {
             "outlinewidth": 0,
             "ticks": ""
            },
            "colorscale": [
             [
              0,
              "#0d0887"
             ],
             [
              0.1111111111111111,
              "#46039f"
             ],
             [
              0.2222222222222222,
              "#7201a8"
             ],
             [
              0.3333333333333333,
              "#9c179e"
             ],
             [
              0.4444444444444444,
              "#bd3786"
             ],
             [
              0.5555555555555556,
              "#d8576b"
             ],
             [
              0.6666666666666666,
              "#ed7953"
             ],
             [
              0.7777777777777778,
              "#fb9f3a"
             ],
             [
              0.8888888888888888,
              "#fdca26"
             ],
             [
              1,
              "#f0f921"
             ]
            ],
            "type": "histogram2d"
           }
          ],
          "histogram2dcontour": [
           {
            "colorbar": {
             "outlinewidth": 0,
             "ticks": ""
            },
            "colorscale": [
             [
              0,
              "#0d0887"
             ],
             [
              0.1111111111111111,
              "#46039f"
             ],
             [
              0.2222222222222222,
              "#7201a8"
             ],
             [
              0.3333333333333333,
              "#9c179e"
             ],
             [
              0.4444444444444444,
              "#bd3786"
             ],
             [
              0.5555555555555556,
              "#d8576b"
             ],
             [
              0.6666666666666666,
              "#ed7953"
             ],
             [
              0.7777777777777778,
              "#fb9f3a"
             ],
             [
              0.8888888888888888,
              "#fdca26"
             ],
             [
              1,
              "#f0f921"
             ]
            ],
            "type": "histogram2dcontour"
           }
          ],
          "mesh3d": [
           {
            "colorbar": {
             "outlinewidth": 0,
             "ticks": ""
            },
            "type": "mesh3d"
           }
          ],
          "parcoords": [
           {
            "line": {
             "colorbar": {
              "outlinewidth": 0,
              "ticks": ""
             }
            },
            "type": "parcoords"
           }
          ],
          "pie": [
           {
            "automargin": true,
            "type": "pie"
           }
          ],
          "scatter": [
           {
            "marker": {
             "colorbar": {
              "outlinewidth": 0,
              "ticks": ""
             }
            },
            "type": "scatter"
           }
          ],
          "scatter3d": [
           {
            "line": {
             "colorbar": {
              "outlinewidth": 0,
              "ticks": ""
             }
            },
            "marker": {
             "colorbar": {
              "outlinewidth": 0,
              "ticks": ""
             }
            },
            "type": "scatter3d"
           }
          ],
          "scattercarpet": [
           {
            "marker": {
             "colorbar": {
              "outlinewidth": 0,
              "ticks": ""
             }
            },
            "type": "scattercarpet"
           }
          ],
          "scattergeo": [
           {
            "marker": {
             "colorbar": {
              "outlinewidth": 0,
              "ticks": ""
             }
            },
            "type": "scattergeo"
           }
          ],
          "scattergl": [
           {
            "marker": {
             "colorbar": {
              "outlinewidth": 0,
              "ticks": ""
             }
            },
            "type": "scattergl"
           }
          ],
          "scattermapbox": [
           {
            "marker": {
             "colorbar": {
              "outlinewidth": 0,
              "ticks": ""
             }
            },
            "type": "scattermapbox"
           }
          ],
          "scatterpolar": [
           {
            "marker": {
             "colorbar": {
              "outlinewidth": 0,
              "ticks": ""
             }
            },
            "type": "scatterpolar"
           }
          ],
          "scatterpolargl": [
           {
            "marker": {
             "colorbar": {
              "outlinewidth": 0,
              "ticks": ""
             }
            },
            "type": "scatterpolargl"
           }
          ],
          "scatterternary": [
           {
            "marker": {
             "colorbar": {
              "outlinewidth": 0,
              "ticks": ""
             }
            },
            "type": "scatterternary"
           }
          ],
          "surface": [
           {
            "colorbar": {
             "outlinewidth": 0,
             "ticks": ""
            },
            "colorscale": [
             [
              0,
              "#0d0887"
             ],
             [
              0.1111111111111111,
              "#46039f"
             ],
             [
              0.2222222222222222,
              "#7201a8"
             ],
             [
              0.3333333333333333,
              "#9c179e"
             ],
             [
              0.4444444444444444,
              "#bd3786"
             ],
             [
              0.5555555555555556,
              "#d8576b"
             ],
             [
              0.6666666666666666,
              "#ed7953"
             ],
             [
              0.7777777777777778,
              "#fb9f3a"
             ],
             [
              0.8888888888888888,
              "#fdca26"
             ],
             [
              1,
              "#f0f921"
             ]
            ],
            "type": "surface"
           }
          ],
          "table": [
           {
            "cells": {
             "fill": {
              "color": "#EBF0F8"
             },
             "line": {
              "color": "white"
             }
            },
            "header": {
             "fill": {
              "color": "#C8D4E3"
             },
             "line": {
              "color": "white"
             }
            },
            "type": "table"
           }
          ]
         },
         "layout": {
          "annotationdefaults": {
           "arrowcolor": "#2a3f5f",
           "arrowhead": 0,
           "arrowwidth": 1
          },
          "autotypenumbers": "strict",
          "coloraxis": {
           "colorbar": {
            "outlinewidth": 0,
            "ticks": ""
           }
          },
          "colorscale": {
           "diverging": [
            [
             0,
             "#8e0152"
            ],
            [
             0.1,
             "#c51b7d"
            ],
            [
             0.2,
             "#de77ae"
            ],
            [
             0.3,
             "#f1b6da"
            ],
            [
             0.4,
             "#fde0ef"
            ],
            [
             0.5,
             "#f7f7f7"
            ],
            [
             0.6,
             "#e6f5d0"
            ],
            [
             0.7,
             "#b8e186"
            ],
            [
             0.8,
             "#7fbc41"
            ],
            [
             0.9,
             "#4d9221"
            ],
            [
             1,
             "#276419"
            ]
           ],
           "sequential": [
            [
             0,
             "#0d0887"
            ],
            [
             0.1111111111111111,
             "#46039f"
            ],
            [
             0.2222222222222222,
             "#7201a8"
            ],
            [
             0.3333333333333333,
             "#9c179e"
            ],
            [
             0.4444444444444444,
             "#bd3786"
            ],
            [
             0.5555555555555556,
             "#d8576b"
            ],
            [
             0.6666666666666666,
             "#ed7953"
            ],
            [
             0.7777777777777778,
             "#fb9f3a"
            ],
            [
             0.8888888888888888,
             "#fdca26"
            ],
            [
             1,
             "#f0f921"
            ]
           ],
           "sequentialminus": [
            [
             0,
             "#0d0887"
            ],
            [
             0.1111111111111111,
             "#46039f"
            ],
            [
             0.2222222222222222,
             "#7201a8"
            ],
            [
             0.3333333333333333,
             "#9c179e"
            ],
            [
             0.4444444444444444,
             "#bd3786"
            ],
            [
             0.5555555555555556,
             "#d8576b"
            ],
            [
             0.6666666666666666,
             "#ed7953"
            ],
            [
             0.7777777777777778,
             "#fb9f3a"
            ],
            [
             0.8888888888888888,
             "#fdca26"
            ],
            [
             1,
             "#f0f921"
            ]
           ]
          },
          "colorway": [
           "#636efa",
           "#EF553B",
           "#00cc96",
           "#ab63fa",
           "#FFA15A",
           "#19d3f3",
           "#FF6692",
           "#B6E880",
           "#FF97FF",
           "#FECB52"
          ],
          "font": {
           "color": "#2a3f5f"
          },
          "geo": {
           "bgcolor": "white",
           "lakecolor": "white",
           "landcolor": "#E5ECF6",
           "showlakes": true,
           "showland": true,
           "subunitcolor": "white"
          },
          "hoverlabel": {
           "align": "left"
          },
          "hovermode": "closest",
          "mapbox": {
           "style": "light"
          },
          "paper_bgcolor": "white",
          "plot_bgcolor": "#E5ECF6",
          "polar": {
           "angularaxis": {
            "gridcolor": "white",
            "linecolor": "white",
            "ticks": ""
           },
           "bgcolor": "#E5ECF6",
           "radialaxis": {
            "gridcolor": "white",
            "linecolor": "white",
            "ticks": ""
           }
          },
          "scene": {
           "xaxis": {
            "backgroundcolor": "#E5ECF6",
            "gridcolor": "white",
            "gridwidth": 2,
            "linecolor": "white",
            "showbackground": true,
            "ticks": "",
            "zerolinecolor": "white"
           },
           "yaxis": {
            "backgroundcolor": "#E5ECF6",
            "gridcolor": "white",
            "gridwidth": 2,
            "linecolor": "white",
            "showbackground": true,
            "ticks": "",
            "zerolinecolor": "white"
           },
           "zaxis": {
            "backgroundcolor": "#E5ECF6",
            "gridcolor": "white",
            "gridwidth": 2,
            "linecolor": "white",
            "showbackground": true,
            "ticks": "",
            "zerolinecolor": "white"
           }
          },
          "shapedefaults": {
           "line": {
            "color": "#2a3f5f"
           }
          },
          "ternary": {
           "aaxis": {
            "gridcolor": "white",
            "linecolor": "white",
            "ticks": ""
           },
           "baxis": {
            "gridcolor": "white",
            "linecolor": "white",
            "ticks": ""
           },
           "bgcolor": "#E5ECF6",
           "caxis": {
            "gridcolor": "white",
            "linecolor": "white",
            "ticks": ""
           }
          },
          "title": {
           "x": 0.05
          },
          "xaxis": {
           "automargin": true,
           "gridcolor": "white",
           "linecolor": "white",
           "ticks": "",
           "title": {
            "standoff": 15
           },
           "zerolinecolor": "white",
           "zerolinewidth": 2
          },
          "yaxis": {
           "automargin": true,
           "gridcolor": "white",
           "linecolor": "white",
           "ticks": "",
           "title": {
            "standoff": 15
           },
           "zerolinecolor": "white",
           "zerolinewidth": 2
          }
         }
        },
        "xaxis": {
         "anchor": "y",
         "domain": [
          0,
          1
         ],
         "title": {
          "text": "scores"
         }
        },
        "yaxis": {
         "anchor": "x",
         "domain": [
          0,
          1
         ],
         "title": {
          "text": "count"
         }
        }
       }
      }
     },
     "metadata": {},
     "output_type": "display_data"
    }
   ],
   "source": [
    "data_guli['anomaly'] = data_guli['label'].apply(lambda x: 'outlier' if x==-1  else 'inlier') \n",
    "fig = px.histogram(data_guli,x='scores',color='anomaly') \n",
    "fig.show()"
   ]
  },
  {
   "cell_type": "code",
   "execution_count": 55,
   "metadata": {},
   "outputs": [
    {
     "data": {
      "application/vnd.plotly.v1+json": {
       "config": {
        "plotlyServerURL": "https://plot.ly"
       },
       "data": [
        {
         "hovertemplate": "anomaly=outlier<br>num_not0=%{x}<br>sum_all=%{y}<br>aver_month=%{z}<extra></extra>",
         "legendgroup": "outlier",
         "marker": {
          "color": "#636efa",
          "symbol": "circle"
         },
         "mode": "markers",
         "name": "outlier",
         "scene": "scene",
         "showlegend": true,
         "type": "scatter3d",
         "x": [
          2,
          8,
          8,
          11,
          7,
          5,
          3,
          11,
          1,
          12,
          9,
          7,
          9,
          2,
          4,
          10,
          5,
          12,
          12,
          12
         ],
         "y": [
          58869.611000000004,
          298325.673,
          294758.81999999995,
          296477.08699999994,
          567601.566,
          176635.87800000003,
          16681.775,
          538452.652,
          88189.492,
          536078.383,
          161773.188,
          261339.50699999998,
          341376.39,
          66909.938,
          271361.094,
          1042762.464,
          102322.171,
          385383.0419999999,
          508393.78799999994,
          4633036.5
         ],
         "z": [
          29434.805500000002,
          37290.709125,
          36844.85249999999,
          26952.46245454545,
          81085.938,
          35327.1756,
          5560.591666666667,
          48950.24109090909,
          88189.492,
          44673.19858333334,
          17974.798666666666,
          37334.21528571429,
          37930.71,
          33454.969,
          67840.2735,
          104276.2464,
          20464.4342,
          32115.25349999999,
          42366.149,
          386086.375
         ]
        },
        {
         "hovertemplate": "anomaly=inlier<br>num_not0=%{x}<br>sum_all=%{y}<br>aver_month=%{z}<extra></extra>",
         "legendgroup": "inlier",
         "marker": {
          "color": "#EF553B",
          "symbol": "circle"
         },
         "mode": "markers",
         "name": "inlier",
         "scene": "scene",
         "showlegend": true,
         "type": "scatter3d",
         "x": [
          8,
          7,
          2,
          7,
          9,
          12,
          1,
          12,
          12,
          5,
          11,
          11,
          12,
          11,
          12,
          12,
          12,
          12,
          12,
          12,
          11,
          11,
          12,
          12,
          11,
          12,
          12,
          12,
          12,
          12,
          12,
          11,
          12,
          11,
          12,
          12,
          11,
          11,
          12,
          12,
          11,
          12,
          12,
          12,
          11,
          12,
          12,
          12,
          12,
          12,
          12,
          11,
          11,
          12,
          12,
          11,
          12,
          12,
          12,
          11,
          12,
          11,
          11,
          11,
          12,
          12,
          12,
          12,
          9,
          12,
          12,
          12,
          9,
          12,
          12,
          12,
          3,
          10,
          12,
          12,
          10,
          1,
          12,
          11,
          10,
          11,
          10,
          10,
          10,
          11,
          10,
          11,
          12,
          12,
          11,
          8,
          11,
          11,
          10,
          12,
          12,
          11,
          12,
          12,
          11,
          11,
          12,
          12,
          12,
          12,
          12,
          12,
          11,
          12,
          12,
          11,
          12,
          12,
          12,
          12,
          12,
          12,
          11,
          12,
          11,
          12,
          12,
          11,
          11,
          12,
          11,
          12,
          12,
          11,
          11,
          12,
          12,
          11,
          12,
          10,
          11,
          12,
          12,
          12,
          12,
          11,
          12,
          12,
          11,
          12,
          12,
          12,
          12,
          12,
          11,
          12,
          11,
          11,
          11,
          12,
          12,
          12,
          11,
          12,
          1,
          12,
          12,
          10,
          9,
          11,
          12,
          10,
          12,
          12,
          12,
          12,
          12,
          11,
          12,
          12,
          12,
          12,
          11,
          12,
          12,
          11,
          12,
          12,
          12,
          12,
          11,
          12,
          12,
          12,
          3,
          10,
          12,
          12,
          12,
          7,
          11,
          12,
          7,
          12,
          9,
          12,
          11,
          8,
          12,
          11,
          12,
          12,
          9,
          9,
          12,
          12,
          12,
          12,
          12,
          12,
          11,
          12,
          12,
          12,
          7,
          6,
          6,
          1,
          8,
          9,
          12,
          8,
          7,
          8,
          2,
          10,
          8,
          9,
          11,
          11,
          5,
          10,
          12,
          2,
          12,
          11,
          8,
          11,
          6,
          7,
          12,
          10,
          10,
          7,
          8,
          9,
          6,
          5,
          9,
          9,
          5,
          9,
          10,
          12,
          12,
          12,
          12,
          11,
          8,
          12,
          12,
          12,
          12,
          12,
          12,
          12,
          12,
          12,
          12,
          12,
          4,
          12,
          12,
          12,
          12,
          12,
          12,
          12,
          8,
          9,
          1,
          11,
          12,
          12,
          12,
          12,
          6,
          3,
          9,
          8,
          10,
          10,
          10,
          10,
          6,
          12,
          12,
          6,
          4,
          9,
          10,
          1,
          12,
          11,
          6,
          11,
          12,
          12,
          12,
          4,
          12,
          7,
          8,
          9,
          5,
          11,
          11,
          12,
          11,
          10,
          12,
          2,
          12,
          5,
          8,
          5,
          8,
          1,
          1,
          12,
          12,
          12,
          11,
          12,
          12,
          6,
          11,
          6,
          11,
          12,
          10,
          8,
          12,
          12,
          8,
          12,
          12,
          7,
          12,
          12,
          2,
          8,
          11,
          12,
          10,
          7,
          11,
          11,
          11,
          10,
          5,
          7,
          12,
          8,
          10,
          11
         ],
         "y": [
          8161.616,
          24299.113999999998,
          42884.079,
          35417.095,
          27266.092,
          197511.209,
          1345.04,
          12373.418,
          36026.873,
          15434.792,
          10046.612,
          29386.201,
          104231.20300000001,
          18364.207000000002,
          140554.231,
          118987.34899999999,
          27360.977,
          23192.122,
          44820.598000000005,
          18655.096999999998,
          31256.916999999998,
          79170.67300000001,
          136286.183,
          25278.459,
          9636.279999999999,
          47119.153999999995,
          180415.26100000003,
          17393.517000000003,
          18791.773,
          12471.705999999998,
          11712.232000000002,
          19892.201,
          54022.912999999986,
          28502.22,
          13727.812999999998,
          21715.990999999998,
          36065.211,
          32977.523,
          68686.72099999999,
          56101.259,
          28499.551999999996,
          26389.265999999996,
          34803.458,
          15515.099000000002,
          26604.704999999998,
          19557.45,
          29270.028000000006,
          10058.76,
          32453.01,
          16872.059,
          84222.82799999998,
          13008.198,
          26597.725,
          21512.403,
          70684.18299999999,
          31369.623,
          32165.326,
          48702.766,
          42915.48,
          36150.541,
          25775.826999999997,
          22092.179000000004,
          30938.598,
          24140.365999999998,
          120540.59700000001,
          61033.265999999996,
          128827.98099999999,
          64762.913,
          152265.00699999998,
          28048.617,
          130235.757,
          141256.099,
          52730.278000000006,
          176785.08,
          23373.964,
          49130.098,
          7457.912,
          26379.981,
          22762.089,
          16115.583,
          42177.541000000005,
          3561.624,
          69405.647,
          17529.947,
          106148.679,
          36914.388000000006,
          25646.121,
          21046.39,
          46279.12,
          29839.992,
          87483.288,
          32670.18,
          51210.638000000006,
          13962.941999999997,
          39277.067,
          36832.931,
          20943.504,
          12361.026000000002,
          117452.93600000002,
          44481.844000000005,
          27518.08,
          56538.42499999999,
          67067.28199999999,
          41623.594,
          45060.814000000006,
          34609.716,
          7900.7429999999995,
          68783.73199999999,
          12493.509999999998,
          87718.405,
          13609.641,
          40726.197,
          43792.08800000001,
          28277.107000000004,
          5653.539,
          46791.651999999995,
          27742.871,
          32046.864999999998,
          34158.772,
          64178.062,
          14150.128,
          25502.727,
          2852.5479999999993,
          16440.775,
          96444.736,
          38475.513,
          76716.226,
          10882.896999999999,
          61977.607,
          76585.317,
          46351.848,
          10630.072,
          21538.956,
          36861.987,
          28119.083000000002,
          16820.805,
          48110.206,
          88010.87299999999,
          898.9200000000001,
          110600.084,
          5737.467000000001,
          32378.671,
          44613.492,
          67474.04100000001,
          25027.215,
          39047.072,
          57459.545999999995,
          49580.692,
          16629.365,
          27218.141000000003,
          22322.37,
          23339.998,
          71735.83699999998,
          73172.398,
          57186.686,
          28853.899999999998,
          19378.818,
          22409.28,
          39670.181,
          34823.289000000004,
          9495.311000000002,
          41097.548,
          18485.786999999997,
          30128.627,
          1146.873,
          99630.034,
          29156.041999999998,
          11128.766,
          196397.703,
          45664.443999999996,
          155705.365,
          94944.535,
          23652.302,
          42388.619,
          14484.046,
          18849.559999999998,
          53692.039,
          14273.333,
          70497.83799999999,
          141362.903,
          18280.444,
          93059.07,
          90440.18500000001,
          22910.472,
          83124.405,
          87938.67399999998,
          47052.157,
          37006.353,
          11526.422999999999,
          80389.53900000002,
          38596.960999999996,
          12382.802,
          128028.898,
          16130.738000000001,
          2342.978,
          77268.13199999998,
          32564.152000000002,
          77077.257,
          33011.52099999999,
          6304.764000000001,
          43596.153999999995,
          174724.69400000002,
          3974.11,
          16755.996000000003,
          1285.348,
          31887.911,
          116142.90499999998,
          14285.380000000001,
          16286.398000000001,
          13861.543,
          12266.654,
          20574.293,
          108492.85100000001,
          291724.859,
          63130.464,
          21355.736000000004,
          46927.702,
          16189.09,
          167204.858,
          3079.017,
          1149.643,
          159488.65899999999,
          141475.833,
          19387.488,
          52589.12,
          23801.336000000003,
          17057.426,
          790.259,
          41457.76299999999,
          11829.590999999999,
          68767.67,
          25524.385999999995,
          8258.902,
          4303.418,
          38528.636,
          41489.859,
          4166.983,
          0,
          30487.565,
          234813.13299999997,
          13982.470000000001,
          60087.973999999995,
          12343.489000000003,
          7460.13,
          124582.914,
          192711.442,
          207811.20200000002,
          45507.884999999995,
          45256.523,
          55365.222,
          314355.216,
          210426.76600000003,
          108868.312,
          35277.867,
          9030.228,
          128002.397,
          21722.04,
          77682.79699999999,
          31424.525,
          139048.057,
          19809.433,
          50506.193,
          85355.447,
          137951.67799999999,
          70665.467,
          147497.08099999998,
          155166.03999999998,
          127872.972,
          6188.918,
          61340.453,
          121747.53800000003,
          12463.913,
          302756.799,
          308832.99600000004,
          67080.762,
          172863.723,
          135190.108,
          14549.139,
          93439.71599999999,
          43560.132000000005,
          87370.838,
          58111.48700000001,
          87155.952,
          110292.631,
          17531.968999999997,
          120335.235,
          47767.856,
          19267.913,
          68953.824,
          0,
          155.179,
          71414.81399999998,
          70267.55200000001,
          88533.70300000001,
          350408.86900000006,
          111470.41,
          10024.617,
          33970.335,
          74.592,
          39030.568,
          3806.9230000000002,
          194009.277,
          32039.472999999998,
          33654.607,
          94208.615,
          9739.242,
          335955.582,
          116766.18299999999,
          96232.56,
          160319.18,
          312953.56,
          21.216,
          42418.544,
          97455.6,
          25056.958,
          171060.42099999997,
          195326.03300000002,
          64355.685,
          152801.38,
          11417.08,
          41271.02,
          28405.606999999996,
          28444.339000000004,
          56205.15699999999,
          27655.156000000003,
          109716.81999999999,
          62086.59099999999,
          112805.749,
          166789.699,
          416.508,
          124459.68400000001,
          11151.546,
          163725.64500000002,
          965.568,
          62868.345,
          56306.943,
          27039.467,
          9571.127,
          4478.684,
          5190.120000000001,
          103733.57199999999,
          22242.595,
          54883.507,
          133201.60700000002,
          34152.345,
          22053.393,
          41815.939000000006,
          6815.49,
          29994.027,
          340333.67799999996,
          34715.986000000004,
          4269.608,
          198405.127,
          204636.76299999998,
          35636.520000000004,
          38965.613,
          311754.794,
          58270.961,
          306153.36000000004,
          118031.20099999999,
          18321.217,
          234445.616,
          179060.312,
          142156.566,
          73739.908,
          171438.12,
          95046.878,
          85958.83499999999,
          98654.59599999999,
          38689.49800000001,
          14026.679000000002,
          64552.12699999999,
          79441.789,
          34522.447,
          89649.191,
          9855.551999999998
         ],
         "z": [
          1020.202,
          3471.3019999999997,
          21442.0395,
          5059.585,
          3029.565777777778,
          16459.267416666666,
          1345.04,
          1031.1181666666666,
          3002.239416666667,
          3086.9584,
          913.3283636363635,
          2671.472818181818,
          8685.933583333333,
          1669.4733636363637,
          11712.852583333333,
          9915.612416666665,
          2280.0814166666664,
          1932.6768333333332,
          3735.049833333334,
          1554.5914166666664,
          2841.5379090909087,
          7197.33390909091,
          11357.181916666666,
          2106.53825,
          876.0254545454544,
          3926.5961666666662,
          15034.605083333336,
          1449.4597500000002,
          1565.9810833333333,
          1039.3088333333333,
          976.0193333333335,
          1808.3819090909092,
          4501.9094166666655,
          2591.110909090909,
          1143.9844166666664,
          1809.6659166666666,
          3278.6555454545455,
          2997.9566363636363,
          5723.893416666666,
          4675.104916666666,
          2590.8683636363635,
          2199.1054999999997,
          2900.2881666666667,
          1292.9249166666668,
          2418.6095454545452,
          1629.7875000000001,
          2439.1690000000003,
          838.23,
          2704.4175,
          1406.0049166666668,
          7018.568999999999,
          1182.5634545454545,
          2417.975,
          1792.7002499999999,
          5890.3485833333325,
          2851.783909090909,
          2680.4438333333333,
          4058.5638333333336,
          3576.2900000000004,
          3286.412818181818,
          2147.985583333333,
          2008.3799090909095,
          2812.599818181818,
          2194.578727272727,
          10045.04975,
          5086.1055,
          10735.665083333331,
          5396.909416666666,
          16918.334111111108,
          2337.3847499999997,
          10852.97975,
          11771.341583333333,
          5858.919777777778,
          14732.089999999998,
          1947.8303333333333,
          4094.174833333333,
          2485.9706666666666,
          2637.9981,
          1896.84075,
          1342.96525,
          4217.7541,
          3561.624,
          5783.803916666667,
          1593.6315454545454,
          10614.867900000001,
          3355.853454545455,
          2564.6121,
          2104.639,
          4627.912,
          2712.7265454545454,
          8748.3288,
          2970.0163636363636,
          4267.5531666666675,
          1163.5784999999998,
          3570.6424545454547,
          4604.116375,
          1903.9549090909093,
          1123.7296363636365,
          11745.2936,
          3706.8203333333336,
          2293.1733333333336,
          5139.856818181817,
          5588.940166666666,
          3468.632833333333,
          4096.437636363637,
          3146.3378181818184,
          658.3952499999999,
          5731.977666666666,
          1041.1258333333333,
          7309.8670833333335,
          1134.13675,
          3393.84975,
          3981.09890909091,
          2356.4255833333336,
          471.12825,
          4253.786545454545,
          2311.9059166666666,
          2670.572083333333,
          2846.5643333333333,
          5348.171833333333,
          1179.1773333333333,
          2125.22725,
          259.3225454545454,
          1370.0645833333335,
          8767.703272727273,
          3206.29275,
          6393.018833333333,
          989.3542727272726,
          5634.327909090909,
          6382.10975,
          4213.804363636364,
          885.8393333333333,
          1794.9129999999998,
          3351.0897272727275,
          2556.280272727273,
          1401.73375,
          4009.183833333333,
          8000.988454545454,
          74.91000000000001,
          11060.0084,
          521.5879090909092,
          2698.222583333333,
          3717.7909999999997,
          5622.836750000001,
          2085.60125,
          3549.733818181818,
          4788.295499999999,
          4131.724333333334,
          1511.7604545454546,
          2268.178416666667,
          1860.1975,
          1944.9998333333333,
          5977.986416666666,
          6097.699833333333,
          5198.789636363636,
          2404.4916666666663,
          1761.7107272727271,
          2037.2072727272725,
          3606.3800909090905,
          2901.94075,
          791.2759166666668,
          3424.795666666667,
          1680.5260909090905,
          2510.7189166666667,
          1146.873,
          8302.502833333334,
          2429.6701666666663,
          1112.8766,
          21821.967,
          4151.3130909090905,
          12975.447083333333,
          9494.4535,
          1971.0251666666666,
          3532.3849166666664,
          1207.0038333333334,
          1570.7966666666664,
          4474.336583333333,
          1297.5757272727274,
          5874.819833333332,
          11780.241916666666,
          1523.3703333333333,
          7754.922500000001,
          8221.835000000001,
          1909.2060000000001,
          6927.03375,
          7994.424909090908,
          3921.0130833333333,
          3083.8627500000002,
          960.5352499999999,
          6699.128250000002,
          3508.814636363636,
          1031.9001666666666,
          10669.074833333334,
          1344.2281666666668,
          780.9926666666667,
          7726.813199999999,
          2713.6793333333335,
          6423.1047499999995,
          2750.960083333333,
          900.6805714285716,
          3963.2867272727267,
          14560.391166666668,
          567.73,
          1396.3330000000003,
          142.81644444444444,
          2657.3259166666667,
          10558.445909090908,
          1785.6725000000001,
          1357.1998333333333,
          1260.1402727272728,
          1022.2211666666667,
          1714.5244166666669,
          12054.761222222223,
          32413.87322222222,
          5260.872,
          1779.644666666667,
          3910.641833333333,
          1349.0908333333334,
          13933.738166666668,
          256.58475,
          104.513,
          13290.721583333332,
          11789.652750000001,
          1615.624,
          7512.731428571429,
          3966.889333333334,
          2842.9043333333334,
          790.259,
          5182.220374999999,
          1314.399,
          5730.639166666667,
          3190.5482499999994,
          1179.8431428571428,
          537.92725,
          19264.318,
          4148.9859,
          520.872875,
          0,
          2771.596818181818,
          21346.64845454545,
          2796.494,
          6008.7973999999995,
          1028.6240833333336,
          3730.065,
          10381.9095,
          17519.222,
          25976.400250000002,
          4137.080454545454,
          7542.753833333333,
          7909.3174285714285,
          26196.268,
          21042.676600000003,
          10886.8312,
          5039.695285714285,
          1128.7785,
          14222.488555555556,
          3620.34,
          15536.559399999998,
          3491.613888888889,
          15449.784111111112,
          3961.8866000000003,
          5611.799222222222,
          8535.5447,
          11495.973166666665,
          5888.788916666667,
          12291.423416666665,
          12930.503333333332,
          11624.815636363635,
          773.61475,
          5111.7044166666665,
          10145.62816666667,
          1038.6594166666666,
          25229.73325,
          25736.083000000002,
          5590.0635,
          14405.31025,
          11265.842333333334,
          1212.42825,
          7786.642999999999,
          3630.0110000000004,
          21842.7095,
          4842.623916666667,
          7262.996,
          9191.052583333332,
          1460.9974166666664,
          10027.93625,
          3980.654666666667,
          1605.6594166666666,
          8619.228,
          0,
          155.179,
          6492.255818181817,
          5855.629333333334,
          7377.808583333334,
          29200.739083333337,
          9289.200833333334,
          1670.7695,
          11323.445,
          8.288,
          4878.821,
          380.69230000000005,
          19400.9277,
          3203.9473,
          3365.4607000000005,
          15701.435833333335,
          811.6035,
          27996.2985,
          19461.030499999997,
          24058.14,
          17813.242222222223,
          31295.356,
          21.216,
          3534.878666666667,
          8859.6,
          4176.159666666666,
          15550.947363636362,
          16277.16941666667,
          5362.97375,
          12733.448333333334,
          2854.27,
          3439.2516666666666,
          4057.943857142857,
          3555.5423750000004,
          6245.017444444444,
          5531.0312,
          9974.256363636363,
          5644.235545454545,
          9400.479083333334,
          15162.699909090908,
          41.6508,
          10371.640333333335,
          5575.773,
          13643.803750000001,
          193.1136,
          7858.543125,
          11261.3886,
          3379.933375,
          9571.127,
          4478.684,
          432.51000000000005,
          8644.464333333332,
          1853.5495833333334,
          4989.409727272727,
          11100.133916666668,
          2846.02875,
          3675.5655,
          3801.4490000000005,
          1135.915,
          2726.729727272727,
          28361.13983333333,
          3471.5986000000003,
          533.701,
          16533.760583333333,
          17053.063583333333,
          4454.5650000000005,
          3247.1344166666663,
          25979.566166666667,
          8324.423,
          25512.780000000002,
          9835.933416666665,
          9160.6085,
          29305.702,
          16278.210181818182,
          11846.3805,
          7373.9908,
          24491.16,
          8640.625272727273,
          7814.439545454545,
          8968.599636363635,
          3868.949800000001,
          2805.3358000000003,
          9221.732428571428,
          6620.149083333334,
          4315.305875,
          8964.919100000001,
          895.9592727272725
         ]
        }
       ],
       "layout": {
        "legend": {
         "title": {
          "text": "anomaly"
         },
         "tracegroupgap": 0
        },
        "margin": {
         "t": 60
        },
        "scene": {
         "domain": {
          "x": [
           0,
           1
          ],
          "y": [
           0,
           1
          ]
         },
         "xaxis": {
          "title": {
           "text": "num_not0"
          }
         },
         "yaxis": {
          "title": {
           "text": "sum_all"
          }
         },
         "zaxis": {
          "title": {
           "text": "aver_month"
          }
         }
        },
        "template": {
         "data": {
          "bar": [
           {
            "error_x": {
             "color": "#2a3f5f"
            },
            "error_y": {
             "color": "#2a3f5f"
            },
            "marker": {
             "line": {
              "color": "#E5ECF6",
              "width": 0.5
             }
            },
            "type": "bar"
           }
          ],
          "barpolar": [
           {
            "marker": {
             "line": {
              "color": "#E5ECF6",
              "width": 0.5
             }
            },
            "type": "barpolar"
           }
          ],
          "carpet": [
           {
            "aaxis": {
             "endlinecolor": "#2a3f5f",
             "gridcolor": "white",
             "linecolor": "white",
             "minorgridcolor": "white",
             "startlinecolor": "#2a3f5f"
            },
            "baxis": {
             "endlinecolor": "#2a3f5f",
             "gridcolor": "white",
             "linecolor": "white",
             "minorgridcolor": "white",
             "startlinecolor": "#2a3f5f"
            },
            "type": "carpet"
           }
          ],
          "choropleth": [
           {
            "colorbar": {
             "outlinewidth": 0,
             "ticks": ""
            },
            "type": "choropleth"
           }
          ],
          "contour": [
           {
            "colorbar": {
             "outlinewidth": 0,
             "ticks": ""
            },
            "colorscale": [
             [
              0,
              "#0d0887"
             ],
             [
              0.1111111111111111,
              "#46039f"
             ],
             [
              0.2222222222222222,
              "#7201a8"
             ],
             [
              0.3333333333333333,
              "#9c179e"
             ],
             [
              0.4444444444444444,
              "#bd3786"
             ],
             [
              0.5555555555555556,
              "#d8576b"
             ],
             [
              0.6666666666666666,
              "#ed7953"
             ],
             [
              0.7777777777777778,
              "#fb9f3a"
             ],
             [
              0.8888888888888888,
              "#fdca26"
             ],
             [
              1,
              "#f0f921"
             ]
            ],
            "type": "contour"
           }
          ],
          "contourcarpet": [
           {
            "colorbar": {
             "outlinewidth": 0,
             "ticks": ""
            },
            "type": "contourcarpet"
           }
          ],
          "heatmap": [
           {
            "colorbar": {
             "outlinewidth": 0,
             "ticks": ""
            },
            "colorscale": [
             [
              0,
              "#0d0887"
             ],
             [
              0.1111111111111111,
              "#46039f"
             ],
             [
              0.2222222222222222,
              "#7201a8"
             ],
             [
              0.3333333333333333,
              "#9c179e"
             ],
             [
              0.4444444444444444,
              "#bd3786"
             ],
             [
              0.5555555555555556,
              "#d8576b"
             ],
             [
              0.6666666666666666,
              "#ed7953"
             ],
             [
              0.7777777777777778,
              "#fb9f3a"
             ],
             [
              0.8888888888888888,
              "#fdca26"
             ],
             [
              1,
              "#f0f921"
             ]
            ],
            "type": "heatmap"
           }
          ],
          "heatmapgl": [
           {
            "colorbar": {
             "outlinewidth": 0,
             "ticks": ""
            },
            "colorscale": [
             [
              0,
              "#0d0887"
             ],
             [
              0.1111111111111111,
              "#46039f"
             ],
             [
              0.2222222222222222,
              "#7201a8"
             ],
             [
              0.3333333333333333,
              "#9c179e"
             ],
             [
              0.4444444444444444,
              "#bd3786"
             ],
             [
              0.5555555555555556,
              "#d8576b"
             ],
             [
              0.6666666666666666,
              "#ed7953"
             ],
             [
              0.7777777777777778,
              "#fb9f3a"
             ],
             [
              0.8888888888888888,
              "#fdca26"
             ],
             [
              1,
              "#f0f921"
             ]
            ],
            "type": "heatmapgl"
           }
          ],
          "histogram": [
           {
            "marker": {
             "colorbar": {
              "outlinewidth": 0,
              "ticks": ""
             }
            },
            "type": "histogram"
           }
          ],
          "histogram2d": [
           {
            "colorbar": {
             "outlinewidth": 0,
             "ticks": ""
            },
            "colorscale": [
             [
              0,
              "#0d0887"
             ],
             [
              0.1111111111111111,
              "#46039f"
             ],
             [
              0.2222222222222222,
              "#7201a8"
             ],
             [
              0.3333333333333333,
              "#9c179e"
             ],
             [
              0.4444444444444444,
              "#bd3786"
             ],
             [
              0.5555555555555556,
              "#d8576b"
             ],
             [
              0.6666666666666666,
              "#ed7953"
             ],
             [
              0.7777777777777778,
              "#fb9f3a"
             ],
             [
              0.8888888888888888,
              "#fdca26"
             ],
             [
              1,
              "#f0f921"
             ]
            ],
            "type": "histogram2d"
           }
          ],
          "histogram2dcontour": [
           {
            "colorbar": {
             "outlinewidth": 0,
             "ticks": ""
            },
            "colorscale": [
             [
              0,
              "#0d0887"
             ],
             [
              0.1111111111111111,
              "#46039f"
             ],
             [
              0.2222222222222222,
              "#7201a8"
             ],
             [
              0.3333333333333333,
              "#9c179e"
             ],
             [
              0.4444444444444444,
              "#bd3786"
             ],
             [
              0.5555555555555556,
              "#d8576b"
             ],
             [
              0.6666666666666666,
              "#ed7953"
             ],
             [
              0.7777777777777778,
              "#fb9f3a"
             ],
             [
              0.8888888888888888,
              "#fdca26"
             ],
             [
              1,
              "#f0f921"
             ]
            ],
            "type": "histogram2dcontour"
           }
          ],
          "mesh3d": [
           {
            "colorbar": {
             "outlinewidth": 0,
             "ticks": ""
            },
            "type": "mesh3d"
           }
          ],
          "parcoords": [
           {
            "line": {
             "colorbar": {
              "outlinewidth": 0,
              "ticks": ""
             }
            },
            "type": "parcoords"
           }
          ],
          "pie": [
           {
            "automargin": true,
            "type": "pie"
           }
          ],
          "scatter": [
           {
            "marker": {
             "colorbar": {
              "outlinewidth": 0,
              "ticks": ""
             }
            },
            "type": "scatter"
           }
          ],
          "scatter3d": [
           {
            "line": {
             "colorbar": {
              "outlinewidth": 0,
              "ticks": ""
             }
            },
            "marker": {
             "colorbar": {
              "outlinewidth": 0,
              "ticks": ""
             }
            },
            "type": "scatter3d"
           }
          ],
          "scattercarpet": [
           {
            "marker": {
             "colorbar": {
              "outlinewidth": 0,
              "ticks": ""
             }
            },
            "type": "scattercarpet"
           }
          ],
          "scattergeo": [
           {
            "marker": {
             "colorbar": {
              "outlinewidth": 0,
              "ticks": ""
             }
            },
            "type": "scattergeo"
           }
          ],
          "scattergl": [
           {
            "marker": {
             "colorbar": {
              "outlinewidth": 0,
              "ticks": ""
             }
            },
            "type": "scattergl"
           }
          ],
          "scattermapbox": [
           {
            "marker": {
             "colorbar": {
              "outlinewidth": 0,
              "ticks": ""
             }
            },
            "type": "scattermapbox"
           }
          ],
          "scatterpolar": [
           {
            "marker": {
             "colorbar": {
              "outlinewidth": 0,
              "ticks": ""
             }
            },
            "type": "scatterpolar"
           }
          ],
          "scatterpolargl": [
           {
            "marker": {
             "colorbar": {
              "outlinewidth": 0,
              "ticks": ""
             }
            },
            "type": "scatterpolargl"
           }
          ],
          "scatterternary": [
           {
            "marker": {
             "colorbar": {
              "outlinewidth": 0,
              "ticks": ""
             }
            },
            "type": "scatterternary"
           }
          ],
          "surface": [
           {
            "colorbar": {
             "outlinewidth": 0,
             "ticks": ""
            },
            "colorscale": [
             [
              0,
              "#0d0887"
             ],
             [
              0.1111111111111111,
              "#46039f"
             ],
             [
              0.2222222222222222,
              "#7201a8"
             ],
             [
              0.3333333333333333,
              "#9c179e"
             ],
             [
              0.4444444444444444,
              "#bd3786"
             ],
             [
              0.5555555555555556,
              "#d8576b"
             ],
             [
              0.6666666666666666,
              "#ed7953"
             ],
             [
              0.7777777777777778,
              "#fb9f3a"
             ],
             [
              0.8888888888888888,
              "#fdca26"
             ],
             [
              1,
              "#f0f921"
             ]
            ],
            "type": "surface"
           }
          ],
          "table": [
           {
            "cells": {
             "fill": {
              "color": "#EBF0F8"
             },
             "line": {
              "color": "white"
             }
            },
            "header": {
             "fill": {
              "color": "#C8D4E3"
             },
             "line": {
              "color": "white"
             }
            },
            "type": "table"
           }
          ]
         },
         "layout": {
          "annotationdefaults": {
           "arrowcolor": "#2a3f5f",
           "arrowhead": 0,
           "arrowwidth": 1
          },
          "autotypenumbers": "strict",
          "coloraxis": {
           "colorbar": {
            "outlinewidth": 0,
            "ticks": ""
           }
          },
          "colorscale": {
           "diverging": [
            [
             0,
             "#8e0152"
            ],
            [
             0.1,
             "#c51b7d"
            ],
            [
             0.2,
             "#de77ae"
            ],
            [
             0.3,
             "#f1b6da"
            ],
            [
             0.4,
             "#fde0ef"
            ],
            [
             0.5,
             "#f7f7f7"
            ],
            [
             0.6,
             "#e6f5d0"
            ],
            [
             0.7,
             "#b8e186"
            ],
            [
             0.8,
             "#7fbc41"
            ],
            [
             0.9,
             "#4d9221"
            ],
            [
             1,
             "#276419"
            ]
           ],
           "sequential": [
            [
             0,
             "#0d0887"
            ],
            [
             0.1111111111111111,
             "#46039f"
            ],
            [
             0.2222222222222222,
             "#7201a8"
            ],
            [
             0.3333333333333333,
             "#9c179e"
            ],
            [
             0.4444444444444444,
             "#bd3786"
            ],
            [
             0.5555555555555556,
             "#d8576b"
            ],
            [
             0.6666666666666666,
             "#ed7953"
            ],
            [
             0.7777777777777778,
             "#fb9f3a"
            ],
            [
             0.8888888888888888,
             "#fdca26"
            ],
            [
             1,
             "#f0f921"
            ]
           ],
           "sequentialminus": [
            [
             0,
             "#0d0887"
            ],
            [
             0.1111111111111111,
             "#46039f"
            ],
            [
             0.2222222222222222,
             "#7201a8"
            ],
            [
             0.3333333333333333,
             "#9c179e"
            ],
            [
             0.4444444444444444,
             "#bd3786"
            ],
            [
             0.5555555555555556,
             "#d8576b"
            ],
            [
             0.6666666666666666,
             "#ed7953"
            ],
            [
             0.7777777777777778,
             "#fb9f3a"
            ],
            [
             0.8888888888888888,
             "#fdca26"
            ],
            [
             1,
             "#f0f921"
            ]
           ]
          },
          "colorway": [
           "#636efa",
           "#EF553B",
           "#00cc96",
           "#ab63fa",
           "#FFA15A",
           "#19d3f3",
           "#FF6692",
           "#B6E880",
           "#FF97FF",
           "#FECB52"
          ],
          "font": {
           "color": "#2a3f5f"
          },
          "geo": {
           "bgcolor": "white",
           "lakecolor": "white",
           "landcolor": "#E5ECF6",
           "showlakes": true,
           "showland": true,
           "subunitcolor": "white"
          },
          "hoverlabel": {
           "align": "left"
          },
          "hovermode": "closest",
          "mapbox": {
           "style": "light"
          },
          "paper_bgcolor": "white",
          "plot_bgcolor": "#E5ECF6",
          "polar": {
           "angularaxis": {
            "gridcolor": "white",
            "linecolor": "white",
            "ticks": ""
           },
           "bgcolor": "#E5ECF6",
           "radialaxis": {
            "gridcolor": "white",
            "linecolor": "white",
            "ticks": ""
           }
          },
          "scene": {
           "xaxis": {
            "backgroundcolor": "#E5ECF6",
            "gridcolor": "white",
            "gridwidth": 2,
            "linecolor": "white",
            "showbackground": true,
            "ticks": "",
            "zerolinecolor": "white"
           },
           "yaxis": {
            "backgroundcolor": "#E5ECF6",
            "gridcolor": "white",
            "gridwidth": 2,
            "linecolor": "white",
            "showbackground": true,
            "ticks": "",
            "zerolinecolor": "white"
           },
           "zaxis": {
            "backgroundcolor": "#E5ECF6",
            "gridcolor": "white",
            "gridwidth": 2,
            "linecolor": "white",
            "showbackground": true,
            "ticks": "",
            "zerolinecolor": "white"
           }
          },
          "shapedefaults": {
           "line": {
            "color": "#2a3f5f"
           }
          },
          "ternary": {
           "aaxis": {
            "gridcolor": "white",
            "linecolor": "white",
            "ticks": ""
           },
           "baxis": {
            "gridcolor": "white",
            "linecolor": "white",
            "ticks": ""
           },
           "bgcolor": "#E5ECF6",
           "caxis": {
            "gridcolor": "white",
            "linecolor": "white",
            "ticks": ""
           }
          },
          "title": {
           "x": 0.05
          },
          "xaxis": {
           "automargin": true,
           "gridcolor": "white",
           "linecolor": "white",
           "ticks": "",
           "title": {
            "standoff": 15
           },
           "zerolinecolor": "white",
           "zerolinewidth": 2
          },
          "yaxis": {
           "automargin": true,
           "gridcolor": "white",
           "linecolor": "white",
           "ticks": "",
           "title": {
            "standoff": 15
           },
           "zerolinecolor": "white",
           "zerolinewidth": 2
          }
         }
        }
       }
      }
     },
     "metadata": {},
     "output_type": "display_data"
    }
   ],
   "source": [
    "fig = px.scatter_3d(data_guli,x='num_not0', \n",
    "                       y='sum_all', \n",
    "                       z='aver_month', \n",
    "                       color='anomaly') \n",
    "fig.show()"
   ]
  },
  {
   "cell_type": "markdown",
   "metadata": {},
   "source": [
    "标准化后的孤立森林"
   ]
  },
  {
   "cell_type": "code",
   "execution_count": 56,
   "metadata": {},
   "outputs": [],
   "source": [
    "data_guli_biaozhun = data_guli_values.copy(deep=1)"
   ]
  },
  {
   "cell_type": "code",
   "execution_count": 57,
   "metadata": {},
   "outputs": [],
   "source": [
    "data_guli_biaozhun['sum_all']=data_guli_biaozhun.sum_all.apply(lambda x : 10*((x-np.min(data_guli_biaozhun.sum_all))/np.max(data_guli_biaozhun.sum_all)-np.min(data_guli_biaozhun.sum_all)))"
   ]
  },
  {
   "cell_type": "code",
   "execution_count": 58,
   "metadata": {},
   "outputs": [],
   "source": [
    "data_guli_biaozhun['aver_month']=data_guli_biaozhun.aver_month.apply(lambda x : 10*((x-np.min(data_guli_biaozhun.aver_month))/np.max(data_guli_biaozhun.aver_month)-np.min(data_guli_biaozhun.aver_month)))"
   ]
  },
  {
   "cell_type": "code",
   "execution_count": 59,
   "metadata": {},
   "outputs": [
    {
     "data": {
      "text/html": [
       "<div>\n",
       "<style scoped>\n",
       "    .dataframe tbody tr th:only-of-type {\n",
       "        vertical-align: middle;\n",
       "    }\n",
       "\n",
       "    .dataframe tbody tr th {\n",
       "        vertical-align: top;\n",
       "    }\n",
       "\n",
       "    .dataframe thead th {\n",
       "        text-align: right;\n",
       "    }\n",
       "</style>\n",
       "<table border=\"1\" class=\"dataframe\">\n",
       "  <thead>\n",
       "    <tr style=\"text-align: right;\">\n",
       "      <th></th>\n",
       "      <th>num_not0</th>\n",
       "      <th>sum_all</th>\n",
       "      <th>aver_month</th>\n",
       "      <th>std_month</th>\n",
       "    </tr>\n",
       "    <tr>\n",
       "      <th>meterNo</th>\n",
       "      <th></th>\n",
       "      <th></th>\n",
       "      <th></th>\n",
       "      <th></th>\n",
       "    </tr>\n",
       "  </thead>\n",
       "  <tbody>\n",
       "    <tr>\n",
       "      <th>10023160000029</th>\n",
       "      <td>2</td>\n",
       "      <td>0.127065</td>\n",
       "      <td>0.762389</td>\n",
       "      <td>1383.097328</td>\n",
       "    </tr>\n",
       "    <tr>\n",
       "      <th>10023160000030</th>\n",
       "      <td>8</td>\n",
       "      <td>0.017616</td>\n",
       "      <td>0.026424</td>\n",
       "      <td>66.192354</td>\n",
       "    </tr>\n",
       "    <tr>\n",
       "      <th>10023160000032</th>\n",
       "      <td>7</td>\n",
       "      <td>0.052447</td>\n",
       "      <td>0.089910</td>\n",
       "      <td>167.739267</td>\n",
       "    </tr>\n",
       "    <tr>\n",
       "      <th>10023160000036</th>\n",
       "      <td>8</td>\n",
       "      <td>0.643910</td>\n",
       "      <td>0.965864</td>\n",
       "      <td>7618.835587</td>\n",
       "    </tr>\n",
       "    <tr>\n",
       "      <th>10023160000042</th>\n",
       "      <td>2</td>\n",
       "      <td>0.092561</td>\n",
       "      <td>0.555369</td>\n",
       "      <td>444.606824</td>\n",
       "    </tr>\n",
       "  </tbody>\n",
       "</table>\n",
       "</div>"
      ],
      "text/plain": [
       "                 num_not0   sum_all  aver_month    std_month\n",
       "meterNo                                                     \n",
       "10023160000029          2  0.127065    0.762389  1383.097328\n",
       "10023160000030          8  0.017616    0.026424    66.192354\n",
       "10023160000032          7  0.052447    0.089910   167.739267\n",
       "10023160000036          8  0.643910    0.965864  7618.835587\n",
       "10023160000042          2  0.092561    0.555369   444.606824"
      ]
     },
     "execution_count": 59,
     "metadata": {},
     "output_type": "execute_result"
    }
   ],
   "source": [
    "data_guli_biaozhun.head(5)"
   ]
  },
  {
   "cell_type": "code",
   "execution_count": 60,
   "metadata": {},
   "outputs": [],
   "source": [
    "data_guli_biaozhun_values = data_guli_biaozhun.copy(deep=1)"
   ]
  },
  {
   "cell_type": "code",
   "execution_count": 61,
   "metadata": {},
   "outputs": [
    {
     "data": {
      "text/plain": [
       "num_not0         12.000000\n",
       "sum_all          10.000000\n",
       "aver_month       10.000000\n",
       "std_month     36024.709056\n",
       "dtype: float64"
      ]
     },
     "execution_count": 61,
     "metadata": {},
     "output_type": "execute_result"
    }
   ],
   "source": [
    "data_guli_biaozhun.max()"
   ]
  },
  {
   "cell_type": "code",
   "execution_count": 62,
   "metadata": {},
   "outputs": [],
   "source": [
    "# 模型训练\n",
    "iforest1 = IsolationForest(n_estimators=100, max_samples='auto',  \n",
    "                          contamination=0.05, max_features=4,  \n",
    "                          bootstrap=False, n_jobs=-1, random_state=1)"
   ]
  },
  {
   "cell_type": "code",
   "execution_count": 63,
   "metadata": {},
   "outputs": [],
   "source": [
    "#  fit_predict 函数 训练和预测一起 可以得到模型是否异常的判断，-1为异常，1为正常\n",
    "data_guli_biaozhun['label'] = iforest.fit_predict(data_guli_biaozhun_values) "
   ]
  },
  {
   "cell_type": "code",
   "execution_count": 64,
   "metadata": {},
   "outputs": [],
   "source": [
    "# 预测 decision_function 可以得出 异常评分\n",
    "data_guli_biaozhun['scores'] = iforest.decision_function(data_guli_biaozhun_values)"
   ]
  },
  {
   "cell_type": "code",
   "execution_count": 65,
   "metadata": {},
   "outputs": [
    {
     "data": {
      "text/html": [
       "<div>\n",
       "<style scoped>\n",
       "    .dataframe tbody tr th:only-of-type {\n",
       "        vertical-align: middle;\n",
       "    }\n",
       "\n",
       "    .dataframe tbody tr th {\n",
       "        vertical-align: top;\n",
       "    }\n",
       "\n",
       "    .dataframe thead th {\n",
       "        text-align: right;\n",
       "    }\n",
       "</style>\n",
       "<table border=\"1\" class=\"dataframe\">\n",
       "  <thead>\n",
       "    <tr style=\"text-align: right;\">\n",
       "      <th></th>\n",
       "      <th>num_not0</th>\n",
       "      <th>sum_all</th>\n",
       "      <th>aver_month</th>\n",
       "      <th>std_month</th>\n",
       "      <th>label</th>\n",
       "      <th>scores</th>\n",
       "    </tr>\n",
       "    <tr>\n",
       "      <th>meterNo</th>\n",
       "      <th></th>\n",
       "      <th></th>\n",
       "      <th></th>\n",
       "      <th></th>\n",
       "      <th></th>\n",
       "      <th></th>\n",
       "    </tr>\n",
       "  </thead>\n",
       "  <tbody>\n",
       "    <tr>\n",
       "      <th>10023160000029</th>\n",
       "      <td>2</td>\n",
       "      <td>0.127065</td>\n",
       "      <td>0.762389</td>\n",
       "      <td>1383.097328</td>\n",
       "      <td>-1</td>\n",
       "      <td>-0.031353</td>\n",
       "    </tr>\n",
       "    <tr>\n",
       "      <th>10023160000030</th>\n",
       "      <td>8</td>\n",
       "      <td>0.017616</td>\n",
       "      <td>0.026424</td>\n",
       "      <td>66.192354</td>\n",
       "      <td>1</td>\n",
       "      <td>0.148253</td>\n",
       "    </tr>\n",
       "    <tr>\n",
       "      <th>10023160000032</th>\n",
       "      <td>7</td>\n",
       "      <td>0.052447</td>\n",
       "      <td>0.089910</td>\n",
       "      <td>167.739267</td>\n",
       "      <td>1</td>\n",
       "      <td>0.164816</td>\n",
       "    </tr>\n",
       "    <tr>\n",
       "      <th>10023160000036</th>\n",
       "      <td>8</td>\n",
       "      <td>0.643910</td>\n",
       "      <td>0.965864</td>\n",
       "      <td>7618.835587</td>\n",
       "      <td>-1</td>\n",
       "      <td>-0.088254</td>\n",
       "    </tr>\n",
       "    <tr>\n",
       "      <th>10023160000042</th>\n",
       "      <td>2</td>\n",
       "      <td>0.092561</td>\n",
       "      <td>0.555369</td>\n",
       "      <td>444.606824</td>\n",
       "      <td>1</td>\n",
       "      <td>0.015075</td>\n",
       "    </tr>\n",
       "  </tbody>\n",
       "</table>\n",
       "</div>"
      ],
      "text/plain": [
       "                 num_not0   sum_all  aver_month    std_month  label    scores\n",
       "meterNo                                                                      \n",
       "10023160000029          2  0.127065    0.762389  1383.097328     -1 -0.031353\n",
       "10023160000030          8  0.017616    0.026424    66.192354      1  0.148253\n",
       "10023160000032          7  0.052447    0.089910   167.739267      1  0.164816\n",
       "10023160000036          8  0.643910    0.965864  7618.835587     -1 -0.088254\n",
       "10023160000042          2  0.092561    0.555369   444.606824      1  0.015075"
      ]
     },
     "execution_count": 65,
     "metadata": {},
     "output_type": "execute_result"
    }
   ],
   "source": [
    "data_guli_biaozhun.head(5)"
   ]
  },
  {
   "cell_type": "code",
   "execution_count": 66,
   "metadata": {},
   "outputs": [
    {
     "data": {
      "text/html": [
       "<div>\n",
       "<style scoped>\n",
       "    .dataframe tbody tr th:only-of-type {\n",
       "        vertical-align: middle;\n",
       "    }\n",
       "\n",
       "    .dataframe tbody tr th {\n",
       "        vertical-align: top;\n",
       "    }\n",
       "\n",
       "    .dataframe thead th {\n",
       "        text-align: right;\n",
       "    }\n",
       "</style>\n",
       "<table border=\"1\" class=\"dataframe\">\n",
       "  <thead>\n",
       "    <tr style=\"text-align: right;\">\n",
       "      <th></th>\n",
       "      <th>num_not0</th>\n",
       "      <th>sum_all</th>\n",
       "      <th>aver_month</th>\n",
       "      <th>std_month</th>\n",
       "      <th>label</th>\n",
       "      <th>scores</th>\n",
       "    </tr>\n",
       "    <tr>\n",
       "      <th>meterNo</th>\n",
       "      <th></th>\n",
       "      <th></th>\n",
       "      <th></th>\n",
       "      <th></th>\n",
       "      <th></th>\n",
       "      <th></th>\n",
       "    </tr>\n",
       "  </thead>\n",
       "  <tbody>\n",
       "    <tr>\n",
       "      <th>10023160000029</th>\n",
       "      <td>2</td>\n",
       "      <td>0.127065</td>\n",
       "      <td>0.762389</td>\n",
       "      <td>1383.097328</td>\n",
       "      <td>-1</td>\n",
       "      <td>-0.031353</td>\n",
       "    </tr>\n",
       "    <tr>\n",
       "      <th>10023160000036</th>\n",
       "      <td>8</td>\n",
       "      <td>0.643910</td>\n",
       "      <td>0.965864</td>\n",
       "      <td>7618.835587</td>\n",
       "      <td>-1</td>\n",
       "      <td>-0.088254</td>\n",
       "    </tr>\n",
       "    <tr>\n",
       "      <th>10023160000049</th>\n",
       "      <td>8</td>\n",
       "      <td>0.636211</td>\n",
       "      <td>0.954316</td>\n",
       "      <td>3186.324485</td>\n",
       "      <td>-1</td>\n",
       "      <td>-0.000366</td>\n",
       "    </tr>\n",
       "    <tr>\n",
       "      <th>10023160000016</th>\n",
       "      <td>11</td>\n",
       "      <td>0.639920</td>\n",
       "      <td>0.698094</td>\n",
       "      <td>4791.221282</td>\n",
       "      <td>-1</td>\n",
       "      <td>-0.015476</td>\n",
       "    </tr>\n",
       "    <tr>\n",
       "      <th>10023160000068</th>\n",
       "      <td>7</td>\n",
       "      <td>1.225118</td>\n",
       "      <td>2.100202</td>\n",
       "      <td>8376.087176</td>\n",
       "      <td>-1</td>\n",
       "      <td>-0.164023</td>\n",
       "    </tr>\n",
       "    <tr>\n",
       "      <th>10023160000072</th>\n",
       "      <td>5</td>\n",
       "      <td>0.381253</td>\n",
       "      <td>0.915007</td>\n",
       "      <td>2718.199459</td>\n",
       "      <td>-1</td>\n",
       "      <td>-0.026542</td>\n",
       "    </tr>\n",
       "    <tr>\n",
       "      <th>10023160000079</th>\n",
       "      <td>3</td>\n",
       "      <td>0.036006</td>\n",
       "      <td>0.144025</td>\n",
       "      <td>2139.769892</td>\n",
       "      <td>-1</td>\n",
       "      <td>-0.003887</td>\n",
       "    </tr>\n",
       "    <tr>\n",
       "      <th>10023160000107</th>\n",
       "      <td>11</td>\n",
       "      <td>1.162202</td>\n",
       "      <td>1.267857</td>\n",
       "      <td>5645.800647</td>\n",
       "      <td>-1</td>\n",
       "      <td>-0.094639</td>\n",
       "    </tr>\n",
       "    <tr>\n",
       "      <th>10023160000114</th>\n",
       "      <td>1</td>\n",
       "      <td>0.190349</td>\n",
       "      <td>2.284191</td>\n",
       "      <td>0.000000</td>\n",
       "      <td>-1</td>\n",
       "      <td>-0.143948</td>\n",
       "    </tr>\n",
       "    <tr>\n",
       "      <th>10023160000115</th>\n",
       "      <td>12</td>\n",
       "      <td>1.157078</td>\n",
       "      <td>1.157078</td>\n",
       "      <td>3966.842548</td>\n",
       "      <td>-1</td>\n",
       "      <td>-0.066901</td>\n",
       "    </tr>\n",
       "    <tr>\n",
       "      <th>10023160000121</th>\n",
       "      <td>9</td>\n",
       "      <td>0.349173</td>\n",
       "      <td>0.465564</td>\n",
       "      <td>4515.638357</td>\n",
       "      <td>-1</td>\n",
       "      <td>-0.004492</td>\n",
       "    </tr>\n",
       "    <tr>\n",
       "      <th>10023160000136</th>\n",
       "      <td>7</td>\n",
       "      <td>0.564078</td>\n",
       "      <td>0.966991</td>\n",
       "      <td>5825.233560</td>\n",
       "      <td>-1</td>\n",
       "      <td>-0.072403</td>\n",
       "    </tr>\n",
       "    <tr>\n",
       "      <th>10023160000208</th>\n",
       "      <td>9</td>\n",
       "      <td>0.736831</td>\n",
       "      <td>0.982441</td>\n",
       "      <td>4351.685163</td>\n",
       "      <td>-1</td>\n",
       "      <td>-0.025532</td>\n",
       "    </tr>\n",
       "    <tr>\n",
       "      <th>10023160000230</th>\n",
       "      <td>2</td>\n",
       "      <td>0.144419</td>\n",
       "      <td>0.866515</td>\n",
       "      <td>0.000000</td>\n",
       "      <td>-1</td>\n",
       "      <td>-0.042413</td>\n",
       "    </tr>\n",
       "    <tr>\n",
       "      <th>10023160000249</th>\n",
       "      <td>4</td>\n",
       "      <td>0.585709</td>\n",
       "      <td>1.757127</td>\n",
       "      <td>1929.869847</td>\n",
       "      <td>-1</td>\n",
       "      <td>-0.095980</td>\n",
       "    </tr>\n",
       "    <tr>\n",
       "      <th>10023160000281</th>\n",
       "      <td>10</td>\n",
       "      <td>2.250711</td>\n",
       "      <td>2.700853</td>\n",
       "      <td>8163.208997</td>\n",
       "      <td>-1</td>\n",
       "      <td>-0.184065</td>\n",
       "    </tr>\n",
       "    <tr>\n",
       "      <th>10023160000289</th>\n",
       "      <td>5</td>\n",
       "      <td>0.220853</td>\n",
       "      <td>0.530048</td>\n",
       "      <td>3250.063232</td>\n",
       "      <td>-1</td>\n",
       "      <td>-0.015869</td>\n",
       "    </tr>\n",
       "    <tr>\n",
       "      <th>10023160000312</th>\n",
       "      <td>12</td>\n",
       "      <td>0.831815</td>\n",
       "      <td>0.831815</td>\n",
       "      <td>5124.730092</td>\n",
       "      <td>-1</td>\n",
       "      <td>-0.038492</td>\n",
       "    </tr>\n",
       "    <tr>\n",
       "      <th>10023160000313</th>\n",
       "      <td>12</td>\n",
       "      <td>1.097323</td>\n",
       "      <td>1.097323</td>\n",
       "      <td>2784.112259</td>\n",
       "      <td>-1</td>\n",
       "      <td>-0.057059</td>\n",
       "    </tr>\n",
       "    <tr>\n",
       "      <th>10014164400011</th>\n",
       "      <td>12</td>\n",
       "      <td>10.000000</td>\n",
       "      <td>10.000000</td>\n",
       "      <td>36024.709056</td>\n",
       "      <td>-1</td>\n",
       "      <td>-0.271938</td>\n",
       "    </tr>\n",
       "  </tbody>\n",
       "</table>\n",
       "</div>"
      ],
      "text/plain": [
       "                 num_not0    sum_all  aver_month     std_month  label  \\\n",
       "meterNo                                                                 \n",
       "10023160000029          2   0.127065    0.762389   1383.097328     -1   \n",
       "10023160000036          8   0.643910    0.965864   7618.835587     -1   \n",
       "10023160000049          8   0.636211    0.954316   3186.324485     -1   \n",
       "10023160000016         11   0.639920    0.698094   4791.221282     -1   \n",
       "10023160000068          7   1.225118    2.100202   8376.087176     -1   \n",
       "10023160000072          5   0.381253    0.915007   2718.199459     -1   \n",
       "10023160000079          3   0.036006    0.144025   2139.769892     -1   \n",
       "10023160000107         11   1.162202    1.267857   5645.800647     -1   \n",
       "10023160000114          1   0.190349    2.284191      0.000000     -1   \n",
       "10023160000115         12   1.157078    1.157078   3966.842548     -1   \n",
       "10023160000121          9   0.349173    0.465564   4515.638357     -1   \n",
       "10023160000136          7   0.564078    0.966991   5825.233560     -1   \n",
       "10023160000208          9   0.736831    0.982441   4351.685163     -1   \n",
       "10023160000230          2   0.144419    0.866515      0.000000     -1   \n",
       "10023160000249          4   0.585709    1.757127   1929.869847     -1   \n",
       "10023160000281         10   2.250711    2.700853   8163.208997     -1   \n",
       "10023160000289          5   0.220853    0.530048   3250.063232     -1   \n",
       "10023160000312         12   0.831815    0.831815   5124.730092     -1   \n",
       "10023160000313         12   1.097323    1.097323   2784.112259     -1   \n",
       "10014164400011         12  10.000000   10.000000  36024.709056     -1   \n",
       "\n",
       "                   scores  \n",
       "meterNo                    \n",
       "10023160000029  -0.031353  \n",
       "10023160000036  -0.088254  \n",
       "10023160000049  -0.000366  \n",
       "10023160000016  -0.015476  \n",
       "10023160000068  -0.164023  \n",
       "10023160000072  -0.026542  \n",
       "10023160000079  -0.003887  \n",
       "10023160000107  -0.094639  \n",
       "10023160000114  -0.143948  \n",
       "10023160000115  -0.066901  \n",
       "10023160000121  -0.004492  \n",
       "10023160000136  -0.072403  \n",
       "10023160000208  -0.025532  \n",
       "10023160000230  -0.042413  \n",
       "10023160000249  -0.095980  \n",
       "10023160000281  -0.184065  \n",
       "10023160000289  -0.015869  \n",
       "10023160000312  -0.038492  \n",
       "10023160000313  -0.057059  \n",
       "10014164400011  -0.271938  "
      ]
     },
     "execution_count": 66,
     "metadata": {},
     "output_type": "execute_result"
    }
   ],
   "source": [
    "data_guli_biaozhun[data_guli_biaozhun.label==-1]"
   ]
  },
  {
   "cell_type": "code",
   "execution_count": 67,
   "metadata": {},
   "outputs": [
    {
     "data": {
      "application/vnd.plotly.v1+json": {
       "config": {
        "plotlyServerURL": "https://plot.ly"
       },
       "data": [
        {
         "alignmentgroup": "True",
         "bingroup": "x",
         "hovertemplate": "anomaly=outlier<br>scores=%{x}<br>count=%{y}<extra></extra>",
         "legendgroup": "outlier",
         "marker": {
          "color": "#636efa"
         },
         "name": "outlier",
         "offsetgroup": "outlier",
         "orientation": "v",
         "showlegend": true,
         "type": "histogram",
         "x": [
          -0.03135308492987021,
          -0.08825367395745332,
          -0.00036589170653156255,
          -0.015475786884190712,
          -0.16402252185748212,
          -0.026541957936688454,
          -0.0038870289305056316,
          -0.09463864967071867,
          -0.14394808180670216,
          -0.06690139228903214,
          -0.004491807424661931,
          -0.072403270860529,
          -0.025532492655119032,
          -0.042412500788132856,
          -0.09597951482006262,
          -0.1840651832443133,
          -0.0158690904994232,
          -0.03849227552585188,
          -0.057058706575837226,
          -0.27193763399202797
         ],
         "xaxis": "x",
         "yaxis": "y"
        },
        {
         "alignmentgroup": "True",
         "bingroup": "x",
         "hovertemplate": "anomaly=inlier<br>scores=%{x}<br>count=%{y}<extra></extra>",
         "legendgroup": "inlier",
         "marker": {
          "color": "#EF553B"
         },
         "name": "inlier",
         "offsetgroup": "inlier",
         "orientation": "v",
         "showlegend": true,
         "type": "histogram",
         "x": [
          0.1482532344280576,
          0.16481580730366463,
          0.015074736438688952,
          0.15844834678401193,
          0.17654959900945688,
          0.07111896725784572,
          0.04786744969235357,
          0.21881064696041586,
          0.22247997561972965,
          0.12066658562386695,
          0.18816510652212276,
          0.21964287178030428,
          0.19294468571728401,
          0.2064810425521092,
          0.17058482383052515,
          0.17801694989514671,
          0.21763115817284778,
          0.22898579659937163,
          0.22444520012783947,
          0.22432370018943987,
          0.21989212224504717,
          0.192948746744242,
          0.17532814502092486,
          0.2280091982656226,
          0.17898189807942722,
          0.21638567786031737,
          0.1268224571431475,
          0.22576513680699806,
          0.21654670895736305,
          0.21383227861047077,
          0.21796911898690347,
          0.19995365910002583,
          0.20896565241889203,
          0.2197054988590068,
          0.2207951920775904,
          0.2254364727210546,
          0.21504925209924047,
          0.2194001554308294,
          0.2036454379200468,
          0.21037577954575343,
          0.2197054988590068,
          0.2292319083925906,
          0.22448360089289499,
          0.22415486598756923,
          0.21712474477789223,
          0.2192341183823872,
          0.2299640000791055,
          0.20036177077394907,
          0.22704155736588755,
          0.22323180523307656,
          0.19382342148510867,
          0.1957562714445521,
          0.21563245640023515,
          0.22397462531133322,
          0.21009706591175908,
          0.21839875112795337,
          0.2298396778212945,
          0.21576552226824214,
          0.22235161561740052,
          0.20688816778403307,
          0.2271108410240244,
          0.20566185621715022,
          0.21353848045974255,
          0.2070231634152715,
          0.1624227261125118,
          0.20882341170779944,
          0.1772862938380898,
          0.19732027814555092,
          0.09251939040631363,
          0.227663237655704,
          0.17559888032639248,
          0.17018874914515658,
          0.15131320626970451,
          0.12874407811274396,
          0.2282920863040548,
          0.2117509629008998,
          0.07466887116043552,
          0.17664675900473187,
          0.22671680742150807,
          0.22615551457362054,
          0.18572192861704706,
          0.05014145687925364,
          0.19443685577028302,
          0.20815883070306979,
          0.13759382486651106,
          0.21457485942040366,
          0.19383993764225554,
          0.16504675660351392,
          0.1803186527383202,
          0.21404404829025292,
          0.15552188637345338,
          0.2140609449360968,
          0.21002910061927488,
          0.22055590580332657,
          0.1960855254237211,
          0.16875883130691238,
          0.20685998309867082,
          0.1951494823647666,
          0.14032448819015486,
          0.22329610726719712,
          0.22149429141155225,
          0.19981793562859995,
          0.20200637547734018,
          0.22083612910582423,
          0.21169300478021552,
          0.2130836537556483,
          0.1841335701179473,
          0.210941380107732,
          0.21851465493553213,
          0.17286166691297983,
          0.21543032097771114,
          0.22461984854629485,
          0.20893976643137946,
          0.22954513012426864,
          0.18120511193864025,
          0.203998955376765,
          0.22732313429085194,
          0.2293944913770669,
          0.22847075132559763,
          0.2091087433918946,
          0.22271078292307428,
          0.21811501811320633,
          0.1607541948486766,
          0.21883715935787124,
          0.16880603682777462,
          0.21551548056744985,
          0.19817469055122505,
          0.1937201689602735,
          0.19726084473128092,
          0.19872179022467767,
          0.19434224280142692,
          0.21153306061555177,
          0.22426445921740507,
          0.21457485942040366,
          0.20899942569023655,
          0.21468380039395069,
          0.21796557506567743,
          0.18771831191634375,
          0.16217777490863977,
          0.14638966433072004,
          0.1709900253306451,
          0.22869615769763352,
          0.22273142551483766,
          0.2094360246851774,
          0.22777138085764603,
          0.1960308696088952,
          0.2097378317606466,
          0.17582664118769187,
          0.20127487588808363,
          0.22704536513717888,
          0.22013041832199148,
          0.22387646965261498,
          0.21018607114126192,
          0.21168126966678985,
          0.20001893924302688,
          0.2290979380227312,
          0.20878615314211568,
          0.20929765779417708,
          0.21139874178887919,
          0.22604454530198004,
          0.1999864111977469,
          0.22443362480610135,
          0.19854277086308586,
          0.23004943312128368,
          0.05341463916481337,
          0.19381756410896173,
          0.22436226394326914,
          0.17088556810893218,
          0.06713246842038334,
          0.20782798699806226,
          0.12819601570404954,
          0.10391912066460451,
          0.22175310290125966,
          0.2197848368865119,
          0.22073196714088195,
          0.21607182784999052,
          0.2093365034397483,
          0.20155931324191584,
          0.20900326884055037,
          0.17058482383052515,
          0.22452220291140262,
          0.19004045180293128,
          0.1249093353523989,
          0.22557621458659205,
          0.20296879622679498,
          0.17405306271104715,
          0.21646517227391493,
          0.22446972558260497,
          0.22007556738509215,
          0.20397593980283424,
          0.19255122624567067,
          0.2085160576013359,
          0.1761906701097808,
          0.2238613270128197,
          0.0689813372303012,
          0.1620240122501317,
          0.2276218011840775,
          0.20097518523427182,
          0.22903372230356672,
          0.1357413189837598,
          0.2060480276974263,
          0.12808035136104723,
          0.13169473689566474,
          0.22690386359407522,
          0.13040946970965678,
          0.22916691462372257,
          0.1588679750889394,
          0.15371758909783861,
          0.22383419970759227,
          0.2032446062828276,
          0.21058777997651812,
          0.22677653466927566,
          0.12153525649250824,
          0.018434985938005966,
          0.20951841456502313,
          0.22227590560307597,
          0.16891947970665683,
          0.22571628541357974,
          0.13251539005761576,
          0.17285391964217361,
          0.1573060786573517,
          0.1432831002986441,
          0.17442850990417674,
          0.20920941479004562,
          0.13451538260026907,
          0.14766839944011234,
          0.1476166895246065,
          0.050269238564275676,
          0.16757116918145798,
          0.1517581411260912,
          0.19958454802987086,
          0.17079242510752135,
          0.10007712021143866,
          0.13710792385314258,
          0.009897233254480664,
          0.18232092326726146,
          0.13775773170887673,
          0.13390046094573815,
          0.22062272738984068,
          0.01883054406059781,
          0.10500921208997155,
          0.1711638482493683,
          0.20102872772888236,
          0.06565094257846316,
          0.10783807064079376,
          0.06158477343347146,
          0.051664701346532116,
          0.20670841121777023,
          0.1261001498044404,
          0.14011776544297716,
          0.020526698424156997,
          0.05548319068601948,
          0.13140748646874545,
          0.15247538924236498,
          0.14234537078799664,
          0.07064846155609561,
          0.14058531769380328,
          0.02781709080619854,
          0.17979979960246995,
          0.10459044114776006,
          0.10274507801027238,
          0.16592703485844307,
          0.14102450378437897,
          0.17549393663731117,
          0.20342681173472055,
          0.1659276320920099,
          0.15225961211223898,
          0.1339498290305154,
          0.14603453533300026,
          0.21105850865546827,
          0.16689480608636115,
          0.20119876931403213,
          0.04201336800837041,
          0.03454198487730087,
          0.2091289302563875,
          0.13406692841891116,
          0.1719412379933385,
          0.22463089228237393,
          0.19835742695516384,
          0.22190542101570254,
          0.03768268494689331,
          0.20760347571210758,
          0.20408003043836376,
          0.17648056539961993,
          0.22443925067485354,
          0.17421738905762468,
          0.20570461995885303,
          0.22552684684559976,
          0.13761733642762414,
          0.13390046094573815,
          0.03917655020751254,
          0.19430318086796639,
          0.19034652555680848,
          0.12628519094388213,
          0.0076252688648215106,
          0.1786924420730861,
          0.1431532178122794,
          0.0012586442084491223,
          0.1332434640055024,
          0.16630607726809293,
          0.14143544793990287,
          0.07239773231601765,
          0.17599587083774992,
          0.18925369083440519,
          0.06988335907478671,
          0.2037209582017156,
          0.0001219639021771135,
          0.013015467106425427,
          0.012815690184899586,
          0.09771325352266325,
          0.01824898001021058,
          0.038634479840828906,
          0.2226547333203232,
          0.1822456229502361,
          0.14323467405816637,
          0.10781770800750712,
          0.07287689923660579,
          0.20757726831176465,
          0.13178944041187657,
          0.11257120901805967,
          0.2088629693745051,
          0.15597232750089574,
          0.1674117205496619,
          0.14789541271260093,
          0.11572630070397771,
          0.14779946820526052,
          0.18388219265675504,
          0.17753670331204652,
          0.01412907790208584,
          0.13430445732636354,
          0.16287975883591754,
          0.05337349038104644,
          0.14555686021517766,
          0.08462428165151115,
          0.14210210554492786,
          0.046212754297602965,
          0.17152555452637702,
          0.008752437533295132,
          0.03850772207095943,
          0.1792013000058807,
          0.19294468571728401,
          0.21381110677526383,
          0.1873417502340196,
          0.17459487583888955,
          0.18346309912531855,
          0.14698639406918906,
          0.1922760288846619,
          0.1363120817384995,
          0.22053876506728753,
          0.019888721111486873,
          0.19466295134790051,
          0.13836328896016054,
          0.09902964663085695,
          0.09116163932551224,
          0.1131001638878315,
          0.22108966347698455,
          0.04409909303784487,
          0.13294789027238219,
          0.047389614216293396,
          0.1681384493957268,
          0.024848178365350693,
          0.00797427482388613,
          0.11407222152880747,
          0.16939165663758587,
          0.1678641071934755,
          0.04965437056090216,
          0.18097402693841252,
          0.1803734323882764,
          0.16261569680344623,
          0.18502285417009862,
          0.12107695349641745,
          0.1256968766295548,
          0.1875026208178912,
          0.15120166063238716,
          0.15913049389790446,
          0.19474882061438437
         ],
         "xaxis": "x",
         "yaxis": "y"
        }
       ],
       "layout": {
        "barmode": "relative",
        "legend": {
         "title": {
          "text": "anomaly"
         },
         "tracegroupgap": 0
        },
        "margin": {
         "t": 60
        },
        "template": {
         "data": {
          "bar": [
           {
            "error_x": {
             "color": "#2a3f5f"
            },
            "error_y": {
             "color": "#2a3f5f"
            },
            "marker": {
             "line": {
              "color": "#E5ECF6",
              "width": 0.5
             }
            },
            "type": "bar"
           }
          ],
          "barpolar": [
           {
            "marker": {
             "line": {
              "color": "#E5ECF6",
              "width": 0.5
             }
            },
            "type": "barpolar"
           }
          ],
          "carpet": [
           {
            "aaxis": {
             "endlinecolor": "#2a3f5f",
             "gridcolor": "white",
             "linecolor": "white",
             "minorgridcolor": "white",
             "startlinecolor": "#2a3f5f"
            },
            "baxis": {
             "endlinecolor": "#2a3f5f",
             "gridcolor": "white",
             "linecolor": "white",
             "minorgridcolor": "white",
             "startlinecolor": "#2a3f5f"
            },
            "type": "carpet"
           }
          ],
          "choropleth": [
           {
            "colorbar": {
             "outlinewidth": 0,
             "ticks": ""
            },
            "type": "choropleth"
           }
          ],
          "contour": [
           {
            "colorbar": {
             "outlinewidth": 0,
             "ticks": ""
            },
            "colorscale": [
             [
              0,
              "#0d0887"
             ],
             [
              0.1111111111111111,
              "#46039f"
             ],
             [
              0.2222222222222222,
              "#7201a8"
             ],
             [
              0.3333333333333333,
              "#9c179e"
             ],
             [
              0.4444444444444444,
              "#bd3786"
             ],
             [
              0.5555555555555556,
              "#d8576b"
             ],
             [
              0.6666666666666666,
              "#ed7953"
             ],
             [
              0.7777777777777778,
              "#fb9f3a"
             ],
             [
              0.8888888888888888,
              "#fdca26"
             ],
             [
              1,
              "#f0f921"
             ]
            ],
            "type": "contour"
           }
          ],
          "contourcarpet": [
           {
            "colorbar": {
             "outlinewidth": 0,
             "ticks": ""
            },
            "type": "contourcarpet"
           }
          ],
          "heatmap": [
           {
            "colorbar": {
             "outlinewidth": 0,
             "ticks": ""
            },
            "colorscale": [
             [
              0,
              "#0d0887"
             ],
             [
              0.1111111111111111,
              "#46039f"
             ],
             [
              0.2222222222222222,
              "#7201a8"
             ],
             [
              0.3333333333333333,
              "#9c179e"
             ],
             [
              0.4444444444444444,
              "#bd3786"
             ],
             [
              0.5555555555555556,
              "#d8576b"
             ],
             [
              0.6666666666666666,
              "#ed7953"
             ],
             [
              0.7777777777777778,
              "#fb9f3a"
             ],
             [
              0.8888888888888888,
              "#fdca26"
             ],
             [
              1,
              "#f0f921"
             ]
            ],
            "type": "heatmap"
           }
          ],
          "heatmapgl": [
           {
            "colorbar": {
             "outlinewidth": 0,
             "ticks": ""
            },
            "colorscale": [
             [
              0,
              "#0d0887"
             ],
             [
              0.1111111111111111,
              "#46039f"
             ],
             [
              0.2222222222222222,
              "#7201a8"
             ],
             [
              0.3333333333333333,
              "#9c179e"
             ],
             [
              0.4444444444444444,
              "#bd3786"
             ],
             [
              0.5555555555555556,
              "#d8576b"
             ],
             [
              0.6666666666666666,
              "#ed7953"
             ],
             [
              0.7777777777777778,
              "#fb9f3a"
             ],
             [
              0.8888888888888888,
              "#fdca26"
             ],
             [
              1,
              "#f0f921"
             ]
            ],
            "type": "heatmapgl"
           }
          ],
          "histogram": [
           {
            "marker": {
             "colorbar": {
              "outlinewidth": 0,
              "ticks": ""
             }
            },
            "type": "histogram"
           }
          ],
          "histogram2d": [
           {
            "colorbar": {
             "outlinewidth": 0,
             "ticks": ""
            },
            "colorscale": [
             [
              0,
              "#0d0887"
             ],
             [
              0.1111111111111111,
              "#46039f"
             ],
             [
              0.2222222222222222,
              "#7201a8"
             ],
             [
              0.3333333333333333,
              "#9c179e"
             ],
             [
              0.4444444444444444,
              "#bd3786"
             ],
             [
              0.5555555555555556,
              "#d8576b"
             ],
             [
              0.6666666666666666,
              "#ed7953"
             ],
             [
              0.7777777777777778,
              "#fb9f3a"
             ],
             [
              0.8888888888888888,
              "#fdca26"
             ],
             [
              1,
              "#f0f921"
             ]
            ],
            "type": "histogram2d"
           }
          ],
          "histogram2dcontour": [
           {
            "colorbar": {
             "outlinewidth": 0,
             "ticks": ""
            },
            "colorscale": [
             [
              0,
              "#0d0887"
             ],
             [
              0.1111111111111111,
              "#46039f"
             ],
             [
              0.2222222222222222,
              "#7201a8"
             ],
             [
              0.3333333333333333,
              "#9c179e"
             ],
             [
              0.4444444444444444,
              "#bd3786"
             ],
             [
              0.5555555555555556,
              "#d8576b"
             ],
             [
              0.6666666666666666,
              "#ed7953"
             ],
             [
              0.7777777777777778,
              "#fb9f3a"
             ],
             [
              0.8888888888888888,
              "#fdca26"
             ],
             [
              1,
              "#f0f921"
             ]
            ],
            "type": "histogram2dcontour"
           }
          ],
          "mesh3d": [
           {
            "colorbar": {
             "outlinewidth": 0,
             "ticks": ""
            },
            "type": "mesh3d"
           }
          ],
          "parcoords": [
           {
            "line": {
             "colorbar": {
              "outlinewidth": 0,
              "ticks": ""
             }
            },
            "type": "parcoords"
           }
          ],
          "pie": [
           {
            "automargin": true,
            "type": "pie"
           }
          ],
          "scatter": [
           {
            "marker": {
             "colorbar": {
              "outlinewidth": 0,
              "ticks": ""
             }
            },
            "type": "scatter"
           }
          ],
          "scatter3d": [
           {
            "line": {
             "colorbar": {
              "outlinewidth": 0,
              "ticks": ""
             }
            },
            "marker": {
             "colorbar": {
              "outlinewidth": 0,
              "ticks": ""
             }
            },
            "type": "scatter3d"
           }
          ],
          "scattercarpet": [
           {
            "marker": {
             "colorbar": {
              "outlinewidth": 0,
              "ticks": ""
             }
            },
            "type": "scattercarpet"
           }
          ],
          "scattergeo": [
           {
            "marker": {
             "colorbar": {
              "outlinewidth": 0,
              "ticks": ""
             }
            },
            "type": "scattergeo"
           }
          ],
          "scattergl": [
           {
            "marker": {
             "colorbar": {
              "outlinewidth": 0,
              "ticks": ""
             }
            },
            "type": "scattergl"
           }
          ],
          "scattermapbox": [
           {
            "marker": {
             "colorbar": {
              "outlinewidth": 0,
              "ticks": ""
             }
            },
            "type": "scattermapbox"
           }
          ],
          "scatterpolar": [
           {
            "marker": {
             "colorbar": {
              "outlinewidth": 0,
              "ticks": ""
             }
            },
            "type": "scatterpolar"
           }
          ],
          "scatterpolargl": [
           {
            "marker": {
             "colorbar": {
              "outlinewidth": 0,
              "ticks": ""
             }
            },
            "type": "scatterpolargl"
           }
          ],
          "scatterternary": [
           {
            "marker": {
             "colorbar": {
              "outlinewidth": 0,
              "ticks": ""
             }
            },
            "type": "scatterternary"
           }
          ],
          "surface": [
           {
            "colorbar": {
             "outlinewidth": 0,
             "ticks": ""
            },
            "colorscale": [
             [
              0,
              "#0d0887"
             ],
             [
              0.1111111111111111,
              "#46039f"
             ],
             [
              0.2222222222222222,
              "#7201a8"
             ],
             [
              0.3333333333333333,
              "#9c179e"
             ],
             [
              0.4444444444444444,
              "#bd3786"
             ],
             [
              0.5555555555555556,
              "#d8576b"
             ],
             [
              0.6666666666666666,
              "#ed7953"
             ],
             [
              0.7777777777777778,
              "#fb9f3a"
             ],
             [
              0.8888888888888888,
              "#fdca26"
             ],
             [
              1,
              "#f0f921"
             ]
            ],
            "type": "surface"
           }
          ],
          "table": [
           {
            "cells": {
             "fill": {
              "color": "#EBF0F8"
             },
             "line": {
              "color": "white"
             }
            },
            "header": {
             "fill": {
              "color": "#C8D4E3"
             },
             "line": {
              "color": "white"
             }
            },
            "type": "table"
           }
          ]
         },
         "layout": {
          "annotationdefaults": {
           "arrowcolor": "#2a3f5f",
           "arrowhead": 0,
           "arrowwidth": 1
          },
          "autotypenumbers": "strict",
          "coloraxis": {
           "colorbar": {
            "outlinewidth": 0,
            "ticks": ""
           }
          },
          "colorscale": {
           "diverging": [
            [
             0,
             "#8e0152"
            ],
            [
             0.1,
             "#c51b7d"
            ],
            [
             0.2,
             "#de77ae"
            ],
            [
             0.3,
             "#f1b6da"
            ],
            [
             0.4,
             "#fde0ef"
            ],
            [
             0.5,
             "#f7f7f7"
            ],
            [
             0.6,
             "#e6f5d0"
            ],
            [
             0.7,
             "#b8e186"
            ],
            [
             0.8,
             "#7fbc41"
            ],
            [
             0.9,
             "#4d9221"
            ],
            [
             1,
             "#276419"
            ]
           ],
           "sequential": [
            [
             0,
             "#0d0887"
            ],
            [
             0.1111111111111111,
             "#46039f"
            ],
            [
             0.2222222222222222,
             "#7201a8"
            ],
            [
             0.3333333333333333,
             "#9c179e"
            ],
            [
             0.4444444444444444,
             "#bd3786"
            ],
            [
             0.5555555555555556,
             "#d8576b"
            ],
            [
             0.6666666666666666,
             "#ed7953"
            ],
            [
             0.7777777777777778,
             "#fb9f3a"
            ],
            [
             0.8888888888888888,
             "#fdca26"
            ],
            [
             1,
             "#f0f921"
            ]
           ],
           "sequentialminus": [
            [
             0,
             "#0d0887"
            ],
            [
             0.1111111111111111,
             "#46039f"
            ],
            [
             0.2222222222222222,
             "#7201a8"
            ],
            [
             0.3333333333333333,
             "#9c179e"
            ],
            [
             0.4444444444444444,
             "#bd3786"
            ],
            [
             0.5555555555555556,
             "#d8576b"
            ],
            [
             0.6666666666666666,
             "#ed7953"
            ],
            [
             0.7777777777777778,
             "#fb9f3a"
            ],
            [
             0.8888888888888888,
             "#fdca26"
            ],
            [
             1,
             "#f0f921"
            ]
           ]
          },
          "colorway": [
           "#636efa",
           "#EF553B",
           "#00cc96",
           "#ab63fa",
           "#FFA15A",
           "#19d3f3",
           "#FF6692",
           "#B6E880",
           "#FF97FF",
           "#FECB52"
          ],
          "font": {
           "color": "#2a3f5f"
          },
          "geo": {
           "bgcolor": "white",
           "lakecolor": "white",
           "landcolor": "#E5ECF6",
           "showlakes": true,
           "showland": true,
           "subunitcolor": "white"
          },
          "hoverlabel": {
           "align": "left"
          },
          "hovermode": "closest",
          "mapbox": {
           "style": "light"
          },
          "paper_bgcolor": "white",
          "plot_bgcolor": "#E5ECF6",
          "polar": {
           "angularaxis": {
            "gridcolor": "white",
            "linecolor": "white",
            "ticks": ""
           },
           "bgcolor": "#E5ECF6",
           "radialaxis": {
            "gridcolor": "white",
            "linecolor": "white",
            "ticks": ""
           }
          },
          "scene": {
           "xaxis": {
            "backgroundcolor": "#E5ECF6",
            "gridcolor": "white",
            "gridwidth": 2,
            "linecolor": "white",
            "showbackground": true,
            "ticks": "",
            "zerolinecolor": "white"
           },
           "yaxis": {
            "backgroundcolor": "#E5ECF6",
            "gridcolor": "white",
            "gridwidth": 2,
            "linecolor": "white",
            "showbackground": true,
            "ticks": "",
            "zerolinecolor": "white"
           },
           "zaxis": {
            "backgroundcolor": "#E5ECF6",
            "gridcolor": "white",
            "gridwidth": 2,
            "linecolor": "white",
            "showbackground": true,
            "ticks": "",
            "zerolinecolor": "white"
           }
          },
          "shapedefaults": {
           "line": {
            "color": "#2a3f5f"
           }
          },
          "ternary": {
           "aaxis": {
            "gridcolor": "white",
            "linecolor": "white",
            "ticks": ""
           },
           "baxis": {
            "gridcolor": "white",
            "linecolor": "white",
            "ticks": ""
           },
           "bgcolor": "#E5ECF6",
           "caxis": {
            "gridcolor": "white",
            "linecolor": "white",
            "ticks": ""
           }
          },
          "title": {
           "x": 0.05
          },
          "xaxis": {
           "automargin": true,
           "gridcolor": "white",
           "linecolor": "white",
           "ticks": "",
           "title": {
            "standoff": 15
           },
           "zerolinecolor": "white",
           "zerolinewidth": 2
          },
          "yaxis": {
           "automargin": true,
           "gridcolor": "white",
           "linecolor": "white",
           "ticks": "",
           "title": {
            "standoff": 15
           },
           "zerolinecolor": "white",
           "zerolinewidth": 2
          }
         }
        },
        "xaxis": {
         "anchor": "y",
         "domain": [
          0,
          1
         ],
         "title": {
          "text": "scores"
         }
        },
        "yaxis": {
         "anchor": "x",
         "domain": [
          0,
          1
         ],
         "title": {
          "text": "count"
         }
        }
       }
      }
     },
     "metadata": {},
     "output_type": "display_data"
    }
   ],
   "source": [
    "data_guli_biaozhun['anomaly'] = data_guli_biaozhun['label'].apply(lambda x: 'outlier' if x==-1  else 'inlier') \n",
    "fig = px.histogram(data_guli_biaozhun,x='scores',color='anomaly') \n",
    "fig.show()"
   ]
  },
  {
   "cell_type": "code",
   "execution_count": 68,
   "metadata": {},
   "outputs": [
    {
     "data": {
      "application/vnd.plotly.v1+json": {
       "config": {
        "plotlyServerURL": "https://plot.ly"
       },
       "data": [
        {
         "hovertemplate": "anomaly=outlier<br>num_not0=%{x}<br>sum_all=%{y}<br>aver_month=%{z}<extra></extra>",
         "legendgroup": "outlier",
         "marker": {
          "color": "#636efa",
          "symbol": "circle"
         },
         "mode": "markers",
         "name": "outlier",
         "scene": "scene",
         "showlegend": true,
         "type": "scatter3d",
         "x": [
          2,
          8,
          8,
          11,
          7,
          5,
          3,
          11,
          1,
          12,
          9,
          7,
          9,
          2,
          4,
          10,
          5,
          12,
          12,
          12
         ],
         "y": [
          0.12706485476641508,
          0.6439096108998926,
          0.6362108737973464,
          0.6399196013240991,
          1.2251178379449417,
          0.3812529385425736,
          0.03600613765939466,
          1.162202482108656,
          0.19034922776887253,
          1.1570778322165172,
          0.3491731351566084,
          0.5640782389691944,
          0.7368307804179829,
          0.14441919030855896,
          0.5857089491956301,
          2.2507106602764733,
          0.22085336690095145,
          0.8318152511856962,
          1.097323079582904,
          10
         ],
         "z": [
          0.7623891285984905,
          0.9658644163498388,
          0.9543163106960196,
          0.6980941105353808,
          2.1002020079056143,
          0.9150070525021765,
          0.14402455063757863,
          1.267857253209443,
          2.2841907332264704,
          1.1570778322165174,
          0.4655641802088112,
          0.9669912668043333,
          0.9824410405573104,
          0.8665151418513538,
          1.7571268475868904,
          2.7008527923317676,
          0.5300480805622835,
          0.8318152511856962,
          1.097323079582904,
          10
         ]
        },
        {
         "hovertemplate": "anomaly=inlier<br>num_not0=%{x}<br>sum_all=%{y}<br>aver_month=%{z}<extra></extra>",
         "legendgroup": "inlier",
         "marker": {
          "color": "#EF553B",
          "symbol": "circle"
         },
         "mode": "markers",
         "name": "inlier",
         "scene": "scene",
         "showlegend": true,
         "type": "scatter3d",
         "x": [
          8,
          7,
          2,
          7,
          9,
          12,
          1,
          12,
          12,
          5,
          11,
          11,
          12,
          11,
          12,
          12,
          12,
          12,
          12,
          12,
          11,
          11,
          12,
          12,
          11,
          12,
          12,
          12,
          12,
          12,
          12,
          11,
          12,
          11,
          12,
          12,
          11,
          11,
          12,
          12,
          11,
          12,
          12,
          12,
          11,
          12,
          12,
          12,
          12,
          12,
          12,
          11,
          11,
          12,
          12,
          11,
          12,
          12,
          12,
          11,
          12,
          11,
          11,
          11,
          12,
          12,
          12,
          12,
          9,
          12,
          12,
          12,
          9,
          12,
          12,
          12,
          3,
          10,
          12,
          12,
          10,
          1,
          12,
          11,
          10,
          11,
          10,
          10,
          10,
          11,
          10,
          11,
          12,
          12,
          11,
          8,
          11,
          11,
          10,
          12,
          12,
          11,
          12,
          12,
          11,
          11,
          12,
          12,
          12,
          12,
          12,
          12,
          11,
          12,
          12,
          11,
          12,
          12,
          12,
          12,
          12,
          12,
          11,
          12,
          11,
          12,
          12,
          11,
          11,
          12,
          11,
          12,
          12,
          11,
          11,
          12,
          12,
          11,
          12,
          10,
          11,
          12,
          12,
          12,
          12,
          11,
          12,
          12,
          11,
          12,
          12,
          12,
          12,
          12,
          11,
          12,
          11,
          11,
          11,
          12,
          12,
          12,
          11,
          12,
          1,
          12,
          12,
          10,
          9,
          11,
          12,
          10,
          12,
          12,
          12,
          12,
          12,
          11,
          12,
          12,
          12,
          12,
          11,
          12,
          12,
          11,
          12,
          12,
          12,
          12,
          11,
          12,
          12,
          12,
          3,
          10,
          12,
          12,
          12,
          7,
          11,
          12,
          7,
          12,
          9,
          12,
          11,
          8,
          12,
          11,
          12,
          12,
          9,
          9,
          12,
          12,
          12,
          12,
          12,
          12,
          11,
          12,
          12,
          12,
          7,
          6,
          6,
          1,
          8,
          9,
          12,
          8,
          7,
          8,
          2,
          10,
          8,
          9,
          11,
          11,
          5,
          10,
          12,
          2,
          12,
          11,
          8,
          11,
          6,
          7,
          12,
          10,
          10,
          7,
          8,
          9,
          6,
          5,
          9,
          9,
          5,
          9,
          10,
          12,
          12,
          12,
          12,
          11,
          8,
          12,
          12,
          12,
          12,
          12,
          12,
          12,
          12,
          12,
          12,
          12,
          4,
          12,
          12,
          12,
          12,
          12,
          12,
          12,
          8,
          9,
          1,
          11,
          12,
          12,
          12,
          12,
          6,
          3,
          9,
          8,
          10,
          10,
          10,
          10,
          6,
          12,
          12,
          6,
          4,
          9,
          10,
          1,
          12,
          11,
          6,
          11,
          12,
          12,
          12,
          4,
          12,
          7,
          8,
          9,
          5,
          11,
          11,
          12,
          11,
          10,
          12,
          2,
          12,
          5,
          8,
          5,
          8,
          1,
          1,
          12,
          12,
          12,
          11,
          12,
          12,
          6,
          11,
          6,
          11,
          12,
          10,
          8,
          12,
          12,
          8,
          12,
          12,
          7,
          12,
          12,
          2,
          8,
          11,
          12,
          10,
          7,
          11,
          11,
          11,
          10,
          5,
          7,
          12,
          8,
          10,
          11
         ],
         "y": [
          0.017616127133900195,
          0.052447490970554615,
          0.09256149611599218,
          0.07644467078988046,
          0.05885145087892142,
          0.4263104963666917,
          0.0029031500183518953,
          0.02670692967776101,
          0.07776082273472268,
          0.033314635013127994,
          0.021684724478212077,
          0.0634275188637085,
          0.22497384382790858,
          0.03963751850433296,
          0.3033738909676192,
          0.25682368140203515,
          0.05905625176922305,
          0.050058146530898254,
          0.09674130130423104,
          0.0402653788719342,
          0.06746529408952422,
          0.17088290368530445,
          0.29416168640156404,
          0.054561320637124266,
          0.020799059105189435,
          0.10170253137440208,
          0.38941040287509077,
          0.03754236989067538,
          0.0405603819438936,
          0.02691907564293957,
          0.025279818106332643,
          0.042935558569417706,
          0.11660368529365134,
          0.06151952396662535,
          0.029630271637186536,
          0.04687204816970468,
          0.07784357192092055,
          0.07117907014114826,
          0.14825421945197279,
          0.12108961153230716,
          0.06151376532431807,
          0.05695889941726122,
          0.07512018953444463,
          0.03348797057825899,
          0.0574239054667495,
          0.042213028108023756,
          0.06317676970600168,
          0.021710944863050398,
          0.0700469551664443,
          0.03641684886359087,
          0.18178753394237232,
          0.028077046230911416,
          0.05740883975336693,
          0.04643262145679189,
          0.1525655647219701,
          0.06770856003400794,
          0.06942601466662307,
          0.10512061797915903,
          0.09262927240050883,
          0.07802774918781666,
          0.055634845527333956,
          0.04768401673502897,
          0.06677823064851746,
          0.052104847436449074,
          0.26017622999516626,
          0.13173491294532214,
          0.2780638162466451,
          0.13978502651554764,
          0.3286505664265757,
          0.06054046196268904,
          0.2811023763788608,
          0.304888811042175,
          0.11381364683831005,
          0.3815749778789785,
          0.05045063642386585,
          0.10604297635039137,
          0.016097244215537695,
          0.05693885856500375,
          0.049129958289773894,
          0.0347840622451388,
          0.09103649625898697,
          0.007687450767979056,
          0.1498059577126146,
          0.03783684199336655,
          0.22911254638291756,
          0.07967644545861016,
          0.05535488658464055,
          0.04542677356416251,
          0.09988939219451433,
          0.06440698664903675,
          0.18882494882136155,
          0.07051569742651499,
          0.11053363814422788,
          0.030137776812248288,
          0.08477607935961654,
          0.07950062772007084,
          0.045204703222174056,
          0.0266801826404778,
          0.2535117864925088,
          0.09601013072096454,
          0.0593953447161489,
          0.12203319572379798,
          0.1447588034326947,
          0.08984085059550037,
          0.09725978631940414,
          0.07470201454273023,
          0.017053055809078992,
          0.1484636091254623,
          0.026966137650761002,
          0.18933242809548337,
          0.029375207814572583,
          0.08790389844759479,
          0.09452135332842729,
          0.06103363744274409,
          0.01220266449444117,
          0.10099564723912707,
          0.05988053623147583,
          0.06917032706303954,
          0.07372869175539627,
          0.13852267729813914,
          0.030541801257123705,
          0.05504538330315334,
          0.006156972862182285,
          0.035485960449480596,
          0.20816744266961854,
          0.08304599586038228,
          0.16558519666313873,
          0.02348977177278875,
          0.13377318957016635,
          0.16530264115121907,
          0.10004636915767877,
          0.022944071345002356,
          0.046489933761583786,
          0.07956334252924621,
          0.06069255659867995,
          0.036306221632400264,
          0.10384162956626825,
          0.18996369443668312,
          0.0019402394088628486,
          0.23872051083560425,
          0.01238381566819083,
          0.06988650100209658,
          0.09629428129910049,
          0.14563675680085839,
          0.05401903265817138,
          0.0842796554700141,
          0.12402135402991105,
          0.10701554369364456,
          0.035893015304325794,
          0.0587479528814418,
          0.04818086367331663,
          0.05037732381344286,
          0.1548354669772189,
          0.15793615698905028,
          0.12343240982452869,
          0.06227859417900118,
          0.041827466716482804,
          0.04836845123063459,
          0.08562458120068771,
          0.07516299299606209,
          0.020494789971976266,
          0.08870542677572257,
          0.03989993819388213,
          0.06502997979834607,
          0.0024754240550446775,
          0.2150426270114643,
          0.06293074099459393,
          0.024020458289072403,
          0.4239070920334861,
          0.09856266834936439,
          0.3360762752462666,
          0.20492939133978333,
          0.05105140440831839,
          0.0914920894752286,
          0.03126253376160537,
          0.040685110078455024,
          0.11588952299426088,
          0.030807728365619395,
          0.15216335550130025,
          0.305119338041045,
          0.03945672346850711,
          0.2008597817004032,
          0.19520714978179002,
          0.049450229887029816,
          0.17941668493222535,
          0.18980785927328653,
          0.10155792426845762,
          0.07987494378686635,
          0.024878765794312217,
          0.17351371827094395,
          0.0833081306395924,
          0.026727184212772766,
          0.2763390661826213,
          0.034816772973836924,
          0.005057111032904662,
          0.16677643700842845,
          0.07028684535509272,
          0.16636445018294158,
          0.07125245182074433,
          0.013608276127330319,
          0.09409844709835546,
          0.37712781671372547,
          0.00857776535971603,
          0.03616633713116658,
          0.0027743101095793225,
          0.06882723889613215,
          0.2506842003079406,
          0.030833730750880122,
          0.03515275133273826,
          0.02991891602839736,
          0.026476489015357423,
          0.044407793894997376,
          0.23417223455934355,
          0.6296623370007985,
          0.13626152956058085,
          0.046094469577349556,
          0.1012892991453877,
          0.034942720610985904,
          0.3608969150145914,
          0.006645786192273685,
          0.0024814028553412,
          0.3442421811267837,
          0.30536308746974045,
          0.041846180145569754,
          0.11350896976529323,
          0.05137308113156458,
          0.036816947157657834,
          0.0017057042395413893,
          0.08948291903161132,
          0.02553312714026751,
          0.14842894071738913,
          0.055092132341284156,
          0.017826110370596046,
          0.009288547586447893,
          0.0831606571629643,
          0.08955219541223125,
          0.008994064691698415,
          0,
          0.06580471576254579,
          0.5068234040461368,
          0.030179926275132954,
          0.12969458367098985,
          0.026642330575207002,
          0.01610203157259823,
          0.2689012141389346,
          0.41595062331151506,
          0.44854212134957283,
          0.09822474957838126,
          0.09768220690685256,
          0.11950094068976146,
          0.6785079634058571,
          0.4541875851830652,
          0.23498263395939145,
          0.0761441594513663,
          0.01949094940219012,
          0.27628186611523564,
          0.04688510440183236,
          0.16767145477917128,
          0.06782706115093201,
          0.30012294744494245,
          0.042756911153192946,
          0.10901315584282575,
          0.18423219199762403,
          0.2977565102282272,
          0.15252516788935294,
          0.3183594193570458,
          0.33491218987806376,
          0.27600251368621853,
          0.013358232770236107,
          0.13239794894773654,
          0.2627813055217675,
          0.02690225514087791,
          0.6534738049225384,
          0.6665887393721159,
          0.14478789882186338,
          0.37311107520953046,
          0.29179590534199334,
          0.031403031251750334,
          0.201681372464905,
          0.09402069679356077,
          0.18858223543026265,
          0.12542851108554834,
          0.188118422982422,
          0.23805690069568844,
          0.03784120630174184,
          0.25973297425996966,
          0.10310269733467457,
          0.04158808807139766,
          0.148830737681432,
          0,
          0.0003349401628931695,
          0.15414256719108513,
          0.151666303513905,
          0.19109217680456436,
          0.7563265884048185,
          0.2405990326214784,
          0.021637250213763694,
          0.07332196713753497,
          0.00016100024249754994,
          0.08424403304398746,
          0.008216906989616853,
          0.4187518855074852,
          0.0691543720840533,
          0.07264049614113768,
          0.20334097303140178,
          0.021021293486464008,
          0.7251304452274443,
          0.2520294908101846,
          0.2077094795173748,
          0.34603478733655557,
          0.6754826127529968,
          0.000045792861765712404,
          0.091556679944136,
          0.2103493033132806,
          0.05408323029615674,
          0.36921880714732114,
          0.42159398701046286,
          0.13890606085231574,
          0.3298082801635601,
          0.024642758588239055,
          0.08907985076310104,
          0.06131099334097626,
          0.06139459294136794,
          0.12131386618689491,
          0.05969121115277206,
          0.23681406351968085,
          0.1340084219064538,
          0.24348124388832246,
          0.36000083098848884,
          0.0008989957234310586,
          0.2686352330701474,
          0.02406962690667341,
          0.35338734110987474,
          0.002084093229138169,
          0.13569576885483203,
          0.12153356227605805,
          0.05836230083661115,
          0.02065843211034491,
          0.009666843764343321,
          0.011202415521656264,
          0.22389975127543238,
          0.04800867638318843,
          0.11846120141725626,
          0.28750390159887584,
          0.07371481964366135,
          0.047600300580407685,
          0.09025601028612662,
          0.014710633080486198,
          0.06473945758899158,
          0.7345801786797923,
          0.0749313889497741,
          0.009215571688243768,
          0.4282399394004343,
          0.4416903751999363,
          0.0769182802682431,
          0.08410383341465148,
          0.6728951822417112,
          0.1257727216265186,
          0.6608049817867829,
          0.2547599204107285,
          0.03954472838709559,
          0.5060301510683113,
          0.38648586515560585,
          0.3068323895138749,
          0.1591610771898732,
          0.37003403707266286,
          0.2051502896642407,
          0.18553455169196267,
          0.21293723025924788,
          0.0835078635793178,
          0.030275347496183123,
          0.1393300635555105,
          0.17146808362075283,
          0.07451365211562655,
          0.19349985910967896,
          0.02127233834656817
         ],
         "z": [
          0.026424190700850295,
          0.08990998452095078,
          0.5553689766959531,
          0.1310480070683665,
          0.07846860117189522,
          0.42631049636669166,
          0.03483780022022274,
          0.02670692967776101,
          0.07776082273472268,
          0.07995512403150719,
          0.023656063067140444,
          0.06919365694222745,
          0.22497384382790853,
          0.04324092927745414,
          0.3033738909676192,
          0.2568236814020351,
          0.05905625176922305,
          0.050058146530898254,
          0.09674130130423106,
          0.040265378871934196,
          0.07359850264311732,
          0.18641771311124125,
          0.29416168640156404,
          0.05456132063712427,
          0.022689882660206655,
          0.10170253137440208,
          0.38941040287509077,
          0.03754236989067538,
          0.0405603819438936,
          0.02691907564293957,
          0.025279818106332643,
          0.0468387911666375,
          0.11660368529365134,
          0.06711220796359128,
          0.029630271637186536,
          0.04687204816970468,
          0.08492026027736786,
          0.07764989469943445,
          0.14825421945197279,
          0.12108961153230714,
          0.067105925808347,
          0.05695889941726122,
          0.07512018953444463,
          0.03348797057825899,
          0.06264426050918127,
          0.042213028108023756,
          0.06317676970600167,
          0.021710944863050398,
          0.0700469551664443,
          0.03641684886359087,
          0.18178753394237232,
          0.030629504979176086,
          0.0626278251854912,
          0.04643262145679189,
          0.1525655647219701,
          0.07386388367346321,
          0.06942601466662307,
          0.10512061797915903,
          0.09262927240050885,
          0.08512118093216363,
          0.055634845527333956,
          0.05201892734730433,
          0.07284897888929176,
          0.056841651748853535,
          0.2601762299951662,
          0.13173491294532214,
          0.2780638162466451,
          0.1397850265155476,
          0.4382007552354342,
          0.06054046196268904,
          0.2811023763788608,
          0.304888811042175,
          0.15175152911774673,
          0.3815749778789785,
          0.05045063642386585,
          0.10604297635039137,
          0.06438897686215077,
          0.0683266302780045,
          0.049129958289773894,
          0.034784062245138796,
          0.10924379551078434,
          0.09224940921574867,
          0.14980595771261462,
          0.04127655490185442,
          0.27493505565950105,
          0.08691975868212015,
          0.06642586390156865,
          0.05451212827699502,
          0.1198672706334172,
          0.07026216725349464,
          0.2265899385856338,
          0.07692621537437999,
          0.1105336381442279,
          0.03013777681224829,
          0.09248299566503622,
          0.11925094158010627,
          0.049314221696917154,
          0.02910565378961214,
          0.3042141437910105,
          0.09601013072096454,
          0.05939534471614891,
          0.13312712260777962,
          0.1447588034326947,
          0.08984085059550037,
          0.1061015850757136,
          0.08149310677388755,
          0.01705305580907899,
          0.1484636091254623,
          0.026966137650761005,
          0.18933242809548337,
          0.029375207814572576,
          0.08790389844759479,
          0.10311420363101159,
          0.06103363744274409,
          0.01220266449444117,
          0.11017706971541136,
          0.05988053623147583,
          0.06917032706303954,
          0.07372869175539627,
          0.1385226772981391,
          0.030541801257123705,
          0.05504538330315334,
          0.006716697667835219,
          0.035485960449480596,
          0.2270917556395838,
          0.08304599586038228,
          0.16558519666313873,
          0.025625205570314998,
          0.14593438862199964,
          0.16530264115121907,
          0.10914149362655864,
          0.022944071345002356,
          0.046489933761583786,
          0.08679637366826859,
          0.06621006174401448,
          0.036306221632400264,
          0.10384162956626825,
          0.20723312120365434,
          0.0019402394088628486,
          0.28646461300272513,
          0.013509617092571816,
          0.06988650100209658,
          0.09629428129910049,
          0.14563675680085839,
          0.05401903265817138,
          0.09194144233092448,
          0.12402135402991105,
          0.10701554369364456,
          0.03915601669562813,
          0.05874795288144181,
          0.04818086367331663,
          0.05037732381344286,
          0.15483546697721892,
          0.15793615698905028,
          0.13465353799039492,
          0.06227859417900117,
          0.045629963690708514,
          0.05276558316069228,
          0.09340863403711386,
          0.07516299299606209,
          0.020494789971976266,
          0.08870542677572257,
          0.04352720530241687,
          0.06502997979834607,
          0.02970508866053613,
          0.21504262701146432,
          0.06293074099459392,
          0.028824549946886886,
          0.5652094560446481,
          0.10752291092657934,
          0.3360762752462666,
          0.24591526960773996,
          0.05105140440831838,
          0.0914920894752286,
          0.03126253376160538,
          0.04068511007845502,
          0.11588952299426088,
          0.03360843094431207,
          0.15216335550130025,
          0.305119338041045,
          0.03945672346850711,
          0.2008597817004032,
          0.21295325430740727,
          0.049450229887029816,
          0.17941668493222535,
          0.20706311920722165,
          0.10155792426845762,
          0.07987494378686635,
          0.024878765794312217,
          0.17351371827094395,
          0.09088159706137354,
          0.026727184212772766,
          0.2763390661826213,
          0.034816772973836924,
          0.020228444131618648,
          0.20013172441011415,
          0.07028684535509272,
          0.16636445018294158,
          0.07125245182074433,
          0.02332847336113769,
          0.10265285138002414,
          0.37712781671372547,
          0.014704740616656053,
          0.03616633713116658,
          0.0036990801461057633,
          0.06882723889613215,
          0.2734736730632079,
          0.04625059612632018,
          0.03515275133273826,
          0.03263881748552439,
          0.026476489015357423,
          0.044407793894997376,
          0.31222964607912473,
          0.8395497826677313,
          0.13626152956058085,
          0.046094469577349556,
          0.1012892991453877,
          0.034942720610985904,
          0.3608969150145914,
          0.006645786192273685,
          0.0027069849330994913,
          0.3442421811267837,
          0.30536308746974045,
          0.041846180145569754,
          0.19458680531193126,
          0.10274616226312919,
          0.07363389431531567,
          0.020468450874496672,
          0.13422437854741698,
          0.034044169520356674,
          0.14842894071738913,
          0.08263819851192623,
          0.030559046349593215,
          0.01393282137967184,
          0.4989639429777857,
          0.1074626344946775,
          0.013491097037547622,
          0,
          0.07178696265004995,
          0.552898258959422,
          0.07243182306031908,
          0.1556335004051878,
          0.026642330575207002,
          0.09661218943558939,
          0.2689012141389346,
          0.45376431633983466,
          0.6728131820243592,
          0.107154272267325,
          0.1953644138137051,
          0.20485875546816248,
          0.6785079634058571,
          0.5450251022196783,
          0.2819791607512697,
          0.13053284477377078,
          0.029236424103285176,
          0.3683758214869809,
          0.09377020880366473,
          0.40241149147001104,
          0.09043608153457601,
          0.40016392992658995,
          0.10261658676766308,
          0.14535087445710101,
          0.2210786303971488,
          0.29775651022822713,
          0.15252516788935294,
          0.3183594193570458,
          0.33491218987806376,
          0.3010936512940566,
          0.020037349155354163,
          0.13239794894773654,
          0.2627813055217675,
          0.02690225514087791,
          0.6534738049225385,
          0.6665887393721159,
          0.14478789882186338,
          0.3731110752095306,
          0.29179590534199334,
          0.031403031251750334,
          0.201681372464905,
          0.09402069679356077,
          0.5657467062907879,
          0.12542851108554834,
          0.188118422982422,
          0.2380569006956884,
          0.03784120630174184,
          0.2597329742599697,
          0.10310269733467457,
          0.04158808807139766,
          0.22324610652214805,
          0,
          0.004019281954718034,
          0.16815552784482013,
          0.151666303513905,
          0.1910921768045644,
          0.7563265884048185,
          0.2405990326214784,
          0.04327450042752739,
          0.2932878685501399,
          0.00021466698999673327,
          0.1263660495659812,
          0.009860288387540226,
          0.5025022626089823,
          0.08298524650086396,
          0.08716859536936522,
          0.40668194606280356,
          0.021021293486464008,
          0.7251304452274443,
          0.5040589816203692,
          0.6231284385521245,
          0.4613797164487409,
          0.8105791353035963,
          0.0005495143411885488,
          0.091556679944136,
          0.2294719672508516,
          0.10816646059231348,
          0.40278415325162303,
          0.42159398701046286,
          0.13890606085231574,
          0.3298082801635601,
          0.07392827576471715,
          0.08907985076310104,
          0.10510456001310217,
          0.09209188941205192,
          0.16175182158252654,
          0.14325890676665293,
          0.25834261474874276,
          0.1461910057161314,
          0.24348124388832248,
          0.3927281792601697,
          0.0010787948681172702,
          0.2686352330701474,
          0.14441776144004045,
          0.35338734110987474,
          0.005001823749931605,
          0.20354365328224805,
          0.2916805494625393,
          0.08754345125491672,
          0.24790118532413893,
          0.11600212517211983,
          0.011202415521656264,
          0.22389975127543238,
          0.04800867638318843,
          0.12923040154609772,
          0.28750390159887584,
          0.07371481964366133,
          0.09520060116081537,
          0.09846110213031994,
          0.029421266160972397,
          0.07062486282435444,
          0.7345801786797923,
          0.08991766673972891,
          0.013823357532365653,
          0.42823993940043426,
          0.4416903751999363,
          0.11537742040236464,
          0.08410383341465148,
          0.6728951822417113,
          0.21561037993117477,
          0.6608049817867828,
          0.2547599204107284,
          0.23726837032257353,
          0.759045226602467,
          0.4216209438061155,
          0.3068323895138749,
          0.19099329262784787,
          0.6343440635531362,
          0.22380031599735353,
          0.20240132911850475,
          0.23229516028281588,
          0.10020943629518138,
          0.0726608339908395,
          0.23885153752373228,
          0.17146808362075283,
          0.11177047817343981,
          0.23219983093161475,
          0.023206187287165277
         ]
        }
       ],
       "layout": {
        "legend": {
         "title": {
          "text": "anomaly"
         },
         "tracegroupgap": 0
        },
        "margin": {
         "t": 60
        },
        "scene": {
         "domain": {
          "x": [
           0,
           1
          ],
          "y": [
           0,
           1
          ]
         },
         "xaxis": {
          "title": {
           "text": "num_not0"
          }
         },
         "yaxis": {
          "title": {
           "text": "sum_all"
          }
         },
         "zaxis": {
          "title": {
           "text": "aver_month"
          }
         }
        },
        "template": {
         "data": {
          "bar": [
           {
            "error_x": {
             "color": "#2a3f5f"
            },
            "error_y": {
             "color": "#2a3f5f"
            },
            "marker": {
             "line": {
              "color": "#E5ECF6",
              "width": 0.5
             }
            },
            "type": "bar"
           }
          ],
          "barpolar": [
           {
            "marker": {
             "line": {
              "color": "#E5ECF6",
              "width": 0.5
             }
            },
            "type": "barpolar"
           }
          ],
          "carpet": [
           {
            "aaxis": {
             "endlinecolor": "#2a3f5f",
             "gridcolor": "white",
             "linecolor": "white",
             "minorgridcolor": "white",
             "startlinecolor": "#2a3f5f"
            },
            "baxis": {
             "endlinecolor": "#2a3f5f",
             "gridcolor": "white",
             "linecolor": "white",
             "minorgridcolor": "white",
             "startlinecolor": "#2a3f5f"
            },
            "type": "carpet"
           }
          ],
          "choropleth": [
           {
            "colorbar": {
             "outlinewidth": 0,
             "ticks": ""
            },
            "type": "choropleth"
           }
          ],
          "contour": [
           {
            "colorbar": {
             "outlinewidth": 0,
             "ticks": ""
            },
            "colorscale": [
             [
              0,
              "#0d0887"
             ],
             [
              0.1111111111111111,
              "#46039f"
             ],
             [
              0.2222222222222222,
              "#7201a8"
             ],
             [
              0.3333333333333333,
              "#9c179e"
             ],
             [
              0.4444444444444444,
              "#bd3786"
             ],
             [
              0.5555555555555556,
              "#d8576b"
             ],
             [
              0.6666666666666666,
              "#ed7953"
             ],
             [
              0.7777777777777778,
              "#fb9f3a"
             ],
             [
              0.8888888888888888,
              "#fdca26"
             ],
             [
              1,
              "#f0f921"
             ]
            ],
            "type": "contour"
           }
          ],
          "contourcarpet": [
           {
            "colorbar": {
             "outlinewidth": 0,
             "ticks": ""
            },
            "type": "contourcarpet"
           }
          ],
          "heatmap": [
           {
            "colorbar": {
             "outlinewidth": 0,
             "ticks": ""
            },
            "colorscale": [
             [
              0,
              "#0d0887"
             ],
             [
              0.1111111111111111,
              "#46039f"
             ],
             [
              0.2222222222222222,
              "#7201a8"
             ],
             [
              0.3333333333333333,
              "#9c179e"
             ],
             [
              0.4444444444444444,
              "#bd3786"
             ],
             [
              0.5555555555555556,
              "#d8576b"
             ],
             [
              0.6666666666666666,
              "#ed7953"
             ],
             [
              0.7777777777777778,
              "#fb9f3a"
             ],
             [
              0.8888888888888888,
              "#fdca26"
             ],
             [
              1,
              "#f0f921"
             ]
            ],
            "type": "heatmap"
           }
          ],
          "heatmapgl": [
           {
            "colorbar": {
             "outlinewidth": 0,
             "ticks": ""
            },
            "colorscale": [
             [
              0,
              "#0d0887"
             ],
             [
              0.1111111111111111,
              "#46039f"
             ],
             [
              0.2222222222222222,
              "#7201a8"
             ],
             [
              0.3333333333333333,
              "#9c179e"
             ],
             [
              0.4444444444444444,
              "#bd3786"
             ],
             [
              0.5555555555555556,
              "#d8576b"
             ],
             [
              0.6666666666666666,
              "#ed7953"
             ],
             [
              0.7777777777777778,
              "#fb9f3a"
             ],
             [
              0.8888888888888888,
              "#fdca26"
             ],
             [
              1,
              "#f0f921"
             ]
            ],
            "type": "heatmapgl"
           }
          ],
          "histogram": [
           {
            "marker": {
             "colorbar": {
              "outlinewidth": 0,
              "ticks": ""
             }
            },
            "type": "histogram"
           }
          ],
          "histogram2d": [
           {
            "colorbar": {
             "outlinewidth": 0,
             "ticks": ""
            },
            "colorscale": [
             [
              0,
              "#0d0887"
             ],
             [
              0.1111111111111111,
              "#46039f"
             ],
             [
              0.2222222222222222,
              "#7201a8"
             ],
             [
              0.3333333333333333,
              "#9c179e"
             ],
             [
              0.4444444444444444,
              "#bd3786"
             ],
             [
              0.5555555555555556,
              "#d8576b"
             ],
             [
              0.6666666666666666,
              "#ed7953"
             ],
             [
              0.7777777777777778,
              "#fb9f3a"
             ],
             [
              0.8888888888888888,
              "#fdca26"
             ],
             [
              1,
              "#f0f921"
             ]
            ],
            "type": "histogram2d"
           }
          ],
          "histogram2dcontour": [
           {
            "colorbar": {
             "outlinewidth": 0,
             "ticks": ""
            },
            "colorscale": [
             [
              0,
              "#0d0887"
             ],
             [
              0.1111111111111111,
              "#46039f"
             ],
             [
              0.2222222222222222,
              "#7201a8"
             ],
             [
              0.3333333333333333,
              "#9c179e"
             ],
             [
              0.4444444444444444,
              "#bd3786"
             ],
             [
              0.5555555555555556,
              "#d8576b"
             ],
             [
              0.6666666666666666,
              "#ed7953"
             ],
             [
              0.7777777777777778,
              "#fb9f3a"
             ],
             [
              0.8888888888888888,
              "#fdca26"
             ],
             [
              1,
              "#f0f921"
             ]
            ],
            "type": "histogram2dcontour"
           }
          ],
          "mesh3d": [
           {
            "colorbar": {
             "outlinewidth": 0,
             "ticks": ""
            },
            "type": "mesh3d"
           }
          ],
          "parcoords": [
           {
            "line": {
             "colorbar": {
              "outlinewidth": 0,
              "ticks": ""
             }
            },
            "type": "parcoords"
           }
          ],
          "pie": [
           {
            "automargin": true,
            "type": "pie"
           }
          ],
          "scatter": [
           {
            "marker": {
             "colorbar": {
              "outlinewidth": 0,
              "ticks": ""
             }
            },
            "type": "scatter"
           }
          ],
          "scatter3d": [
           {
            "line": {
             "colorbar": {
              "outlinewidth": 0,
              "ticks": ""
             }
            },
            "marker": {
             "colorbar": {
              "outlinewidth": 0,
              "ticks": ""
             }
            },
            "type": "scatter3d"
           }
          ],
          "scattercarpet": [
           {
            "marker": {
             "colorbar": {
              "outlinewidth": 0,
              "ticks": ""
             }
            },
            "type": "scattercarpet"
           }
          ],
          "scattergeo": [
           {
            "marker": {
             "colorbar": {
              "outlinewidth": 0,
              "ticks": ""
             }
            },
            "type": "scattergeo"
           }
          ],
          "scattergl": [
           {
            "marker": {
             "colorbar": {
              "outlinewidth": 0,
              "ticks": ""
             }
            },
            "type": "scattergl"
           }
          ],
          "scattermapbox": [
           {
            "marker": {
             "colorbar": {
              "outlinewidth": 0,
              "ticks": ""
             }
            },
            "type": "scattermapbox"
           }
          ],
          "scatterpolar": [
           {
            "marker": {
             "colorbar": {
              "outlinewidth": 0,
              "ticks": ""
             }
            },
            "type": "scatterpolar"
           }
          ],
          "scatterpolargl": [
           {
            "marker": {
             "colorbar": {
              "outlinewidth": 0,
              "ticks": ""
             }
            },
            "type": "scatterpolargl"
           }
          ],
          "scatterternary": [
           {
            "marker": {
             "colorbar": {
              "outlinewidth": 0,
              "ticks": ""
             }
            },
            "type": "scatterternary"
           }
          ],
          "surface": [
           {
            "colorbar": {
             "outlinewidth": 0,
             "ticks": ""
            },
            "colorscale": [
             [
              0,
              "#0d0887"
             ],
             [
              0.1111111111111111,
              "#46039f"
             ],
             [
              0.2222222222222222,
              "#7201a8"
             ],
             [
              0.3333333333333333,
              "#9c179e"
             ],
             [
              0.4444444444444444,
              "#bd3786"
             ],
             [
              0.5555555555555556,
              "#d8576b"
             ],
             [
              0.6666666666666666,
              "#ed7953"
             ],
             [
              0.7777777777777778,
              "#fb9f3a"
             ],
             [
              0.8888888888888888,
              "#fdca26"
             ],
             [
              1,
              "#f0f921"
             ]
            ],
            "type": "surface"
           }
          ],
          "table": [
           {
            "cells": {
             "fill": {
              "color": "#EBF0F8"
             },
             "line": {
              "color": "white"
             }
            },
            "header": {
             "fill": {
              "color": "#C8D4E3"
             },
             "line": {
              "color": "white"
             }
            },
            "type": "table"
           }
          ]
         },
         "layout": {
          "annotationdefaults": {
           "arrowcolor": "#2a3f5f",
           "arrowhead": 0,
           "arrowwidth": 1
          },
          "autotypenumbers": "strict",
          "coloraxis": {
           "colorbar": {
            "outlinewidth": 0,
            "ticks": ""
           }
          },
          "colorscale": {
           "diverging": [
            [
             0,
             "#8e0152"
            ],
            [
             0.1,
             "#c51b7d"
            ],
            [
             0.2,
             "#de77ae"
            ],
            [
             0.3,
             "#f1b6da"
            ],
            [
             0.4,
             "#fde0ef"
            ],
            [
             0.5,
             "#f7f7f7"
            ],
            [
             0.6,
             "#e6f5d0"
            ],
            [
             0.7,
             "#b8e186"
            ],
            [
             0.8,
             "#7fbc41"
            ],
            [
             0.9,
             "#4d9221"
            ],
            [
             1,
             "#276419"
            ]
           ],
           "sequential": [
            [
             0,
             "#0d0887"
            ],
            [
             0.1111111111111111,
             "#46039f"
            ],
            [
             0.2222222222222222,
             "#7201a8"
            ],
            [
             0.3333333333333333,
             "#9c179e"
            ],
            [
             0.4444444444444444,
             "#bd3786"
            ],
            [
             0.5555555555555556,
             "#d8576b"
            ],
            [
             0.6666666666666666,
             "#ed7953"
            ],
            [
             0.7777777777777778,
             "#fb9f3a"
            ],
            [
             0.8888888888888888,
             "#fdca26"
            ],
            [
             1,
             "#f0f921"
            ]
           ],
           "sequentialminus": [
            [
             0,
             "#0d0887"
            ],
            [
             0.1111111111111111,
             "#46039f"
            ],
            [
             0.2222222222222222,
             "#7201a8"
            ],
            [
             0.3333333333333333,
             "#9c179e"
            ],
            [
             0.4444444444444444,
             "#bd3786"
            ],
            [
             0.5555555555555556,
             "#d8576b"
            ],
            [
             0.6666666666666666,
             "#ed7953"
            ],
            [
             0.7777777777777778,
             "#fb9f3a"
            ],
            [
             0.8888888888888888,
             "#fdca26"
            ],
            [
             1,
             "#f0f921"
            ]
           ]
          },
          "colorway": [
           "#636efa",
           "#EF553B",
           "#00cc96",
           "#ab63fa",
           "#FFA15A",
           "#19d3f3",
           "#FF6692",
           "#B6E880",
           "#FF97FF",
           "#FECB52"
          ],
          "font": {
           "color": "#2a3f5f"
          },
          "geo": {
           "bgcolor": "white",
           "lakecolor": "white",
           "landcolor": "#E5ECF6",
           "showlakes": true,
           "showland": true,
           "subunitcolor": "white"
          },
          "hoverlabel": {
           "align": "left"
          },
          "hovermode": "closest",
          "mapbox": {
           "style": "light"
          },
          "paper_bgcolor": "white",
          "plot_bgcolor": "#E5ECF6",
          "polar": {
           "angularaxis": {
            "gridcolor": "white",
            "linecolor": "white",
            "ticks": ""
           },
           "bgcolor": "#E5ECF6",
           "radialaxis": {
            "gridcolor": "white",
            "linecolor": "white",
            "ticks": ""
           }
          },
          "scene": {
           "xaxis": {
            "backgroundcolor": "#E5ECF6",
            "gridcolor": "white",
            "gridwidth": 2,
            "linecolor": "white",
            "showbackground": true,
            "ticks": "",
            "zerolinecolor": "white"
           },
           "yaxis": {
            "backgroundcolor": "#E5ECF6",
            "gridcolor": "white",
            "gridwidth": 2,
            "linecolor": "white",
            "showbackground": true,
            "ticks": "",
            "zerolinecolor": "white"
           },
           "zaxis": {
            "backgroundcolor": "#E5ECF6",
            "gridcolor": "white",
            "gridwidth": 2,
            "linecolor": "white",
            "showbackground": true,
            "ticks": "",
            "zerolinecolor": "white"
           }
          },
          "shapedefaults": {
           "line": {
            "color": "#2a3f5f"
           }
          },
          "ternary": {
           "aaxis": {
            "gridcolor": "white",
            "linecolor": "white",
            "ticks": ""
           },
           "baxis": {
            "gridcolor": "white",
            "linecolor": "white",
            "ticks": ""
           },
           "bgcolor": "#E5ECF6",
           "caxis": {
            "gridcolor": "white",
            "linecolor": "white",
            "ticks": ""
           }
          },
          "title": {
           "x": 0.05
          },
          "xaxis": {
           "automargin": true,
           "gridcolor": "white",
           "linecolor": "white",
           "ticks": "",
           "title": {
            "standoff": 15
           },
           "zerolinecolor": "white",
           "zerolinewidth": 2
          },
          "yaxis": {
           "automargin": true,
           "gridcolor": "white",
           "linecolor": "white",
           "ticks": "",
           "title": {
            "standoff": 15
           },
           "zerolinecolor": "white",
           "zerolinewidth": 2
          }
         }
        }
       }
      }
     },
     "metadata": {},
     "output_type": "display_data"
    }
   ],
   "source": [
    "fig = px.scatter_3d(data_guli_biaozhun,x='num_not0', \n",
    "                       y='sum_all', \n",
    "                       z='aver_month', \n",
    "                       color='anomaly') \n",
    "fig.show()"
   ]
  }
 ],
 "metadata": {
  "interpreter": {
   "hash": "7b4b4feff2f24a0f0a34464dbe537a36fda679851528fb8735cb41fa49dffb2d"
  },
  "kernelspec": {
   "display_name": "Python 3.8.8 ('base')",
   "language": "python",
   "name": "python3"
  },
  "language_info": {
   "codemirror_mode": {
    "name": "ipython",
    "version": 3
   },
   "file_extension": ".py",
   "mimetype": "text/x-python",
   "name": "python",
   "nbconvert_exporter": "python",
   "pygments_lexer": "ipython3",
   "version": "3.8.8"
  },
  "orig_nbformat": 4
 },
 "nbformat": 4,
 "nbformat_minor": 2
}
