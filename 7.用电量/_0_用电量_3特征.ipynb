{
 "cells": [
  {
   "cell_type": "markdown",
   "metadata": {},
   "source": [
    "一、判断月用电量和日用电量是否匹配"
   ]
  },
  {
   "cell_type": "markdown",
   "metadata": {},
   "source": [
    "1、导入数据"
   ]
  },
  {
   "cell_type": "code",
   "execution_count": 97,
   "metadata": {},
   "outputs": [],
   "source": [
    "import pandas as pd\n",
    "import numpy as np"
   ]
  },
  {
   "cell_type": "code",
   "execution_count": 98,
   "metadata": {},
   "outputs": [],
   "source": [
    "filename_month_dianliang = \"D:\\\\1_kaoyan\\college_ending\\\\400仪表数据--全\\middata - 副本\\月结用电量数据——不同类型的功率收费区分\\处理过\\FourHundred_monthly_P0300_important.csv\""
   ]
  },
  {
   "cell_type": "markdown",
   "metadata": {},
   "source": [
    "1.1、测试文件打开的不同形式"
   ]
  },
  {
   "cell_type": "code",
   "execution_count": 99,
   "metadata": {},
   "outputs": [],
   "source": [
    "file_name = r\"D:\\1_kaoyan\\college_ending\\400仪表数据--全\\middata - 副本\\月结用电量数据——不同类型的功率收费区分\\处理过\\FourHundred_monthly_P0300_important.csv\""
   ]
  },
  {
   "cell_type": "code",
   "execution_count": 100,
   "metadata": {},
   "outputs": [],
   "source": [
    "data_dianliang = pd.read_csv(filename_month_dianliang,encoding='utf-8')"
   ]
  },
  {
   "cell_type": "code",
   "execution_count": 101,
   "metadata": {},
   "outputs": [],
   "source": [
    "data_ceshi = pd.read_csv(file_name,encoding='utf-8')"
   ]
  },
  {
   "cell_type": "code",
   "execution_count": 102,
   "metadata": {},
   "outputs": [
    {
     "data": {
      "text/html": [
       "<div>\n",
       "<style scoped>\n",
       "    .dataframe tbody tr th:only-of-type {\n",
       "        vertical-align: middle;\n",
       "    }\n",
       "\n",
       "    .dataframe tbody tr th {\n",
       "        vertical-align: top;\n",
       "    }\n",
       "\n",
       "    .dataframe thead th {\n",
       "        text-align: right;\n",
       "    }\n",
       "</style>\n",
       "<table border=\"1\" class=\"dataframe\">\n",
       "  <thead>\n",
       "    <tr style=\"text-align: right;\">\n",
       "      <th></th>\n",
       "      <th>meterNo</th>\n",
       "      <th>10023160000029</th>\n",
       "      <th>10023160000030</th>\n",
       "      <th>10023160000032</th>\n",
       "      <th>10023160000036</th>\n",
       "      <th>10023160000042</th>\n",
       "      <th>10023160000043</th>\n",
       "      <th>10023160000048</th>\n",
       "      <th>10023160000049</th>\n",
       "      <th>10023160000060</th>\n",
       "      <th>...</th>\n",
       "      <th>10023160000343</th>\n",
       "      <th>10023160000345</th>\n",
       "      <th>10023160000346</th>\n",
       "      <th>10023160000349</th>\n",
       "      <th>10023160000350</th>\n",
       "      <th>10023160000352</th>\n",
       "      <th>10014164400011</th>\n",
       "      <th>10023160000023</th>\n",
       "      <th>10023160000024</th>\n",
       "      <th>10023160000028</th>\n",
       "    </tr>\n",
       "  </thead>\n",
       "  <tbody>\n",
       "    <tr>\n",
       "      <th>0</th>\n",
       "      <td>2020/01/01</td>\n",
       "      <td>NaN</td>\n",
       "      <td>943.960</td>\n",
       "      <td>NaN</td>\n",
       "      <td>24203.820</td>\n",
       "      <td>NaN</td>\n",
       "      <td>4515.096</td>\n",
       "      <td>2415.337</td>\n",
       "      <td>32049.118</td>\n",
       "      <td>11100.061</td>\n",
       "      <td>...</td>\n",
       "      <td>NaN</td>\n",
       "      <td>NaN</td>\n",
       "      <td>NaN</td>\n",
       "      <td>NaN</td>\n",
       "      <td>NaN</td>\n",
       "      <td>6448.154</td>\n",
       "      <td>319990.22</td>\n",
       "      <td>3241.042</td>\n",
       "      <td>7228.847</td>\n",
       "      <td>490.567</td>\n",
       "    </tr>\n",
       "    <tr>\n",
       "      <th>1</th>\n",
       "      <td>2020/02/01</td>\n",
       "      <td>NaN</td>\n",
       "      <td>951.607</td>\n",
       "      <td>3172.237</td>\n",
       "      <td>NaN</td>\n",
       "      <td>NaN</td>\n",
       "      <td>NaN</td>\n",
       "      <td>NaN</td>\n",
       "      <td>NaN</td>\n",
       "      <td>13517.172</td>\n",
       "      <td>...</td>\n",
       "      <td>7192.481</td>\n",
       "      <td>6087.748</td>\n",
       "      <td>3418.803</td>\n",
       "      <td>NaN</td>\n",
       "      <td>NaN</td>\n",
       "      <td>6497.013</td>\n",
       "      <td>341856.32</td>\n",
       "      <td>NaN</td>\n",
       "      <td>7925.095</td>\n",
       "      <td>687.767</td>\n",
       "    </tr>\n",
       "    <tr>\n",
       "      <th>2</th>\n",
       "      <td>2020/03/01</td>\n",
       "      <td>NaN</td>\n",
       "      <td>1002.384</td>\n",
       "      <td>NaN</td>\n",
       "      <td>NaN</td>\n",
       "      <td>21127.655</td>\n",
       "      <td>NaN</td>\n",
       "      <td>NaN</td>\n",
       "      <td>34430.163</td>\n",
       "      <td>15560.190</td>\n",
       "      <td>...</td>\n",
       "      <td>7425.386</td>\n",
       "      <td>8161.105</td>\n",
       "      <td>3598.794</td>\n",
       "      <td>NaN</td>\n",
       "      <td>NaN</td>\n",
       "      <td>6545.503</td>\n",
       "      <td>357050.36</td>\n",
       "      <td>3623.238</td>\n",
       "      <td>NaN</td>\n",
       "      <td>925.205</td>\n",
       "    </tr>\n",
       "    <tr>\n",
       "      <th>3</th>\n",
       "      <td>2020/04/01</td>\n",
       "      <td>NaN</td>\n",
       "      <td>NaN</td>\n",
       "      <td>3363.291</td>\n",
       "      <td>31589.719</td>\n",
       "      <td>21756.424</td>\n",
       "      <td>5000.834</td>\n",
       "      <td>2591.190</td>\n",
       "      <td>NaN</td>\n",
       "      <td>16432.878</td>\n",
       "      <td>...</td>\n",
       "      <td>7557.746</td>\n",
       "      <td>8661.468</td>\n",
       "      <td>NaN</td>\n",
       "      <td>2803.823</td>\n",
       "      <td>8785.642</td>\n",
       "      <td>6580.769</td>\n",
       "      <td>368250.04</td>\n",
       "      <td>3844.503</td>\n",
       "      <td>8640.065</td>\n",
       "      <td>953.386</td>\n",
       "    </tr>\n",
       "    <tr>\n",
       "      <th>4</th>\n",
       "      <td>2020/05/01</td>\n",
       "      <td>NaN</td>\n",
       "      <td>NaN</td>\n",
       "      <td>3395.126</td>\n",
       "      <td>33603.535</td>\n",
       "      <td>NaN</td>\n",
       "      <td>5086.672</td>\n",
       "      <td>2654.542</td>\n",
       "      <td>NaN</td>\n",
       "      <td>16817.137</td>\n",
       "      <td>...</td>\n",
       "      <td>7668.069</td>\n",
       "      <td>9003.034</td>\n",
       "      <td>3801.965</td>\n",
       "      <td>2804.346</td>\n",
       "      <td>9028.801</td>\n",
       "      <td>6615.823</td>\n",
       "      <td>376873.24</td>\n",
       "      <td>NaN</td>\n",
       "      <td>8859.115</td>\n",
       "      <td>960.183</td>\n",
       "    </tr>\n",
       "  </tbody>\n",
       "</table>\n",
       "<p>5 rows × 397 columns</p>\n",
       "</div>"
      ],
      "text/plain": [
       "      meterNo  10023160000029   10023160000030   10023160000032   \\\n",
       "0  2020/01/01              NaN          943.960              NaN   \n",
       "1  2020/02/01              NaN          951.607         3172.237   \n",
       "2  2020/03/01              NaN         1002.384              NaN   \n",
       "3  2020/04/01              NaN              NaN         3363.291   \n",
       "4  2020/05/01              NaN              NaN         3395.126   \n",
       "\n",
       "   10023160000036   10023160000042   10023160000043   10023160000048   \\\n",
       "0        24203.820              NaN         4515.096         2415.337   \n",
       "1              NaN              NaN              NaN              NaN   \n",
       "2              NaN        21127.655              NaN              NaN   \n",
       "3        31589.719        21756.424         5000.834         2591.190   \n",
       "4        33603.535              NaN         5086.672         2654.542   \n",
       "\n",
       "   10023160000049   10023160000060   ...  10023160000343   10023160000345   \\\n",
       "0        32049.118        11100.061  ...              NaN              NaN   \n",
       "1              NaN        13517.172  ...         7192.481         6087.748   \n",
       "2        34430.163        15560.190  ...         7425.386         8161.105   \n",
       "3              NaN        16432.878  ...         7557.746         8661.468   \n",
       "4              NaN        16817.137  ...         7668.069         9003.034   \n",
       "\n",
       "   10023160000346   10023160000349   10023160000350   10023160000352   \\\n",
       "0              NaN              NaN              NaN         6448.154   \n",
       "1         3418.803              NaN              NaN         6497.013   \n",
       "2         3598.794              NaN              NaN         6545.503   \n",
       "3              NaN         2803.823         8785.642         6580.769   \n",
       "4         3801.965         2804.346         9028.801         6615.823   \n",
       "\n",
       "   10014164400011   10023160000023   10023160000024   10023160000028   \n",
       "0        319990.22         3241.042         7228.847          490.567  \n",
       "1        341856.32              NaN         7925.095          687.767  \n",
       "2        357050.36         3623.238              NaN          925.205  \n",
       "3        368250.04         3844.503         8640.065          953.386  \n",
       "4        376873.24              NaN         8859.115          960.183  \n",
       "\n",
       "[5 rows x 397 columns]"
      ]
     },
     "execution_count": 102,
     "metadata": {},
     "output_type": "execute_result"
    }
   ],
   "source": [
    "data_ceshi.head(5)"
   ]
  },
  {
   "cell_type": "code",
   "execution_count": 103,
   "metadata": {},
   "outputs": [
    {
     "data": {
      "text/html": [
       "<div>\n",
       "<style scoped>\n",
       "    .dataframe tbody tr th:only-of-type {\n",
       "        vertical-align: middle;\n",
       "    }\n",
       "\n",
       "    .dataframe tbody tr th {\n",
       "        vertical-align: top;\n",
       "    }\n",
       "\n",
       "    .dataframe thead th {\n",
       "        text-align: right;\n",
       "    }\n",
       "</style>\n",
       "<table border=\"1\" class=\"dataframe\">\n",
       "  <thead>\n",
       "    <tr style=\"text-align: right;\">\n",
       "      <th></th>\n",
       "      <th>meterNo</th>\n",
       "      <th>10023160000029</th>\n",
       "      <th>10023160000030</th>\n",
       "      <th>10023160000032</th>\n",
       "      <th>10023160000036</th>\n",
       "      <th>10023160000042</th>\n",
       "      <th>10023160000043</th>\n",
       "      <th>10023160000048</th>\n",
       "      <th>10023160000049</th>\n",
       "      <th>10023160000060</th>\n",
       "      <th>...</th>\n",
       "      <th>10023160000343</th>\n",
       "      <th>10023160000345</th>\n",
       "      <th>10023160000346</th>\n",
       "      <th>10023160000349</th>\n",
       "      <th>10023160000350</th>\n",
       "      <th>10023160000352</th>\n",
       "      <th>10014164400011</th>\n",
       "      <th>10023160000023</th>\n",
       "      <th>10023160000024</th>\n",
       "      <th>10023160000028</th>\n",
       "    </tr>\n",
       "  </thead>\n",
       "  <tbody>\n",
       "    <tr>\n",
       "      <th>0</th>\n",
       "      <td>2020/01/01</td>\n",
       "      <td>NaN</td>\n",
       "      <td>943.960</td>\n",
       "      <td>NaN</td>\n",
       "      <td>24203.820</td>\n",
       "      <td>NaN</td>\n",
       "      <td>4515.096</td>\n",
       "      <td>2415.337</td>\n",
       "      <td>32049.118</td>\n",
       "      <td>11100.061</td>\n",
       "      <td>...</td>\n",
       "      <td>NaN</td>\n",
       "      <td>NaN</td>\n",
       "      <td>NaN</td>\n",
       "      <td>NaN</td>\n",
       "      <td>NaN</td>\n",
       "      <td>6448.154</td>\n",
       "      <td>319990.22</td>\n",
       "      <td>3241.042</td>\n",
       "      <td>7228.847</td>\n",
       "      <td>490.567</td>\n",
       "    </tr>\n",
       "    <tr>\n",
       "      <th>1</th>\n",
       "      <td>2020/02/01</td>\n",
       "      <td>NaN</td>\n",
       "      <td>951.607</td>\n",
       "      <td>3172.237</td>\n",
       "      <td>NaN</td>\n",
       "      <td>NaN</td>\n",
       "      <td>NaN</td>\n",
       "      <td>NaN</td>\n",
       "      <td>NaN</td>\n",
       "      <td>13517.172</td>\n",
       "      <td>...</td>\n",
       "      <td>7192.481</td>\n",
       "      <td>6087.748</td>\n",
       "      <td>3418.803</td>\n",
       "      <td>NaN</td>\n",
       "      <td>NaN</td>\n",
       "      <td>6497.013</td>\n",
       "      <td>341856.32</td>\n",
       "      <td>NaN</td>\n",
       "      <td>7925.095</td>\n",
       "      <td>687.767</td>\n",
       "    </tr>\n",
       "    <tr>\n",
       "      <th>2</th>\n",
       "      <td>2020/03/01</td>\n",
       "      <td>NaN</td>\n",
       "      <td>1002.384</td>\n",
       "      <td>NaN</td>\n",
       "      <td>NaN</td>\n",
       "      <td>21127.655</td>\n",
       "      <td>NaN</td>\n",
       "      <td>NaN</td>\n",
       "      <td>34430.163</td>\n",
       "      <td>15560.190</td>\n",
       "      <td>...</td>\n",
       "      <td>7425.386</td>\n",
       "      <td>8161.105</td>\n",
       "      <td>3598.794</td>\n",
       "      <td>NaN</td>\n",
       "      <td>NaN</td>\n",
       "      <td>6545.503</td>\n",
       "      <td>357050.36</td>\n",
       "      <td>3623.238</td>\n",
       "      <td>NaN</td>\n",
       "      <td>925.205</td>\n",
       "    </tr>\n",
       "    <tr>\n",
       "      <th>3</th>\n",
       "      <td>2020/04/01</td>\n",
       "      <td>NaN</td>\n",
       "      <td>NaN</td>\n",
       "      <td>3363.291</td>\n",
       "      <td>31589.719</td>\n",
       "      <td>21756.424</td>\n",
       "      <td>5000.834</td>\n",
       "      <td>2591.190</td>\n",
       "      <td>NaN</td>\n",
       "      <td>16432.878</td>\n",
       "      <td>...</td>\n",
       "      <td>7557.746</td>\n",
       "      <td>8661.468</td>\n",
       "      <td>NaN</td>\n",
       "      <td>2803.823</td>\n",
       "      <td>8785.642</td>\n",
       "      <td>6580.769</td>\n",
       "      <td>368250.04</td>\n",
       "      <td>3844.503</td>\n",
       "      <td>8640.065</td>\n",
       "      <td>953.386</td>\n",
       "    </tr>\n",
       "    <tr>\n",
       "      <th>4</th>\n",
       "      <td>2020/05/01</td>\n",
       "      <td>NaN</td>\n",
       "      <td>NaN</td>\n",
       "      <td>3395.126</td>\n",
       "      <td>33603.535</td>\n",
       "      <td>NaN</td>\n",
       "      <td>5086.672</td>\n",
       "      <td>2654.542</td>\n",
       "      <td>NaN</td>\n",
       "      <td>16817.137</td>\n",
       "      <td>...</td>\n",
       "      <td>7668.069</td>\n",
       "      <td>9003.034</td>\n",
       "      <td>3801.965</td>\n",
       "      <td>2804.346</td>\n",
       "      <td>9028.801</td>\n",
       "      <td>6615.823</td>\n",
       "      <td>376873.24</td>\n",
       "      <td>NaN</td>\n",
       "      <td>8859.115</td>\n",
       "      <td>960.183</td>\n",
       "    </tr>\n",
       "  </tbody>\n",
       "</table>\n",
       "<p>5 rows × 397 columns</p>\n",
       "</div>"
      ],
      "text/plain": [
       "      meterNo  10023160000029   10023160000030   10023160000032   \\\n",
       "0  2020/01/01              NaN          943.960              NaN   \n",
       "1  2020/02/01              NaN          951.607         3172.237   \n",
       "2  2020/03/01              NaN         1002.384              NaN   \n",
       "3  2020/04/01              NaN              NaN         3363.291   \n",
       "4  2020/05/01              NaN              NaN         3395.126   \n",
       "\n",
       "   10023160000036   10023160000042   10023160000043   10023160000048   \\\n",
       "0        24203.820              NaN         4515.096         2415.337   \n",
       "1              NaN              NaN              NaN              NaN   \n",
       "2              NaN        21127.655              NaN              NaN   \n",
       "3        31589.719        21756.424         5000.834         2591.190   \n",
       "4        33603.535              NaN         5086.672         2654.542   \n",
       "\n",
       "   10023160000049   10023160000060   ...  10023160000343   10023160000345   \\\n",
       "0        32049.118        11100.061  ...              NaN              NaN   \n",
       "1              NaN        13517.172  ...         7192.481         6087.748   \n",
       "2        34430.163        15560.190  ...         7425.386         8161.105   \n",
       "3              NaN        16432.878  ...         7557.746         8661.468   \n",
       "4              NaN        16817.137  ...         7668.069         9003.034   \n",
       "\n",
       "   10023160000346   10023160000349   10023160000350   10023160000352   \\\n",
       "0              NaN              NaN              NaN         6448.154   \n",
       "1         3418.803              NaN              NaN         6497.013   \n",
       "2         3598.794              NaN              NaN         6545.503   \n",
       "3              NaN         2803.823         8785.642         6580.769   \n",
       "4         3801.965         2804.346         9028.801         6615.823   \n",
       "\n",
       "   10014164400011   10023160000023   10023160000024   10023160000028   \n",
       "0        319990.22         3241.042         7228.847          490.567  \n",
       "1        341856.32              NaN         7925.095          687.767  \n",
       "2        357050.36         3623.238              NaN          925.205  \n",
       "3        368250.04         3844.503         8640.065          953.386  \n",
       "4        376873.24              NaN         8859.115          960.183  \n",
       "\n",
       "[5 rows x 397 columns]"
      ]
     },
     "execution_count": 103,
     "metadata": {},
     "output_type": "execute_result"
    }
   ],
   "source": [
    "data_dianliang.head(5)"
   ]
  },
  {
   "cell_type": "code",
   "execution_count": 104,
   "metadata": {},
   "outputs": [
    {
     "name": "stdout",
     "output_type": "stream",
     "text": [
      "<class 'pandas.core.frame.DataFrame'>\n",
      "RangeIndex: 12 entries, 0 to 11\n",
      "Columns: 397 entries, meterNo to 10023160000028 \n",
      "dtypes: float64(396), object(1)\n",
      "memory usage: 37.3+ KB\n"
     ]
    }
   ],
   "source": [
    "data_dianliang.info()"
   ]
  },
  {
   "cell_type": "markdown",
   "metadata": {},
   "source": [
    "1.2、计算每一个表空值的个数"
   ]
  },
  {
   "cell_type": "code",
   "execution_count": 105,
   "metadata": {},
   "outputs": [
    {
     "data": {
      "text/html": [
       "<div>\n",
       "<style scoped>\n",
       "    .dataframe tbody tr th:only-of-type {\n",
       "        vertical-align: middle;\n",
       "    }\n",
       "\n",
       "    .dataframe tbody tr th {\n",
       "        vertical-align: top;\n",
       "    }\n",
       "\n",
       "    .dataframe thead th {\n",
       "        text-align: right;\n",
       "    }\n",
       "</style>\n",
       "<table border=\"1\" class=\"dataframe\">\n",
       "  <thead>\n",
       "    <tr style=\"text-align: right;\">\n",
       "      <th></th>\n",
       "      <th>meterNo</th>\n",
       "      <th>10023160000029</th>\n",
       "      <th>10023160000030</th>\n",
       "      <th>10023160000032</th>\n",
       "      <th>10023160000036</th>\n",
       "      <th>10023160000042</th>\n",
       "      <th>10023160000043</th>\n",
       "      <th>10023160000048</th>\n",
       "      <th>10023160000049</th>\n",
       "      <th>10023160000060</th>\n",
       "      <th>...</th>\n",
       "      <th>10023160000343</th>\n",
       "      <th>10023160000345</th>\n",
       "      <th>10023160000346</th>\n",
       "      <th>10023160000349</th>\n",
       "      <th>10023160000350</th>\n",
       "      <th>10023160000352</th>\n",
       "      <th>10014164400011</th>\n",
       "      <th>10023160000023</th>\n",
       "      <th>10023160000024</th>\n",
       "      <th>10023160000028</th>\n",
       "    </tr>\n",
       "  </thead>\n",
       "  <tbody>\n",
       "    <tr>\n",
       "      <th>0</th>\n",
       "      <td>False</td>\n",
       "      <td>True</td>\n",
       "      <td>False</td>\n",
       "      <td>True</td>\n",
       "      <td>False</td>\n",
       "      <td>True</td>\n",
       "      <td>False</td>\n",
       "      <td>False</td>\n",
       "      <td>False</td>\n",
       "      <td>False</td>\n",
       "      <td>...</td>\n",
       "      <td>True</td>\n",
       "      <td>True</td>\n",
       "      <td>True</td>\n",
       "      <td>True</td>\n",
       "      <td>True</td>\n",
       "      <td>False</td>\n",
       "      <td>False</td>\n",
       "      <td>False</td>\n",
       "      <td>False</td>\n",
       "      <td>False</td>\n",
       "    </tr>\n",
       "    <tr>\n",
       "      <th>1</th>\n",
       "      <td>False</td>\n",
       "      <td>True</td>\n",
       "      <td>False</td>\n",
       "      <td>False</td>\n",
       "      <td>True</td>\n",
       "      <td>True</td>\n",
       "      <td>True</td>\n",
       "      <td>True</td>\n",
       "      <td>True</td>\n",
       "      <td>False</td>\n",
       "      <td>...</td>\n",
       "      <td>False</td>\n",
       "      <td>False</td>\n",
       "      <td>False</td>\n",
       "      <td>True</td>\n",
       "      <td>True</td>\n",
       "      <td>False</td>\n",
       "      <td>False</td>\n",
       "      <td>True</td>\n",
       "      <td>False</td>\n",
       "      <td>False</td>\n",
       "    </tr>\n",
       "    <tr>\n",
       "      <th>2</th>\n",
       "      <td>False</td>\n",
       "      <td>True</td>\n",
       "      <td>False</td>\n",
       "      <td>True</td>\n",
       "      <td>True</td>\n",
       "      <td>False</td>\n",
       "      <td>True</td>\n",
       "      <td>True</td>\n",
       "      <td>False</td>\n",
       "      <td>False</td>\n",
       "      <td>...</td>\n",
       "      <td>False</td>\n",
       "      <td>False</td>\n",
       "      <td>False</td>\n",
       "      <td>True</td>\n",
       "      <td>True</td>\n",
       "      <td>False</td>\n",
       "      <td>False</td>\n",
       "      <td>False</td>\n",
       "      <td>True</td>\n",
       "      <td>False</td>\n",
       "    </tr>\n",
       "    <tr>\n",
       "      <th>3</th>\n",
       "      <td>False</td>\n",
       "      <td>True</td>\n",
       "      <td>True</td>\n",
       "      <td>False</td>\n",
       "      <td>False</td>\n",
       "      <td>False</td>\n",
       "      <td>False</td>\n",
       "      <td>False</td>\n",
       "      <td>True</td>\n",
       "      <td>False</td>\n",
       "      <td>...</td>\n",
       "      <td>False</td>\n",
       "      <td>False</td>\n",
       "      <td>True</td>\n",
       "      <td>False</td>\n",
       "      <td>False</td>\n",
       "      <td>False</td>\n",
       "      <td>False</td>\n",
       "      <td>False</td>\n",
       "      <td>False</td>\n",
       "      <td>False</td>\n",
       "    </tr>\n",
       "    <tr>\n",
       "      <th>4</th>\n",
       "      <td>False</td>\n",
       "      <td>True</td>\n",
       "      <td>True</td>\n",
       "      <td>False</td>\n",
       "      <td>False</td>\n",
       "      <td>True</td>\n",
       "      <td>False</td>\n",
       "      <td>False</td>\n",
       "      <td>True</td>\n",
       "      <td>False</td>\n",
       "      <td>...</td>\n",
       "      <td>False</td>\n",
       "      <td>False</td>\n",
       "      <td>False</td>\n",
       "      <td>False</td>\n",
       "      <td>False</td>\n",
       "      <td>False</td>\n",
       "      <td>False</td>\n",
       "      <td>True</td>\n",
       "      <td>False</td>\n",
       "      <td>False</td>\n",
       "    </tr>\n",
       "    <tr>\n",
       "      <th>5</th>\n",
       "      <td>False</td>\n",
       "      <td>True</td>\n",
       "      <td>True</td>\n",
       "      <td>False</td>\n",
       "      <td>False</td>\n",
       "      <td>True</td>\n",
       "      <td>False</td>\n",
       "      <td>False</td>\n",
       "      <td>False</td>\n",
       "      <td>False</td>\n",
       "      <td>...</td>\n",
       "      <td>False</td>\n",
       "      <td>False</td>\n",
       "      <td>False</td>\n",
       "      <td>False</td>\n",
       "      <td>False</td>\n",
       "      <td>False</td>\n",
       "      <td>False</td>\n",
       "      <td>True</td>\n",
       "      <td>False</td>\n",
       "      <td>True</td>\n",
       "    </tr>\n",
       "    <tr>\n",
       "      <th>6</th>\n",
       "      <td>False</td>\n",
       "      <td>True</td>\n",
       "      <td>False</td>\n",
       "      <td>True</td>\n",
       "      <td>False</td>\n",
       "      <td>True</td>\n",
       "      <td>False</td>\n",
       "      <td>False</td>\n",
       "      <td>False</td>\n",
       "      <td>False</td>\n",
       "      <td>...</td>\n",
       "      <td>False</td>\n",
       "      <td>False</td>\n",
       "      <td>False</td>\n",
       "      <td>True</td>\n",
       "      <td>False</td>\n",
       "      <td>False</td>\n",
       "      <td>False</td>\n",
       "      <td>True</td>\n",
       "      <td>False</td>\n",
       "      <td>False</td>\n",
       "    </tr>\n",
       "    <tr>\n",
       "      <th>7</th>\n",
       "      <td>False</td>\n",
       "      <td>True</td>\n",
       "      <td>False</td>\n",
       "      <td>False</td>\n",
       "      <td>False</td>\n",
       "      <td>True</td>\n",
       "      <td>False</td>\n",
       "      <td>False</td>\n",
       "      <td>False</td>\n",
       "      <td>False</td>\n",
       "      <td>...</td>\n",
       "      <td>False</td>\n",
       "      <td>False</td>\n",
       "      <td>False</td>\n",
       "      <td>False</td>\n",
       "      <td>False</td>\n",
       "      <td>False</td>\n",
       "      <td>False</td>\n",
       "      <td>False</td>\n",
       "      <td>False</td>\n",
       "      <td>False</td>\n",
       "    </tr>\n",
       "    <tr>\n",
       "      <th>8</th>\n",
       "      <td>False</td>\n",
       "      <td>True</td>\n",
       "      <td>False</td>\n",
       "      <td>False</td>\n",
       "      <td>False</td>\n",
       "      <td>True</td>\n",
       "      <td>False</td>\n",
       "      <td>False</td>\n",
       "      <td>False</td>\n",
       "      <td>False</td>\n",
       "      <td>...</td>\n",
       "      <td>False</td>\n",
       "      <td>False</td>\n",
       "      <td>False</td>\n",
       "      <td>False</td>\n",
       "      <td>False</td>\n",
       "      <td>False</td>\n",
       "      <td>False</td>\n",
       "      <td>False</td>\n",
       "      <td>False</td>\n",
       "      <td>False</td>\n",
       "    </tr>\n",
       "    <tr>\n",
       "      <th>9</th>\n",
       "      <td>False</td>\n",
       "      <td>True</td>\n",
       "      <td>False</td>\n",
       "      <td>False</td>\n",
       "      <td>False</td>\n",
       "      <td>True</td>\n",
       "      <td>True</td>\n",
       "      <td>False</td>\n",
       "      <td>False</td>\n",
       "      <td>False</td>\n",
       "      <td>...</td>\n",
       "      <td>False</td>\n",
       "      <td>False</td>\n",
       "      <td>False</td>\n",
       "      <td>True</td>\n",
       "      <td>False</td>\n",
       "      <td>False</td>\n",
       "      <td>False</td>\n",
       "      <td>False</td>\n",
       "      <td>False</td>\n",
       "      <td>False</td>\n",
       "    </tr>\n",
       "    <tr>\n",
       "      <th>10</th>\n",
       "      <td>False</td>\n",
       "      <td>False</td>\n",
       "      <td>True</td>\n",
       "      <td>True</td>\n",
       "      <td>True</td>\n",
       "      <td>True</td>\n",
       "      <td>True</td>\n",
       "      <td>False</td>\n",
       "      <td>True</td>\n",
       "      <td>False</td>\n",
       "      <td>...</td>\n",
       "      <td>False</td>\n",
       "      <td>False</td>\n",
       "      <td>False</td>\n",
       "      <td>True</td>\n",
       "      <td>True</td>\n",
       "      <td>False</td>\n",
       "      <td>False</td>\n",
       "      <td>False</td>\n",
       "      <td>True</td>\n",
       "      <td>False</td>\n",
       "    </tr>\n",
       "    <tr>\n",
       "      <th>11</th>\n",
       "      <td>False</td>\n",
       "      <td>False</td>\n",
       "      <td>False</td>\n",
       "      <td>True</td>\n",
       "      <td>True</td>\n",
       "      <td>True</td>\n",
       "      <td>True</td>\n",
       "      <td>True</td>\n",
       "      <td>False</td>\n",
       "      <td>False</td>\n",
       "      <td>...</td>\n",
       "      <td>False</td>\n",
       "      <td>False</td>\n",
       "      <td>False</td>\n",
       "      <td>True</td>\n",
       "      <td>True</td>\n",
       "      <td>False</td>\n",
       "      <td>False</td>\n",
       "      <td>False</td>\n",
       "      <td>False</td>\n",
       "      <td>False</td>\n",
       "    </tr>\n",
       "  </tbody>\n",
       "</table>\n",
       "<p>12 rows × 397 columns</p>\n",
       "</div>"
      ],
      "text/plain": [
       "    meterNo  10023160000029   10023160000030   10023160000032   \\\n",
       "0     False             True            False             True   \n",
       "1     False             True            False            False   \n",
       "2     False             True            False             True   \n",
       "3     False             True             True            False   \n",
       "4     False             True             True            False   \n",
       "5     False             True             True            False   \n",
       "6     False             True            False             True   \n",
       "7     False             True            False            False   \n",
       "8     False             True            False            False   \n",
       "9     False             True            False            False   \n",
       "10    False            False             True             True   \n",
       "11    False            False            False             True   \n",
       "\n",
       "    10023160000036   10023160000042   10023160000043   10023160000048   \\\n",
       "0             False             True            False            False   \n",
       "1              True             True             True             True   \n",
       "2              True            False             True             True   \n",
       "3             False            False            False            False   \n",
       "4             False             True            False            False   \n",
       "5             False             True            False            False   \n",
       "6             False             True            False            False   \n",
       "7             False             True            False            False   \n",
       "8             False             True            False            False   \n",
       "9             False             True             True            False   \n",
       "10             True             True             True            False   \n",
       "11             True             True             True             True   \n",
       "\n",
       "    10023160000049   10023160000060   ...  10023160000343   10023160000345   \\\n",
       "0             False            False  ...             True             True   \n",
       "1              True            False  ...            False            False   \n",
       "2             False            False  ...            False            False   \n",
       "3              True            False  ...            False            False   \n",
       "4              True            False  ...            False            False   \n",
       "5             False            False  ...            False            False   \n",
       "6             False            False  ...            False            False   \n",
       "7             False            False  ...            False            False   \n",
       "8             False            False  ...            False            False   \n",
       "9             False            False  ...            False            False   \n",
       "10             True            False  ...            False            False   \n",
       "11            False            False  ...            False            False   \n",
       "\n",
       "    10023160000346   10023160000349   10023160000350   10023160000352   \\\n",
       "0              True             True             True            False   \n",
       "1             False             True             True            False   \n",
       "2             False             True             True            False   \n",
       "3              True            False            False            False   \n",
       "4             False            False            False            False   \n",
       "5             False            False            False            False   \n",
       "6             False             True            False            False   \n",
       "7             False            False            False            False   \n",
       "8             False            False            False            False   \n",
       "9             False             True            False            False   \n",
       "10            False             True             True            False   \n",
       "11            False             True             True            False   \n",
       "\n",
       "    10014164400011   10023160000023   10023160000024   10023160000028   \n",
       "0             False            False            False            False  \n",
       "1             False             True            False            False  \n",
       "2             False            False             True            False  \n",
       "3             False            False            False            False  \n",
       "4             False             True            False            False  \n",
       "5             False             True            False             True  \n",
       "6             False             True            False            False  \n",
       "7             False            False            False            False  \n",
       "8             False            False            False            False  \n",
       "9             False            False            False            False  \n",
       "10            False            False             True            False  \n",
       "11            False            False            False            False  \n",
       "\n",
       "[12 rows x 397 columns]"
      ]
     },
     "execution_count": 105,
     "metadata": {},
     "output_type": "execute_result"
    }
   ],
   "source": [
    "data_dianliang.isnull()"
   ]
  },
  {
   "cell_type": "code",
   "execution_count": 106,
   "metadata": {},
   "outputs": [],
   "source": [
    "num_not0=data_dianliang.notnull().sum(axis=0)"
   ]
  },
  {
   "cell_type": "code",
   "execution_count": 107,
   "metadata": {},
   "outputs": [
    {
     "data": {
      "text/plain": [
       "meterNo            12\n",
       "10023160000029      2\n",
       "10023160000030      8\n",
       "10023160000032      7\n",
       "10023160000036      8\n",
       "                   ..\n",
       "10023160000352     12\n",
       "10014164400011     12\n",
       "10023160000023      8\n",
       "10023160000024     10\n",
       "10023160000028     11\n",
       "Length: 397, dtype: int64"
      ]
     },
     "execution_count": 107,
     "metadata": {},
     "output_type": "execute_result"
    }
   ],
   "source": [
    "num_not0"
   ]
  },
  {
   "cell_type": "code",
   "execution_count": 108,
   "metadata": {},
   "outputs": [
    {
     "data": {
      "text/plain": [
       "pandas.core.series.Series"
      ]
     },
     "execution_count": 108,
     "metadata": {},
     "output_type": "execute_result"
    }
   ],
   "source": [
    "type(num_not0)"
   ]
  },
  {
   "cell_type": "code",
   "execution_count": 109,
   "metadata": {},
   "outputs": [],
   "source": [
    "data_not0 = pd.DataFrame(num_not0)"
   ]
  },
  {
   "cell_type": "code",
   "execution_count": 110,
   "metadata": {},
   "outputs": [],
   "source": [
    "data_not0.reset_index(inplace=True)"
   ]
  },
  {
   "cell_type": "code",
   "execution_count": 111,
   "metadata": {},
   "outputs": [],
   "source": [
    "data_not0.columns=['meterNo','num_not0']"
   ]
  },
  {
   "cell_type": "code",
   "execution_count": 112,
   "metadata": {},
   "outputs": [],
   "source": [
    "data_not0.drop([0],axis=0,inplace=True)"
   ]
  },
  {
   "cell_type": "code",
   "execution_count": 113,
   "metadata": {},
   "outputs": [
    {
     "data": {
      "text/html": [
       "<div>\n",
       "<style scoped>\n",
       "    .dataframe tbody tr th:only-of-type {\n",
       "        vertical-align: middle;\n",
       "    }\n",
       "\n",
       "    .dataframe tbody tr th {\n",
       "        vertical-align: top;\n",
       "    }\n",
       "\n",
       "    .dataframe thead th {\n",
       "        text-align: right;\n",
       "    }\n",
       "</style>\n",
       "<table border=\"1\" class=\"dataframe\">\n",
       "  <thead>\n",
       "    <tr style=\"text-align: right;\">\n",
       "      <th></th>\n",
       "      <th>meterNo</th>\n",
       "      <th>num_not0</th>\n",
       "    </tr>\n",
       "  </thead>\n",
       "  <tbody>\n",
       "    <tr>\n",
       "      <th>1</th>\n",
       "      <td>10023160000029</td>\n",
       "      <td>2</td>\n",
       "    </tr>\n",
       "    <tr>\n",
       "      <th>2</th>\n",
       "      <td>10023160000030</td>\n",
       "      <td>8</td>\n",
       "    </tr>\n",
       "    <tr>\n",
       "      <th>3</th>\n",
       "      <td>10023160000032</td>\n",
       "      <td>7</td>\n",
       "    </tr>\n",
       "    <tr>\n",
       "      <th>4</th>\n",
       "      <td>10023160000036</td>\n",
       "      <td>8</td>\n",
       "    </tr>\n",
       "    <tr>\n",
       "      <th>5</th>\n",
       "      <td>10023160000042</td>\n",
       "      <td>2</td>\n",
       "    </tr>\n",
       "  </tbody>\n",
       "</table>\n",
       "</div>"
      ],
      "text/plain": [
       "           meterNo  num_not0\n",
       "1  10023160000029          2\n",
       "2  10023160000030          8\n",
       "3  10023160000032          7\n",
       "4  10023160000036          8\n",
       "5  10023160000042          2"
      ]
     },
     "execution_count": 113,
     "metadata": {},
     "output_type": "execute_result"
    }
   ],
   "source": [
    "data_not0.head(5)"
   ]
  },
  {
   "cell_type": "markdown",
   "metadata": {},
   "source": [
    "2、计算总的用电量"
   ]
  },
  {
   "cell_type": "code",
   "execution_count": 114,
   "metadata": {},
   "outputs": [],
   "source": [
    "data_all_dianliang = data_dianliang.copy(deep=1)"
   ]
  },
  {
   "cell_type": "code",
   "execution_count": 115,
   "metadata": {},
   "outputs": [],
   "source": [
    "data_all_dianliang=data_all_dianliang.fillna(0.0)"
   ]
  },
  {
   "cell_type": "code",
   "execution_count": 116,
   "metadata": {},
   "outputs": [],
   "source": [
    "sum_all=data_all_dianliang.sum(axis=0)"
   ]
  },
  {
   "cell_type": "code",
   "execution_count": 117,
   "metadata": {},
   "outputs": [
    {
     "data": {
      "text/plain": [
       "pandas.core.series.Series"
      ]
     },
     "execution_count": 117,
     "metadata": {},
     "output_type": "execute_result"
    }
   ],
   "source": [
    "type(sum_all)"
   ]
  },
  {
   "cell_type": "code",
   "execution_count": 118,
   "metadata": {},
   "outputs": [],
   "source": [
    "data_all_dianliang = pd.DataFrame(sum_all)"
   ]
  },
  {
   "cell_type": "code",
   "execution_count": 119,
   "metadata": {},
   "outputs": [],
   "source": [
    "data_all_dianliang=data_all_dianliang.reset_index()"
   ]
  },
  {
   "cell_type": "code",
   "execution_count": 120,
   "metadata": {},
   "outputs": [],
   "source": [
    "data_all_dianliang.columns=['meterNo','sum_all']"
   ]
  },
  {
   "cell_type": "code",
   "execution_count": 121,
   "metadata": {},
   "outputs": [
    {
     "data": {
      "text/html": [
       "<div>\n",
       "<style scoped>\n",
       "    .dataframe tbody tr th:only-of-type {\n",
       "        vertical-align: middle;\n",
       "    }\n",
       "\n",
       "    .dataframe tbody tr th {\n",
       "        vertical-align: top;\n",
       "    }\n",
       "\n",
       "    .dataframe thead th {\n",
       "        text-align: right;\n",
       "    }\n",
       "</style>\n",
       "<table border=\"1\" class=\"dataframe\">\n",
       "  <thead>\n",
       "    <tr style=\"text-align: right;\">\n",
       "      <th></th>\n",
       "      <th>meterNo</th>\n",
       "      <th>sum_all</th>\n",
       "    </tr>\n",
       "  </thead>\n",
       "  <tbody>\n",
       "    <tr>\n",
       "      <th>0</th>\n",
       "      <td>meterNo</td>\n",
       "      <td>2020/01/012020/02/012020/03/012020/04/012020/0...</td>\n",
       "    </tr>\n",
       "    <tr>\n",
       "      <th>1</th>\n",
       "      <td>10023160000029</td>\n",
       "      <td>58869.611</td>\n",
       "    </tr>\n",
       "    <tr>\n",
       "      <th>2</th>\n",
       "      <td>10023160000030</td>\n",
       "      <td>8161.616</td>\n",
       "    </tr>\n",
       "    <tr>\n",
       "      <th>3</th>\n",
       "      <td>10023160000032</td>\n",
       "      <td>24299.114</td>\n",
       "    </tr>\n",
       "    <tr>\n",
       "      <th>4</th>\n",
       "      <td>10023160000036</td>\n",
       "      <td>298325.673</td>\n",
       "    </tr>\n",
       "  </tbody>\n",
       "</table>\n",
       "</div>"
      ],
      "text/plain": [
       "           meterNo                                            sum_all\n",
       "0          meterNo  2020/01/012020/02/012020/03/012020/04/012020/0...\n",
       "1  10023160000029                                           58869.611\n",
       "2  10023160000030                                            8161.616\n",
       "3  10023160000032                                           24299.114\n",
       "4  10023160000036                                          298325.673"
      ]
     },
     "execution_count": 121,
     "metadata": {},
     "output_type": "execute_result"
    }
   ],
   "source": [
    "data_all_dianliang.head(5)"
   ]
  },
  {
   "cell_type": "code",
   "execution_count": 122,
   "metadata": {},
   "outputs": [],
   "source": [
    "data_all_dianliang.drop([0],axis=0,inplace=True)"
   ]
  },
  {
   "cell_type": "code",
   "execution_count": 123,
   "metadata": {},
   "outputs": [
    {
     "data": {
      "text/html": [
       "<div>\n",
       "<style scoped>\n",
       "    .dataframe tbody tr th:only-of-type {\n",
       "        vertical-align: middle;\n",
       "    }\n",
       "\n",
       "    .dataframe tbody tr th {\n",
       "        vertical-align: top;\n",
       "    }\n",
       "\n",
       "    .dataframe thead th {\n",
       "        text-align: right;\n",
       "    }\n",
       "</style>\n",
       "<table border=\"1\" class=\"dataframe\">\n",
       "  <thead>\n",
       "    <tr style=\"text-align: right;\">\n",
       "      <th></th>\n",
       "      <th>meterNo</th>\n",
       "      <th>sum_all</th>\n",
       "    </tr>\n",
       "  </thead>\n",
       "  <tbody>\n",
       "    <tr>\n",
       "      <th>1</th>\n",
       "      <td>10023160000029</td>\n",
       "      <td>58869.611</td>\n",
       "    </tr>\n",
       "    <tr>\n",
       "      <th>2</th>\n",
       "      <td>10023160000030</td>\n",
       "      <td>8161.616</td>\n",
       "    </tr>\n",
       "    <tr>\n",
       "      <th>3</th>\n",
       "      <td>10023160000032</td>\n",
       "      <td>24299.114</td>\n",
       "    </tr>\n",
       "    <tr>\n",
       "      <th>4</th>\n",
       "      <td>10023160000036</td>\n",
       "      <td>298325.673</td>\n",
       "    </tr>\n",
       "    <tr>\n",
       "      <th>5</th>\n",
       "      <td>10023160000042</td>\n",
       "      <td>42884.079</td>\n",
       "    </tr>\n",
       "  </tbody>\n",
       "</table>\n",
       "</div>"
      ],
      "text/plain": [
       "           meterNo     sum_all\n",
       "1  10023160000029    58869.611\n",
       "2  10023160000030     8161.616\n",
       "3  10023160000032    24299.114\n",
       "4  10023160000036   298325.673\n",
       "5  10023160000042    42884.079"
      ]
     },
     "execution_count": 123,
     "metadata": {},
     "output_type": "execute_result"
    }
   ],
   "source": [
    "data_all_dianliang.head(5)"
   ]
  },
  {
   "cell_type": "markdown",
   "metadata": {},
   "source": [
    "3、合并两张表格"
   ]
  },
  {
   "cell_type": "code",
   "execution_count": 124,
   "metadata": {},
   "outputs": [
    {
     "data": {
      "text/html": [
       "<div>\n",
       "<style scoped>\n",
       "    .dataframe tbody tr th:only-of-type {\n",
       "        vertical-align: middle;\n",
       "    }\n",
       "\n",
       "    .dataframe tbody tr th {\n",
       "        vertical-align: top;\n",
       "    }\n",
       "\n",
       "    .dataframe thead th {\n",
       "        text-align: right;\n",
       "    }\n",
       "</style>\n",
       "<table border=\"1\" class=\"dataframe\">\n",
       "  <thead>\n",
       "    <tr style=\"text-align: right;\">\n",
       "      <th></th>\n",
       "      <th>meterNo</th>\n",
       "      <th>num_not0</th>\n",
       "    </tr>\n",
       "  </thead>\n",
       "  <tbody>\n",
       "    <tr>\n",
       "      <th>1</th>\n",
       "      <td>10023160000029</td>\n",
       "      <td>2</td>\n",
       "    </tr>\n",
       "    <tr>\n",
       "      <th>2</th>\n",
       "      <td>10023160000030</td>\n",
       "      <td>8</td>\n",
       "    </tr>\n",
       "    <tr>\n",
       "      <th>3</th>\n",
       "      <td>10023160000032</td>\n",
       "      <td>7</td>\n",
       "    </tr>\n",
       "    <tr>\n",
       "      <th>4</th>\n",
       "      <td>10023160000036</td>\n",
       "      <td>8</td>\n",
       "    </tr>\n",
       "    <tr>\n",
       "      <th>5</th>\n",
       "      <td>10023160000042</td>\n",
       "      <td>2</td>\n",
       "    </tr>\n",
       "  </tbody>\n",
       "</table>\n",
       "</div>"
      ],
      "text/plain": [
       "           meterNo  num_not0\n",
       "1  10023160000029          2\n",
       "2  10023160000030          8\n",
       "3  10023160000032          7\n",
       "4  10023160000036          8\n",
       "5  10023160000042          2"
      ]
     },
     "execution_count": 124,
     "metadata": {},
     "output_type": "execute_result"
    }
   ],
   "source": [
    "data_not0.head(5)"
   ]
  },
  {
   "cell_type": "code",
   "execution_count": 125,
   "metadata": {},
   "outputs": [
    {
     "data": {
      "text/html": [
       "<div>\n",
       "<style scoped>\n",
       "    .dataframe tbody tr th:only-of-type {\n",
       "        vertical-align: middle;\n",
       "    }\n",
       "\n",
       "    .dataframe tbody tr th {\n",
       "        vertical-align: top;\n",
       "    }\n",
       "\n",
       "    .dataframe thead th {\n",
       "        text-align: right;\n",
       "    }\n",
       "</style>\n",
       "<table border=\"1\" class=\"dataframe\">\n",
       "  <thead>\n",
       "    <tr style=\"text-align: right;\">\n",
       "      <th></th>\n",
       "      <th>meterNo</th>\n",
       "      <th>sum_all</th>\n",
       "    </tr>\n",
       "  </thead>\n",
       "  <tbody>\n",
       "    <tr>\n",
       "      <th>1</th>\n",
       "      <td>10023160000029</td>\n",
       "      <td>58869.611</td>\n",
       "    </tr>\n",
       "    <tr>\n",
       "      <th>2</th>\n",
       "      <td>10023160000030</td>\n",
       "      <td>8161.616</td>\n",
       "    </tr>\n",
       "    <tr>\n",
       "      <th>3</th>\n",
       "      <td>10023160000032</td>\n",
       "      <td>24299.114</td>\n",
       "    </tr>\n",
       "    <tr>\n",
       "      <th>4</th>\n",
       "      <td>10023160000036</td>\n",
       "      <td>298325.673</td>\n",
       "    </tr>\n",
       "    <tr>\n",
       "      <th>5</th>\n",
       "      <td>10023160000042</td>\n",
       "      <td>42884.079</td>\n",
       "    </tr>\n",
       "  </tbody>\n",
       "</table>\n",
       "</div>"
      ],
      "text/plain": [
       "           meterNo     sum_all\n",
       "1  10023160000029    58869.611\n",
       "2  10023160000030     8161.616\n",
       "3  10023160000032    24299.114\n",
       "4  10023160000036   298325.673\n",
       "5  10023160000042    42884.079"
      ]
     },
     "execution_count": 125,
     "metadata": {},
     "output_type": "execute_result"
    }
   ],
   "source": [
    "data_all_dianliang.head(5)"
   ]
  },
  {
   "cell_type": "code",
   "execution_count": 126,
   "metadata": {},
   "outputs": [],
   "source": [
    "data_fina = data_not0.merge(data_all_dianliang, how='inner', on='meterNo')"
   ]
  },
  {
   "cell_type": "code",
   "execution_count": 127,
   "metadata": {},
   "outputs": [
    {
     "data": {
      "text/html": [
       "<div>\n",
       "<style scoped>\n",
       "    .dataframe tbody tr th:only-of-type {\n",
       "        vertical-align: middle;\n",
       "    }\n",
       "\n",
       "    .dataframe tbody tr th {\n",
       "        vertical-align: top;\n",
       "    }\n",
       "\n",
       "    .dataframe thead th {\n",
       "        text-align: right;\n",
       "    }\n",
       "</style>\n",
       "<table border=\"1\" class=\"dataframe\">\n",
       "  <thead>\n",
       "    <tr style=\"text-align: right;\">\n",
       "      <th></th>\n",
       "      <th>meterNo</th>\n",
       "      <th>num_not0</th>\n",
       "      <th>sum_all</th>\n",
       "    </tr>\n",
       "  </thead>\n",
       "  <tbody>\n",
       "    <tr>\n",
       "      <th>0</th>\n",
       "      <td>10023160000029</td>\n",
       "      <td>2</td>\n",
       "      <td>58869.611</td>\n",
       "    </tr>\n",
       "    <tr>\n",
       "      <th>1</th>\n",
       "      <td>10023160000030</td>\n",
       "      <td>8</td>\n",
       "      <td>8161.616</td>\n",
       "    </tr>\n",
       "    <tr>\n",
       "      <th>2</th>\n",
       "      <td>10023160000032</td>\n",
       "      <td>7</td>\n",
       "      <td>24299.114</td>\n",
       "    </tr>\n",
       "    <tr>\n",
       "      <th>3</th>\n",
       "      <td>10023160000036</td>\n",
       "      <td>8</td>\n",
       "      <td>298325.673</td>\n",
       "    </tr>\n",
       "    <tr>\n",
       "      <th>4</th>\n",
       "      <td>10023160000042</td>\n",
       "      <td>2</td>\n",
       "      <td>42884.079</td>\n",
       "    </tr>\n",
       "  </tbody>\n",
       "</table>\n",
       "</div>"
      ],
      "text/plain": [
       "           meterNo  num_not0     sum_all\n",
       "0  10023160000029          2   58869.611\n",
       "1  10023160000030          8    8161.616\n",
       "2  10023160000032          7   24299.114\n",
       "3  10023160000036          8  298325.673\n",
       "4  10023160000042          2   42884.079"
      ]
     },
     "execution_count": 127,
     "metadata": {},
     "output_type": "execute_result"
    }
   ],
   "source": [
    "data_fina.head(5)"
   ]
  },
  {
   "cell_type": "code",
   "execution_count": 128,
   "metadata": {},
   "outputs": [],
   "source": [
    "data_fina['aver_month']=data_fina['sum_all']/data_fina['num_not0']"
   ]
  },
  {
   "cell_type": "markdown",
   "metadata": {},
   "source": [
    "4、初次尝试应用孤立森林"
   ]
  },
  {
   "cell_type": "code",
   "execution_count": 129,
   "metadata": {},
   "outputs": [],
   "source": [
    "data_guli=data_fina.copy(deep=1)"
   ]
  },
  {
   "cell_type": "code",
   "execution_count": 130,
   "metadata": {},
   "outputs": [],
   "source": [
    "import plotly.express as px \n",
    "# from sklearn.datasets import load_iris \n",
    "from sklearn.ensemble import IsolationForest"
   ]
  },
  {
   "cell_type": "code",
   "execution_count": 131,
   "metadata": {},
   "outputs": [],
   "source": [
    "data_guli=data_guli.set_index('meterNo')"
   ]
  },
  {
   "cell_type": "code",
   "execution_count": 132,
   "metadata": {},
   "outputs": [],
   "source": [
    "data_guli_values = data_guli.copy(deep=1)"
   ]
  },
  {
   "cell_type": "code",
   "execution_count": 133,
   "metadata": {},
   "outputs": [
    {
     "data": {
      "text/html": [
       "<div>\n",
       "<style scoped>\n",
       "    .dataframe tbody tr th:only-of-type {\n",
       "        vertical-align: middle;\n",
       "    }\n",
       "\n",
       "    .dataframe tbody tr th {\n",
       "        vertical-align: top;\n",
       "    }\n",
       "\n",
       "    .dataframe thead th {\n",
       "        text-align: right;\n",
       "    }\n",
       "</style>\n",
       "<table border=\"1\" class=\"dataframe\">\n",
       "  <thead>\n",
       "    <tr style=\"text-align: right;\">\n",
       "      <th></th>\n",
       "      <th>num_not0</th>\n",
       "      <th>sum_all</th>\n",
       "      <th>aver_month</th>\n",
       "    </tr>\n",
       "    <tr>\n",
       "      <th>meterNo</th>\n",
       "      <th></th>\n",
       "      <th></th>\n",
       "      <th></th>\n",
       "    </tr>\n",
       "  </thead>\n",
       "  <tbody>\n",
       "    <tr>\n",
       "      <th>10023160000029</th>\n",
       "      <td>2</td>\n",
       "      <td>58869.611</td>\n",
       "      <td>29434.8055</td>\n",
       "    </tr>\n",
       "    <tr>\n",
       "      <th>10023160000030</th>\n",
       "      <td>8</td>\n",
       "      <td>8161.616</td>\n",
       "      <td>1020.202</td>\n",
       "    </tr>\n",
       "    <tr>\n",
       "      <th>10023160000032</th>\n",
       "      <td>7</td>\n",
       "      <td>24299.114</td>\n",
       "      <td>3471.302</td>\n",
       "    </tr>\n",
       "    <tr>\n",
       "      <th>10023160000036</th>\n",
       "      <td>8</td>\n",
       "      <td>298325.673</td>\n",
       "      <td>37290.709125</td>\n",
       "    </tr>\n",
       "    <tr>\n",
       "      <th>10023160000042</th>\n",
       "      <td>2</td>\n",
       "      <td>42884.079</td>\n",
       "      <td>21442.0395</td>\n",
       "    </tr>\n",
       "  </tbody>\n",
       "</table>\n",
       "</div>"
      ],
      "text/plain": [
       "                 num_not0     sum_all    aver_month\n",
       "meterNo                                            \n",
       "10023160000029          2   58869.611    29434.8055\n",
       "10023160000030          8    8161.616      1020.202\n",
       "10023160000032          7   24299.114      3471.302\n",
       "10023160000036          8  298325.673  37290.709125\n",
       "10023160000042          2   42884.079    21442.0395"
      ]
     },
     "execution_count": 133,
     "metadata": {},
     "output_type": "execute_result"
    }
   ],
   "source": [
    "data_guli.head(5)"
   ]
  },
  {
   "cell_type": "code",
   "execution_count": 134,
   "metadata": {},
   "outputs": [],
   "source": [
    "# 模型训练\n",
    "iforest = IsolationForest(n_estimators=100, max_samples='auto',  \n",
    "                          contamination=0.05, max_features=3,  \n",
    "                          bootstrap=False, n_jobs=-1, random_state=1)"
   ]
  },
  {
   "cell_type": "code",
   "execution_count": 135,
   "metadata": {},
   "outputs": [],
   "source": [
    "#  fit_predict 函数 训练和预测一起 可以得到模型是否异常的判断，-1为异常，1为正常\n",
    "data_guli['label'] = iforest.fit_predict(data_guli_values) "
   ]
  },
  {
   "cell_type": "code",
   "execution_count": 136,
   "metadata": {},
   "outputs": [],
   "source": [
    "# 预测 decision_function 可以得出 异常评分\n",
    "data_guli['scores'] = iforest.decision_function(data_guli_values)"
   ]
  },
  {
   "cell_type": "code",
   "execution_count": 137,
   "metadata": {},
   "outputs": [
    {
     "data": {
      "text/html": [
       "<div>\n",
       "<style scoped>\n",
       "    .dataframe tbody tr th:only-of-type {\n",
       "        vertical-align: middle;\n",
       "    }\n",
       "\n",
       "    .dataframe tbody tr th {\n",
       "        vertical-align: top;\n",
       "    }\n",
       "\n",
       "    .dataframe thead th {\n",
       "        text-align: right;\n",
       "    }\n",
       "</style>\n",
       "<table border=\"1\" class=\"dataframe\">\n",
       "  <thead>\n",
       "    <tr style=\"text-align: right;\">\n",
       "      <th></th>\n",
       "      <th>num_not0</th>\n",
       "      <th>sum_all</th>\n",
       "      <th>aver_month</th>\n",
       "      <th>label</th>\n",
       "      <th>scores</th>\n",
       "    </tr>\n",
       "    <tr>\n",
       "      <th>meterNo</th>\n",
       "      <th></th>\n",
       "      <th></th>\n",
       "      <th></th>\n",
       "      <th></th>\n",
       "      <th></th>\n",
       "    </tr>\n",
       "  </thead>\n",
       "  <tbody>\n",
       "    <tr>\n",
       "      <th>10023160000029</th>\n",
       "      <td>2</td>\n",
       "      <td>58869.611</td>\n",
       "      <td>29434.8055</td>\n",
       "      <td>-1</td>\n",
       "      <td>-0.030422</td>\n",
       "    </tr>\n",
       "    <tr>\n",
       "      <th>10023160000030</th>\n",
       "      <td>8</td>\n",
       "      <td>8161.616</td>\n",
       "      <td>1020.202</td>\n",
       "      <td>1</td>\n",
       "      <td>0.164471</td>\n",
       "    </tr>\n",
       "    <tr>\n",
       "      <th>10023160000032</th>\n",
       "      <td>7</td>\n",
       "      <td>24299.114</td>\n",
       "      <td>3471.302</td>\n",
       "      <td>1</td>\n",
       "      <td>0.167411</td>\n",
       "    </tr>\n",
       "    <tr>\n",
       "      <th>10023160000036</th>\n",
       "      <td>8</td>\n",
       "      <td>298325.673</td>\n",
       "      <td>37290.709125</td>\n",
       "      <td>1</td>\n",
       "      <td>0.005363</td>\n",
       "    </tr>\n",
       "    <tr>\n",
       "      <th>10023160000042</th>\n",
       "      <td>2</td>\n",
       "      <td>42884.079</td>\n",
       "      <td>21442.0395</td>\n",
       "      <td>-1</td>\n",
       "      <td>-0.003388</td>\n",
       "    </tr>\n",
       "  </tbody>\n",
       "</table>\n",
       "</div>"
      ],
      "text/plain": [
       "                 num_not0     sum_all    aver_month  label    scores\n",
       "meterNo                                                             \n",
       "10023160000029          2   58869.611    29434.8055     -1 -0.030422\n",
       "10023160000030          8    8161.616      1020.202      1  0.164471\n",
       "10023160000032          7   24299.114      3471.302      1  0.167411\n",
       "10023160000036          8  298325.673  37290.709125      1  0.005363\n",
       "10023160000042          2   42884.079    21442.0395     -1 -0.003388"
      ]
     },
     "execution_count": 137,
     "metadata": {},
     "output_type": "execute_result"
    }
   ],
   "source": [
    "data_guli.head(5)"
   ]
  },
  {
   "cell_type": "code",
   "execution_count": 138,
   "metadata": {},
   "outputs": [
    {
     "data": {
      "text/html": [
       "<div>\n",
       "<style scoped>\n",
       "    .dataframe tbody tr th:only-of-type {\n",
       "        vertical-align: middle;\n",
       "    }\n",
       "\n",
       "    .dataframe tbody tr th {\n",
       "        vertical-align: top;\n",
       "    }\n",
       "\n",
       "    .dataframe thead th {\n",
       "        text-align: right;\n",
       "    }\n",
       "</style>\n",
       "<table border=\"1\" class=\"dataframe\">\n",
       "  <thead>\n",
       "    <tr style=\"text-align: right;\">\n",
       "      <th></th>\n",
       "      <th>num_not0</th>\n",
       "      <th>sum_all</th>\n",
       "      <th>aver_month</th>\n",
       "      <th>label</th>\n",
       "      <th>scores</th>\n",
       "    </tr>\n",
       "    <tr>\n",
       "      <th>meterNo</th>\n",
       "      <th></th>\n",
       "      <th></th>\n",
       "      <th></th>\n",
       "      <th></th>\n",
       "      <th></th>\n",
       "    </tr>\n",
       "  </thead>\n",
       "  <tbody>\n",
       "    <tr>\n",
       "      <th>10023160000029</th>\n",
       "      <td>2</td>\n",
       "      <td>58869.611</td>\n",
       "      <td>29434.8055</td>\n",
       "      <td>-1</td>\n",
       "      <td>-0.030422</td>\n",
       "    </tr>\n",
       "    <tr>\n",
       "      <th>10023160000042</th>\n",
       "      <td>2</td>\n",
       "      <td>42884.079</td>\n",
       "      <td>21442.0395</td>\n",
       "      <td>-1</td>\n",
       "      <td>-0.003388</td>\n",
       "    </tr>\n",
       "    <tr>\n",
       "      <th>10023160000068</th>\n",
       "      <td>7</td>\n",
       "      <td>567601.566</td>\n",
       "      <td>81085.938</td>\n",
       "      <td>-1</td>\n",
       "      <td>-0.157761</td>\n",
       "    </tr>\n",
       "    <tr>\n",
       "      <th>10023160000072</th>\n",
       "      <td>5</td>\n",
       "      <td>176635.878</td>\n",
       "      <td>35327.1756</td>\n",
       "      <td>-1</td>\n",
       "      <td>-0.018650</td>\n",
       "    </tr>\n",
       "    <tr>\n",
       "      <th>10023160000097</th>\n",
       "      <td>2</td>\n",
       "      <td>38528.636</td>\n",
       "      <td>19264.318</td>\n",
       "      <td>-1</td>\n",
       "      <td>-0.005428</td>\n",
       "    </tr>\n",
       "    <tr>\n",
       "      <th>10023160000107</th>\n",
       "      <td>11</td>\n",
       "      <td>538452.652</td>\n",
       "      <td>48950.241091</td>\n",
       "      <td>-1</td>\n",
       "      <td>-0.095306</td>\n",
       "    </tr>\n",
       "    <tr>\n",
       "      <th>10023160000114</th>\n",
       "      <td>1</td>\n",
       "      <td>88189.492</td>\n",
       "      <td>88189.492</td>\n",
       "      <td>-1</td>\n",
       "      <td>-0.177929</td>\n",
       "    </tr>\n",
       "    <tr>\n",
       "      <th>10023160000115</th>\n",
       "      <td>12</td>\n",
       "      <td>536078.383</td>\n",
       "      <td>44673.198583</td>\n",
       "      <td>-1</td>\n",
       "      <td>-0.072919</td>\n",
       "    </tr>\n",
       "    <tr>\n",
       "      <th>10023160000136</th>\n",
       "      <td>7</td>\n",
       "      <td>261339.507</td>\n",
       "      <td>37334.215286</td>\n",
       "      <td>-1</td>\n",
       "      <td>-0.004124</td>\n",
       "    </tr>\n",
       "    <tr>\n",
       "      <th>10023160000180</th>\n",
       "      <td>1</td>\n",
       "      <td>155.179</td>\n",
       "      <td>155.179</td>\n",
       "      <td>-1</td>\n",
       "      <td>-0.005502</td>\n",
       "    </tr>\n",
       "    <tr>\n",
       "      <th>10023160000208</th>\n",
       "      <td>9</td>\n",
       "      <td>341376.39</td>\n",
       "      <td>37930.71</td>\n",
       "      <td>-1</td>\n",
       "      <td>-0.015474</td>\n",
       "    </tr>\n",
       "    <tr>\n",
       "      <th>10023160000230</th>\n",
       "      <td>2</td>\n",
       "      <td>66909.938</td>\n",
       "      <td>33454.969</td>\n",
       "      <td>-1</td>\n",
       "      <td>-0.050155</td>\n",
       "    </tr>\n",
       "    <tr>\n",
       "      <th>10023160000234</th>\n",
       "      <td>1</td>\n",
       "      <td>21.216</td>\n",
       "      <td>21.216</td>\n",
       "      <td>-1</td>\n",
       "      <td>-0.009520</td>\n",
       "    </tr>\n",
       "    <tr>\n",
       "      <th>10023160000249</th>\n",
       "      <td>4</td>\n",
       "      <td>271361.094</td>\n",
       "      <td>67840.2735</td>\n",
       "      <td>-1</td>\n",
       "      <td>-0.118756</td>\n",
       "    </tr>\n",
       "    <tr>\n",
       "      <th>10023160000281</th>\n",
       "      <td>10</td>\n",
       "      <td>1042762.464</td>\n",
       "      <td>104276.2464</td>\n",
       "      <td>-1</td>\n",
       "      <td>-0.197071</td>\n",
       "    </tr>\n",
       "    <tr>\n",
       "      <th>10023160000282</th>\n",
       "      <td>1</td>\n",
       "      <td>9571.127</td>\n",
       "      <td>9571.127</td>\n",
       "      <td>-1</td>\n",
       "      <td>-0.027307</td>\n",
       "    </tr>\n",
       "    <tr>\n",
       "      <th>10023160000283</th>\n",
       "      <td>1</td>\n",
       "      <td>4478.684</td>\n",
       "      <td>4478.684</td>\n",
       "      <td>-1</td>\n",
       "      <td>-0.002869</td>\n",
       "    </tr>\n",
       "    <tr>\n",
       "      <th>10023160000312</th>\n",
       "      <td>12</td>\n",
       "      <td>385383.042</td>\n",
       "      <td>32115.2535</td>\n",
       "      <td>-1</td>\n",
       "      <td>-0.005135</td>\n",
       "    </tr>\n",
       "    <tr>\n",
       "      <th>10023160000313</th>\n",
       "      <td>12</td>\n",
       "      <td>508393.788</td>\n",
       "      <td>42366.149</td>\n",
       "      <td>-1</td>\n",
       "      <td>-0.059879</td>\n",
       "    </tr>\n",
       "    <tr>\n",
       "      <th>10014164400011</th>\n",
       "      <td>12</td>\n",
       "      <td>4633036.5</td>\n",
       "      <td>386086.375</td>\n",
       "      <td>-1</td>\n",
       "      <td>-0.276973</td>\n",
       "    </tr>\n",
       "  </tbody>\n",
       "</table>\n",
       "</div>"
      ],
      "text/plain": [
       "                 num_not0      sum_all    aver_month  label    scores\n",
       "meterNo                                                              \n",
       "10023160000029          2    58869.611    29434.8055     -1 -0.030422\n",
       "10023160000042          2    42884.079    21442.0395     -1 -0.003388\n",
       "10023160000068          7   567601.566     81085.938     -1 -0.157761\n",
       "10023160000072          5   176635.878    35327.1756     -1 -0.018650\n",
       "10023160000097          2    38528.636     19264.318     -1 -0.005428\n",
       "10023160000107         11   538452.652  48950.241091     -1 -0.095306\n",
       "10023160000114          1    88189.492     88189.492     -1 -0.177929\n",
       "10023160000115         12   536078.383  44673.198583     -1 -0.072919\n",
       "10023160000136          7   261339.507  37334.215286     -1 -0.004124\n",
       "10023160000180          1      155.179       155.179     -1 -0.005502\n",
       "10023160000208          9    341376.39      37930.71     -1 -0.015474\n",
       "10023160000230          2    66909.938     33454.969     -1 -0.050155\n",
       "10023160000234          1       21.216        21.216     -1 -0.009520\n",
       "10023160000249          4   271361.094    67840.2735     -1 -0.118756\n",
       "10023160000281         10  1042762.464   104276.2464     -1 -0.197071\n",
       "10023160000282          1     9571.127      9571.127     -1 -0.027307\n",
       "10023160000283          1     4478.684      4478.684     -1 -0.002869\n",
       "10023160000312         12   385383.042    32115.2535     -1 -0.005135\n",
       "10023160000313         12   508393.788     42366.149     -1 -0.059879\n",
       "10014164400011         12    4633036.5    386086.375     -1 -0.276973"
      ]
     },
     "execution_count": 138,
     "metadata": {},
     "output_type": "execute_result"
    }
   ],
   "source": [
    "data_guli[data_guli.label==-1]"
   ]
  },
  {
   "cell_type": "code",
   "execution_count": 139,
   "metadata": {},
   "outputs": [
    {
     "data": {
      "application/vnd.plotly.v1+json": {
       "config": {
        "plotlyServerURL": "https://plot.ly"
       },
       "data": [
        {
         "alignmentgroup": "True",
         "bingroup": "x",
         "hovertemplate": "anomaly=outlier<br>scores=%{x}<br>count=%{y}<extra></extra>",
         "legendgroup": "outlier",
         "marker": {
          "color": "#636efa"
         },
         "name": "outlier",
         "offsetgroup": "outlier",
         "orientation": "v",
         "showlegend": true,
         "type": "histogram",
         "x": [
          -0.030421532906296567,
          -0.003387697535341072,
          -0.1577608870151107,
          -0.018650204729239728,
          -0.005428064825633405,
          -0.09530645794318149,
          -0.17792939622373727,
          -0.07291945779318243,
          -0.004124351500091383,
          -0.005501909574215591,
          -0.01547361200366193,
          -0.05015450650668429,
          -0.009519823504254177,
          -0.11875562221672453,
          -0.19707070553349915,
          -0.027306942800770728,
          -0.0028688813532082857,
          -0.005134741581077629,
          -0.05987889964949811,
          -0.27697329950196814
         ],
         "xaxis": "x",
         "yaxis": "y"
        },
        {
         "alignmentgroup": "True",
         "bingroup": "x",
         "hovertemplate": "anomaly=inlier<br>scores=%{x}<br>count=%{y}<extra></extra>",
         "legendgroup": "inlier",
         "marker": {
          "color": "#EF553B"
         },
         "name": "inlier",
         "offsetgroup": "inlier",
         "orientation": "v",
         "showlegend": true,
         "type": "histogram",
         "x": [
          0.16447145227217047,
          0.1674111141438983,
          0.005362690349787647,
          0.15956118950280412,
          0.1854181968947048,
          0.014041665928408942,
          0.12147798397852438,
          0.02184076204598351,
          0.22169130868034337,
          0.2240180996342312,
          0.13910337334877565,
          0.20036023999229663,
          0.22370024742663758,
          0.1932970748615121,
          0.22404201814724617,
          0.18247651939503462,
          0.18957985442410047,
          0.22973131444758854,
          0.23169843726262052,
          0.2247310356217821,
          0.2351716642548103,
          0.22411993804458674,
          0.18609319344309294,
          0.18120889874661983,
          0.228644333942713,
          0.1984947801180335,
          0.22162773023441684,
          0.14185709645454997,
          0.23006435878054593,
          0.2351716642548103,
          0.22169130868034337,
          0.2212322842419866,
          0.22394165340750832,
          0.21022279990489096,
          0.22484990985488468,
          0.22624564290076293,
          0.2337879035886517,
          0.2200424690244842,
          0.2234339303636092,
          0.21727788111008217,
          0.21034854134718461,
          0.22484990985488468,
          0.22697677023496698,
          0.22664928886243507,
          0.22694995689013853,
          0.2225186530121952,
          0.23635032581942356,
          0.2262640213289846,
          0.2051967046461476,
          0.2284225834533541,
          0.22859747427997534,
          0.19939744086354316,
          0.21284218776690123,
          0.2225186530121952,
          0.23330876639048936,
          0.2139908243814374,
          0.22411993804458674,
          0.22991156498537008,
          0.21861440286718375,
          0.22542931884527279,
          0.220348880871665,
          0.22528115577437657,
          0.22068334705887976,
          0.2243312391642449,
          0.22104283732811209,
          0.19289631495068327,
          0.21868516212896244,
          0.18634752549776862,
          0.217251176034367,
          0.09605653903797057,
          0.2274283515040505,
          0.18308148918448425,
          0.18111733157395793,
          0.17384685433943892,
          0.1458232025522439,
          0.23197622247761057,
          0.21886916640037368,
          0.06520501577661997,
          0.1966916715362771,
          0.23317468765173244,
          0.2272626895801672,
          0.18957132359028117,
          0.0009562937844027619,
          0.21497896793522397,
          0.22132321385223125,
          0.15497938989383658,
          0.2202863355796163,
          0.19436681737879313,
          0.1904315004566739,
          0.18516161880501314,
          0.22563835861084441,
          0.16454490545245348,
          0.22368983242308715,
          0.21270021886736445,
          0.2268798353730614,
          0.22223690612559027,
          0.18005839695077042,
          0.22198903301791506,
          0.21258509637208972,
          0.13551821677262288,
          0.22362767234775716,
          0.22898252148444093,
          0.19926692038554378,
          0.21763051794611055,
          0.22717044735653136,
          0.2189126177803265,
          0.22013309907270479,
          0.19156964756748251,
          0.21727788111008217,
          0.22169130868034337,
          0.1933635148424559,
          0.22504521838618352,
          0.22733565022147312,
          0.21917264217007365,
          0.2274283515040505,
          0.17305714653321047,
          0.21261419522272745,
          0.22769749301748454,
          0.2297304196845632,
          0.22591780517965082,
          0.21715523844912343,
          0.22661316986723323,
          0.2275084767066342,
          0.14891000064369425,
          0.22772082961002627,
          0.1800768010957231,
          0.22210391937550084,
          0.20663894762089452,
          0.20557926228380846,
          0.19934344895376943,
          0.20836163050744083,
          0.21377674865651153,
          0.2082118949377848,
          0.23330876639048936,
          0.2202863355796163,
          0.22389337460162456,
          0.22916672124911452,
          0.2195708628454613,
          0.18132482889316037,
          0.12987655385921104,
          0.1497013912074821,
          0.16870278873073935,
          0.2284225834533541,
          0.2261550359948849,
          0.21651543363202846,
          0.22724583779914448,
          0.2211178142167135,
          0.2072445049264901,
          0.21356268667562883,
          0.21689593124528622,
          0.22911071012495543,
          0.23456739888810058,
          0.23197622247761057,
          0.21217516344088894,
          0.21109575428202765,
          0.19769521754211844,
          0.2262640213289846,
          0.2247390018505358,
          0.2199882456188399,
          0.22157038088607367,
          0.22664928886243507,
          0.1989981277885805,
          0.22588515296285927,
          0.22404201814724617,
          0.22690195931354906,
          0.02275402228855572,
          0.19129814809380608,
          0.2262640213289846,
          0.17814386423012774,
          0.06387413493124505,
          0.2160470743842599,
          0.1668647121489416,
          0.15819361821752037,
          0.23197622247761057,
          0.22544190788990265,
          0.045245996216365825,
          0.22719344008208608,
          0.2351716642548103,
          0.2106956979025627,
          0.21412561093606441,
          0.21410757478057707,
          0.18139745653187622,
          0.23332140036267035,
          0.18875729102470268,
          0.18244703759272185,
          0.23169843726262052,
          0.19772173272380822,
          0.18132482889316037,
          0.22298057183150782,
          0.21835409017426505,
          0.21930548853671483,
          0.20227426136654292,
          0.22085139800863207,
          0.22169130868034337,
          0.18770394154907766,
          0.22676435565983744,
          0.05653260556688877,
          0.16336742458136483,
          0.22870458708847075,
          0.20458156555835283,
          0.22888664373169365,
          0.14139892862990128,
          0.21939014891577124,
          0.1471292751121907,
          0.12851163417354072,
          0.22916672124911452,
          0.12616097735636916,
          0.22887812811360214,
          0.16524918318078496,
          0.18321370555534355,
          0.22772082961002627,
          0.21445261073252486,
          0.22270697892653768,
          0.23524302748808346,
          0.1269009155115824,
          0.03143864947682873,
          0.21439569901819178,
          0.2336249406362455,
          0.22298057183150782,
          0.22676435565983744,
          0.15427293508462497,
          0.1549983096049385,
          0.1337052697608873,
          0.16265771664794687,
          0.1810592120653607,
          0.23635032581942356,
          0.14181271848011806,
          0.15682021788893613,
          0.15229157382460995,
          0.02159376669983637,
          0.17293236939452283,
          0.1761976937548117,
          0.060096044460136167,
          0.21727788111008217,
          0.18380703720307418,
          0.14841552223163268,
          0.14697606132392638,
          0.19156413944819511,
          0.14727927798542884,
          0.12367333222430482,
          0.2259392203214986,
          0.047950319762948834,
          0.1403696407726867,
          0.18219935244845287,
          0.22169130868034337,
          0.034673958181917985,
          0.18788950421779949,
          0.09838509402701051,
          0.03453353886761612,
          0.21717345488023954,
          0.1273564893793423,
          0.14031821815315665,
          0.06943287607165105,
          0.09344334373330676,
          0.051998425605919385,
          0.154885913676151,
          0.1598014323937706,
          0.17135826488041955,
          0.10629129939182264,
          0.15783613960606924,
          0.05412473124720374,
          0.18093251747515005,
          0.10171632023448857,
          0.1339961954244248,
          0.1725735022714261,
          0.16444842703833018,
          0.18277102116771105,
          0.21410757478057707,
          0.16971852863994819,
          0.16657475120798282,
          0.15751980406795796,
          0.15795754791563105,
          0.21879263760999607,
          0.19308289853939947,
          0.22169130868034337,
          0.06727604008426868,
          0.07623296821521097,
          0.21763051794611055,
          0.14918340063869617,
          0.1828553733320798,
          0.22719344008208608,
          0.1894514197707246,
          0.22543951534602497,
          0.018819223376283056,
          0.21125363223453542,
          0.1945221831510065,
          0.19430347620360633,
          0.2325399347586054,
          0.19260175061537765,
          0.22132236351268764,
          0.23542817733998483,
          0.1477655097898597,
          0.12367333222430482,
          0.19353211944625404,
          0.21379606229524722,
          0.19323750297280373,
          0.028184041944562144,
          0.19504502781556554,
          0.13300594444064467,
          0.044176189030813884,
          0.12143443568802398,
          0.17336573311470216,
          0.13843913606409147,
          0.07615686755419371,
          0.191828524278087,
          0.191633589161683,
          0.06497155656229003,
          0.20141282774394803,
          0.05036693591593666,
          0.055468070128763425,
          0.013049643034250158,
          0.09709147766167098,
          0.02058863624071805,
          0.22544190788990265,
          0.18019921866482436,
          0.15081459080628806,
          0.13054167215511675,
          0.12382854958945588,
          0.21686868776198315,
          0.16770455471179252,
          0.09771434520806538,
          0.22710163650523646,
          0.16334928089186274,
          0.18517265571463443,
          0.173578719748812,
          0.11601064186665955,
          0.1710794950195897,
          0.19934344895376943,
          0.1942704531305195,
          0.13243104175273074,
          0.11691803640313209,
          0.18851802345807567,
          0.035200512712501686,
          0.16168607133424678,
          0.08897931172026408,
          0.1524588622830404,
          0.08218302045161674,
          0.18514389614399268,
          0.16740704928062156,
          0.19312605393034327,
          0.2348524121208443,
          0.04422402994427099,
          0.19914276310660806,
          0.18380352680127499,
          0.22591780517965082,
          0.15783613960606924,
          0.21843043842598314,
          0.1323628105757758,
          0.2257572268383135,
          0.04502450324383955,
          0.19754680265580288,
          0.14697606132392638,
          0.11964506489962945,
          0.10711436451662831,
          0.1828364290180945,
          0.2205562733829155,
          0.07680233680968163,
          0.1364490736177526,
          0.07259649351416153,
          0.1881985419433287,
          0.02725703118715761,
          0.02116746996706298,
          0.12326952541232727,
          0.18111733157395793,
          0.16638121878390677,
          0.042522984035316735,
          0.1806382686120968,
          0.18249251957376306,
          0.17919694606054593,
          0.19498006203990836,
          0.1403696407726867,
          0.1213598551291089,
          0.2025114450185545,
          0.18399088633755656,
          0.16245574389559198,
          0.20018149166167792
         ],
         "xaxis": "x",
         "yaxis": "y"
        }
       ],
       "layout": {
        "barmode": "relative",
        "legend": {
         "title": {
          "text": "anomaly"
         },
         "tracegroupgap": 0
        },
        "margin": {
         "t": 60
        },
        "template": {
         "data": {
          "bar": [
           {
            "error_x": {
             "color": "#2a3f5f"
            },
            "error_y": {
             "color": "#2a3f5f"
            },
            "marker": {
             "line": {
              "color": "#E5ECF6",
              "width": 0.5
             }
            },
            "type": "bar"
           }
          ],
          "barpolar": [
           {
            "marker": {
             "line": {
              "color": "#E5ECF6",
              "width": 0.5
             }
            },
            "type": "barpolar"
           }
          ],
          "carpet": [
           {
            "aaxis": {
             "endlinecolor": "#2a3f5f",
             "gridcolor": "white",
             "linecolor": "white",
             "minorgridcolor": "white",
             "startlinecolor": "#2a3f5f"
            },
            "baxis": {
             "endlinecolor": "#2a3f5f",
             "gridcolor": "white",
             "linecolor": "white",
             "minorgridcolor": "white",
             "startlinecolor": "#2a3f5f"
            },
            "type": "carpet"
           }
          ],
          "choropleth": [
           {
            "colorbar": {
             "outlinewidth": 0,
             "ticks": ""
            },
            "type": "choropleth"
           }
          ],
          "contour": [
           {
            "colorbar": {
             "outlinewidth": 0,
             "ticks": ""
            },
            "colorscale": [
             [
              0,
              "#0d0887"
             ],
             [
              0.1111111111111111,
              "#46039f"
             ],
             [
              0.2222222222222222,
              "#7201a8"
             ],
             [
              0.3333333333333333,
              "#9c179e"
             ],
             [
              0.4444444444444444,
              "#bd3786"
             ],
             [
              0.5555555555555556,
              "#d8576b"
             ],
             [
              0.6666666666666666,
              "#ed7953"
             ],
             [
              0.7777777777777778,
              "#fb9f3a"
             ],
             [
              0.8888888888888888,
              "#fdca26"
             ],
             [
              1,
              "#f0f921"
             ]
            ],
            "type": "contour"
           }
          ],
          "contourcarpet": [
           {
            "colorbar": {
             "outlinewidth": 0,
             "ticks": ""
            },
            "type": "contourcarpet"
           }
          ],
          "heatmap": [
           {
            "colorbar": {
             "outlinewidth": 0,
             "ticks": ""
            },
            "colorscale": [
             [
              0,
              "#0d0887"
             ],
             [
              0.1111111111111111,
              "#46039f"
             ],
             [
              0.2222222222222222,
              "#7201a8"
             ],
             [
              0.3333333333333333,
              "#9c179e"
             ],
             [
              0.4444444444444444,
              "#bd3786"
             ],
             [
              0.5555555555555556,
              "#d8576b"
             ],
             [
              0.6666666666666666,
              "#ed7953"
             ],
             [
              0.7777777777777778,
              "#fb9f3a"
             ],
             [
              0.8888888888888888,
              "#fdca26"
             ],
             [
              1,
              "#f0f921"
             ]
            ],
            "type": "heatmap"
           }
          ],
          "heatmapgl": [
           {
            "colorbar": {
             "outlinewidth": 0,
             "ticks": ""
            },
            "colorscale": [
             [
              0,
              "#0d0887"
             ],
             [
              0.1111111111111111,
              "#46039f"
             ],
             [
              0.2222222222222222,
              "#7201a8"
             ],
             [
              0.3333333333333333,
              "#9c179e"
             ],
             [
              0.4444444444444444,
              "#bd3786"
             ],
             [
              0.5555555555555556,
              "#d8576b"
             ],
             [
              0.6666666666666666,
              "#ed7953"
             ],
             [
              0.7777777777777778,
              "#fb9f3a"
             ],
             [
              0.8888888888888888,
              "#fdca26"
             ],
             [
              1,
              "#f0f921"
             ]
            ],
            "type": "heatmapgl"
           }
          ],
          "histogram": [
           {
            "marker": {
             "colorbar": {
              "outlinewidth": 0,
              "ticks": ""
             }
            },
            "type": "histogram"
           }
          ],
          "histogram2d": [
           {
            "colorbar": {
             "outlinewidth": 0,
             "ticks": ""
            },
            "colorscale": [
             [
              0,
              "#0d0887"
             ],
             [
              0.1111111111111111,
              "#46039f"
             ],
             [
              0.2222222222222222,
              "#7201a8"
             ],
             [
              0.3333333333333333,
              "#9c179e"
             ],
             [
              0.4444444444444444,
              "#bd3786"
             ],
             [
              0.5555555555555556,
              "#d8576b"
             ],
             [
              0.6666666666666666,
              "#ed7953"
             ],
             [
              0.7777777777777778,
              "#fb9f3a"
             ],
             [
              0.8888888888888888,
              "#fdca26"
             ],
             [
              1,
              "#f0f921"
             ]
            ],
            "type": "histogram2d"
           }
          ],
          "histogram2dcontour": [
           {
            "colorbar": {
             "outlinewidth": 0,
             "ticks": ""
            },
            "colorscale": [
             [
              0,
              "#0d0887"
             ],
             [
              0.1111111111111111,
              "#46039f"
             ],
             [
              0.2222222222222222,
              "#7201a8"
             ],
             [
              0.3333333333333333,
              "#9c179e"
             ],
             [
              0.4444444444444444,
              "#bd3786"
             ],
             [
              0.5555555555555556,
              "#d8576b"
             ],
             [
              0.6666666666666666,
              "#ed7953"
             ],
             [
              0.7777777777777778,
              "#fb9f3a"
             ],
             [
              0.8888888888888888,
              "#fdca26"
             ],
             [
              1,
              "#f0f921"
             ]
            ],
            "type": "histogram2dcontour"
           }
          ],
          "mesh3d": [
           {
            "colorbar": {
             "outlinewidth": 0,
             "ticks": ""
            },
            "type": "mesh3d"
           }
          ],
          "parcoords": [
           {
            "line": {
             "colorbar": {
              "outlinewidth": 0,
              "ticks": ""
             }
            },
            "type": "parcoords"
           }
          ],
          "pie": [
           {
            "automargin": true,
            "type": "pie"
           }
          ],
          "scatter": [
           {
            "marker": {
             "colorbar": {
              "outlinewidth": 0,
              "ticks": ""
             }
            },
            "type": "scatter"
           }
          ],
          "scatter3d": [
           {
            "line": {
             "colorbar": {
              "outlinewidth": 0,
              "ticks": ""
             }
            },
            "marker": {
             "colorbar": {
              "outlinewidth": 0,
              "ticks": ""
             }
            },
            "type": "scatter3d"
           }
          ],
          "scattercarpet": [
           {
            "marker": {
             "colorbar": {
              "outlinewidth": 0,
              "ticks": ""
             }
            },
            "type": "scattercarpet"
           }
          ],
          "scattergeo": [
           {
            "marker": {
             "colorbar": {
              "outlinewidth": 0,
              "ticks": ""
             }
            },
            "type": "scattergeo"
           }
          ],
          "scattergl": [
           {
            "marker": {
             "colorbar": {
              "outlinewidth": 0,
              "ticks": ""
             }
            },
            "type": "scattergl"
           }
          ],
          "scattermapbox": [
           {
            "marker": {
             "colorbar": {
              "outlinewidth": 0,
              "ticks": ""
             }
            },
            "type": "scattermapbox"
           }
          ],
          "scatterpolar": [
           {
            "marker": {
             "colorbar": {
              "outlinewidth": 0,
              "ticks": ""
             }
            },
            "type": "scatterpolar"
           }
          ],
          "scatterpolargl": [
           {
            "marker": {
             "colorbar": {
              "outlinewidth": 0,
              "ticks": ""
             }
            },
            "type": "scatterpolargl"
           }
          ],
          "scatterternary": [
           {
            "marker": {
             "colorbar": {
              "outlinewidth": 0,
              "ticks": ""
             }
            },
            "type": "scatterternary"
           }
          ],
          "surface": [
           {
            "colorbar": {
             "outlinewidth": 0,
             "ticks": ""
            },
            "colorscale": [
             [
              0,
              "#0d0887"
             ],
             [
              0.1111111111111111,
              "#46039f"
             ],
             [
              0.2222222222222222,
              "#7201a8"
             ],
             [
              0.3333333333333333,
              "#9c179e"
             ],
             [
              0.4444444444444444,
              "#bd3786"
             ],
             [
              0.5555555555555556,
              "#d8576b"
             ],
             [
              0.6666666666666666,
              "#ed7953"
             ],
             [
              0.7777777777777778,
              "#fb9f3a"
             ],
             [
              0.8888888888888888,
              "#fdca26"
             ],
             [
              1,
              "#f0f921"
             ]
            ],
            "type": "surface"
           }
          ],
          "table": [
           {
            "cells": {
             "fill": {
              "color": "#EBF0F8"
             },
             "line": {
              "color": "white"
             }
            },
            "header": {
             "fill": {
              "color": "#C8D4E3"
             },
             "line": {
              "color": "white"
             }
            },
            "type": "table"
           }
          ]
         },
         "layout": {
          "annotationdefaults": {
           "arrowcolor": "#2a3f5f",
           "arrowhead": 0,
           "arrowwidth": 1
          },
          "autotypenumbers": "strict",
          "coloraxis": {
           "colorbar": {
            "outlinewidth": 0,
            "ticks": ""
           }
          },
          "colorscale": {
           "diverging": [
            [
             0,
             "#8e0152"
            ],
            [
             0.1,
             "#c51b7d"
            ],
            [
             0.2,
             "#de77ae"
            ],
            [
             0.3,
             "#f1b6da"
            ],
            [
             0.4,
             "#fde0ef"
            ],
            [
             0.5,
             "#f7f7f7"
            ],
            [
             0.6,
             "#e6f5d0"
            ],
            [
             0.7,
             "#b8e186"
            ],
            [
             0.8,
             "#7fbc41"
            ],
            [
             0.9,
             "#4d9221"
            ],
            [
             1,
             "#276419"
            ]
           ],
           "sequential": [
            [
             0,
             "#0d0887"
            ],
            [
             0.1111111111111111,
             "#46039f"
            ],
            [
             0.2222222222222222,
             "#7201a8"
            ],
            [
             0.3333333333333333,
             "#9c179e"
            ],
            [
             0.4444444444444444,
             "#bd3786"
            ],
            [
             0.5555555555555556,
             "#d8576b"
            ],
            [
             0.6666666666666666,
             "#ed7953"
            ],
            [
             0.7777777777777778,
             "#fb9f3a"
            ],
            [
             0.8888888888888888,
             "#fdca26"
            ],
            [
             1,
             "#f0f921"
            ]
           ],
           "sequentialminus": [
            [
             0,
             "#0d0887"
            ],
            [
             0.1111111111111111,
             "#46039f"
            ],
            [
             0.2222222222222222,
             "#7201a8"
            ],
            [
             0.3333333333333333,
             "#9c179e"
            ],
            [
             0.4444444444444444,
             "#bd3786"
            ],
            [
             0.5555555555555556,
             "#d8576b"
            ],
            [
             0.6666666666666666,
             "#ed7953"
            ],
            [
             0.7777777777777778,
             "#fb9f3a"
            ],
            [
             0.8888888888888888,
             "#fdca26"
            ],
            [
             1,
             "#f0f921"
            ]
           ]
          },
          "colorway": [
           "#636efa",
           "#EF553B",
           "#00cc96",
           "#ab63fa",
           "#FFA15A",
           "#19d3f3",
           "#FF6692",
           "#B6E880",
           "#FF97FF",
           "#FECB52"
          ],
          "font": {
           "color": "#2a3f5f"
          },
          "geo": {
           "bgcolor": "white",
           "lakecolor": "white",
           "landcolor": "#E5ECF6",
           "showlakes": true,
           "showland": true,
           "subunitcolor": "white"
          },
          "hoverlabel": {
           "align": "left"
          },
          "hovermode": "closest",
          "mapbox": {
           "style": "light"
          },
          "paper_bgcolor": "white",
          "plot_bgcolor": "#E5ECF6",
          "polar": {
           "angularaxis": {
            "gridcolor": "white",
            "linecolor": "white",
            "ticks": ""
           },
           "bgcolor": "#E5ECF6",
           "radialaxis": {
            "gridcolor": "white",
            "linecolor": "white",
            "ticks": ""
           }
          },
          "scene": {
           "xaxis": {
            "backgroundcolor": "#E5ECF6",
            "gridcolor": "white",
            "gridwidth": 2,
            "linecolor": "white",
            "showbackground": true,
            "ticks": "",
            "zerolinecolor": "white"
           },
           "yaxis": {
            "backgroundcolor": "#E5ECF6",
            "gridcolor": "white",
            "gridwidth": 2,
            "linecolor": "white",
            "showbackground": true,
            "ticks": "",
            "zerolinecolor": "white"
           },
           "zaxis": {
            "backgroundcolor": "#E5ECF6",
            "gridcolor": "white",
            "gridwidth": 2,
            "linecolor": "white",
            "showbackground": true,
            "ticks": "",
            "zerolinecolor": "white"
           }
          },
          "shapedefaults": {
           "line": {
            "color": "#2a3f5f"
           }
          },
          "ternary": {
           "aaxis": {
            "gridcolor": "white",
            "linecolor": "white",
            "ticks": ""
           },
           "baxis": {
            "gridcolor": "white",
            "linecolor": "white",
            "ticks": ""
           },
           "bgcolor": "#E5ECF6",
           "caxis": {
            "gridcolor": "white",
            "linecolor": "white",
            "ticks": ""
           }
          },
          "title": {
           "x": 0.05
          },
          "xaxis": {
           "automargin": true,
           "gridcolor": "white",
           "linecolor": "white",
           "ticks": "",
           "title": {
            "standoff": 15
           },
           "zerolinecolor": "white",
           "zerolinewidth": 2
          },
          "yaxis": {
           "automargin": true,
           "gridcolor": "white",
           "linecolor": "white",
           "ticks": "",
           "title": {
            "standoff": 15
           },
           "zerolinecolor": "white",
           "zerolinewidth": 2
          }
         }
        },
        "xaxis": {
         "anchor": "y",
         "domain": [
          0,
          1
         ],
         "title": {
          "text": "scores"
         }
        },
        "yaxis": {
         "anchor": "x",
         "domain": [
          0,
          1
         ],
         "title": {
          "text": "count"
         }
        }
       }
      }
     },
     "metadata": {},
     "output_type": "display_data"
    }
   ],
   "source": [
    "data_guli['anomaly'] = data_guli['label'].apply(lambda x: 'outlier' if x==-1  else 'inlier') \n",
    "fig = px.histogram(data_guli,x='scores',color='anomaly') \n",
    "fig.show()"
   ]
  },
  {
   "cell_type": "code",
   "execution_count": 140,
   "metadata": {},
   "outputs": [
    {
     "data": {
      "application/vnd.plotly.v1+json": {
       "config": {
        "plotlyServerURL": "https://plot.ly"
       },
       "data": [
        {
         "hovertemplate": "anomaly=outlier<br>num_not0=%{x}<br>sum_all=%{y}<br>aver_month=%{z}<extra></extra>",
         "legendgroup": "outlier",
         "marker": {
          "color": "#636efa",
          "symbol": "circle"
         },
         "mode": "markers",
         "name": "outlier",
         "scene": "scene",
         "showlegend": true,
         "type": "scatter3d",
         "x": [
          2,
          2,
          7,
          5,
          2,
          11,
          1,
          12,
          7,
          1,
          9,
          2,
          1,
          4,
          10,
          1,
          1,
          12,
          12,
          12
         ],
         "y": [
          58869.611000000004,
          42884.079,
          567601.566,
          176635.87800000003,
          38528.636,
          538452.652,
          88189.492,
          536078.383,
          261339.50699999998,
          155.179,
          341376.39,
          66909.938,
          21.216,
          271361.094,
          1042762.464,
          9571.127,
          4478.684,
          385383.0419999999,
          508393.78799999994,
          4633036.5
         ],
         "z": [
          29434.805500000002,
          21442.0395,
          81085.938,
          35327.1756,
          19264.318,
          48950.24109090909,
          88189.492,
          44673.19858333334,
          37334.21528571429,
          155.179,
          37930.71,
          33454.969,
          21.216,
          67840.2735,
          104276.2464,
          9571.127,
          4478.684,
          32115.25349999999,
          42366.149,
          386086.375
         ]
        },
        {
         "hovertemplate": "anomaly=inlier<br>num_not0=%{x}<br>sum_all=%{y}<br>aver_month=%{z}<extra></extra>",
         "legendgroup": "inlier",
         "marker": {
          "color": "#EF553B",
          "symbol": "circle"
         },
         "mode": "markers",
         "name": "inlier",
         "scene": "scene",
         "showlegend": true,
         "type": "scatter3d",
         "x": [
          8,
          7,
          8,
          7,
          9,
          8,
          12,
          1,
          12,
          12,
          5,
          11,
          11,
          12,
          11,
          12,
          12,
          12,
          12,
          12,
          12,
          11,
          11,
          12,
          12,
          11,
          12,
          12,
          12,
          12,
          12,
          12,
          11,
          12,
          11,
          12,
          12,
          11,
          11,
          12,
          12,
          11,
          12,
          12,
          12,
          11,
          12,
          12,
          12,
          12,
          12,
          12,
          11,
          11,
          12,
          12,
          11,
          12,
          12,
          12,
          11,
          12,
          11,
          11,
          11,
          12,
          12,
          12,
          12,
          9,
          12,
          12,
          12,
          9,
          12,
          12,
          12,
          3,
          10,
          12,
          12,
          10,
          1,
          12,
          11,
          10,
          11,
          10,
          10,
          10,
          11,
          10,
          11,
          12,
          12,
          11,
          8,
          11,
          11,
          10,
          12,
          12,
          11,
          12,
          12,
          11,
          11,
          12,
          12,
          12,
          12,
          12,
          12,
          11,
          12,
          12,
          11,
          12,
          12,
          12,
          12,
          12,
          12,
          11,
          12,
          11,
          12,
          12,
          11,
          11,
          12,
          11,
          12,
          12,
          11,
          11,
          12,
          12,
          11,
          12,
          10,
          11,
          12,
          12,
          12,
          12,
          11,
          12,
          12,
          11,
          12,
          12,
          12,
          12,
          12,
          11,
          12,
          11,
          11,
          11,
          12,
          12,
          12,
          11,
          12,
          1,
          12,
          12,
          10,
          9,
          11,
          12,
          10,
          12,
          12,
          11,
          12,
          12,
          12,
          11,
          12,
          12,
          12,
          12,
          11,
          12,
          12,
          11,
          12,
          12,
          12,
          12,
          11,
          12,
          12,
          12,
          3,
          10,
          12,
          12,
          12,
          7,
          11,
          12,
          7,
          12,
          9,
          12,
          11,
          8,
          12,
          11,
          12,
          12,
          9,
          9,
          12,
          12,
          12,
          12,
          12,
          12,
          11,
          12,
          12,
          12,
          7,
          6,
          6,
          1,
          8,
          9,
          3,
          12,
          8,
          7,
          8,
          10,
          8,
          9,
          11,
          11,
          5,
          10,
          12,
          2,
          12,
          11,
          8,
          11,
          6,
          7,
          12,
          9,
          10,
          10,
          7,
          8,
          9,
          6,
          5,
          9,
          9,
          5,
          9,
          10,
          12,
          12,
          12,
          12,
          11,
          8,
          12,
          12,
          12,
          12,
          12,
          12,
          12,
          12,
          12,
          12,
          12,
          4,
          12,
          12,
          12,
          12,
          12,
          12,
          12,
          8,
          9,
          11,
          12,
          12,
          12,
          12,
          6,
          3,
          9,
          8,
          10,
          10,
          10,
          10,
          6,
          12,
          12,
          6,
          4,
          9,
          10,
          12,
          11,
          6,
          11,
          12,
          12,
          12,
          4,
          12,
          7,
          8,
          9,
          5,
          11,
          11,
          12,
          11,
          10,
          12,
          2,
          12,
          5,
          8,
          5,
          8,
          12,
          12,
          12,
          5,
          11,
          12,
          12,
          6,
          11,
          6,
          11,
          12,
          10,
          8,
          12,
          12,
          8,
          12,
          12,
          7,
          12,
          12,
          2,
          8,
          11,
          12,
          10,
          7,
          11,
          11,
          11,
          10,
          5,
          7,
          12,
          8,
          10,
          11
         ],
         "y": [
          8161.616,
          24299.113999999998,
          298325.673,
          35417.095,
          27266.092,
          294758.81999999995,
          197511.209,
          1345.04,
          12373.418,
          36026.873,
          15434.792,
          10046.612,
          29386.201,
          104231.20300000001,
          18364.207000000002,
          140554.231,
          118987.34899999999,
          27360.977,
          23192.122,
          44820.598000000005,
          18655.096999999998,
          31256.916999999998,
          79170.67300000001,
          136286.183,
          25278.459,
          9636.279999999999,
          47119.153999999995,
          180415.26100000003,
          17393.517000000003,
          18791.773,
          12471.705999999998,
          11712.232000000002,
          19892.201,
          54022.912999999986,
          28502.22,
          13727.812999999998,
          21715.990999999998,
          36065.211,
          32977.523,
          68686.72099999999,
          56101.259,
          28499.551999999996,
          26389.265999999996,
          34803.458,
          15515.099000000002,
          26604.704999999998,
          19557.45,
          29270.028000000006,
          10058.76,
          32453.01,
          16872.059,
          84222.82799999998,
          13008.198,
          26597.725,
          21512.403,
          70684.18299999999,
          31369.623,
          32165.326,
          48702.766,
          42915.48,
          36150.541,
          25775.826999999997,
          22092.179000000004,
          30938.598,
          24140.365999999998,
          120540.59700000001,
          61033.265999999996,
          128827.98099999999,
          64762.913,
          152265.00699999998,
          28048.617,
          130235.757,
          141256.099,
          52730.278000000006,
          176785.08,
          23373.964,
          49130.098,
          7457.912,
          26379.981,
          22762.089,
          16115.583,
          42177.541000000005,
          3561.624,
          69405.647,
          17529.947,
          106148.679,
          36914.388000000006,
          25646.121,
          21046.39,
          46279.12,
          29839.992,
          87483.288,
          32670.18,
          51210.638000000006,
          13962.941999999997,
          39277.067,
          36832.931,
          20943.504,
          12361.026000000002,
          117452.93600000002,
          44481.844000000005,
          27518.08,
          56538.42499999999,
          67067.28199999999,
          41623.594,
          45060.814000000006,
          34609.716,
          7900.7429999999995,
          68783.73199999999,
          12493.509999999998,
          87718.405,
          13609.641,
          40726.197,
          43792.08800000001,
          28277.107000000004,
          5653.539,
          46791.651999999995,
          27742.871,
          32046.864999999998,
          34158.772,
          64178.062,
          14150.128,
          25502.727,
          2852.5479999999993,
          16440.775,
          96444.736,
          38475.513,
          76716.226,
          10882.896999999999,
          61977.607,
          76585.317,
          46351.848,
          10630.072,
          21538.956,
          36861.987,
          28119.083000000002,
          16820.805,
          48110.206,
          88010.87299999999,
          898.9200000000001,
          110600.084,
          5737.467000000001,
          32378.671,
          44613.492,
          67474.04100000001,
          25027.215,
          39047.072,
          57459.545999999995,
          49580.692,
          16629.365,
          27218.141000000003,
          22322.37,
          23339.998,
          71735.83699999998,
          73172.398,
          57186.686,
          28853.899999999998,
          19378.818,
          22409.28,
          39670.181,
          34823.289000000004,
          9495.311000000002,
          41097.548,
          18485.786999999997,
          30128.627,
          1146.873,
          99630.034,
          29156.041999999998,
          11128.766,
          196397.703,
          45664.443999999996,
          155705.365,
          94944.535,
          23652.302,
          42388.619,
          296477.08699999994,
          14484.046,
          18849.559999999998,
          53692.039,
          14273.333,
          70497.83799999999,
          141362.903,
          18280.444,
          93059.07,
          90440.18500000001,
          22910.472,
          83124.405,
          87938.67399999998,
          47052.157,
          37006.353,
          11526.422999999999,
          80389.53900000002,
          38596.960999999996,
          12382.802,
          128028.898,
          16130.738000000001,
          2342.978,
          77268.13199999998,
          32564.152000000002,
          77077.257,
          33011.52099999999,
          6304.764000000001,
          43596.153999999995,
          174724.69400000002,
          3974.11,
          16755.996000000003,
          1285.348,
          31887.911,
          116142.90499999998,
          14285.380000000001,
          16286.398000000001,
          13861.543,
          12266.654,
          20574.293,
          108492.85100000001,
          291724.859,
          63130.464,
          21355.736000000004,
          46927.702,
          16189.09,
          167204.858,
          3079.017,
          1149.643,
          159488.65899999999,
          141475.833,
          19387.488,
          52589.12,
          23801.336000000003,
          17057.426,
          790.259,
          41457.76299999999,
          11829.590999999999,
          16681.775,
          68767.67,
          25524.385999999995,
          8258.902,
          4303.418,
          41489.859,
          4166.983,
          0,
          30487.565,
          234813.13299999997,
          13982.470000000001,
          60087.973999999995,
          12343.489000000003,
          7460.13,
          124582.914,
          192711.442,
          207811.20200000002,
          45507.884999999995,
          45256.523,
          55365.222,
          314355.216,
          161773.188,
          210426.76600000003,
          108868.312,
          35277.867,
          9030.228,
          128002.397,
          21722.04,
          77682.79699999999,
          31424.525,
          139048.057,
          19809.433,
          50506.193,
          85355.447,
          137951.67799999999,
          70665.467,
          147497.08099999998,
          155166.03999999998,
          127872.972,
          6188.918,
          61340.453,
          121747.53800000003,
          12463.913,
          302756.799,
          308832.99600000004,
          67080.762,
          172863.723,
          135190.108,
          14549.139,
          93439.71599999999,
          43560.132000000005,
          87370.838,
          58111.48700000001,
          87155.952,
          110292.631,
          17531.968999999997,
          120335.235,
          47767.856,
          19267.913,
          68953.824,
          0,
          71414.81399999998,
          70267.55200000001,
          88533.70300000001,
          350408.86900000006,
          111470.41,
          10024.617,
          33970.335,
          74.592,
          39030.568,
          3806.9230000000002,
          194009.277,
          32039.472999999998,
          33654.607,
          94208.615,
          9739.242,
          335955.582,
          116766.18299999999,
          96232.56,
          160319.18,
          312953.56,
          42418.544,
          97455.6,
          25056.958,
          171060.42099999997,
          195326.03300000002,
          64355.685,
          152801.38,
          11417.08,
          41271.02,
          28405.606999999996,
          28444.339000000004,
          56205.15699999999,
          27655.156000000003,
          109716.81999999999,
          62086.59099999999,
          112805.749,
          166789.699,
          416.508,
          124459.68400000001,
          11151.546,
          163725.64500000002,
          965.568,
          62868.345,
          56306.943,
          27039.467,
          5190.120000000001,
          103733.57199999999,
          22242.595,
          102322.171,
          54883.507,
          133201.60700000002,
          34152.345,
          22053.393,
          41815.939000000006,
          6815.49,
          29994.027,
          340333.67799999996,
          34715.986000000004,
          4269.608,
          198405.127,
          204636.76299999998,
          35636.520000000004,
          38965.613,
          311754.794,
          58270.961,
          306153.36000000004,
          118031.20099999999,
          18321.217,
          234445.616,
          179060.312,
          142156.566,
          73739.908,
          171438.12,
          95046.878,
          85958.83499999999,
          98654.59599999999,
          38689.49800000001,
          14026.679000000002,
          64552.12699999999,
          79441.789,
          34522.447,
          89649.191,
          9855.551999999998
         ],
         "z": [
          1020.202,
          3471.3019999999997,
          37290.709125,
          5059.585,
          3029.565777777778,
          36844.85249999999,
          16459.267416666666,
          1345.04,
          1031.1181666666666,
          3002.239416666667,
          3086.9584,
          913.3283636363635,
          2671.472818181818,
          8685.933583333333,
          1669.4733636363637,
          11712.852583333333,
          9915.612416666665,
          2280.0814166666664,
          1932.6768333333332,
          3735.049833333334,
          1554.5914166666664,
          2841.5379090909087,
          7197.33390909091,
          11357.181916666666,
          2106.53825,
          876.0254545454544,
          3926.5961666666662,
          15034.605083333336,
          1449.4597500000002,
          1565.9810833333333,
          1039.3088333333333,
          976.0193333333335,
          1808.3819090909092,
          4501.9094166666655,
          2591.110909090909,
          1143.9844166666664,
          1809.6659166666666,
          3278.6555454545455,
          2997.9566363636363,
          5723.893416666666,
          4675.104916666666,
          2590.8683636363635,
          2199.1054999999997,
          2900.2881666666667,
          1292.9249166666668,
          2418.6095454545452,
          1629.7875000000001,
          2439.1690000000003,
          838.23,
          2704.4175,
          1406.0049166666668,
          7018.568999999999,
          1182.5634545454545,
          2417.975,
          1792.7002499999999,
          5890.3485833333325,
          2851.783909090909,
          2680.4438333333333,
          4058.5638333333336,
          3576.2900000000004,
          3286.412818181818,
          2147.985583333333,
          2008.3799090909095,
          2812.599818181818,
          2194.578727272727,
          10045.04975,
          5086.1055,
          10735.665083333331,
          5396.909416666666,
          16918.334111111108,
          2337.3847499999997,
          10852.97975,
          11771.341583333333,
          5858.919777777778,
          14732.089999999998,
          1947.8303333333333,
          4094.174833333333,
          2485.9706666666666,
          2637.9981,
          1896.84075,
          1342.96525,
          4217.7541,
          3561.624,
          5783.803916666667,
          1593.6315454545454,
          10614.867900000001,
          3355.853454545455,
          2564.6121,
          2104.639,
          4627.912,
          2712.7265454545454,
          8748.3288,
          2970.0163636363636,
          4267.5531666666675,
          1163.5784999999998,
          3570.6424545454547,
          4604.116375,
          1903.9549090909093,
          1123.7296363636365,
          11745.2936,
          3706.8203333333336,
          2293.1733333333336,
          5139.856818181817,
          5588.940166666666,
          3468.632833333333,
          4096.437636363637,
          3146.3378181818184,
          658.3952499999999,
          5731.977666666666,
          1041.1258333333333,
          7309.8670833333335,
          1134.13675,
          3393.84975,
          3981.09890909091,
          2356.4255833333336,
          471.12825,
          4253.786545454545,
          2311.9059166666666,
          2670.572083333333,
          2846.5643333333333,
          5348.171833333333,
          1179.1773333333333,
          2125.22725,
          259.3225454545454,
          1370.0645833333335,
          8767.703272727273,
          3206.29275,
          6393.018833333333,
          989.3542727272726,
          5634.327909090909,
          6382.10975,
          4213.804363636364,
          885.8393333333333,
          1794.9129999999998,
          3351.0897272727275,
          2556.280272727273,
          1401.73375,
          4009.183833333333,
          8000.988454545454,
          74.91000000000001,
          11060.0084,
          521.5879090909092,
          2698.222583333333,
          3717.7909999999997,
          5622.836750000001,
          2085.60125,
          3549.733818181818,
          4788.295499999999,
          4131.724333333334,
          1511.7604545454546,
          2268.178416666667,
          1860.1975,
          1944.9998333333333,
          5977.986416666666,
          6097.699833333333,
          5198.789636363636,
          2404.4916666666663,
          1761.7107272727271,
          2037.2072727272725,
          3606.3800909090905,
          2901.94075,
          791.2759166666668,
          3424.795666666667,
          1680.5260909090905,
          2510.7189166666667,
          1146.873,
          8302.502833333334,
          2429.6701666666663,
          1112.8766,
          21821.967,
          4151.3130909090905,
          12975.447083333333,
          9494.4535,
          1971.0251666666666,
          3532.3849166666664,
          26952.46245454545,
          1207.0038333333334,
          1570.7966666666664,
          4474.336583333333,
          1297.5757272727274,
          5874.819833333332,
          11780.241916666666,
          1523.3703333333333,
          7754.922500000001,
          8221.835000000001,
          1909.2060000000001,
          6927.03375,
          7994.424909090908,
          3921.0130833333333,
          3083.8627500000002,
          960.5352499999999,
          6699.128250000002,
          3508.814636363636,
          1031.9001666666666,
          10669.074833333334,
          1344.2281666666668,
          780.9926666666667,
          7726.813199999999,
          2713.6793333333335,
          6423.1047499999995,
          2750.960083333333,
          900.6805714285716,
          3963.2867272727267,
          14560.391166666668,
          567.73,
          1396.3330000000003,
          142.81644444444444,
          2657.3259166666667,
          10558.445909090908,
          1785.6725000000001,
          1357.1998333333333,
          1260.1402727272728,
          1022.2211666666667,
          1714.5244166666669,
          12054.761222222223,
          32413.87322222222,
          5260.872,
          1779.644666666667,
          3910.641833333333,
          1349.0908333333334,
          13933.738166666668,
          256.58475,
          104.513,
          13290.721583333332,
          11789.652750000001,
          1615.624,
          7512.731428571429,
          3966.889333333334,
          2842.9043333333334,
          790.259,
          5182.220374999999,
          1314.399,
          5560.591666666667,
          5730.639166666667,
          3190.5482499999994,
          1179.8431428571428,
          537.92725,
          4148.9859,
          520.872875,
          0,
          2771.596818181818,
          21346.64845454545,
          2796.494,
          6008.7973999999995,
          1028.6240833333336,
          3730.065,
          10381.9095,
          17519.222,
          25976.400250000002,
          4137.080454545454,
          7542.753833333333,
          7909.3174285714285,
          26196.268,
          17974.798666666666,
          21042.676600000003,
          10886.8312,
          5039.695285714285,
          1128.7785,
          14222.488555555556,
          3620.34,
          15536.559399999998,
          3491.613888888889,
          15449.784111111112,
          3961.8866000000003,
          5611.799222222222,
          8535.5447,
          11495.973166666665,
          5888.788916666667,
          12291.423416666665,
          12930.503333333332,
          11624.815636363635,
          773.61475,
          5111.7044166666665,
          10145.62816666667,
          1038.6594166666666,
          25229.73325,
          25736.083000000002,
          5590.0635,
          14405.31025,
          11265.842333333334,
          1212.42825,
          7786.642999999999,
          3630.0110000000004,
          21842.7095,
          4842.623916666667,
          7262.996,
          9191.052583333332,
          1460.9974166666664,
          10027.93625,
          3980.654666666667,
          1605.6594166666666,
          8619.228,
          0,
          6492.255818181817,
          5855.629333333334,
          7377.808583333334,
          29200.739083333337,
          9289.200833333334,
          1670.7695,
          11323.445,
          8.288,
          4878.821,
          380.69230000000005,
          19400.9277,
          3203.9473,
          3365.4607000000005,
          15701.435833333335,
          811.6035,
          27996.2985,
          19461.030499999997,
          24058.14,
          17813.242222222223,
          31295.356,
          3534.878666666667,
          8859.6,
          4176.159666666666,
          15550.947363636362,
          16277.16941666667,
          5362.97375,
          12733.448333333334,
          2854.27,
          3439.2516666666666,
          4057.943857142857,
          3555.5423750000004,
          6245.017444444444,
          5531.0312,
          9974.256363636363,
          5644.235545454545,
          9400.479083333334,
          15162.699909090908,
          41.6508,
          10371.640333333335,
          5575.773,
          13643.803750000001,
          193.1136,
          7858.543125,
          11261.3886,
          3379.933375,
          432.51000000000005,
          8644.464333333332,
          1853.5495833333334,
          20464.4342,
          4989.409727272727,
          11100.133916666668,
          2846.02875,
          3675.5655,
          3801.4490000000005,
          1135.915,
          2726.729727272727,
          28361.13983333333,
          3471.5986000000003,
          533.701,
          16533.760583333333,
          17053.063583333333,
          4454.5650000000005,
          3247.1344166666663,
          25979.566166666667,
          8324.423,
          25512.780000000002,
          9835.933416666665,
          9160.6085,
          29305.702,
          16278.210181818182,
          11846.3805,
          7373.9908,
          24491.16,
          8640.625272727273,
          7814.439545454545,
          8968.599636363635,
          3868.949800000001,
          2805.3358000000003,
          9221.732428571428,
          6620.149083333334,
          4315.305875,
          8964.919100000001,
          895.9592727272725
         ]
        }
       ],
       "layout": {
        "legend": {
         "title": {
          "text": "anomaly"
         },
         "tracegroupgap": 0
        },
        "margin": {
         "t": 60
        },
        "scene": {
         "domain": {
          "x": [
           0,
           1
          ],
          "y": [
           0,
           1
          ]
         },
         "xaxis": {
          "title": {
           "text": "num_not0"
          }
         },
         "yaxis": {
          "title": {
           "text": "sum_all"
          }
         },
         "zaxis": {
          "title": {
           "text": "aver_month"
          }
         }
        },
        "template": {
         "data": {
          "bar": [
           {
            "error_x": {
             "color": "#2a3f5f"
            },
            "error_y": {
             "color": "#2a3f5f"
            },
            "marker": {
             "line": {
              "color": "#E5ECF6",
              "width": 0.5
             }
            },
            "type": "bar"
           }
          ],
          "barpolar": [
           {
            "marker": {
             "line": {
              "color": "#E5ECF6",
              "width": 0.5
             }
            },
            "type": "barpolar"
           }
          ],
          "carpet": [
           {
            "aaxis": {
             "endlinecolor": "#2a3f5f",
             "gridcolor": "white",
             "linecolor": "white",
             "minorgridcolor": "white",
             "startlinecolor": "#2a3f5f"
            },
            "baxis": {
             "endlinecolor": "#2a3f5f",
             "gridcolor": "white",
             "linecolor": "white",
             "minorgridcolor": "white",
             "startlinecolor": "#2a3f5f"
            },
            "type": "carpet"
           }
          ],
          "choropleth": [
           {
            "colorbar": {
             "outlinewidth": 0,
             "ticks": ""
            },
            "type": "choropleth"
           }
          ],
          "contour": [
           {
            "colorbar": {
             "outlinewidth": 0,
             "ticks": ""
            },
            "colorscale": [
             [
              0,
              "#0d0887"
             ],
             [
              0.1111111111111111,
              "#46039f"
             ],
             [
              0.2222222222222222,
              "#7201a8"
             ],
             [
              0.3333333333333333,
              "#9c179e"
             ],
             [
              0.4444444444444444,
              "#bd3786"
             ],
             [
              0.5555555555555556,
              "#d8576b"
             ],
             [
              0.6666666666666666,
              "#ed7953"
             ],
             [
              0.7777777777777778,
              "#fb9f3a"
             ],
             [
              0.8888888888888888,
              "#fdca26"
             ],
             [
              1,
              "#f0f921"
             ]
            ],
            "type": "contour"
           }
          ],
          "contourcarpet": [
           {
            "colorbar": {
             "outlinewidth": 0,
             "ticks": ""
            },
            "type": "contourcarpet"
           }
          ],
          "heatmap": [
           {
            "colorbar": {
             "outlinewidth": 0,
             "ticks": ""
            },
            "colorscale": [
             [
              0,
              "#0d0887"
             ],
             [
              0.1111111111111111,
              "#46039f"
             ],
             [
              0.2222222222222222,
              "#7201a8"
             ],
             [
              0.3333333333333333,
              "#9c179e"
             ],
             [
              0.4444444444444444,
              "#bd3786"
             ],
             [
              0.5555555555555556,
              "#d8576b"
             ],
             [
              0.6666666666666666,
              "#ed7953"
             ],
             [
              0.7777777777777778,
              "#fb9f3a"
             ],
             [
              0.8888888888888888,
              "#fdca26"
             ],
             [
              1,
              "#f0f921"
             ]
            ],
            "type": "heatmap"
           }
          ],
          "heatmapgl": [
           {
            "colorbar": {
             "outlinewidth": 0,
             "ticks": ""
            },
            "colorscale": [
             [
              0,
              "#0d0887"
             ],
             [
              0.1111111111111111,
              "#46039f"
             ],
             [
              0.2222222222222222,
              "#7201a8"
             ],
             [
              0.3333333333333333,
              "#9c179e"
             ],
             [
              0.4444444444444444,
              "#bd3786"
             ],
             [
              0.5555555555555556,
              "#d8576b"
             ],
             [
              0.6666666666666666,
              "#ed7953"
             ],
             [
              0.7777777777777778,
              "#fb9f3a"
             ],
             [
              0.8888888888888888,
              "#fdca26"
             ],
             [
              1,
              "#f0f921"
             ]
            ],
            "type": "heatmapgl"
           }
          ],
          "histogram": [
           {
            "marker": {
             "colorbar": {
              "outlinewidth": 0,
              "ticks": ""
             }
            },
            "type": "histogram"
           }
          ],
          "histogram2d": [
           {
            "colorbar": {
             "outlinewidth": 0,
             "ticks": ""
            },
            "colorscale": [
             [
              0,
              "#0d0887"
             ],
             [
              0.1111111111111111,
              "#46039f"
             ],
             [
              0.2222222222222222,
              "#7201a8"
             ],
             [
              0.3333333333333333,
              "#9c179e"
             ],
             [
              0.4444444444444444,
              "#bd3786"
             ],
             [
              0.5555555555555556,
              "#d8576b"
             ],
             [
              0.6666666666666666,
              "#ed7953"
             ],
             [
              0.7777777777777778,
              "#fb9f3a"
             ],
             [
              0.8888888888888888,
              "#fdca26"
             ],
             [
              1,
              "#f0f921"
             ]
            ],
            "type": "histogram2d"
           }
          ],
          "histogram2dcontour": [
           {
            "colorbar": {
             "outlinewidth": 0,
             "ticks": ""
            },
            "colorscale": [
             [
              0,
              "#0d0887"
             ],
             [
              0.1111111111111111,
              "#46039f"
             ],
             [
              0.2222222222222222,
              "#7201a8"
             ],
             [
              0.3333333333333333,
              "#9c179e"
             ],
             [
              0.4444444444444444,
              "#bd3786"
             ],
             [
              0.5555555555555556,
              "#d8576b"
             ],
             [
              0.6666666666666666,
              "#ed7953"
             ],
             [
              0.7777777777777778,
              "#fb9f3a"
             ],
             [
              0.8888888888888888,
              "#fdca26"
             ],
             [
              1,
              "#f0f921"
             ]
            ],
            "type": "histogram2dcontour"
           }
          ],
          "mesh3d": [
           {
            "colorbar": {
             "outlinewidth": 0,
             "ticks": ""
            },
            "type": "mesh3d"
           }
          ],
          "parcoords": [
           {
            "line": {
             "colorbar": {
              "outlinewidth": 0,
              "ticks": ""
             }
            },
            "type": "parcoords"
           }
          ],
          "pie": [
           {
            "automargin": true,
            "type": "pie"
           }
          ],
          "scatter": [
           {
            "marker": {
             "colorbar": {
              "outlinewidth": 0,
              "ticks": ""
             }
            },
            "type": "scatter"
           }
          ],
          "scatter3d": [
           {
            "line": {
             "colorbar": {
              "outlinewidth": 0,
              "ticks": ""
             }
            },
            "marker": {
             "colorbar": {
              "outlinewidth": 0,
              "ticks": ""
             }
            },
            "type": "scatter3d"
           }
          ],
          "scattercarpet": [
           {
            "marker": {
             "colorbar": {
              "outlinewidth": 0,
              "ticks": ""
             }
            },
            "type": "scattercarpet"
           }
          ],
          "scattergeo": [
           {
            "marker": {
             "colorbar": {
              "outlinewidth": 0,
              "ticks": ""
             }
            },
            "type": "scattergeo"
           }
          ],
          "scattergl": [
           {
            "marker": {
             "colorbar": {
              "outlinewidth": 0,
              "ticks": ""
             }
            },
            "type": "scattergl"
           }
          ],
          "scattermapbox": [
           {
            "marker": {
             "colorbar": {
              "outlinewidth": 0,
              "ticks": ""
             }
            },
            "type": "scattermapbox"
           }
          ],
          "scatterpolar": [
           {
            "marker": {
             "colorbar": {
              "outlinewidth": 0,
              "ticks": ""
             }
            },
            "type": "scatterpolar"
           }
          ],
          "scatterpolargl": [
           {
            "marker": {
             "colorbar": {
              "outlinewidth": 0,
              "ticks": ""
             }
            },
            "type": "scatterpolargl"
           }
          ],
          "scatterternary": [
           {
            "marker": {
             "colorbar": {
              "outlinewidth": 0,
              "ticks": ""
             }
            },
            "type": "scatterternary"
           }
          ],
          "surface": [
           {
            "colorbar": {
             "outlinewidth": 0,
             "ticks": ""
            },
            "colorscale": [
             [
              0,
              "#0d0887"
             ],
             [
              0.1111111111111111,
              "#46039f"
             ],
             [
              0.2222222222222222,
              "#7201a8"
             ],
             [
              0.3333333333333333,
              "#9c179e"
             ],
             [
              0.4444444444444444,
              "#bd3786"
             ],
             [
              0.5555555555555556,
              "#d8576b"
             ],
             [
              0.6666666666666666,
              "#ed7953"
             ],
             [
              0.7777777777777778,
              "#fb9f3a"
             ],
             [
              0.8888888888888888,
              "#fdca26"
             ],
             [
              1,
              "#f0f921"
             ]
            ],
            "type": "surface"
           }
          ],
          "table": [
           {
            "cells": {
             "fill": {
              "color": "#EBF0F8"
             },
             "line": {
              "color": "white"
             }
            },
            "header": {
             "fill": {
              "color": "#C8D4E3"
             },
             "line": {
              "color": "white"
             }
            },
            "type": "table"
           }
          ]
         },
         "layout": {
          "annotationdefaults": {
           "arrowcolor": "#2a3f5f",
           "arrowhead": 0,
           "arrowwidth": 1
          },
          "autotypenumbers": "strict",
          "coloraxis": {
           "colorbar": {
            "outlinewidth": 0,
            "ticks": ""
           }
          },
          "colorscale": {
           "diverging": [
            [
             0,
             "#8e0152"
            ],
            [
             0.1,
             "#c51b7d"
            ],
            [
             0.2,
             "#de77ae"
            ],
            [
             0.3,
             "#f1b6da"
            ],
            [
             0.4,
             "#fde0ef"
            ],
            [
             0.5,
             "#f7f7f7"
            ],
            [
             0.6,
             "#e6f5d0"
            ],
            [
             0.7,
             "#b8e186"
            ],
            [
             0.8,
             "#7fbc41"
            ],
            [
             0.9,
             "#4d9221"
            ],
            [
             1,
             "#276419"
            ]
           ],
           "sequential": [
            [
             0,
             "#0d0887"
            ],
            [
             0.1111111111111111,
             "#46039f"
            ],
            [
             0.2222222222222222,
             "#7201a8"
            ],
            [
             0.3333333333333333,
             "#9c179e"
            ],
            [
             0.4444444444444444,
             "#bd3786"
            ],
            [
             0.5555555555555556,
             "#d8576b"
            ],
            [
             0.6666666666666666,
             "#ed7953"
            ],
            [
             0.7777777777777778,
             "#fb9f3a"
            ],
            [
             0.8888888888888888,
             "#fdca26"
            ],
            [
             1,
             "#f0f921"
            ]
           ],
           "sequentialminus": [
            [
             0,
             "#0d0887"
            ],
            [
             0.1111111111111111,
             "#46039f"
            ],
            [
             0.2222222222222222,
             "#7201a8"
            ],
            [
             0.3333333333333333,
             "#9c179e"
            ],
            [
             0.4444444444444444,
             "#bd3786"
            ],
            [
             0.5555555555555556,
             "#d8576b"
            ],
            [
             0.6666666666666666,
             "#ed7953"
            ],
            [
             0.7777777777777778,
             "#fb9f3a"
            ],
            [
             0.8888888888888888,
             "#fdca26"
            ],
            [
             1,
             "#f0f921"
            ]
           ]
          },
          "colorway": [
           "#636efa",
           "#EF553B",
           "#00cc96",
           "#ab63fa",
           "#FFA15A",
           "#19d3f3",
           "#FF6692",
           "#B6E880",
           "#FF97FF",
           "#FECB52"
          ],
          "font": {
           "color": "#2a3f5f"
          },
          "geo": {
           "bgcolor": "white",
           "lakecolor": "white",
           "landcolor": "#E5ECF6",
           "showlakes": true,
           "showland": true,
           "subunitcolor": "white"
          },
          "hoverlabel": {
           "align": "left"
          },
          "hovermode": "closest",
          "mapbox": {
           "style": "light"
          },
          "paper_bgcolor": "white",
          "plot_bgcolor": "#E5ECF6",
          "polar": {
           "angularaxis": {
            "gridcolor": "white",
            "linecolor": "white",
            "ticks": ""
           },
           "bgcolor": "#E5ECF6",
           "radialaxis": {
            "gridcolor": "white",
            "linecolor": "white",
            "ticks": ""
           }
          },
          "scene": {
           "xaxis": {
            "backgroundcolor": "#E5ECF6",
            "gridcolor": "white",
            "gridwidth": 2,
            "linecolor": "white",
            "showbackground": true,
            "ticks": "",
            "zerolinecolor": "white"
           },
           "yaxis": {
            "backgroundcolor": "#E5ECF6",
            "gridcolor": "white",
            "gridwidth": 2,
            "linecolor": "white",
            "showbackground": true,
            "ticks": "",
            "zerolinecolor": "white"
           },
           "zaxis": {
            "backgroundcolor": "#E5ECF6",
            "gridcolor": "white",
            "gridwidth": 2,
            "linecolor": "white",
            "showbackground": true,
            "ticks": "",
            "zerolinecolor": "white"
           }
          },
          "shapedefaults": {
           "line": {
            "color": "#2a3f5f"
           }
          },
          "ternary": {
           "aaxis": {
            "gridcolor": "white",
            "linecolor": "white",
            "ticks": ""
           },
           "baxis": {
            "gridcolor": "white",
            "linecolor": "white",
            "ticks": ""
           },
           "bgcolor": "#E5ECF6",
           "caxis": {
            "gridcolor": "white",
            "linecolor": "white",
            "ticks": ""
           }
          },
          "title": {
           "x": 0.05
          },
          "xaxis": {
           "automargin": true,
           "gridcolor": "white",
           "linecolor": "white",
           "ticks": "",
           "title": {
            "standoff": 15
           },
           "zerolinecolor": "white",
           "zerolinewidth": 2
          },
          "yaxis": {
           "automargin": true,
           "gridcolor": "white",
           "linecolor": "white",
           "ticks": "",
           "title": {
            "standoff": 15
           },
           "zerolinecolor": "white",
           "zerolinewidth": 2
          }
         }
        }
       }
      }
     },
     "metadata": {},
     "output_type": "display_data"
    }
   ],
   "source": [
    "fig = px.scatter_3d(data_guli,x='num_not0', \n",
    "                       y='sum_all', \n",
    "                       z='aver_month', \n",
    "                       color='anomaly') \n",
    "fig.show()"
   ]
  },
  {
   "cell_type": "markdown",
   "metadata": {},
   "source": [
    "标准化后的孤立森林"
   ]
  },
  {
   "cell_type": "code",
   "execution_count": 141,
   "metadata": {},
   "outputs": [],
   "source": [
    "data_guli_biaozhun = data_guli_values.copy(deep=1)"
   ]
  },
  {
   "cell_type": "code",
   "execution_count": 142,
   "metadata": {},
   "outputs": [],
   "source": [
    "data_guli_biaozhun['sum_all']=data_guli_biaozhun.sum_all.apply(lambda x : 10*((x-np.min(data_guli_biaozhun.sum_all))/np.max(data_guli_biaozhun.sum_all)-np.min(data_guli_biaozhun.sum_all)))"
   ]
  },
  {
   "cell_type": "code",
   "execution_count": 143,
   "metadata": {},
   "outputs": [],
   "source": [
    "data_guli_biaozhun['aver_month']=data_guli_biaozhun.aver_month.apply(lambda x : 10*((x-np.min(data_guli_biaozhun.aver_month))/np.max(data_guli_biaozhun.aver_month)-np.min(data_guli_biaozhun.aver_month)))"
   ]
  },
  {
   "cell_type": "code",
   "execution_count": 144,
   "metadata": {},
   "outputs": [
    {
     "data": {
      "text/html": [
       "<div>\n",
       "<style scoped>\n",
       "    .dataframe tbody tr th:only-of-type {\n",
       "        vertical-align: middle;\n",
       "    }\n",
       "\n",
       "    .dataframe tbody tr th {\n",
       "        vertical-align: top;\n",
       "    }\n",
       "\n",
       "    .dataframe thead th {\n",
       "        text-align: right;\n",
       "    }\n",
       "</style>\n",
       "<table border=\"1\" class=\"dataframe\">\n",
       "  <thead>\n",
       "    <tr style=\"text-align: right;\">\n",
       "      <th></th>\n",
       "      <th>num_not0</th>\n",
       "      <th>sum_all</th>\n",
       "      <th>aver_month</th>\n",
       "    </tr>\n",
       "    <tr>\n",
       "      <th>meterNo</th>\n",
       "      <th></th>\n",
       "      <th></th>\n",
       "      <th></th>\n",
       "    </tr>\n",
       "  </thead>\n",
       "  <tbody>\n",
       "    <tr>\n",
       "      <th>10023160000029</th>\n",
       "      <td>2</td>\n",
       "      <td>0.127065</td>\n",
       "      <td>0.762389</td>\n",
       "    </tr>\n",
       "    <tr>\n",
       "      <th>10023160000030</th>\n",
       "      <td>8</td>\n",
       "      <td>0.017616</td>\n",
       "      <td>0.026424</td>\n",
       "    </tr>\n",
       "    <tr>\n",
       "      <th>10023160000032</th>\n",
       "      <td>7</td>\n",
       "      <td>0.052447</td>\n",
       "      <td>0.089910</td>\n",
       "    </tr>\n",
       "    <tr>\n",
       "      <th>10023160000036</th>\n",
       "      <td>8</td>\n",
       "      <td>0.643910</td>\n",
       "      <td>0.965864</td>\n",
       "    </tr>\n",
       "    <tr>\n",
       "      <th>10023160000042</th>\n",
       "      <td>2</td>\n",
       "      <td>0.092561</td>\n",
       "      <td>0.555369</td>\n",
       "    </tr>\n",
       "  </tbody>\n",
       "</table>\n",
       "</div>"
      ],
      "text/plain": [
       "                 num_not0   sum_all  aver_month\n",
       "meterNo                                        \n",
       "10023160000029          2  0.127065    0.762389\n",
       "10023160000030          8  0.017616    0.026424\n",
       "10023160000032          7  0.052447    0.089910\n",
       "10023160000036          8  0.643910    0.965864\n",
       "10023160000042          2  0.092561    0.555369"
      ]
     },
     "execution_count": 144,
     "metadata": {},
     "output_type": "execute_result"
    }
   ],
   "source": [
    "data_guli_biaozhun.head(5)"
   ]
  },
  {
   "cell_type": "code",
   "execution_count": 145,
   "metadata": {},
   "outputs": [],
   "source": [
    "data_guli_biaozhun_values = data_guli_biaozhun.copy(deep=1)"
   ]
  },
  {
   "cell_type": "code",
   "execution_count": 146,
   "metadata": {},
   "outputs": [
    {
     "data": {
      "text/plain": [
       "num_not0      12.0\n",
       "sum_all       10.0\n",
       "aver_month    10.0\n",
       "dtype: float64"
      ]
     },
     "execution_count": 146,
     "metadata": {},
     "output_type": "execute_result"
    }
   ],
   "source": [
    "data_guli_biaozhun.max()"
   ]
  },
  {
   "cell_type": "code",
   "execution_count": 147,
   "metadata": {},
   "outputs": [],
   "source": [
    "# 模型训练\n",
    "iforest1 = IsolationForest(n_estimators=100, max_samples='auto',  \n",
    "                          contamination=0.05, max_features=3,  \n",
    "                          bootstrap=False, n_jobs=-1, random_state=1)"
   ]
  },
  {
   "cell_type": "code",
   "execution_count": 148,
   "metadata": {},
   "outputs": [],
   "source": [
    "#  fit_predict 函数 训练和预测一起 可以得到模型是否异常的判断，-1为异常，1为正常\n",
    "data_guli_biaozhun['label'] = iforest.fit_predict(data_guli_biaozhun_values) "
   ]
  },
  {
   "cell_type": "code",
   "execution_count": 149,
   "metadata": {},
   "outputs": [],
   "source": [
    "# 预测 decision_function 可以得出 异常评分\n",
    "data_guli_biaozhun['scores'] = iforest.decision_function(data_guli_biaozhun_values)"
   ]
  },
  {
   "cell_type": "code",
   "execution_count": 150,
   "metadata": {},
   "outputs": [
    {
     "data": {
      "text/html": [
       "<div>\n",
       "<style scoped>\n",
       "    .dataframe tbody tr th:only-of-type {\n",
       "        vertical-align: middle;\n",
       "    }\n",
       "\n",
       "    .dataframe tbody tr th {\n",
       "        vertical-align: top;\n",
       "    }\n",
       "\n",
       "    .dataframe thead th {\n",
       "        text-align: right;\n",
       "    }\n",
       "</style>\n",
       "<table border=\"1\" class=\"dataframe\">\n",
       "  <thead>\n",
       "    <tr style=\"text-align: right;\">\n",
       "      <th></th>\n",
       "      <th>num_not0</th>\n",
       "      <th>sum_all</th>\n",
       "      <th>aver_month</th>\n",
       "      <th>label</th>\n",
       "      <th>scores</th>\n",
       "    </tr>\n",
       "    <tr>\n",
       "      <th>meterNo</th>\n",
       "      <th></th>\n",
       "      <th></th>\n",
       "      <th></th>\n",
       "      <th></th>\n",
       "      <th></th>\n",
       "    </tr>\n",
       "  </thead>\n",
       "  <tbody>\n",
       "    <tr>\n",
       "      <th>10023160000029</th>\n",
       "      <td>2</td>\n",
       "      <td>0.127065</td>\n",
       "      <td>0.762389</td>\n",
       "      <td>-1</td>\n",
       "      <td>-0.030422</td>\n",
       "    </tr>\n",
       "    <tr>\n",
       "      <th>10023160000030</th>\n",
       "      <td>8</td>\n",
       "      <td>0.017616</td>\n",
       "      <td>0.026424</td>\n",
       "      <td>1</td>\n",
       "      <td>0.164471</td>\n",
       "    </tr>\n",
       "    <tr>\n",
       "      <th>10023160000032</th>\n",
       "      <td>7</td>\n",
       "      <td>0.052447</td>\n",
       "      <td>0.089910</td>\n",
       "      <td>1</td>\n",
       "      <td>0.167411</td>\n",
       "    </tr>\n",
       "    <tr>\n",
       "      <th>10023160000036</th>\n",
       "      <td>8</td>\n",
       "      <td>0.643910</td>\n",
       "      <td>0.965864</td>\n",
       "      <td>1</td>\n",
       "      <td>0.005363</td>\n",
       "    </tr>\n",
       "    <tr>\n",
       "      <th>10023160000042</th>\n",
       "      <td>2</td>\n",
       "      <td>0.092561</td>\n",
       "      <td>0.555369</td>\n",
       "      <td>-1</td>\n",
       "      <td>-0.003388</td>\n",
       "    </tr>\n",
       "  </tbody>\n",
       "</table>\n",
       "</div>"
      ],
      "text/plain": [
       "                 num_not0   sum_all  aver_month  label    scores\n",
       "meterNo                                                         \n",
       "10023160000029          2  0.127065    0.762389     -1 -0.030422\n",
       "10023160000030          8  0.017616    0.026424      1  0.164471\n",
       "10023160000032          7  0.052447    0.089910      1  0.167411\n",
       "10023160000036          8  0.643910    0.965864      1  0.005363\n",
       "10023160000042          2  0.092561    0.555369     -1 -0.003388"
      ]
     },
     "execution_count": 150,
     "metadata": {},
     "output_type": "execute_result"
    }
   ],
   "source": [
    "data_guli_biaozhun.head(5)"
   ]
  },
  {
   "cell_type": "code",
   "execution_count": 151,
   "metadata": {},
   "outputs": [
    {
     "data": {
      "text/html": [
       "<div>\n",
       "<style scoped>\n",
       "    .dataframe tbody tr th:only-of-type {\n",
       "        vertical-align: middle;\n",
       "    }\n",
       "\n",
       "    .dataframe tbody tr th {\n",
       "        vertical-align: top;\n",
       "    }\n",
       "\n",
       "    .dataframe thead th {\n",
       "        text-align: right;\n",
       "    }\n",
       "</style>\n",
       "<table border=\"1\" class=\"dataframe\">\n",
       "  <thead>\n",
       "    <tr style=\"text-align: right;\">\n",
       "      <th></th>\n",
       "      <th>num_not0</th>\n",
       "      <th>sum_all</th>\n",
       "      <th>aver_month</th>\n",
       "      <th>label</th>\n",
       "      <th>scores</th>\n",
       "    </tr>\n",
       "    <tr>\n",
       "      <th>meterNo</th>\n",
       "      <th></th>\n",
       "      <th></th>\n",
       "      <th></th>\n",
       "      <th></th>\n",
       "      <th></th>\n",
       "    </tr>\n",
       "  </thead>\n",
       "  <tbody>\n",
       "    <tr>\n",
       "      <th>10023160000029</th>\n",
       "      <td>2</td>\n",
       "      <td>0.127065</td>\n",
       "      <td>0.762389</td>\n",
       "      <td>-1</td>\n",
       "      <td>-0.030422</td>\n",
       "    </tr>\n",
       "    <tr>\n",
       "      <th>10023160000042</th>\n",
       "      <td>2</td>\n",
       "      <td>0.092561</td>\n",
       "      <td>0.555369</td>\n",
       "      <td>-1</td>\n",
       "      <td>-0.003388</td>\n",
       "    </tr>\n",
       "    <tr>\n",
       "      <th>10023160000068</th>\n",
       "      <td>7</td>\n",
       "      <td>1.225118</td>\n",
       "      <td>2.100202</td>\n",
       "      <td>-1</td>\n",
       "      <td>-0.157761</td>\n",
       "    </tr>\n",
       "    <tr>\n",
       "      <th>10023160000072</th>\n",
       "      <td>5</td>\n",
       "      <td>0.381253</td>\n",
       "      <td>0.915007</td>\n",
       "      <td>-1</td>\n",
       "      <td>-0.018650</td>\n",
       "    </tr>\n",
       "    <tr>\n",
       "      <th>10023160000097</th>\n",
       "      <td>2</td>\n",
       "      <td>0.083161</td>\n",
       "      <td>0.498964</td>\n",
       "      <td>-1</td>\n",
       "      <td>-0.005428</td>\n",
       "    </tr>\n",
       "    <tr>\n",
       "      <th>10023160000107</th>\n",
       "      <td>11</td>\n",
       "      <td>1.162202</td>\n",
       "      <td>1.267857</td>\n",
       "      <td>-1</td>\n",
       "      <td>-0.095306</td>\n",
       "    </tr>\n",
       "    <tr>\n",
       "      <th>10023160000114</th>\n",
       "      <td>1</td>\n",
       "      <td>0.190349</td>\n",
       "      <td>2.284191</td>\n",
       "      <td>-1</td>\n",
       "      <td>-0.177929</td>\n",
       "    </tr>\n",
       "    <tr>\n",
       "      <th>10023160000115</th>\n",
       "      <td>12</td>\n",
       "      <td>1.157078</td>\n",
       "      <td>1.157078</td>\n",
       "      <td>-1</td>\n",
       "      <td>-0.072919</td>\n",
       "    </tr>\n",
       "    <tr>\n",
       "      <th>10023160000136</th>\n",
       "      <td>7</td>\n",
       "      <td>0.564078</td>\n",
       "      <td>0.966991</td>\n",
       "      <td>-1</td>\n",
       "      <td>-0.004124</td>\n",
       "    </tr>\n",
       "    <tr>\n",
       "      <th>10023160000180</th>\n",
       "      <td>1</td>\n",
       "      <td>0.000335</td>\n",
       "      <td>0.004019</td>\n",
       "      <td>-1</td>\n",
       "      <td>-0.005502</td>\n",
       "    </tr>\n",
       "    <tr>\n",
       "      <th>10023160000208</th>\n",
       "      <td>9</td>\n",
       "      <td>0.736831</td>\n",
       "      <td>0.982441</td>\n",
       "      <td>-1</td>\n",
       "      <td>-0.015474</td>\n",
       "    </tr>\n",
       "    <tr>\n",
       "      <th>10023160000230</th>\n",
       "      <td>2</td>\n",
       "      <td>0.144419</td>\n",
       "      <td>0.866515</td>\n",
       "      <td>-1</td>\n",
       "      <td>-0.050155</td>\n",
       "    </tr>\n",
       "    <tr>\n",
       "      <th>10023160000234</th>\n",
       "      <td>1</td>\n",
       "      <td>0.000046</td>\n",
       "      <td>0.000550</td>\n",
       "      <td>-1</td>\n",
       "      <td>-0.009520</td>\n",
       "    </tr>\n",
       "    <tr>\n",
       "      <th>10023160000249</th>\n",
       "      <td>4</td>\n",
       "      <td>0.585709</td>\n",
       "      <td>1.757127</td>\n",
       "      <td>-1</td>\n",
       "      <td>-0.118756</td>\n",
       "    </tr>\n",
       "    <tr>\n",
       "      <th>10023160000281</th>\n",
       "      <td>10</td>\n",
       "      <td>2.250711</td>\n",
       "      <td>2.700853</td>\n",
       "      <td>-1</td>\n",
       "      <td>-0.197071</td>\n",
       "    </tr>\n",
       "    <tr>\n",
       "      <th>10023160000282</th>\n",
       "      <td>1</td>\n",
       "      <td>0.020658</td>\n",
       "      <td>0.247901</td>\n",
       "      <td>-1</td>\n",
       "      <td>-0.027307</td>\n",
       "    </tr>\n",
       "    <tr>\n",
       "      <th>10023160000283</th>\n",
       "      <td>1</td>\n",
       "      <td>0.009667</td>\n",
       "      <td>0.116002</td>\n",
       "      <td>-1</td>\n",
       "      <td>-0.002869</td>\n",
       "    </tr>\n",
       "    <tr>\n",
       "      <th>10023160000312</th>\n",
       "      <td>12</td>\n",
       "      <td>0.831815</td>\n",
       "      <td>0.831815</td>\n",
       "      <td>-1</td>\n",
       "      <td>-0.005135</td>\n",
       "    </tr>\n",
       "    <tr>\n",
       "      <th>10023160000313</th>\n",
       "      <td>12</td>\n",
       "      <td>1.097323</td>\n",
       "      <td>1.097323</td>\n",
       "      <td>-1</td>\n",
       "      <td>-0.059879</td>\n",
       "    </tr>\n",
       "    <tr>\n",
       "      <th>10014164400011</th>\n",
       "      <td>12</td>\n",
       "      <td>10.000000</td>\n",
       "      <td>10.000000</td>\n",
       "      <td>-1</td>\n",
       "      <td>-0.276973</td>\n",
       "    </tr>\n",
       "  </tbody>\n",
       "</table>\n",
       "</div>"
      ],
      "text/plain": [
       "                 num_not0    sum_all  aver_month  label    scores\n",
       "meterNo                                                          \n",
       "10023160000029          2   0.127065    0.762389     -1 -0.030422\n",
       "10023160000042          2   0.092561    0.555369     -1 -0.003388\n",
       "10023160000068          7   1.225118    2.100202     -1 -0.157761\n",
       "10023160000072          5   0.381253    0.915007     -1 -0.018650\n",
       "10023160000097          2   0.083161    0.498964     -1 -0.005428\n",
       "10023160000107         11   1.162202    1.267857     -1 -0.095306\n",
       "10023160000114          1   0.190349    2.284191     -1 -0.177929\n",
       "10023160000115         12   1.157078    1.157078     -1 -0.072919\n",
       "10023160000136          7   0.564078    0.966991     -1 -0.004124\n",
       "10023160000180          1   0.000335    0.004019     -1 -0.005502\n",
       "10023160000208          9   0.736831    0.982441     -1 -0.015474\n",
       "10023160000230          2   0.144419    0.866515     -1 -0.050155\n",
       "10023160000234          1   0.000046    0.000550     -1 -0.009520\n",
       "10023160000249          4   0.585709    1.757127     -1 -0.118756\n",
       "10023160000281         10   2.250711    2.700853     -1 -0.197071\n",
       "10023160000282          1   0.020658    0.247901     -1 -0.027307\n",
       "10023160000283          1   0.009667    0.116002     -1 -0.002869\n",
       "10023160000312         12   0.831815    0.831815     -1 -0.005135\n",
       "10023160000313         12   1.097323    1.097323     -1 -0.059879\n",
       "10014164400011         12  10.000000   10.000000     -1 -0.276973"
      ]
     },
     "execution_count": 151,
     "metadata": {},
     "output_type": "execute_result"
    }
   ],
   "source": [
    "data_guli_biaozhun[data_guli_biaozhun.label==-1]"
   ]
  },
  {
   "cell_type": "code",
   "execution_count": 152,
   "metadata": {},
   "outputs": [
    {
     "data": {
      "application/vnd.plotly.v1+json": {
       "config": {
        "plotlyServerURL": "https://plot.ly"
       },
       "data": [
        {
         "alignmentgroup": "True",
         "bingroup": "x",
         "hovertemplate": "anomaly=outlier<br>scores=%{x}<br>count=%{y}<extra></extra>",
         "legendgroup": "outlier",
         "marker": {
          "color": "#636efa"
         },
         "name": "outlier",
         "offsetgroup": "outlier",
         "orientation": "v",
         "showlegend": true,
         "type": "histogram",
         "x": [
          -0.030421532906296567,
          -0.003387697535341072,
          -0.1577608870151107,
          -0.018650204729239728,
          -0.005428064825633405,
          -0.09530645794318149,
          -0.17792939622373727,
          -0.07291945779318243,
          -0.004124351500091383,
          -0.005501909574215591,
          -0.01547361200366193,
          -0.05015450650668429,
          -0.009519823504254177,
          -0.11875562221672453,
          -0.19707070553349915,
          -0.027306942800770728,
          -0.0028688813532082857,
          -0.005134741581077629,
          -0.05987889964949811,
          -0.27697329950196814
         ],
         "xaxis": "x",
         "yaxis": "y"
        },
        {
         "alignmentgroup": "True",
         "bingroup": "x",
         "hovertemplate": "anomaly=inlier<br>scores=%{x}<br>count=%{y}<extra></extra>",
         "legendgroup": "inlier",
         "marker": {
          "color": "#EF553B"
         },
         "name": "inlier",
         "offsetgroup": "inlier",
         "orientation": "v",
         "showlegend": true,
         "type": "histogram",
         "x": [
          0.16447145227217047,
          0.1674111141438983,
          0.005362690349787647,
          0.15956118950280412,
          0.1854181968947048,
          0.014041665928408942,
          0.12147798397852438,
          0.02184076204598351,
          0.22169130868034337,
          0.2240180996342312,
          0.13910337334877565,
          0.20036023999229663,
          0.22370024742663758,
          0.1932970748615121,
          0.22404201814724617,
          0.18247651939503462,
          0.18957985442410047,
          0.22973131444758854,
          0.23169843726262052,
          0.2247310356217821,
          0.2351716642548103,
          0.22411993804458674,
          0.18609319344309294,
          0.18120889874661983,
          0.228644333942713,
          0.1984947801180335,
          0.22162773023441684,
          0.14185709645454997,
          0.23006435878054593,
          0.2351716642548103,
          0.22169130868034337,
          0.2212322842419866,
          0.22394165340750832,
          0.21022279990489096,
          0.22484990985488468,
          0.22624564290076293,
          0.2337879035886517,
          0.2200424690244842,
          0.2234339303636092,
          0.21727788111008217,
          0.21034854134718461,
          0.22484990985488468,
          0.22697677023496698,
          0.22664928886243507,
          0.22694995689013853,
          0.2225186530121952,
          0.23635032581942356,
          0.2262640213289846,
          0.2051967046461476,
          0.2284225834533541,
          0.22859747427997534,
          0.19939744086354316,
          0.21284218776690123,
          0.2225186530121952,
          0.23330876639048936,
          0.2139908243814374,
          0.22411993804458674,
          0.22991156498537008,
          0.21861440286718375,
          0.22542931884527279,
          0.220348880871665,
          0.22528115577437657,
          0.22068334705887976,
          0.2243312391642449,
          0.22104283732811209,
          0.19289631495068327,
          0.21868516212896244,
          0.18634752549776862,
          0.217251176034367,
          0.09605653903797057,
          0.2274283515040505,
          0.18308148918448425,
          0.18111733157395793,
          0.17384685433943892,
          0.1458232025522439,
          0.23197622247761057,
          0.21886916640037368,
          0.06520501577661997,
          0.1966916715362771,
          0.23317468765173244,
          0.2272626895801672,
          0.18957132359028117,
          0.0009562937844027619,
          0.21497896793522397,
          0.22132321385223125,
          0.15497938989383658,
          0.2202863355796163,
          0.19436681737879313,
          0.1904315004566739,
          0.18516161880501314,
          0.22563835861084441,
          0.16454490545245348,
          0.22368983242308715,
          0.21270021886736445,
          0.2268798353730614,
          0.22223690612559027,
          0.18005839695077042,
          0.22198903301791506,
          0.21258509637208972,
          0.13551821677262288,
          0.22362767234775716,
          0.22898252148444093,
          0.19926692038554378,
          0.21763051794611055,
          0.22717044735653136,
          0.2189126177803265,
          0.22013309907270479,
          0.19156964756748251,
          0.21727788111008217,
          0.22169130868034337,
          0.1933635148424559,
          0.22504521838618352,
          0.22733565022147312,
          0.21917264217007365,
          0.2274283515040505,
          0.17305714653321047,
          0.21261419522272745,
          0.22769749301748454,
          0.2297304196845632,
          0.22591780517965082,
          0.21715523844912343,
          0.22661316986723323,
          0.2275084767066342,
          0.14891000064369425,
          0.22772082961002627,
          0.1800768010957231,
          0.22210391937550084,
          0.20663894762089452,
          0.20557926228380846,
          0.19934344895376943,
          0.20836163050744083,
          0.21377674865651153,
          0.2082118949377848,
          0.23330876639048936,
          0.2202863355796163,
          0.22389337460162456,
          0.22916672124911452,
          0.2195708628454613,
          0.18132482889316037,
          0.12987655385921104,
          0.1497013912074821,
          0.16870278873073935,
          0.2284225834533541,
          0.2261550359948849,
          0.21651543363202846,
          0.22724583779914448,
          0.2211178142167135,
          0.2072445049264901,
          0.21356268667562883,
          0.21689593124528622,
          0.22911071012495543,
          0.23456739888810058,
          0.23197622247761057,
          0.21217516344088894,
          0.21109575428202765,
          0.19769521754211844,
          0.2262640213289846,
          0.2247390018505358,
          0.2199882456188399,
          0.22157038088607367,
          0.22664928886243507,
          0.1989981277885805,
          0.22588515296285927,
          0.22404201814724617,
          0.22690195931354906,
          0.02275402228855572,
          0.19129814809380608,
          0.2262640213289846,
          0.17814386423012774,
          0.06387413493124505,
          0.2160470743842599,
          0.1668647121489416,
          0.15819361821752037,
          0.23197622247761057,
          0.22544190788990265,
          0.045245996216365825,
          0.22719344008208608,
          0.2351716642548103,
          0.2106956979025627,
          0.21412561093606441,
          0.21410757478057707,
          0.18139745653187622,
          0.23332140036267035,
          0.18875729102470268,
          0.18244703759272185,
          0.23169843726262052,
          0.19772173272380822,
          0.18132482889316037,
          0.22298057183150782,
          0.21835409017426505,
          0.21930548853671483,
          0.20227426136654292,
          0.22085139800863207,
          0.22169130868034337,
          0.18770394154907766,
          0.22676435565983744,
          0.05653260556688877,
          0.16336742458136483,
          0.22870458708847075,
          0.20458156555835283,
          0.22888664373169365,
          0.14139892862990128,
          0.21939014891577124,
          0.1471292751121907,
          0.12851163417354072,
          0.22916672124911452,
          0.12616097735636916,
          0.22887812811360214,
          0.16524918318078496,
          0.18321370555534355,
          0.22772082961002627,
          0.21445261073252486,
          0.22270697892653768,
          0.23524302748808346,
          0.1269009155115824,
          0.03143864947682873,
          0.21439569901819178,
          0.2336249406362455,
          0.22298057183150782,
          0.22676435565983744,
          0.15427293508462497,
          0.1549983096049385,
          0.1337052697608873,
          0.16265771664794687,
          0.1810592120653607,
          0.23635032581942356,
          0.14181271848011806,
          0.15682021788893613,
          0.15229157382460995,
          0.02159376669983637,
          0.17293236939452283,
          0.1761976937548117,
          0.060096044460136167,
          0.21727788111008217,
          0.18380703720307418,
          0.14841552223163268,
          0.14697606132392638,
          0.19156413944819511,
          0.14727927798542884,
          0.12367333222430482,
          0.2259392203214986,
          0.047950319762948834,
          0.1403696407726867,
          0.18219935244845287,
          0.22169130868034337,
          0.034673958181917985,
          0.18788950421779949,
          0.09838509402701051,
          0.03453353886761612,
          0.21717345488023954,
          0.1273564893793423,
          0.14031821815315665,
          0.06943287607165105,
          0.09344334373330676,
          0.051998425605919385,
          0.154885913676151,
          0.1598014323937706,
          0.17135826488041955,
          0.10629129939182264,
          0.15783613960606924,
          0.05412473124720374,
          0.18093251747515005,
          0.10171632023448857,
          0.1339961954244248,
          0.1725735022714261,
          0.16444842703833018,
          0.18277102116771105,
          0.21410757478057707,
          0.16971852863994819,
          0.16657475120798282,
          0.15751980406795796,
          0.15795754791563105,
          0.21879263760999607,
          0.19308289853939947,
          0.22169130868034337,
          0.06727604008426868,
          0.07623296821521097,
          0.21763051794611055,
          0.14918340063869617,
          0.1828553733320798,
          0.22719344008208608,
          0.1894514197707246,
          0.22543951534602497,
          0.018819223376283056,
          0.21125363223453542,
          0.1945221831510065,
          0.19430347620360633,
          0.2325399347586054,
          0.19260175061537765,
          0.22132236351268764,
          0.23542817733998483,
          0.1477655097898597,
          0.12367333222430482,
          0.19353211944625404,
          0.21379606229524722,
          0.19323750297280373,
          0.028184041944562144,
          0.19504502781556554,
          0.13300594444064467,
          0.044176189030813884,
          0.12143443568802398,
          0.17336573311470216,
          0.13843913606409147,
          0.07615686755419371,
          0.191828524278087,
          0.191633589161683,
          0.06497155656229003,
          0.20141282774394803,
          0.05036693591593666,
          0.055468070128763425,
          0.013049643034250158,
          0.09709147766167098,
          0.02058863624071805,
          0.22544190788990265,
          0.18019921866482436,
          0.15081459080628806,
          0.13054167215511675,
          0.12382854958945588,
          0.21686868776198315,
          0.16770455471179252,
          0.09771434520806538,
          0.22710163650523646,
          0.16334928089186274,
          0.18517265571463443,
          0.173578719748812,
          0.11601064186665955,
          0.1710794950195897,
          0.19934344895376943,
          0.1942704531305195,
          0.13243104175273074,
          0.11691803640313209,
          0.18851802345807567,
          0.035200512712501686,
          0.16168607133424678,
          0.08897931172026408,
          0.1524588622830404,
          0.08218302045161674,
          0.18514389614399268,
          0.16740704928062156,
          0.19312605393034327,
          0.2348524121208443,
          0.04422402994427099,
          0.19914276310660806,
          0.18380352680127499,
          0.22591780517965082,
          0.15783613960606924,
          0.21843043842598314,
          0.1323628105757758,
          0.2257572268383135,
          0.04502450324383955,
          0.19754680265580288,
          0.14697606132392638,
          0.11964506489962945,
          0.10711436451662831,
          0.1828364290180945,
          0.2205562733829155,
          0.07680233680968163,
          0.1364490736177526,
          0.07259649351416153,
          0.1881985419433287,
          0.02725703118715761,
          0.02116746996706298,
          0.12326952541232727,
          0.18111733157395793,
          0.16638121878390677,
          0.042522984035316735,
          0.1806382686120968,
          0.18249251957376306,
          0.17919694606054593,
          0.19498006203990836,
          0.1403696407726867,
          0.1213598551291089,
          0.2025114450185545,
          0.18399088633755656,
          0.16245574389559198,
          0.20018149166167792
         ],
         "xaxis": "x",
         "yaxis": "y"
        }
       ],
       "layout": {
        "barmode": "relative",
        "legend": {
         "title": {
          "text": "anomaly"
         },
         "tracegroupgap": 0
        },
        "margin": {
         "t": 60
        },
        "template": {
         "data": {
          "bar": [
           {
            "error_x": {
             "color": "#2a3f5f"
            },
            "error_y": {
             "color": "#2a3f5f"
            },
            "marker": {
             "line": {
              "color": "#E5ECF6",
              "width": 0.5
             }
            },
            "type": "bar"
           }
          ],
          "barpolar": [
           {
            "marker": {
             "line": {
              "color": "#E5ECF6",
              "width": 0.5
             }
            },
            "type": "barpolar"
           }
          ],
          "carpet": [
           {
            "aaxis": {
             "endlinecolor": "#2a3f5f",
             "gridcolor": "white",
             "linecolor": "white",
             "minorgridcolor": "white",
             "startlinecolor": "#2a3f5f"
            },
            "baxis": {
             "endlinecolor": "#2a3f5f",
             "gridcolor": "white",
             "linecolor": "white",
             "minorgridcolor": "white",
             "startlinecolor": "#2a3f5f"
            },
            "type": "carpet"
           }
          ],
          "choropleth": [
           {
            "colorbar": {
             "outlinewidth": 0,
             "ticks": ""
            },
            "type": "choropleth"
           }
          ],
          "contour": [
           {
            "colorbar": {
             "outlinewidth": 0,
             "ticks": ""
            },
            "colorscale": [
             [
              0,
              "#0d0887"
             ],
             [
              0.1111111111111111,
              "#46039f"
             ],
             [
              0.2222222222222222,
              "#7201a8"
             ],
             [
              0.3333333333333333,
              "#9c179e"
             ],
             [
              0.4444444444444444,
              "#bd3786"
             ],
             [
              0.5555555555555556,
              "#d8576b"
             ],
             [
              0.6666666666666666,
              "#ed7953"
             ],
             [
              0.7777777777777778,
              "#fb9f3a"
             ],
             [
              0.8888888888888888,
              "#fdca26"
             ],
             [
              1,
              "#f0f921"
             ]
            ],
            "type": "contour"
           }
          ],
          "contourcarpet": [
           {
            "colorbar": {
             "outlinewidth": 0,
             "ticks": ""
            },
            "type": "contourcarpet"
           }
          ],
          "heatmap": [
           {
            "colorbar": {
             "outlinewidth": 0,
             "ticks": ""
            },
            "colorscale": [
             [
              0,
              "#0d0887"
             ],
             [
              0.1111111111111111,
              "#46039f"
             ],
             [
              0.2222222222222222,
              "#7201a8"
             ],
             [
              0.3333333333333333,
              "#9c179e"
             ],
             [
              0.4444444444444444,
              "#bd3786"
             ],
             [
              0.5555555555555556,
              "#d8576b"
             ],
             [
              0.6666666666666666,
              "#ed7953"
             ],
             [
              0.7777777777777778,
              "#fb9f3a"
             ],
             [
              0.8888888888888888,
              "#fdca26"
             ],
             [
              1,
              "#f0f921"
             ]
            ],
            "type": "heatmap"
           }
          ],
          "heatmapgl": [
           {
            "colorbar": {
             "outlinewidth": 0,
             "ticks": ""
            },
            "colorscale": [
             [
              0,
              "#0d0887"
             ],
             [
              0.1111111111111111,
              "#46039f"
             ],
             [
              0.2222222222222222,
              "#7201a8"
             ],
             [
              0.3333333333333333,
              "#9c179e"
             ],
             [
              0.4444444444444444,
              "#bd3786"
             ],
             [
              0.5555555555555556,
              "#d8576b"
             ],
             [
              0.6666666666666666,
              "#ed7953"
             ],
             [
              0.7777777777777778,
              "#fb9f3a"
             ],
             [
              0.8888888888888888,
              "#fdca26"
             ],
             [
              1,
              "#f0f921"
             ]
            ],
            "type": "heatmapgl"
           }
          ],
          "histogram": [
           {
            "marker": {
             "colorbar": {
              "outlinewidth": 0,
              "ticks": ""
             }
            },
            "type": "histogram"
           }
          ],
          "histogram2d": [
           {
            "colorbar": {
             "outlinewidth": 0,
             "ticks": ""
            },
            "colorscale": [
             [
              0,
              "#0d0887"
             ],
             [
              0.1111111111111111,
              "#46039f"
             ],
             [
              0.2222222222222222,
              "#7201a8"
             ],
             [
              0.3333333333333333,
              "#9c179e"
             ],
             [
              0.4444444444444444,
              "#bd3786"
             ],
             [
              0.5555555555555556,
              "#d8576b"
             ],
             [
              0.6666666666666666,
              "#ed7953"
             ],
             [
              0.7777777777777778,
              "#fb9f3a"
             ],
             [
              0.8888888888888888,
              "#fdca26"
             ],
             [
              1,
              "#f0f921"
             ]
            ],
            "type": "histogram2d"
           }
          ],
          "histogram2dcontour": [
           {
            "colorbar": {
             "outlinewidth": 0,
             "ticks": ""
            },
            "colorscale": [
             [
              0,
              "#0d0887"
             ],
             [
              0.1111111111111111,
              "#46039f"
             ],
             [
              0.2222222222222222,
              "#7201a8"
             ],
             [
              0.3333333333333333,
              "#9c179e"
             ],
             [
              0.4444444444444444,
              "#bd3786"
             ],
             [
              0.5555555555555556,
              "#d8576b"
             ],
             [
              0.6666666666666666,
              "#ed7953"
             ],
             [
              0.7777777777777778,
              "#fb9f3a"
             ],
             [
              0.8888888888888888,
              "#fdca26"
             ],
             [
              1,
              "#f0f921"
             ]
            ],
            "type": "histogram2dcontour"
           }
          ],
          "mesh3d": [
           {
            "colorbar": {
             "outlinewidth": 0,
             "ticks": ""
            },
            "type": "mesh3d"
           }
          ],
          "parcoords": [
           {
            "line": {
             "colorbar": {
              "outlinewidth": 0,
              "ticks": ""
             }
            },
            "type": "parcoords"
           }
          ],
          "pie": [
           {
            "automargin": true,
            "type": "pie"
           }
          ],
          "scatter": [
           {
            "marker": {
             "colorbar": {
              "outlinewidth": 0,
              "ticks": ""
             }
            },
            "type": "scatter"
           }
          ],
          "scatter3d": [
           {
            "line": {
             "colorbar": {
              "outlinewidth": 0,
              "ticks": ""
             }
            },
            "marker": {
             "colorbar": {
              "outlinewidth": 0,
              "ticks": ""
             }
            },
            "type": "scatter3d"
           }
          ],
          "scattercarpet": [
           {
            "marker": {
             "colorbar": {
              "outlinewidth": 0,
              "ticks": ""
             }
            },
            "type": "scattercarpet"
           }
          ],
          "scattergeo": [
           {
            "marker": {
             "colorbar": {
              "outlinewidth": 0,
              "ticks": ""
             }
            },
            "type": "scattergeo"
           }
          ],
          "scattergl": [
           {
            "marker": {
             "colorbar": {
              "outlinewidth": 0,
              "ticks": ""
             }
            },
            "type": "scattergl"
           }
          ],
          "scattermapbox": [
           {
            "marker": {
             "colorbar": {
              "outlinewidth": 0,
              "ticks": ""
             }
            },
            "type": "scattermapbox"
           }
          ],
          "scatterpolar": [
           {
            "marker": {
             "colorbar": {
              "outlinewidth": 0,
              "ticks": ""
             }
            },
            "type": "scatterpolar"
           }
          ],
          "scatterpolargl": [
           {
            "marker": {
             "colorbar": {
              "outlinewidth": 0,
              "ticks": ""
             }
            },
            "type": "scatterpolargl"
           }
          ],
          "scatterternary": [
           {
            "marker": {
             "colorbar": {
              "outlinewidth": 0,
              "ticks": ""
             }
            },
            "type": "scatterternary"
           }
          ],
          "surface": [
           {
            "colorbar": {
             "outlinewidth": 0,
             "ticks": ""
            },
            "colorscale": [
             [
              0,
              "#0d0887"
             ],
             [
              0.1111111111111111,
              "#46039f"
             ],
             [
              0.2222222222222222,
              "#7201a8"
             ],
             [
              0.3333333333333333,
              "#9c179e"
             ],
             [
              0.4444444444444444,
              "#bd3786"
             ],
             [
              0.5555555555555556,
              "#d8576b"
             ],
             [
              0.6666666666666666,
              "#ed7953"
             ],
             [
              0.7777777777777778,
              "#fb9f3a"
             ],
             [
              0.8888888888888888,
              "#fdca26"
             ],
             [
              1,
              "#f0f921"
             ]
            ],
            "type": "surface"
           }
          ],
          "table": [
           {
            "cells": {
             "fill": {
              "color": "#EBF0F8"
             },
             "line": {
              "color": "white"
             }
            },
            "header": {
             "fill": {
              "color": "#C8D4E3"
             },
             "line": {
              "color": "white"
             }
            },
            "type": "table"
           }
          ]
         },
         "layout": {
          "annotationdefaults": {
           "arrowcolor": "#2a3f5f",
           "arrowhead": 0,
           "arrowwidth": 1
          },
          "autotypenumbers": "strict",
          "coloraxis": {
           "colorbar": {
            "outlinewidth": 0,
            "ticks": ""
           }
          },
          "colorscale": {
           "diverging": [
            [
             0,
             "#8e0152"
            ],
            [
             0.1,
             "#c51b7d"
            ],
            [
             0.2,
             "#de77ae"
            ],
            [
             0.3,
             "#f1b6da"
            ],
            [
             0.4,
             "#fde0ef"
            ],
            [
             0.5,
             "#f7f7f7"
            ],
            [
             0.6,
             "#e6f5d0"
            ],
            [
             0.7,
             "#b8e186"
            ],
            [
             0.8,
             "#7fbc41"
            ],
            [
             0.9,
             "#4d9221"
            ],
            [
             1,
             "#276419"
            ]
           ],
           "sequential": [
            [
             0,
             "#0d0887"
            ],
            [
             0.1111111111111111,
             "#46039f"
            ],
            [
             0.2222222222222222,
             "#7201a8"
            ],
            [
             0.3333333333333333,
             "#9c179e"
            ],
            [
             0.4444444444444444,
             "#bd3786"
            ],
            [
             0.5555555555555556,
             "#d8576b"
            ],
            [
             0.6666666666666666,
             "#ed7953"
            ],
            [
             0.7777777777777778,
             "#fb9f3a"
            ],
            [
             0.8888888888888888,
             "#fdca26"
            ],
            [
             1,
             "#f0f921"
            ]
           ],
           "sequentialminus": [
            [
             0,
             "#0d0887"
            ],
            [
             0.1111111111111111,
             "#46039f"
            ],
            [
             0.2222222222222222,
             "#7201a8"
            ],
            [
             0.3333333333333333,
             "#9c179e"
            ],
            [
             0.4444444444444444,
             "#bd3786"
            ],
            [
             0.5555555555555556,
             "#d8576b"
            ],
            [
             0.6666666666666666,
             "#ed7953"
            ],
            [
             0.7777777777777778,
             "#fb9f3a"
            ],
            [
             0.8888888888888888,
             "#fdca26"
            ],
            [
             1,
             "#f0f921"
            ]
           ]
          },
          "colorway": [
           "#636efa",
           "#EF553B",
           "#00cc96",
           "#ab63fa",
           "#FFA15A",
           "#19d3f3",
           "#FF6692",
           "#B6E880",
           "#FF97FF",
           "#FECB52"
          ],
          "font": {
           "color": "#2a3f5f"
          },
          "geo": {
           "bgcolor": "white",
           "lakecolor": "white",
           "landcolor": "#E5ECF6",
           "showlakes": true,
           "showland": true,
           "subunitcolor": "white"
          },
          "hoverlabel": {
           "align": "left"
          },
          "hovermode": "closest",
          "mapbox": {
           "style": "light"
          },
          "paper_bgcolor": "white",
          "plot_bgcolor": "#E5ECF6",
          "polar": {
           "angularaxis": {
            "gridcolor": "white",
            "linecolor": "white",
            "ticks": ""
           },
           "bgcolor": "#E5ECF6",
           "radialaxis": {
            "gridcolor": "white",
            "linecolor": "white",
            "ticks": ""
           }
          },
          "scene": {
           "xaxis": {
            "backgroundcolor": "#E5ECF6",
            "gridcolor": "white",
            "gridwidth": 2,
            "linecolor": "white",
            "showbackground": true,
            "ticks": "",
            "zerolinecolor": "white"
           },
           "yaxis": {
            "backgroundcolor": "#E5ECF6",
            "gridcolor": "white",
            "gridwidth": 2,
            "linecolor": "white",
            "showbackground": true,
            "ticks": "",
            "zerolinecolor": "white"
           },
           "zaxis": {
            "backgroundcolor": "#E5ECF6",
            "gridcolor": "white",
            "gridwidth": 2,
            "linecolor": "white",
            "showbackground": true,
            "ticks": "",
            "zerolinecolor": "white"
           }
          },
          "shapedefaults": {
           "line": {
            "color": "#2a3f5f"
           }
          },
          "ternary": {
           "aaxis": {
            "gridcolor": "white",
            "linecolor": "white",
            "ticks": ""
           },
           "baxis": {
            "gridcolor": "white",
            "linecolor": "white",
            "ticks": ""
           },
           "bgcolor": "#E5ECF6",
           "caxis": {
            "gridcolor": "white",
            "linecolor": "white",
            "ticks": ""
           }
          },
          "title": {
           "x": 0.05
          },
          "xaxis": {
           "automargin": true,
           "gridcolor": "white",
           "linecolor": "white",
           "ticks": "",
           "title": {
            "standoff": 15
           },
           "zerolinecolor": "white",
           "zerolinewidth": 2
          },
          "yaxis": {
           "automargin": true,
           "gridcolor": "white",
           "linecolor": "white",
           "ticks": "",
           "title": {
            "standoff": 15
           },
           "zerolinecolor": "white",
           "zerolinewidth": 2
          }
         }
        },
        "xaxis": {
         "anchor": "y",
         "domain": [
          0,
          1
         ],
         "title": {
          "text": "scores"
         }
        },
        "yaxis": {
         "anchor": "x",
         "domain": [
          0,
          1
         ],
         "title": {
          "text": "count"
         }
        }
       }
      }
     },
     "metadata": {},
     "output_type": "display_data"
    }
   ],
   "source": [
    "data_guli_biaozhun['anomaly'] = data_guli_biaozhun['label'].apply(lambda x: 'outlier' if x==-1  else 'inlier') \n",
    "fig = px.histogram(data_guli_biaozhun,x='scores',color='anomaly') \n",
    "fig.show()"
   ]
  },
  {
   "cell_type": "code",
   "execution_count": 153,
   "metadata": {},
   "outputs": [
    {
     "data": {
      "application/vnd.plotly.v1+json": {
       "config": {
        "plotlyServerURL": "https://plot.ly"
       },
       "data": [
        {
         "hovertemplate": "anomaly=outlier<br>num_not0=%{x}<br>sum_all=%{y}<br>aver_month=%{z}<extra></extra>",
         "legendgroup": "outlier",
         "marker": {
          "color": "#636efa",
          "symbol": "circle"
         },
         "mode": "markers",
         "name": "outlier",
         "scene": "scene",
         "showlegend": true,
         "type": "scatter3d",
         "x": [
          2,
          2,
          7,
          5,
          2,
          11,
          1,
          12,
          7,
          1,
          9,
          2,
          1,
          4,
          10,
          1,
          1,
          12,
          12,
          12
         ],
         "y": [
          0.12706485476641508,
          0.09256149611599218,
          1.2251178379449417,
          0.3812529385425736,
          0.0831606571629643,
          1.162202482108656,
          0.19034922776887253,
          1.1570778322165172,
          0.5640782389691944,
          0.0003349401628931695,
          0.7368307804179829,
          0.14441919030855896,
          0.000045792861765712404,
          0.5857089491956301,
          2.2507106602764733,
          0.02065843211034491,
          0.009666843764343321,
          0.8318152511856962,
          1.097323079582904,
          10
         ],
         "z": [
          0.7623891285984905,
          0.5553689766959531,
          2.1002020079056143,
          0.9150070525021765,
          0.4989639429777857,
          1.267857253209443,
          2.2841907332264704,
          1.1570778322165174,
          0.9669912668043333,
          0.004019281954718034,
          0.9824410405573104,
          0.8665151418513538,
          0.0005495143411885488,
          1.7571268475868904,
          2.7008527923317676,
          0.24790118532413893,
          0.11600212517211983,
          0.8318152511856962,
          1.097323079582904,
          10
         ]
        },
        {
         "hovertemplate": "anomaly=inlier<br>num_not0=%{x}<br>sum_all=%{y}<br>aver_month=%{z}<extra></extra>",
         "legendgroup": "inlier",
         "marker": {
          "color": "#EF553B",
          "symbol": "circle"
         },
         "mode": "markers",
         "name": "inlier",
         "scene": "scene",
         "showlegend": true,
         "type": "scatter3d",
         "x": [
          8,
          7,
          8,
          7,
          9,
          8,
          12,
          1,
          12,
          12,
          5,
          11,
          11,
          12,
          11,
          12,
          12,
          12,
          12,
          12,
          12,
          11,
          11,
          12,
          12,
          11,
          12,
          12,
          12,
          12,
          12,
          12,
          11,
          12,
          11,
          12,
          12,
          11,
          11,
          12,
          12,
          11,
          12,
          12,
          12,
          11,
          12,
          12,
          12,
          12,
          12,
          12,
          11,
          11,
          12,
          12,
          11,
          12,
          12,
          12,
          11,
          12,
          11,
          11,
          11,
          12,
          12,
          12,
          12,
          9,
          12,
          12,
          12,
          9,
          12,
          12,
          12,
          3,
          10,
          12,
          12,
          10,
          1,
          12,
          11,
          10,
          11,
          10,
          10,
          10,
          11,
          10,
          11,
          12,
          12,
          11,
          8,
          11,
          11,
          10,
          12,
          12,
          11,
          12,
          12,
          11,
          11,
          12,
          12,
          12,
          12,
          12,
          12,
          11,
          12,
          12,
          11,
          12,
          12,
          12,
          12,
          12,
          12,
          11,
          12,
          11,
          12,
          12,
          11,
          11,
          12,
          11,
          12,
          12,
          11,
          11,
          12,
          12,
          11,
          12,
          10,
          11,
          12,
          12,
          12,
          12,
          11,
          12,
          12,
          11,
          12,
          12,
          12,
          12,
          12,
          11,
          12,
          11,
          11,
          11,
          12,
          12,
          12,
          11,
          12,
          1,
          12,
          12,
          10,
          9,
          11,
          12,
          10,
          12,
          12,
          11,
          12,
          12,
          12,
          11,
          12,
          12,
          12,
          12,
          11,
          12,
          12,
          11,
          12,
          12,
          12,
          12,
          11,
          12,
          12,
          12,
          3,
          10,
          12,
          12,
          12,
          7,
          11,
          12,
          7,
          12,
          9,
          12,
          11,
          8,
          12,
          11,
          12,
          12,
          9,
          9,
          12,
          12,
          12,
          12,
          12,
          12,
          11,
          12,
          12,
          12,
          7,
          6,
          6,
          1,
          8,
          9,
          3,
          12,
          8,
          7,
          8,
          10,
          8,
          9,
          11,
          11,
          5,
          10,
          12,
          2,
          12,
          11,
          8,
          11,
          6,
          7,
          12,
          9,
          10,
          10,
          7,
          8,
          9,
          6,
          5,
          9,
          9,
          5,
          9,
          10,
          12,
          12,
          12,
          12,
          11,
          8,
          12,
          12,
          12,
          12,
          12,
          12,
          12,
          12,
          12,
          12,
          12,
          4,
          12,
          12,
          12,
          12,
          12,
          12,
          12,
          8,
          9,
          11,
          12,
          12,
          12,
          12,
          6,
          3,
          9,
          8,
          10,
          10,
          10,
          10,
          6,
          12,
          12,
          6,
          4,
          9,
          10,
          12,
          11,
          6,
          11,
          12,
          12,
          12,
          4,
          12,
          7,
          8,
          9,
          5,
          11,
          11,
          12,
          11,
          10,
          12,
          2,
          12,
          5,
          8,
          5,
          8,
          12,
          12,
          12,
          5,
          11,
          12,
          12,
          6,
          11,
          6,
          11,
          12,
          10,
          8,
          12,
          12,
          8,
          12,
          12,
          7,
          12,
          12,
          2,
          8,
          11,
          12,
          10,
          7,
          11,
          11,
          11,
          10,
          5,
          7,
          12,
          8,
          10,
          11
         ],
         "y": [
          0.017616127133900195,
          0.052447490970554615,
          0.6439096108998926,
          0.07644467078988046,
          0.05885145087892142,
          0.6362108737973464,
          0.4263104963666917,
          0.0029031500183518953,
          0.02670692967776101,
          0.07776082273472268,
          0.033314635013127994,
          0.021684724478212077,
          0.0634275188637085,
          0.22497384382790858,
          0.03963751850433296,
          0.3033738909676192,
          0.25682368140203515,
          0.05905625176922305,
          0.050058146530898254,
          0.09674130130423104,
          0.0402653788719342,
          0.06746529408952422,
          0.17088290368530445,
          0.29416168640156404,
          0.054561320637124266,
          0.020799059105189435,
          0.10170253137440208,
          0.38941040287509077,
          0.03754236989067538,
          0.0405603819438936,
          0.02691907564293957,
          0.025279818106332643,
          0.042935558569417706,
          0.11660368529365134,
          0.06151952396662535,
          0.029630271637186536,
          0.04687204816970468,
          0.07784357192092055,
          0.07117907014114826,
          0.14825421945197279,
          0.12108961153230716,
          0.06151376532431807,
          0.05695889941726122,
          0.07512018953444463,
          0.03348797057825899,
          0.0574239054667495,
          0.042213028108023756,
          0.06317676970600168,
          0.021710944863050398,
          0.0700469551664443,
          0.03641684886359087,
          0.18178753394237232,
          0.028077046230911416,
          0.05740883975336693,
          0.04643262145679189,
          0.1525655647219701,
          0.06770856003400794,
          0.06942601466662307,
          0.10512061797915903,
          0.09262927240050883,
          0.07802774918781666,
          0.055634845527333956,
          0.04768401673502897,
          0.06677823064851746,
          0.052104847436449074,
          0.26017622999516626,
          0.13173491294532214,
          0.2780638162466451,
          0.13978502651554764,
          0.3286505664265757,
          0.06054046196268904,
          0.2811023763788608,
          0.304888811042175,
          0.11381364683831005,
          0.3815749778789785,
          0.05045063642386585,
          0.10604297635039137,
          0.016097244215537695,
          0.05693885856500375,
          0.049129958289773894,
          0.0347840622451388,
          0.09103649625898697,
          0.007687450767979056,
          0.1498059577126146,
          0.03783684199336655,
          0.22911254638291756,
          0.07967644545861016,
          0.05535488658464055,
          0.04542677356416251,
          0.09988939219451433,
          0.06440698664903675,
          0.18882494882136155,
          0.07051569742651499,
          0.11053363814422788,
          0.030137776812248288,
          0.08477607935961654,
          0.07950062772007084,
          0.045204703222174056,
          0.0266801826404778,
          0.2535117864925088,
          0.09601013072096454,
          0.0593953447161489,
          0.12203319572379798,
          0.1447588034326947,
          0.08984085059550037,
          0.09725978631940414,
          0.07470201454273023,
          0.017053055809078992,
          0.1484636091254623,
          0.026966137650761002,
          0.18933242809548337,
          0.029375207814572583,
          0.08790389844759479,
          0.09452135332842729,
          0.06103363744274409,
          0.01220266449444117,
          0.10099564723912707,
          0.05988053623147583,
          0.06917032706303954,
          0.07372869175539627,
          0.13852267729813914,
          0.030541801257123705,
          0.05504538330315334,
          0.006156972862182285,
          0.035485960449480596,
          0.20816744266961854,
          0.08304599586038228,
          0.16558519666313873,
          0.02348977177278875,
          0.13377318957016635,
          0.16530264115121907,
          0.10004636915767877,
          0.022944071345002356,
          0.046489933761583786,
          0.07956334252924621,
          0.06069255659867995,
          0.036306221632400264,
          0.10384162956626825,
          0.18996369443668312,
          0.0019402394088628486,
          0.23872051083560425,
          0.01238381566819083,
          0.06988650100209658,
          0.09629428129910049,
          0.14563675680085839,
          0.05401903265817138,
          0.0842796554700141,
          0.12402135402991105,
          0.10701554369364456,
          0.035893015304325794,
          0.0587479528814418,
          0.04818086367331663,
          0.05037732381344286,
          0.1548354669772189,
          0.15793615698905028,
          0.12343240982452869,
          0.06227859417900118,
          0.041827466716482804,
          0.04836845123063459,
          0.08562458120068771,
          0.07516299299606209,
          0.020494789971976266,
          0.08870542677572257,
          0.03989993819388213,
          0.06502997979834607,
          0.0024754240550446775,
          0.2150426270114643,
          0.06293074099459393,
          0.024020458289072403,
          0.4239070920334861,
          0.09856266834936439,
          0.3360762752462666,
          0.20492939133978333,
          0.05105140440831839,
          0.0914920894752286,
          0.6399196013240991,
          0.03126253376160537,
          0.040685110078455024,
          0.11588952299426088,
          0.030807728365619395,
          0.15216335550130025,
          0.305119338041045,
          0.03945672346850711,
          0.2008597817004032,
          0.19520714978179002,
          0.049450229887029816,
          0.17941668493222535,
          0.18980785927328653,
          0.10155792426845762,
          0.07987494378686635,
          0.024878765794312217,
          0.17351371827094395,
          0.0833081306395924,
          0.026727184212772766,
          0.2763390661826213,
          0.034816772973836924,
          0.005057111032904662,
          0.16677643700842845,
          0.07028684535509272,
          0.16636445018294158,
          0.07125245182074433,
          0.013608276127330319,
          0.09409844709835546,
          0.37712781671372547,
          0.00857776535971603,
          0.03616633713116658,
          0.0027743101095793225,
          0.06882723889613215,
          0.2506842003079406,
          0.030833730750880122,
          0.03515275133273826,
          0.02991891602839736,
          0.026476489015357423,
          0.044407793894997376,
          0.23417223455934355,
          0.6296623370007985,
          0.13626152956058085,
          0.046094469577349556,
          0.1012892991453877,
          0.034942720610985904,
          0.3608969150145914,
          0.006645786192273685,
          0.0024814028553412,
          0.3442421811267837,
          0.30536308746974045,
          0.041846180145569754,
          0.11350896976529323,
          0.05137308113156458,
          0.036816947157657834,
          0.0017057042395413893,
          0.08948291903161132,
          0.02553312714026751,
          0.03600613765939466,
          0.14842894071738913,
          0.055092132341284156,
          0.017826110370596046,
          0.009288547586447893,
          0.08955219541223125,
          0.008994064691698415,
          0,
          0.06580471576254579,
          0.5068234040461368,
          0.030179926275132954,
          0.12969458367098985,
          0.026642330575207002,
          0.01610203157259823,
          0.2689012141389346,
          0.41595062331151506,
          0.44854212134957283,
          0.09822474957838126,
          0.09768220690685256,
          0.11950094068976146,
          0.6785079634058571,
          0.3491731351566084,
          0.4541875851830652,
          0.23498263395939145,
          0.0761441594513663,
          0.01949094940219012,
          0.27628186611523564,
          0.04688510440183236,
          0.16767145477917128,
          0.06782706115093201,
          0.30012294744494245,
          0.042756911153192946,
          0.10901315584282575,
          0.18423219199762403,
          0.2977565102282272,
          0.15252516788935294,
          0.3183594193570458,
          0.33491218987806376,
          0.27600251368621853,
          0.013358232770236107,
          0.13239794894773654,
          0.2627813055217675,
          0.02690225514087791,
          0.6534738049225384,
          0.6665887393721159,
          0.14478789882186338,
          0.37311107520953046,
          0.29179590534199334,
          0.031403031251750334,
          0.201681372464905,
          0.09402069679356077,
          0.18858223543026265,
          0.12542851108554834,
          0.188118422982422,
          0.23805690069568844,
          0.03784120630174184,
          0.25973297425996966,
          0.10310269733467457,
          0.04158808807139766,
          0.148830737681432,
          0,
          0.15414256719108513,
          0.151666303513905,
          0.19109217680456436,
          0.7563265884048185,
          0.2405990326214784,
          0.021637250213763694,
          0.07332196713753497,
          0.00016100024249754994,
          0.08424403304398746,
          0.008216906989616853,
          0.4187518855074852,
          0.0691543720840533,
          0.07264049614113768,
          0.20334097303140178,
          0.021021293486464008,
          0.7251304452274443,
          0.2520294908101846,
          0.2077094795173748,
          0.34603478733655557,
          0.6754826127529968,
          0.091556679944136,
          0.2103493033132806,
          0.05408323029615674,
          0.36921880714732114,
          0.42159398701046286,
          0.13890606085231574,
          0.3298082801635601,
          0.024642758588239055,
          0.08907985076310104,
          0.06131099334097626,
          0.06139459294136794,
          0.12131386618689491,
          0.05969121115277206,
          0.23681406351968085,
          0.1340084219064538,
          0.24348124388832246,
          0.36000083098848884,
          0.0008989957234310586,
          0.2686352330701474,
          0.02406962690667341,
          0.35338734110987474,
          0.002084093229138169,
          0.13569576885483203,
          0.12153356227605805,
          0.05836230083661115,
          0.011202415521656264,
          0.22389975127543238,
          0.04800867638318843,
          0.22085336690095145,
          0.11846120141725626,
          0.28750390159887584,
          0.07371481964366135,
          0.047600300580407685,
          0.09025601028612662,
          0.014710633080486198,
          0.06473945758899158,
          0.7345801786797923,
          0.0749313889497741,
          0.009215571688243768,
          0.4282399394004343,
          0.4416903751999363,
          0.0769182802682431,
          0.08410383341465148,
          0.6728951822417112,
          0.1257727216265186,
          0.6608049817867829,
          0.2547599204107285,
          0.03954472838709559,
          0.5060301510683113,
          0.38648586515560585,
          0.3068323895138749,
          0.1591610771898732,
          0.37003403707266286,
          0.2051502896642407,
          0.18553455169196267,
          0.21293723025924788,
          0.0835078635793178,
          0.030275347496183123,
          0.1393300635555105,
          0.17146808362075283,
          0.07451365211562655,
          0.19349985910967896,
          0.02127233834656817
         ],
         "z": [
          0.026424190700850295,
          0.08990998452095078,
          0.9658644163498388,
          0.1310480070683665,
          0.07846860117189522,
          0.9543163106960196,
          0.42631049636669166,
          0.03483780022022274,
          0.02670692967776101,
          0.07776082273472268,
          0.07995512403150719,
          0.023656063067140444,
          0.06919365694222745,
          0.22497384382790853,
          0.04324092927745414,
          0.3033738909676192,
          0.2568236814020351,
          0.05905625176922305,
          0.050058146530898254,
          0.09674130130423106,
          0.040265378871934196,
          0.07359850264311732,
          0.18641771311124125,
          0.29416168640156404,
          0.05456132063712427,
          0.022689882660206655,
          0.10170253137440208,
          0.38941040287509077,
          0.03754236989067538,
          0.0405603819438936,
          0.02691907564293957,
          0.025279818106332643,
          0.0468387911666375,
          0.11660368529365134,
          0.06711220796359128,
          0.029630271637186536,
          0.04687204816970468,
          0.08492026027736786,
          0.07764989469943445,
          0.14825421945197279,
          0.12108961153230714,
          0.067105925808347,
          0.05695889941726122,
          0.07512018953444463,
          0.03348797057825899,
          0.06264426050918127,
          0.042213028108023756,
          0.06317676970600167,
          0.021710944863050398,
          0.0700469551664443,
          0.03641684886359087,
          0.18178753394237232,
          0.030629504979176086,
          0.0626278251854912,
          0.04643262145679189,
          0.1525655647219701,
          0.07386388367346321,
          0.06942601466662307,
          0.10512061797915903,
          0.09262927240050885,
          0.08512118093216363,
          0.055634845527333956,
          0.05201892734730433,
          0.07284897888929176,
          0.056841651748853535,
          0.2601762299951662,
          0.13173491294532214,
          0.2780638162466451,
          0.1397850265155476,
          0.4382007552354342,
          0.06054046196268904,
          0.2811023763788608,
          0.304888811042175,
          0.15175152911774673,
          0.3815749778789785,
          0.05045063642386585,
          0.10604297635039137,
          0.06438897686215077,
          0.0683266302780045,
          0.049129958289773894,
          0.034784062245138796,
          0.10924379551078434,
          0.09224940921574867,
          0.14980595771261462,
          0.04127655490185442,
          0.27493505565950105,
          0.08691975868212015,
          0.06642586390156865,
          0.05451212827699502,
          0.1198672706334172,
          0.07026216725349464,
          0.2265899385856338,
          0.07692621537437999,
          0.1105336381442279,
          0.03013777681224829,
          0.09248299566503622,
          0.11925094158010627,
          0.049314221696917154,
          0.02910565378961214,
          0.3042141437910105,
          0.09601013072096454,
          0.05939534471614891,
          0.13312712260777962,
          0.1447588034326947,
          0.08984085059550037,
          0.1061015850757136,
          0.08149310677388755,
          0.01705305580907899,
          0.1484636091254623,
          0.026966137650761005,
          0.18933242809548337,
          0.029375207814572576,
          0.08790389844759479,
          0.10311420363101159,
          0.06103363744274409,
          0.01220266449444117,
          0.11017706971541136,
          0.05988053623147583,
          0.06917032706303954,
          0.07372869175539627,
          0.1385226772981391,
          0.030541801257123705,
          0.05504538330315334,
          0.006716697667835219,
          0.035485960449480596,
          0.2270917556395838,
          0.08304599586038228,
          0.16558519666313873,
          0.025625205570314998,
          0.14593438862199964,
          0.16530264115121907,
          0.10914149362655864,
          0.022944071345002356,
          0.046489933761583786,
          0.08679637366826859,
          0.06621006174401448,
          0.036306221632400264,
          0.10384162956626825,
          0.20723312120365434,
          0.0019402394088628486,
          0.28646461300272513,
          0.013509617092571816,
          0.06988650100209658,
          0.09629428129910049,
          0.14563675680085839,
          0.05401903265817138,
          0.09194144233092448,
          0.12402135402991105,
          0.10701554369364456,
          0.03915601669562813,
          0.05874795288144181,
          0.04818086367331663,
          0.05037732381344286,
          0.15483546697721892,
          0.15793615698905028,
          0.13465353799039492,
          0.06227859417900117,
          0.045629963690708514,
          0.05276558316069228,
          0.09340863403711386,
          0.07516299299606209,
          0.020494789971976266,
          0.08870542677572257,
          0.04352720530241687,
          0.06502997979834607,
          0.02970508866053613,
          0.21504262701146432,
          0.06293074099459392,
          0.028824549946886886,
          0.5652094560446481,
          0.10752291092657934,
          0.3360762752462666,
          0.24591526960773996,
          0.05105140440831838,
          0.0914920894752286,
          0.6980941105353808,
          0.03126253376160538,
          0.04068511007845502,
          0.11588952299426088,
          0.03360843094431207,
          0.15216335550130025,
          0.305119338041045,
          0.03945672346850711,
          0.2008597817004032,
          0.21295325430740727,
          0.049450229887029816,
          0.17941668493222535,
          0.20706311920722165,
          0.10155792426845762,
          0.07987494378686635,
          0.024878765794312217,
          0.17351371827094395,
          0.09088159706137354,
          0.026727184212772766,
          0.2763390661826213,
          0.034816772973836924,
          0.020228444131618648,
          0.20013172441011415,
          0.07028684535509272,
          0.16636445018294158,
          0.07125245182074433,
          0.02332847336113769,
          0.10265285138002414,
          0.37712781671372547,
          0.014704740616656053,
          0.03616633713116658,
          0.0036990801461057633,
          0.06882723889613215,
          0.2734736730632079,
          0.04625059612632018,
          0.03515275133273826,
          0.03263881748552439,
          0.026476489015357423,
          0.044407793894997376,
          0.31222964607912473,
          0.8395497826677313,
          0.13626152956058085,
          0.046094469577349556,
          0.1012892991453877,
          0.034942720610985904,
          0.3608969150145914,
          0.006645786192273685,
          0.0027069849330994913,
          0.3442421811267837,
          0.30536308746974045,
          0.041846180145569754,
          0.19458680531193126,
          0.10274616226312919,
          0.07363389431531567,
          0.020468450874496672,
          0.13422437854741698,
          0.034044169520356674,
          0.14402455063757863,
          0.14842894071738913,
          0.08263819851192623,
          0.030559046349593215,
          0.01393282137967184,
          0.1074626344946775,
          0.013491097037547622,
          0,
          0.07178696265004995,
          0.552898258959422,
          0.07243182306031908,
          0.1556335004051878,
          0.026642330575207002,
          0.09661218943558939,
          0.2689012141389346,
          0.45376431633983466,
          0.6728131820243592,
          0.107154272267325,
          0.1953644138137051,
          0.20485875546816248,
          0.6785079634058571,
          0.4655641802088112,
          0.5450251022196783,
          0.2819791607512697,
          0.13053284477377078,
          0.029236424103285176,
          0.3683758214869809,
          0.09377020880366473,
          0.40241149147001104,
          0.09043608153457601,
          0.40016392992658995,
          0.10261658676766308,
          0.14535087445710101,
          0.2210786303971488,
          0.29775651022822713,
          0.15252516788935294,
          0.3183594193570458,
          0.33491218987806376,
          0.3010936512940566,
          0.020037349155354163,
          0.13239794894773654,
          0.2627813055217675,
          0.02690225514087791,
          0.6534738049225385,
          0.6665887393721159,
          0.14478789882186338,
          0.3731110752095306,
          0.29179590534199334,
          0.031403031251750334,
          0.201681372464905,
          0.09402069679356077,
          0.5657467062907879,
          0.12542851108554834,
          0.188118422982422,
          0.2380569006956884,
          0.03784120630174184,
          0.2597329742599697,
          0.10310269733467457,
          0.04158808807139766,
          0.22324610652214805,
          0,
          0.16815552784482013,
          0.151666303513905,
          0.1910921768045644,
          0.7563265884048185,
          0.2405990326214784,
          0.04327450042752739,
          0.2932878685501399,
          0.00021466698999673327,
          0.1263660495659812,
          0.009860288387540226,
          0.5025022626089823,
          0.08298524650086396,
          0.08716859536936522,
          0.40668194606280356,
          0.021021293486464008,
          0.7251304452274443,
          0.5040589816203692,
          0.6231284385521245,
          0.4613797164487409,
          0.8105791353035963,
          0.091556679944136,
          0.2294719672508516,
          0.10816646059231348,
          0.40278415325162303,
          0.42159398701046286,
          0.13890606085231574,
          0.3298082801635601,
          0.07392827576471715,
          0.08907985076310104,
          0.10510456001310217,
          0.09209188941205192,
          0.16175182158252654,
          0.14325890676665293,
          0.25834261474874276,
          0.1461910057161314,
          0.24348124388832248,
          0.3927281792601697,
          0.0010787948681172702,
          0.2686352330701474,
          0.14441776144004045,
          0.35338734110987474,
          0.005001823749931605,
          0.20354365328224805,
          0.2916805494625393,
          0.08754345125491672,
          0.011202415521656264,
          0.22389975127543238,
          0.04800867638318843,
          0.5300480805622835,
          0.12923040154609772,
          0.28750390159887584,
          0.07371481964366133,
          0.09520060116081537,
          0.09846110213031994,
          0.029421266160972397,
          0.07062486282435444,
          0.7345801786797923,
          0.08991766673972891,
          0.013823357532365653,
          0.42823993940043426,
          0.4416903751999363,
          0.11537742040236464,
          0.08410383341465148,
          0.6728951822417113,
          0.21561037993117477,
          0.6608049817867828,
          0.2547599204107284,
          0.23726837032257353,
          0.759045226602467,
          0.4216209438061155,
          0.3068323895138749,
          0.19099329262784787,
          0.6343440635531362,
          0.22380031599735353,
          0.20240132911850475,
          0.23229516028281588,
          0.10020943629518138,
          0.0726608339908395,
          0.23885153752373228,
          0.17146808362075283,
          0.11177047817343981,
          0.23219983093161475,
          0.023206187287165277
         ]
        }
       ],
       "layout": {
        "legend": {
         "title": {
          "text": "anomaly"
         },
         "tracegroupgap": 0
        },
        "margin": {
         "t": 60
        },
        "scene": {
         "domain": {
          "x": [
           0,
           1
          ],
          "y": [
           0,
           1
          ]
         },
         "xaxis": {
          "title": {
           "text": "num_not0"
          }
         },
         "yaxis": {
          "title": {
           "text": "sum_all"
          }
         },
         "zaxis": {
          "title": {
           "text": "aver_month"
          }
         }
        },
        "template": {
         "data": {
          "bar": [
           {
            "error_x": {
             "color": "#2a3f5f"
            },
            "error_y": {
             "color": "#2a3f5f"
            },
            "marker": {
             "line": {
              "color": "#E5ECF6",
              "width": 0.5
             }
            },
            "type": "bar"
           }
          ],
          "barpolar": [
           {
            "marker": {
             "line": {
              "color": "#E5ECF6",
              "width": 0.5
             }
            },
            "type": "barpolar"
           }
          ],
          "carpet": [
           {
            "aaxis": {
             "endlinecolor": "#2a3f5f",
             "gridcolor": "white",
             "linecolor": "white",
             "minorgridcolor": "white",
             "startlinecolor": "#2a3f5f"
            },
            "baxis": {
             "endlinecolor": "#2a3f5f",
             "gridcolor": "white",
             "linecolor": "white",
             "minorgridcolor": "white",
             "startlinecolor": "#2a3f5f"
            },
            "type": "carpet"
           }
          ],
          "choropleth": [
           {
            "colorbar": {
             "outlinewidth": 0,
             "ticks": ""
            },
            "type": "choropleth"
           }
          ],
          "contour": [
           {
            "colorbar": {
             "outlinewidth": 0,
             "ticks": ""
            },
            "colorscale": [
             [
              0,
              "#0d0887"
             ],
             [
              0.1111111111111111,
              "#46039f"
             ],
             [
              0.2222222222222222,
              "#7201a8"
             ],
             [
              0.3333333333333333,
              "#9c179e"
             ],
             [
              0.4444444444444444,
              "#bd3786"
             ],
             [
              0.5555555555555556,
              "#d8576b"
             ],
             [
              0.6666666666666666,
              "#ed7953"
             ],
             [
              0.7777777777777778,
              "#fb9f3a"
             ],
             [
              0.8888888888888888,
              "#fdca26"
             ],
             [
              1,
              "#f0f921"
             ]
            ],
            "type": "contour"
           }
          ],
          "contourcarpet": [
           {
            "colorbar": {
             "outlinewidth": 0,
             "ticks": ""
            },
            "type": "contourcarpet"
           }
          ],
          "heatmap": [
           {
            "colorbar": {
             "outlinewidth": 0,
             "ticks": ""
            },
            "colorscale": [
             [
              0,
              "#0d0887"
             ],
             [
              0.1111111111111111,
              "#46039f"
             ],
             [
              0.2222222222222222,
              "#7201a8"
             ],
             [
              0.3333333333333333,
              "#9c179e"
             ],
             [
              0.4444444444444444,
              "#bd3786"
             ],
             [
              0.5555555555555556,
              "#d8576b"
             ],
             [
              0.6666666666666666,
              "#ed7953"
             ],
             [
              0.7777777777777778,
              "#fb9f3a"
             ],
             [
              0.8888888888888888,
              "#fdca26"
             ],
             [
              1,
              "#f0f921"
             ]
            ],
            "type": "heatmap"
           }
          ],
          "heatmapgl": [
           {
            "colorbar": {
             "outlinewidth": 0,
             "ticks": ""
            },
            "colorscale": [
             [
              0,
              "#0d0887"
             ],
             [
              0.1111111111111111,
              "#46039f"
             ],
             [
              0.2222222222222222,
              "#7201a8"
             ],
             [
              0.3333333333333333,
              "#9c179e"
             ],
             [
              0.4444444444444444,
              "#bd3786"
             ],
             [
              0.5555555555555556,
              "#d8576b"
             ],
             [
              0.6666666666666666,
              "#ed7953"
             ],
             [
              0.7777777777777778,
              "#fb9f3a"
             ],
             [
              0.8888888888888888,
              "#fdca26"
             ],
             [
              1,
              "#f0f921"
             ]
            ],
            "type": "heatmapgl"
           }
          ],
          "histogram": [
           {
            "marker": {
             "colorbar": {
              "outlinewidth": 0,
              "ticks": ""
             }
            },
            "type": "histogram"
           }
          ],
          "histogram2d": [
           {
            "colorbar": {
             "outlinewidth": 0,
             "ticks": ""
            },
            "colorscale": [
             [
              0,
              "#0d0887"
             ],
             [
              0.1111111111111111,
              "#46039f"
             ],
             [
              0.2222222222222222,
              "#7201a8"
             ],
             [
              0.3333333333333333,
              "#9c179e"
             ],
             [
              0.4444444444444444,
              "#bd3786"
             ],
             [
              0.5555555555555556,
              "#d8576b"
             ],
             [
              0.6666666666666666,
              "#ed7953"
             ],
             [
              0.7777777777777778,
              "#fb9f3a"
             ],
             [
              0.8888888888888888,
              "#fdca26"
             ],
             [
              1,
              "#f0f921"
             ]
            ],
            "type": "histogram2d"
           }
          ],
          "histogram2dcontour": [
           {
            "colorbar": {
             "outlinewidth": 0,
             "ticks": ""
            },
            "colorscale": [
             [
              0,
              "#0d0887"
             ],
             [
              0.1111111111111111,
              "#46039f"
             ],
             [
              0.2222222222222222,
              "#7201a8"
             ],
             [
              0.3333333333333333,
              "#9c179e"
             ],
             [
              0.4444444444444444,
              "#bd3786"
             ],
             [
              0.5555555555555556,
              "#d8576b"
             ],
             [
              0.6666666666666666,
              "#ed7953"
             ],
             [
              0.7777777777777778,
              "#fb9f3a"
             ],
             [
              0.8888888888888888,
              "#fdca26"
             ],
             [
              1,
              "#f0f921"
             ]
            ],
            "type": "histogram2dcontour"
           }
          ],
          "mesh3d": [
           {
            "colorbar": {
             "outlinewidth": 0,
             "ticks": ""
            },
            "type": "mesh3d"
           }
          ],
          "parcoords": [
           {
            "line": {
             "colorbar": {
              "outlinewidth": 0,
              "ticks": ""
             }
            },
            "type": "parcoords"
           }
          ],
          "pie": [
           {
            "automargin": true,
            "type": "pie"
           }
          ],
          "scatter": [
           {
            "marker": {
             "colorbar": {
              "outlinewidth": 0,
              "ticks": ""
             }
            },
            "type": "scatter"
           }
          ],
          "scatter3d": [
           {
            "line": {
             "colorbar": {
              "outlinewidth": 0,
              "ticks": ""
             }
            },
            "marker": {
             "colorbar": {
              "outlinewidth": 0,
              "ticks": ""
             }
            },
            "type": "scatter3d"
           }
          ],
          "scattercarpet": [
           {
            "marker": {
             "colorbar": {
              "outlinewidth": 0,
              "ticks": ""
             }
            },
            "type": "scattercarpet"
           }
          ],
          "scattergeo": [
           {
            "marker": {
             "colorbar": {
              "outlinewidth": 0,
              "ticks": ""
             }
            },
            "type": "scattergeo"
           }
          ],
          "scattergl": [
           {
            "marker": {
             "colorbar": {
              "outlinewidth": 0,
              "ticks": ""
             }
            },
            "type": "scattergl"
           }
          ],
          "scattermapbox": [
           {
            "marker": {
             "colorbar": {
              "outlinewidth": 0,
              "ticks": ""
             }
            },
            "type": "scattermapbox"
           }
          ],
          "scatterpolar": [
           {
            "marker": {
             "colorbar": {
              "outlinewidth": 0,
              "ticks": ""
             }
            },
            "type": "scatterpolar"
           }
          ],
          "scatterpolargl": [
           {
            "marker": {
             "colorbar": {
              "outlinewidth": 0,
              "ticks": ""
             }
            },
            "type": "scatterpolargl"
           }
          ],
          "scatterternary": [
           {
            "marker": {
             "colorbar": {
              "outlinewidth": 0,
              "ticks": ""
             }
            },
            "type": "scatterternary"
           }
          ],
          "surface": [
           {
            "colorbar": {
             "outlinewidth": 0,
             "ticks": ""
            },
            "colorscale": [
             [
              0,
              "#0d0887"
             ],
             [
              0.1111111111111111,
              "#46039f"
             ],
             [
              0.2222222222222222,
              "#7201a8"
             ],
             [
              0.3333333333333333,
              "#9c179e"
             ],
             [
              0.4444444444444444,
              "#bd3786"
             ],
             [
              0.5555555555555556,
              "#d8576b"
             ],
             [
              0.6666666666666666,
              "#ed7953"
             ],
             [
              0.7777777777777778,
              "#fb9f3a"
             ],
             [
              0.8888888888888888,
              "#fdca26"
             ],
             [
              1,
              "#f0f921"
             ]
            ],
            "type": "surface"
           }
          ],
          "table": [
           {
            "cells": {
             "fill": {
              "color": "#EBF0F8"
             },
             "line": {
              "color": "white"
             }
            },
            "header": {
             "fill": {
              "color": "#C8D4E3"
             },
             "line": {
              "color": "white"
             }
            },
            "type": "table"
           }
          ]
         },
         "layout": {
          "annotationdefaults": {
           "arrowcolor": "#2a3f5f",
           "arrowhead": 0,
           "arrowwidth": 1
          },
          "autotypenumbers": "strict",
          "coloraxis": {
           "colorbar": {
            "outlinewidth": 0,
            "ticks": ""
           }
          },
          "colorscale": {
           "diverging": [
            [
             0,
             "#8e0152"
            ],
            [
             0.1,
             "#c51b7d"
            ],
            [
             0.2,
             "#de77ae"
            ],
            [
             0.3,
             "#f1b6da"
            ],
            [
             0.4,
             "#fde0ef"
            ],
            [
             0.5,
             "#f7f7f7"
            ],
            [
             0.6,
             "#e6f5d0"
            ],
            [
             0.7,
             "#b8e186"
            ],
            [
             0.8,
             "#7fbc41"
            ],
            [
             0.9,
             "#4d9221"
            ],
            [
             1,
             "#276419"
            ]
           ],
           "sequential": [
            [
             0,
             "#0d0887"
            ],
            [
             0.1111111111111111,
             "#46039f"
            ],
            [
             0.2222222222222222,
             "#7201a8"
            ],
            [
             0.3333333333333333,
             "#9c179e"
            ],
            [
             0.4444444444444444,
             "#bd3786"
            ],
            [
             0.5555555555555556,
             "#d8576b"
            ],
            [
             0.6666666666666666,
             "#ed7953"
            ],
            [
             0.7777777777777778,
             "#fb9f3a"
            ],
            [
             0.8888888888888888,
             "#fdca26"
            ],
            [
             1,
             "#f0f921"
            ]
           ],
           "sequentialminus": [
            [
             0,
             "#0d0887"
            ],
            [
             0.1111111111111111,
             "#46039f"
            ],
            [
             0.2222222222222222,
             "#7201a8"
            ],
            [
             0.3333333333333333,
             "#9c179e"
            ],
            [
             0.4444444444444444,
             "#bd3786"
            ],
            [
             0.5555555555555556,
             "#d8576b"
            ],
            [
             0.6666666666666666,
             "#ed7953"
            ],
            [
             0.7777777777777778,
             "#fb9f3a"
            ],
            [
             0.8888888888888888,
             "#fdca26"
            ],
            [
             1,
             "#f0f921"
            ]
           ]
          },
          "colorway": [
           "#636efa",
           "#EF553B",
           "#00cc96",
           "#ab63fa",
           "#FFA15A",
           "#19d3f3",
           "#FF6692",
           "#B6E880",
           "#FF97FF",
           "#FECB52"
          ],
          "font": {
           "color": "#2a3f5f"
          },
          "geo": {
           "bgcolor": "white",
           "lakecolor": "white",
           "landcolor": "#E5ECF6",
           "showlakes": true,
           "showland": true,
           "subunitcolor": "white"
          },
          "hoverlabel": {
           "align": "left"
          },
          "hovermode": "closest",
          "mapbox": {
           "style": "light"
          },
          "paper_bgcolor": "white",
          "plot_bgcolor": "#E5ECF6",
          "polar": {
           "angularaxis": {
            "gridcolor": "white",
            "linecolor": "white",
            "ticks": ""
           },
           "bgcolor": "#E5ECF6",
           "radialaxis": {
            "gridcolor": "white",
            "linecolor": "white",
            "ticks": ""
           }
          },
          "scene": {
           "xaxis": {
            "backgroundcolor": "#E5ECF6",
            "gridcolor": "white",
            "gridwidth": 2,
            "linecolor": "white",
            "showbackground": true,
            "ticks": "",
            "zerolinecolor": "white"
           },
           "yaxis": {
            "backgroundcolor": "#E5ECF6",
            "gridcolor": "white",
            "gridwidth": 2,
            "linecolor": "white",
            "showbackground": true,
            "ticks": "",
            "zerolinecolor": "white"
           },
           "zaxis": {
            "backgroundcolor": "#E5ECF6",
            "gridcolor": "white",
            "gridwidth": 2,
            "linecolor": "white",
            "showbackground": true,
            "ticks": "",
            "zerolinecolor": "white"
           }
          },
          "shapedefaults": {
           "line": {
            "color": "#2a3f5f"
           }
          },
          "ternary": {
           "aaxis": {
            "gridcolor": "white",
            "linecolor": "white",
            "ticks": ""
           },
           "baxis": {
            "gridcolor": "white",
            "linecolor": "white",
            "ticks": ""
           },
           "bgcolor": "#E5ECF6",
           "caxis": {
            "gridcolor": "white",
            "linecolor": "white",
            "ticks": ""
           }
          },
          "title": {
           "x": 0.05
          },
          "xaxis": {
           "automargin": true,
           "gridcolor": "white",
           "linecolor": "white",
           "ticks": "",
           "title": {
            "standoff": 15
           },
           "zerolinecolor": "white",
           "zerolinewidth": 2
          },
          "yaxis": {
           "automargin": true,
           "gridcolor": "white",
           "linecolor": "white",
           "ticks": "",
           "title": {
            "standoff": 15
           },
           "zerolinecolor": "white",
           "zerolinewidth": 2
          }
         }
        }
       }
      }
     },
     "metadata": {},
     "output_type": "display_data"
    }
   ],
   "source": [
    "fig = px.scatter_3d(data_guli_biaozhun,x='num_not0', \n",
    "                       y='sum_all', \n",
    "                       z='aver_month', \n",
    "                       color='anomaly') \n",
    "fig.show()"
   ]
  }
 ],
 "metadata": {
  "interpreter": {
   "hash": "7b4b4feff2f24a0f0a34464dbe537a36fda679851528fb8735cb41fa49dffb2d"
  },
  "kernelspec": {
   "display_name": "Python 3.8.8 ('base')",
   "language": "python",
   "name": "python3"
  },
  "language_info": {
   "codemirror_mode": {
    "name": "ipython",
    "version": 3
   },
   "file_extension": ".py",
   "mimetype": "text/x-python",
   "name": "python",
   "nbconvert_exporter": "python",
   "pygments_lexer": "ipython3",
   "version": "3.8.8"
  },
  "orig_nbformat": 4
 },
 "nbformat": 4,
 "nbformat_minor": 2
}
