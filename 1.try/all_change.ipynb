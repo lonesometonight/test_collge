{
 "cells": [
  {
   "cell_type": "code",
   "execution_count": 1,
   "metadata": {},
   "outputs": [],
   "source": [
    "import pandas as pd\n",
    "import os"
   ]
  },
  {
   "cell_type": "code",
   "execution_count": 6,
   "metadata": {},
   "outputs": [],
   "source": [
    "file_path='D:\\\\1_kaoyan\\\\college_ending\\\\400仪表数据--全\\middata - 副本\\\\月结用电量数据——不同类型的功率收费区分\\\\'\n",
    "\n"
   ]
  },
  {
   "cell_type": "code",
   "execution_count": 7,
   "metadata": {},
   "outputs": [
    {
     "name": "stdout",
     "output_type": "stream",
     "text": [
      "D:\\1_kaoyan\\college_ending\\400仪表数据--全\\middata - 副本\\月结用电量数据——不同类型的功率收费区分\\\n"
     ]
    }
   ],
   "source": [
    "for i,j,k in os.walk(file_path):\n",
    "    print(i)"
   ]
  },
  {
   "cell_type": "code",
   "execution_count": 8,
   "metadata": {},
   "outputs": [
    {
     "data": {
      "text/plain": [
       "['FourHundred_monthly_P0300.txt',\n",
       " 'FourHundred_monthly_P0310.txt',\n",
       " 'FourHundred_monthly_P0320.txt',\n",
       " 'FourHundred_monthly_P0330.txt',\n",
       " 'FourHundred_monthly_P0340.txt',\n",
       " 'FourHundred_monthly_P0400.txt',\n",
       " 'FourHundred_monthly_P0410.txt',\n",
       " 'FourHundred_monthly_P0420.txt',\n",
       " 'FourHundred_monthly_P0430.txt',\n",
       " 'FourHundred_monthly_P0440.txt',\n",
       " 'FourHundred_monthly_P0500.txt',\n",
       " 'FourHundred_monthly_P0510.txt',\n",
       " 'FourHundred_monthly_P0520.txt',\n",
       " 'FourHundred_monthly_P0530.txt',\n",
       " 'FourHundred_monthly_P0540.txt',\n",
       " 'FourHundred_monthly_P0600.txt',\n",
       " 'FourHundred_monthly_P0610.txt',\n",
       " 'FourHundred_monthly_P0620.txt',\n",
       " 'FourHundred_monthly_P0630.txt',\n",
       " 'FourHundred_monthly_P0640.txt',\n",
       " 'FourHundred_monthly_PA213.txt']"
      ]
     },
     "execution_count": 8,
     "metadata": {},
     "output_type": "execute_result"
    }
   ],
   "source": [
    "k"
   ]
  },
  {
   "cell_type": "code",
   "execution_count": 9,
   "metadata": {},
   "outputs": [
    {
     "name": "stdout",
     "output_type": "stream",
     "text": [
      "FourHundred_monthly_P0300.csv\n",
      "FourHundred_monthly_P0310.csv\n",
      "FourHundred_monthly_P0320.csv\n",
      "FourHundred_monthly_P0330.csv\n",
      "FourHundred_monthly_P0340.csv\n",
      "FourHundred_monthly_P0400.csv\n",
      "FourHundred_monthly_P0410.csv\n",
      "FourHundred_monthly_P0420.csv\n",
      "FourHundred_monthly_P0430.csv\n",
      "FourHundred_monthly_P0440.csv\n",
      "FourHundred_monthly_P0500.csv\n",
      "FourHundred_monthly_P0510.csv\n",
      "FourHundred_monthly_P0520.csv\n",
      "FourHundred_monthly_P0530.csv\n",
      "FourHundred_monthly_P0540.csv\n",
      "FourHundred_monthly_P0600.csv\n",
      "FourHundred_monthly_P0610.csv\n",
      "FourHundred_monthly_P0620.csv\n",
      "FourHundred_monthly_P0630.csv\n",
      "FourHundred_monthly_P0640.csv\n",
      "FourHundred_monthly_PA213.csv\n"
     ]
    }
   ],
   "source": [
    "for name in k:\n",
    "    file_name=file_path+name\n",
    "    data=data = pd.read_csv(file_name,sep='\\t',encoding='utf-8')\n",
    "    data_change=data.T\n",
    "    save_name=name[:-4]+'.csv'\n",
    "    data_change.to_csv(save_name)\n",
    "    print(save_name)"
   ]
  },
  {
   "cell_type": "code",
   "execution_count": null,
   "metadata": {},
   "outputs": [],
   "source": []
  }
 ],
 "metadata": {
  "interpreter": {
   "hash": "718413a1001ff2b2d3f6afff154d20b34c32464382aa6a2102885e2fac1ecc3f"
  },
  "kernelspec": {
   "display_name": "Python 3.8.10 ('py38')",
   "language": "python",
   "name": "python3"
  },
  "language_info": {
   "codemirror_mode": {
    "name": "ipython",
    "version": 3
   },
   "file_extension": ".py",
   "mimetype": "text/x-python",
   "name": "python",
   "nbconvert_exporter": "python",
   "pygments_lexer": "ipython3",
   "version": "3.8.8"
  },
  "orig_nbformat": 4
 },
 "nbformat": 4,
 "nbformat_minor": 2
}
